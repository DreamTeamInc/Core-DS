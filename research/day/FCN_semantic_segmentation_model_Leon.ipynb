{
  "nbformat": 4,
  "nbformat_minor": 0,
  "metadata": {
    "colab": {
      "name": "FCN semantic segmentation model Leon",
      "provenance": [],
      "collapsed_sections": [],
      "toc_visible": true,
      "include_colab_link": true
    },
    "kernelspec": {
      "name": "python3",
      "display_name": "Python 3"
    },
    "accelerator": "GPU",
    "widgets": {
      "application/vnd.jupyter.widget-state+json": {
        "b105fbe150f3418fa1c8cc4b5d56c851": {
          "model_module": "@jupyter-widgets/controls",
          "model_name": "HBoxModel",
          "state": {
            "_view_name": "HBoxView",
            "_dom_classes": [],
            "_model_name": "HBoxModel",
            "_view_module": "@jupyter-widgets/controls",
            "_model_module_version": "1.5.0",
            "_view_count": null,
            "_view_module_version": "1.5.0",
            "box_style": "",
            "layout": "IPY_MODEL_932a78798d3845ff80637d12856cba25",
            "_model_module": "@jupyter-widgets/controls",
            "children": [
              "IPY_MODEL_d041ca768fd441a2b13ed2ce872deabd",
              "IPY_MODEL_ab533642fb6b42418adad606ce04d36a"
            ]
          }
        },
        "932a78798d3845ff80637d12856cba25": {
          "model_module": "@jupyter-widgets/base",
          "model_name": "LayoutModel",
          "state": {
            "_view_name": "LayoutView",
            "grid_template_rows": null,
            "right": null,
            "justify_content": null,
            "_view_module": "@jupyter-widgets/base",
            "overflow": null,
            "_model_module_version": "1.2.0",
            "_view_count": null,
            "flex_flow": null,
            "width": null,
            "min_width": null,
            "border": null,
            "align_items": null,
            "bottom": null,
            "_model_module": "@jupyter-widgets/base",
            "top": null,
            "grid_column": null,
            "overflow_y": null,
            "overflow_x": null,
            "grid_auto_flow": null,
            "grid_area": null,
            "grid_template_columns": null,
            "flex": null,
            "_model_name": "LayoutModel",
            "justify_items": null,
            "grid_row": null,
            "max_height": null,
            "align_content": null,
            "visibility": null,
            "align_self": null,
            "height": null,
            "min_height": null,
            "padding": null,
            "grid_auto_rows": null,
            "grid_gap": null,
            "max_width": null,
            "order": null,
            "_view_module_version": "1.2.0",
            "grid_template_areas": null,
            "object_position": null,
            "object_fit": null,
            "grid_auto_columns": null,
            "margin": null,
            "display": null,
            "left": null
          }
        },
        "d041ca768fd441a2b13ed2ce872deabd": {
          "model_module": "@jupyter-widgets/controls",
          "model_name": "FloatProgressModel",
          "state": {
            "_view_name": "ProgressView",
            "style": "IPY_MODEL_0eed514b470d4fa0a95318b1df7e55ad",
            "_dom_classes": [],
            "description": "100%",
            "_model_name": "FloatProgressModel",
            "bar_style": "success",
            "max": 102502400,
            "_view_module": "@jupyter-widgets/controls",
            "_model_module_version": "1.5.0",
            "value": 102502400,
            "_view_count": null,
            "_view_module_version": "1.5.0",
            "orientation": "horizontal",
            "min": 0,
            "description_tooltip": null,
            "_model_module": "@jupyter-widgets/controls",
            "layout": "IPY_MODEL_316f18d00e0e4a2caf16c8febb9a16a6"
          }
        },
        "ab533642fb6b42418adad606ce04d36a": {
          "model_module": "@jupyter-widgets/controls",
          "model_name": "HTMLModel",
          "state": {
            "_view_name": "HTMLView",
            "style": "IPY_MODEL_01fa57c7c67e467d96e70e19d7f0e915",
            "_dom_classes": [],
            "description": "",
            "_model_name": "HTMLModel",
            "placeholder": "​",
            "_view_module": "@jupyter-widgets/controls",
            "_model_module_version": "1.5.0",
            "value": " 97.8M/97.8M [00:00&lt;00:00, 154MB/s]",
            "_view_count": null,
            "_view_module_version": "1.5.0",
            "description_tooltip": null,
            "_model_module": "@jupyter-widgets/controls",
            "layout": "IPY_MODEL_6a0589ff09bb400bb69b5b5e9dca3f49"
          }
        },
        "0eed514b470d4fa0a95318b1df7e55ad": {
          "model_module": "@jupyter-widgets/controls",
          "model_name": "ProgressStyleModel",
          "state": {
            "_view_name": "StyleView",
            "_model_name": "ProgressStyleModel",
            "description_width": "initial",
            "_view_module": "@jupyter-widgets/base",
            "_model_module_version": "1.5.0",
            "_view_count": null,
            "_view_module_version": "1.2.0",
            "bar_color": null,
            "_model_module": "@jupyter-widgets/controls"
          }
        },
        "316f18d00e0e4a2caf16c8febb9a16a6": {
          "model_module": "@jupyter-widgets/base",
          "model_name": "LayoutModel",
          "state": {
            "_view_name": "LayoutView",
            "grid_template_rows": null,
            "right": null,
            "justify_content": null,
            "_view_module": "@jupyter-widgets/base",
            "overflow": null,
            "_model_module_version": "1.2.0",
            "_view_count": null,
            "flex_flow": null,
            "width": null,
            "min_width": null,
            "border": null,
            "align_items": null,
            "bottom": null,
            "_model_module": "@jupyter-widgets/base",
            "top": null,
            "grid_column": null,
            "overflow_y": null,
            "overflow_x": null,
            "grid_auto_flow": null,
            "grid_area": null,
            "grid_template_columns": null,
            "flex": null,
            "_model_name": "LayoutModel",
            "justify_items": null,
            "grid_row": null,
            "max_height": null,
            "align_content": null,
            "visibility": null,
            "align_self": null,
            "height": null,
            "min_height": null,
            "padding": null,
            "grid_auto_rows": null,
            "grid_gap": null,
            "max_width": null,
            "order": null,
            "_view_module_version": "1.2.0",
            "grid_template_areas": null,
            "object_position": null,
            "object_fit": null,
            "grid_auto_columns": null,
            "margin": null,
            "display": null,
            "left": null
          }
        },
        "01fa57c7c67e467d96e70e19d7f0e915": {
          "model_module": "@jupyter-widgets/controls",
          "model_name": "DescriptionStyleModel",
          "state": {
            "_view_name": "StyleView",
            "_model_name": "DescriptionStyleModel",
            "description_width": "",
            "_view_module": "@jupyter-widgets/base",
            "_model_module_version": "1.5.0",
            "_view_count": null,
            "_view_module_version": "1.2.0",
            "_model_module": "@jupyter-widgets/controls"
          }
        },
        "6a0589ff09bb400bb69b5b5e9dca3f49": {
          "model_module": "@jupyter-widgets/base",
          "model_name": "LayoutModel",
          "state": {
            "_view_name": "LayoutView",
            "grid_template_rows": null,
            "right": null,
            "justify_content": null,
            "_view_module": "@jupyter-widgets/base",
            "overflow": null,
            "_model_module_version": "1.2.0",
            "_view_count": null,
            "flex_flow": null,
            "width": null,
            "min_width": null,
            "border": null,
            "align_items": null,
            "bottom": null,
            "_model_module": "@jupyter-widgets/base",
            "top": null,
            "grid_column": null,
            "overflow_y": null,
            "overflow_x": null,
            "grid_auto_flow": null,
            "grid_area": null,
            "grid_template_columns": null,
            "flex": null,
            "_model_name": "LayoutModel",
            "justify_items": null,
            "grid_row": null,
            "max_height": null,
            "align_content": null,
            "visibility": null,
            "align_self": null,
            "height": null,
            "min_height": null,
            "padding": null,
            "grid_auto_rows": null,
            "grid_gap": null,
            "max_width": null,
            "order": null,
            "_view_module_version": "1.2.0",
            "grid_template_areas": null,
            "object_position": null,
            "object_fit": null,
            "grid_auto_columns": null,
            "margin": null,
            "display": null,
            "left": null
          }
        },
        "9728afa4d0eb4d53982e55ba26fb6600": {
          "model_module": "@jupyter-widgets/controls",
          "model_name": "HBoxModel",
          "state": {
            "_view_name": "HBoxView",
            "_dom_classes": [],
            "_model_name": "HBoxModel",
            "_view_module": "@jupyter-widgets/controls",
            "_model_module_version": "1.5.0",
            "_view_count": null,
            "_view_module_version": "1.5.0",
            "box_style": "",
            "layout": "IPY_MODEL_b8177e8e6bb646c9830b58a512788b39",
            "_model_module": "@jupyter-widgets/controls",
            "children": [
              "IPY_MODEL_0c04eb5b6bb14398a7e580b2770a7e60",
              "IPY_MODEL_a725f733c230498e9e7a0a00b5176a9d"
            ]
          }
        },
        "b8177e8e6bb646c9830b58a512788b39": {
          "model_module": "@jupyter-widgets/base",
          "model_name": "LayoutModel",
          "state": {
            "_view_name": "LayoutView",
            "grid_template_rows": null,
            "right": null,
            "justify_content": null,
            "_view_module": "@jupyter-widgets/base",
            "overflow": null,
            "_model_module_version": "1.2.0",
            "_view_count": null,
            "flex_flow": null,
            "width": null,
            "min_width": null,
            "border": null,
            "align_items": null,
            "bottom": null,
            "_model_module": "@jupyter-widgets/base",
            "top": null,
            "grid_column": null,
            "overflow_y": null,
            "overflow_x": null,
            "grid_auto_flow": null,
            "grid_area": null,
            "grid_template_columns": null,
            "flex": null,
            "_model_name": "LayoutModel",
            "justify_items": null,
            "grid_row": null,
            "max_height": null,
            "align_content": null,
            "visibility": null,
            "align_self": null,
            "height": null,
            "min_height": null,
            "padding": null,
            "grid_auto_rows": null,
            "grid_gap": null,
            "max_width": null,
            "order": null,
            "_view_module_version": "1.2.0",
            "grid_template_areas": null,
            "object_position": null,
            "object_fit": null,
            "grid_auto_columns": null,
            "margin": null,
            "display": null,
            "left": null
          }
        },
        "0c04eb5b6bb14398a7e580b2770a7e60": {
          "model_module": "@jupyter-widgets/controls",
          "model_name": "FloatProgressModel",
          "state": {
            "_view_name": "ProgressView",
            "style": "IPY_MODEL_557ad7c77253470c997f25476bfd735a",
            "_dom_classes": [],
            "description": "100%",
            "_model_name": "FloatProgressModel",
            "bar_style": "success",
            "max": 168312152,
            "_view_module": "@jupyter-widgets/controls",
            "_model_module_version": "1.5.0",
            "value": 168312152,
            "_view_count": null,
            "_view_module_version": "1.5.0",
            "orientation": "horizontal",
            "min": 0,
            "description_tooltip": null,
            "_model_module": "@jupyter-widgets/controls",
            "layout": "IPY_MODEL_20af736bae0e4e6483ad5897af6b69e4"
          }
        },
        "a725f733c230498e9e7a0a00b5176a9d": {
          "model_module": "@jupyter-widgets/controls",
          "model_name": "HTMLModel",
          "state": {
            "_view_name": "HTMLView",
            "style": "IPY_MODEL_6582cac31f244e2a8e7c940f79109b81",
            "_dom_classes": [],
            "description": "",
            "_model_name": "HTMLModel",
            "placeholder": "​",
            "_view_module": "@jupyter-widgets/controls",
            "_model_module_version": "1.5.0",
            "value": " 161M/161M [00:04&lt;00:00, 36.8MB/s]",
            "_view_count": null,
            "_view_module_version": "1.5.0",
            "description_tooltip": null,
            "_model_module": "@jupyter-widgets/controls",
            "layout": "IPY_MODEL_b5c54bd151d84a81a0fb50d8d227ac5f"
          }
        },
        "557ad7c77253470c997f25476bfd735a": {
          "model_module": "@jupyter-widgets/controls",
          "model_name": "ProgressStyleModel",
          "state": {
            "_view_name": "StyleView",
            "_model_name": "ProgressStyleModel",
            "description_width": "initial",
            "_view_module": "@jupyter-widgets/base",
            "_model_module_version": "1.5.0",
            "_view_count": null,
            "_view_module_version": "1.2.0",
            "bar_color": null,
            "_model_module": "@jupyter-widgets/controls"
          }
        },
        "20af736bae0e4e6483ad5897af6b69e4": {
          "model_module": "@jupyter-widgets/base",
          "model_name": "LayoutModel",
          "state": {
            "_view_name": "LayoutView",
            "grid_template_rows": null,
            "right": null,
            "justify_content": null,
            "_view_module": "@jupyter-widgets/base",
            "overflow": null,
            "_model_module_version": "1.2.0",
            "_view_count": null,
            "flex_flow": null,
            "width": null,
            "min_width": null,
            "border": null,
            "align_items": null,
            "bottom": null,
            "_model_module": "@jupyter-widgets/base",
            "top": null,
            "grid_column": null,
            "overflow_y": null,
            "overflow_x": null,
            "grid_auto_flow": null,
            "grid_area": null,
            "grid_template_columns": null,
            "flex": null,
            "_model_name": "LayoutModel",
            "justify_items": null,
            "grid_row": null,
            "max_height": null,
            "align_content": null,
            "visibility": null,
            "align_self": null,
            "height": null,
            "min_height": null,
            "padding": null,
            "grid_auto_rows": null,
            "grid_gap": null,
            "max_width": null,
            "order": null,
            "_view_module_version": "1.2.0",
            "grid_template_areas": null,
            "object_position": null,
            "object_fit": null,
            "grid_auto_columns": null,
            "margin": null,
            "display": null,
            "left": null
          }
        },
        "6582cac31f244e2a8e7c940f79109b81": {
          "model_module": "@jupyter-widgets/controls",
          "model_name": "DescriptionStyleModel",
          "state": {
            "_view_name": "StyleView",
            "_model_name": "DescriptionStyleModel",
            "description_width": "",
            "_view_module": "@jupyter-widgets/base",
            "_model_module_version": "1.5.0",
            "_view_count": null,
            "_view_module_version": "1.2.0",
            "_model_module": "@jupyter-widgets/controls"
          }
        },
        "b5c54bd151d84a81a0fb50d8d227ac5f": {
          "model_module": "@jupyter-widgets/base",
          "model_name": "LayoutModel",
          "state": {
            "_view_name": "LayoutView",
            "grid_template_rows": null,
            "right": null,
            "justify_content": null,
            "_view_module": "@jupyter-widgets/base",
            "overflow": null,
            "_model_module_version": "1.2.0",
            "_view_count": null,
            "flex_flow": null,
            "width": null,
            "min_width": null,
            "border": null,
            "align_items": null,
            "bottom": null,
            "_model_module": "@jupyter-widgets/base",
            "top": null,
            "grid_column": null,
            "overflow_y": null,
            "overflow_x": null,
            "grid_auto_flow": null,
            "grid_area": null,
            "grid_template_columns": null,
            "flex": null,
            "_model_name": "LayoutModel",
            "justify_items": null,
            "grid_row": null,
            "max_height": null,
            "align_content": null,
            "visibility": null,
            "align_self": null,
            "height": null,
            "min_height": null,
            "padding": null,
            "grid_auto_rows": null,
            "grid_gap": null,
            "max_width": null,
            "order": null,
            "_view_module_version": "1.2.0",
            "grid_template_areas": null,
            "object_position": null,
            "object_fit": null,
            "grid_auto_columns": null,
            "margin": null,
            "display": null,
            "left": null
          }
        }
      }
    }
  },
  "cells": [
    {
      "cell_type": "markdown",
      "metadata": {
        "id": "view-in-github",
        "colab_type": "text"
      },
      "source": [
        "<a href=\"https://colab.research.google.com/github/DreamTeamInc/Core-DS/blob/issues%2F6/research/day/FCN_semantic_segmentation_model_Leon.ipynb\" target=\"_parent\"><img src=\"https://colab.research.google.com/assets/colab-badge.svg\" alt=\"Open In Colab\"/></a>"
      ]
    },
    {
      "cell_type": "markdown",
      "metadata": {
        "id": "QoyJRAtbwI3y"
      },
      "source": [
        "Команда ниже монтирует образ gDrive. Добавь ярлык на папку с керном перед этим.\n"
      ]
    },
    {
      "cell_type": "code",
      "metadata": {
        "id": "UDNK1hQEpTgm",
        "colab": {
          "base_uri": "https://localhost:8080/"
        },
        "outputId": "c38f2a51-5e75-440c-d39e-9d5776d1014b"
      },
      "source": [
        "from google.colab import drive\n",
        "drive.mount('/content/drive')\n",
        "\n",
        "# Path to 'sample_core_analysis_data_example' folder with folder name\n",
        "SAMPLE_CORE_PATH = 'drive/My Drive/ sample_core_analysis_data_example'"
      ],
      "execution_count": null,
      "outputs": [
        {
          "output_type": "stream",
          "text": [
            "Drive already mounted at /content/drive; to attempt to forcibly remount, call drive.mount(\"/content/drive\", force_remount=True).\n"
          ],
          "name": "stdout"
        }
      ]
    },
    {
      "cell_type": "code",
      "metadata": {
        "id": "SpKJnLGCDNnZ"
      },
      "source": [
        "# !pip install pytorch-lightning\n",
        "# !pip install imgaug==0.4.0"
      ],
      "execution_count": null,
      "outputs": []
    },
    {
      "cell_type": "markdown",
      "metadata": {
        "id": "-cyHF5iqwahY"
      },
      "source": [
        "# Инициализация библиотек"
      ]
    },
    {
      "cell_type": "markdown",
      "metadata": {
        "id": "jIipZGoSDcRh"
      },
      "source": [
        "Для предобработки информации"
      ]
    },
    {
      "cell_type": "code",
      "metadata": {
        "id": "rCpadN8OwRxi"
      },
      "source": [
        "import pandas as pd\n",
        "import numpy as np\n",
        "import json\n",
        "\n",
        "import matplotlib.pyplot as plt\n",
        "from skimage import io\n",
        "\n",
        "pd.options.mode.chained_assignment = None"
      ],
      "execution_count": null,
      "outputs": []
    },
    {
      "cell_type": "markdown",
      "metadata": {
        "id": "mpXlMiQ9DkN3"
      },
      "source": [
        "Для обучения нейронной сети"
      ]
    },
    {
      "cell_type": "code",
      "metadata": {
        "id": "LgLz5SPZCHdg"
      },
      "source": [
        "from __future__ import print_function, division\n",
        "import os\n",
        "import time\n",
        "import torch\n",
        "import pandas as pd\n",
        "from skimage import io, transform, img_as_float32, img_as_ubyte\n",
        "import numpy as np\n",
        "import matplotlib.pyplot as plt\n",
        "from torch.utils.data import Dataset, DataLoader\n",
        "from torchvision import models, transforms, utils\n",
        "from sklearn import  metrics\n",
        "import imgaug.augmenters as iaa\n",
        "\n",
        "# Ignore warnings\n",
        "import warnings\n",
        "warnings.filterwarnings(\"ignore\")\n",
        "\n",
        "plt.ion()   # interactive mode"
      ],
      "execution_count": null,
      "outputs": []
    },
    {
      "cell_type": "markdown",
      "metadata": {
        "id": "SuF5Ov4tEEUk"
      },
      "source": [
        "Фиксация сидов для воспроизводимости результатов"
      ]
    },
    {
      "cell_type": "code",
      "metadata": {
        "id": "GP5dYwO3uPE9"
      },
      "source": [
        "import random\n",
        "import torch\n",
        "\n",
        "random.seed(0)\n",
        "np.random.seed(0)\n",
        "torch.manual_seed(0)\n",
        "torch.cuda.manual_seed(0)\n",
        "torch.backends.cudnn.deterministic = True"
      ],
      "execution_count": null,
      "outputs": []
    },
    {
      "cell_type": "markdown",
      "metadata": {
        "id": "_c4K2qbZ3_oS"
      },
      "source": [
        "# Предобработка данных"
      ]
    },
    {
      "cell_type": "code",
      "metadata": {
        "id": "VKAQ74CNwfM3",
        "colab": {
          "base_uri": "https://localhost:8080/",
          "height": 173
        },
        "outputId": "5f6cd122-59e5-4f8f-9403-3fa57659ae29"
      },
      "source": [
        "data = pd.read_csv(SAMPLE_CORE_PATH + '/data.csv')\n",
        "data = data[data['photo_type'] == 'ДС']\n",
        "data_trash = data[data['segment_value'] == 'Переслаивание пород']\n",
        "\n",
        "for photo_id in data_trash['photo_id']:\n",
        "    data = data[data['photo_id'] != photo_id]\n",
        "\n",
        "data.drop(['photo_type'], axis=1, inplace=True)\n",
        "print(data.shape)\n",
        "print(data['photo_id'].unique().shape)\n",
        "data.head(3)"
      ],
      "execution_count": null,
      "outputs": [
        {
          "output_type": "stream",
          "text": [
            "(6181, 5)\n",
            "(548,)\n"
          ],
          "name": "stdout"
        },
        {
          "output_type": "execute_result",
          "data": {
            "text/html": [
              "<div>\n",
              "<style scoped>\n",
              "    .dataframe tbody tr th:only-of-type {\n",
              "        vertical-align: middle;\n",
              "    }\n",
              "\n",
              "    .dataframe tbody tr th {\n",
              "        vertical-align: top;\n",
              "    }\n",
              "\n",
              "    .dataframe thead th {\n",
              "        text-align: right;\n",
              "    }\n",
              "</style>\n",
              "<table border=\"1\" class=\"dataframe\">\n",
              "  <thead>\n",
              "    <tr style=\"text-align: right;\">\n",
              "      <th></th>\n",
              "      <th>task_id</th>\n",
              "      <th>photo_id</th>\n",
              "      <th>segment_num</th>\n",
              "      <th>segment_type</th>\n",
              "      <th>segment_value</th>\n",
              "    </tr>\n",
              "  </thead>\n",
              "  <tbody>\n",
              "    <tr>\n",
              "      <th>473</th>\n",
              "      <td>af172321_d549_42e7_8d2c_e7515a7f8eae</td>\n",
              "      <td>1013300</td>\n",
              "      <td>0</td>\n",
              "      <td>Порода</td>\n",
              "      <td>Глинисто-кремнистая порода</td>\n",
              "    </tr>\n",
              "    <tr>\n",
              "      <th>474</th>\n",
              "      <td>af172321_d549_42e7_8d2c_e7515a7f8eae</td>\n",
              "      <td>1013300</td>\n",
              "      <td>1</td>\n",
              "      <td>Разрушенность</td>\n",
              "      <td>Разлом</td>\n",
              "    </tr>\n",
              "    <tr>\n",
              "      <th>475</th>\n",
              "      <td>af172321_d549_42e7_8d2c_e7515a7f8eae</td>\n",
              "      <td>1013300</td>\n",
              "      <td>2</td>\n",
              "      <td>Порода</td>\n",
              "      <td>Глинисто-кремнистая порода</td>\n",
              "    </tr>\n",
              "  </tbody>\n",
              "</table>\n",
              "</div>"
            ],
            "text/plain": [
              "                                  task_id  ...               segment_value\n",
              "473  af172321_d549_42e7_8d2c_e7515a7f8eae  ...  Глинисто-кремнистая порода\n",
              "474  af172321_d549_42e7_8d2c_e7515a7f8eae  ...                      Разлом\n",
              "475  af172321_d549_42e7_8d2c_e7515a7f8eae  ...  Глинисто-кремнистая порода\n",
              "\n",
              "[3 rows x 5 columns]"
            ]
          },
          "metadata": {
            "tags": []
          },
          "execution_count": 6
        }
      ]
    },
    {
      "cell_type": "code",
      "metadata": {
        "id": "zDFMQmZc4uGb"
      },
      "source": [
        "def show_image(image):\n",
        "    fig, ax = plt.subplots(figsize=(14, 14))\n",
        "    ax.imshow(image)\n",
        "    ax.axis('off')\n",
        "    return fig, ax\n",
        "\n",
        "def get_photo(data, i):\n",
        "    return io.imread(SAMPLE_CORE_PATH + '/photos/{}.jpeg'.format(data['photo_id'].iloc[i]))\n",
        "\n",
        "def get_mask(data, i):\n",
        "    return np.load(SAMPLE_CORE_PATH + '/matrixes/matrix_{}__{}.npz'.format(data['photo_id'].iloc[i], data['task_id'].iloc[i]))['data']\n",
        "\n",
        "def get_json(data, i):\n",
        "    datastore = ''\n",
        "    with open(SAMPLE_CORE_PATH + '/extra/extra_{}__{}.json'.format(data['photo_id'].iloc[i],\n",
        "                                                                   data['task_id'].iloc[i]), 'r', encoding=\"utf8\") as f:\n",
        "        datastore = json.load(f)\n",
        "\n",
        "    return datastore\n",
        "\n",
        "def show_all(data, i):\n",
        "    print(data.iloc[i])\n",
        "    fig, (ax1, ax2) = plt.subplots(1, 2, figsize=(14, 14))\n",
        "    ax1.imshow(get_photo(data, i))\n",
        "    ax1.axis('off')\n",
        "\n",
        "    cmap = plt.get_cmap('tab20b', np.max(get_mask(data, i)) + 1)\n",
        "    mask = ax2.imshow(get_mask(data, i), cmap=cmap,\n",
        "                      vmin=-0.5, vmax=np.max(get_mask(data, i))+0.5)\n",
        "    ax2.axis('off')\n",
        "    fig.colorbar(mask, ticks=np.arange(0, np.max(get_mask(data, i))+1))\n",
        "    return fig, (ax1, ax2)\n",
        "\n",
        "\n",
        "\n",
        "def show_photo_seies(data, column, value):\n",
        "    fig, ax_ar = plt.subplots(1, 5, figsize=(14, 14))\n",
        "    filt_data = data[data[column] == value]\n",
        "    i = np.random.randint(0, filt_data.shape[0])\n",
        "    for ax in ax_ar:\n",
        "        filt_by_photo = filt_data[filt_data['photo_id'] == filt_data['photo_id'].iloc[i]]\n",
        "        segments = filt_by_photo['segment_num'].values\n",
        "        photo = get_photo(filt_data, i)\n",
        "        mask = get_mask(filt_data, i)\n",
        "        for value in segments:\n",
        "            mask = np.ma.masked_where(mask == value, mask)\n",
        "        \n",
        "        ax.imshow(photo)\n",
        "        ax.imshow(mask)\n",
        "        ax.axis('off')\n",
        "        filt_data.drop(filt_by_photo.index.values, axis=0, inplace=True)\n",
        "        i = np.random.randint(0, filt_data.shape[0])\n",
        "    \n",
        "    return fig, ax_ar\n",
        "\n",
        "def calculate_mean_and_std(data):\n",
        "    mean = (0, 0, 0)\n",
        "    std = (0, 0, 0)\n",
        "\n",
        "    for i in range(len(data)):\n",
        "        photo = img_as_float32(get_photo(data, i))\n",
        "        mean += np.mean(photo, axis=(0,1))\n",
        "        std += np.std(photo, axis=(0,1))\n",
        "\n",
        "        if(i % 50 == 0):\n",
        "            print(i)\n",
        "    \n",
        "    mean /= len(data)\n",
        "    std /= len(data)\n",
        "\n",
        "    print('mean RGB : ', mean)\n",
        "    print('std RGB : ', std)"
      ],
      "execution_count": null,
      "outputs": []
    },
    {
      "cell_type": "markdown",
      "metadata": {
        "id": "Mj0Pht_mIdOT"
      },
      "source": [
        "Выбираем фото, сделанные на дневном свете и сопоставляем каждому сегменты разбитые по типу сегмента."
      ]
    },
    {
      "cell_type": "code",
      "metadata": {
        "id": "sZfxubWDw4p1",
        "colab": {
          "base_uri": "https://localhost:8080/",
          "height": 205
        },
        "outputId": "537f9a5e-3eed-45fe-c256-bd2c9bae5eea"
      },
      "source": [
        "def get_photo_df(data):\n",
        "    df = pd.DataFrame(data=data['photo_id'].unique(), columns=['photo_id'])\n",
        "    \n",
        "    df['task_id'] = ''\n",
        "    for i in range(df.shape[0]):\n",
        "        task_id = data[data['photo_id'] == df['photo_id'].iloc[i]]['task_id'].iloc[0]\n",
        "        df['task_id'].iloc[i] = task_id\n",
        "\n",
        "    for value in data['segment_value']:\n",
        "        df[value] = ''\n",
        "\n",
        "    for i in range(df.shape[0]):\n",
        "        data_ph = data[data['photo_id'] == df['photo_id'].iloc[i]]\n",
        "\n",
        "        for value in data_ph['segment_value']:\n",
        "            data_seg = data_ph[data_ph['segment_value'] == value]\n",
        "            seg_nums = data_seg['segment_num'].to_numpy()\n",
        "            df[value].iloc[i] = seg_nums\n",
        "\n",
        "    df.replace(r'^\\s*$', np.nan, regex=True, inplace=True)\n",
        "    return df\n",
        "\n",
        "df = get_photo_df(data)\n",
        "print(df.shape)\n",
        "df.head(3)"
      ],
      "execution_count": null,
      "outputs": [
        {
          "output_type": "stream",
          "text": [
            "(548, 14)\n"
          ],
          "name": "stdout"
        },
        {
          "output_type": "execute_result",
          "data": {
            "text/html": [
              "<div>\n",
              "<style scoped>\n",
              "    .dataframe tbody tr th:only-of-type {\n",
              "        vertical-align: middle;\n",
              "    }\n",
              "\n",
              "    .dataframe tbody tr th {\n",
              "        vertical-align: top;\n",
              "    }\n",
              "\n",
              "    .dataframe thead th {\n",
              "        text-align: right;\n",
              "    }\n",
              "</style>\n",
              "<table border=\"1\" class=\"dataframe\">\n",
              "  <thead>\n",
              "    <tr style=\"text-align: right;\">\n",
              "      <th></th>\n",
              "      <th>photo_id</th>\n",
              "      <th>task_id</th>\n",
              "      <th>Глинисто-кремнистая порода</th>\n",
              "      <th>Разлом</th>\n",
              "      <th>Аргиллит</th>\n",
              "      <th>Алевролит глинистый</th>\n",
              "      <th>Песчаник</th>\n",
              "      <th>Песчаник глинистый</th>\n",
              "      <th>Проба</th>\n",
              "      <th>Уголь</th>\n",
              "      <th>Аргиллит углистый</th>\n",
              "      <th>Алевролит</th>\n",
              "      <th>Карбонатная порода</th>\n",
              "      <th>Известняк</th>\n",
              "    </tr>\n",
              "  </thead>\n",
              "  <tbody>\n",
              "    <tr>\n",
              "      <th>0</th>\n",
              "      <td>1013300</td>\n",
              "      <td>af172321_d549_42e7_8d2c_e7515a7f8eae</td>\n",
              "      <td>[0, 2, 4, 6]</td>\n",
              "      <td>[1, 3, 5, 7]</td>\n",
              "      <td>NaN</td>\n",
              "      <td>NaN</td>\n",
              "      <td>NaN</td>\n",
              "      <td>NaN</td>\n",
              "      <td>NaN</td>\n",
              "      <td>NaN</td>\n",
              "      <td>NaN</td>\n",
              "      <td>NaN</td>\n",
              "      <td>NaN</td>\n",
              "      <td>NaN</td>\n",
              "    </tr>\n",
              "    <tr>\n",
              "      <th>1</th>\n",
              "      <td>1006688</td>\n",
              "      <td>b8e02fee_f425_4102_a9fb_67903c2e0fb0</td>\n",
              "      <td>NaN</td>\n",
              "      <td>[0, 1, 2, 4, 5, 6, 7, 8, 9, 10, 11, 12, 13, 14...</td>\n",
              "      <td>[3, 28, 46, 52, 62]</td>\n",
              "      <td>NaN</td>\n",
              "      <td>NaN</td>\n",
              "      <td>NaN</td>\n",
              "      <td>NaN</td>\n",
              "      <td>NaN</td>\n",
              "      <td>NaN</td>\n",
              "      <td>NaN</td>\n",
              "      <td>NaN</td>\n",
              "      <td>NaN</td>\n",
              "    </tr>\n",
              "    <tr>\n",
              "      <th>2</th>\n",
              "      <td>1012506</td>\n",
              "      <td>d61a735f_b840_426f_aead_8d087b469f58</td>\n",
              "      <td>NaN</td>\n",
              "      <td>[0, 2, 3, 4, 5, 6, 7, 8, 9, 10, 11, 12, 13]</td>\n",
              "      <td>NaN</td>\n",
              "      <td>[1]</td>\n",
              "      <td>NaN</td>\n",
              "      <td>NaN</td>\n",
              "      <td>NaN</td>\n",
              "      <td>NaN</td>\n",
              "      <td>NaN</td>\n",
              "      <td>NaN</td>\n",
              "      <td>NaN</td>\n",
              "      <td>NaN</td>\n",
              "    </tr>\n",
              "  </tbody>\n",
              "</table>\n",
              "</div>"
            ],
            "text/plain": [
              "   photo_id                               task_id  ... Карбонатная порода Известняк\n",
              "0   1013300  af172321_d549_42e7_8d2c_e7515a7f8eae  ...                NaN       NaN\n",
              "1   1006688  b8e02fee_f425_4102_a9fb_67903c2e0fb0  ...                NaN       NaN\n",
              "2   1012506  d61a735f_b840_426f_aead_8d087b469f58  ...                NaN       NaN\n",
              "\n",
              "[3 rows x 14 columns]"
            ]
          },
          "metadata": {
            "tags": []
          },
          "execution_count": 8
        }
      ]
    },
    {
      "cell_type": "markdown",
      "metadata": {
        "id": "z0PWg2sILC37"
      },
      "source": [
        "Количественное распределение классов по фотографиям"
      ]
    },
    {
      "cell_type": "code",
      "metadata": {
        "id": "0GR4W7k2KfQ_",
        "colab": {
          "base_uri": "https://localhost:8080/"
        },
        "outputId": "033beac5-0c50-4e6d-c9ae-18d9263675ca"
      },
      "source": [
        "df.notna().sum()"
      ],
      "execution_count": null,
      "outputs": [
        {
          "output_type": "execute_result",
          "data": {
            "text/plain": [
              "photo_id                      548\n",
              "task_id                       548\n",
              "Глинисто-кремнистая порода      4\n",
              "Разлом                        482\n",
              "Аргиллит                      211\n",
              "Алевролит глинистый            74\n",
              "Песчаник                      259\n",
              "Песчаник глинистый             36\n",
              "Проба                          32\n",
              "Уголь                           4\n",
              "Аргиллит углистый               6\n",
              "Алевролит                       5\n",
              "Карбонатная порода              5\n",
              "Известняк                       1\n",
              "dtype: int64"
            ]
          },
          "metadata": {
            "tags": []
          },
          "execution_count": 9
        }
      ]
    },
    {
      "cell_type": "code",
      "metadata": {
        "id": "cGoyt5m9GI1V",
        "colab": {
          "base_uri": "https://localhost:8080/",
          "height": 205
        },
        "outputId": "1a98f8b4-1b09-4859-974e-ec1ae29ab5d7"
      },
      "source": [
        "df_filt = df.copy()\n",
        "df_filt = df_filt[df_filt['Известняк'].isna()]\n",
        "df_filt.drop(['Известняк'], axis=1, inplace=True)\n",
        "print(df_filt.shape)\n",
        "df_filt.head(3)"
      ],
      "execution_count": null,
      "outputs": [
        {
          "output_type": "stream",
          "text": [
            "(547, 13)\n"
          ],
          "name": "stdout"
        },
        {
          "output_type": "execute_result",
          "data": {
            "text/html": [
              "<div>\n",
              "<style scoped>\n",
              "    .dataframe tbody tr th:only-of-type {\n",
              "        vertical-align: middle;\n",
              "    }\n",
              "\n",
              "    .dataframe tbody tr th {\n",
              "        vertical-align: top;\n",
              "    }\n",
              "\n",
              "    .dataframe thead th {\n",
              "        text-align: right;\n",
              "    }\n",
              "</style>\n",
              "<table border=\"1\" class=\"dataframe\">\n",
              "  <thead>\n",
              "    <tr style=\"text-align: right;\">\n",
              "      <th></th>\n",
              "      <th>photo_id</th>\n",
              "      <th>task_id</th>\n",
              "      <th>Глинисто-кремнистая порода</th>\n",
              "      <th>Разлом</th>\n",
              "      <th>Аргиллит</th>\n",
              "      <th>Алевролит глинистый</th>\n",
              "      <th>Песчаник</th>\n",
              "      <th>Песчаник глинистый</th>\n",
              "      <th>Проба</th>\n",
              "      <th>Уголь</th>\n",
              "      <th>Аргиллит углистый</th>\n",
              "      <th>Алевролит</th>\n",
              "      <th>Карбонатная порода</th>\n",
              "    </tr>\n",
              "  </thead>\n",
              "  <tbody>\n",
              "    <tr>\n",
              "      <th>0</th>\n",
              "      <td>1013300</td>\n",
              "      <td>af172321_d549_42e7_8d2c_e7515a7f8eae</td>\n",
              "      <td>[0, 2, 4, 6]</td>\n",
              "      <td>[1, 3, 5, 7]</td>\n",
              "      <td>NaN</td>\n",
              "      <td>NaN</td>\n",
              "      <td>NaN</td>\n",
              "      <td>NaN</td>\n",
              "      <td>NaN</td>\n",
              "      <td>NaN</td>\n",
              "      <td>NaN</td>\n",
              "      <td>NaN</td>\n",
              "      <td>NaN</td>\n",
              "    </tr>\n",
              "    <tr>\n",
              "      <th>1</th>\n",
              "      <td>1006688</td>\n",
              "      <td>b8e02fee_f425_4102_a9fb_67903c2e0fb0</td>\n",
              "      <td>NaN</td>\n",
              "      <td>[0, 1, 2, 4, 5, 6, 7, 8, 9, 10, 11, 12, 13, 14...</td>\n",
              "      <td>[3, 28, 46, 52, 62]</td>\n",
              "      <td>NaN</td>\n",
              "      <td>NaN</td>\n",
              "      <td>NaN</td>\n",
              "      <td>NaN</td>\n",
              "      <td>NaN</td>\n",
              "      <td>NaN</td>\n",
              "      <td>NaN</td>\n",
              "      <td>NaN</td>\n",
              "    </tr>\n",
              "    <tr>\n",
              "      <th>2</th>\n",
              "      <td>1012506</td>\n",
              "      <td>d61a735f_b840_426f_aead_8d087b469f58</td>\n",
              "      <td>NaN</td>\n",
              "      <td>[0, 2, 3, 4, 5, 6, 7, 8, 9, 10, 11, 12, 13]</td>\n",
              "      <td>NaN</td>\n",
              "      <td>[1]</td>\n",
              "      <td>NaN</td>\n",
              "      <td>NaN</td>\n",
              "      <td>NaN</td>\n",
              "      <td>NaN</td>\n",
              "      <td>NaN</td>\n",
              "      <td>NaN</td>\n",
              "      <td>NaN</td>\n",
              "    </tr>\n",
              "  </tbody>\n",
              "</table>\n",
              "</div>"
            ],
            "text/plain": [
              "   photo_id                               task_id  ... Алевролит Карбонатная порода\n",
              "0   1013300  af172321_d549_42e7_8d2c_e7515a7f8eae  ...       NaN                NaN\n",
              "1   1006688  b8e02fee_f425_4102_a9fb_67903c2e0fb0  ...       NaN                NaN\n",
              "2   1012506  d61a735f_b840_426f_aead_8d087b469f58  ...       NaN                NaN\n",
              "\n",
              "[3 rows x 13 columns]"
            ]
          },
          "metadata": {
            "tags": []
          },
          "execution_count": 10
        }
      ]
    },
    {
      "cell_type": "code",
      "metadata": {
        "id": "I4vxVaj-Mve9",
        "colab": {
          "base_uri": "https://localhost:8080/"
        },
        "outputId": "6b525c9c-d36b-4e5b-c483-30d537097922"
      },
      "source": [
        "df_filt.notna().sum()"
      ],
      "execution_count": null,
      "outputs": [
        {
          "output_type": "execute_result",
          "data": {
            "text/plain": [
              "photo_id                      547\n",
              "task_id                       547\n",
              "Глинисто-кремнистая порода      4\n",
              "Разлом                        481\n",
              "Аргиллит                      210\n",
              "Алевролит глинистый            74\n",
              "Песчаник                      259\n",
              "Песчаник глинистый             36\n",
              "Проба                          32\n",
              "Уголь                           4\n",
              "Аргиллит углистый               6\n",
              "Алевролит                       5\n",
              "Карбонатная порода              5\n",
              "dtype: int64"
            ]
          },
          "metadata": {
            "tags": []
          },
          "execution_count": 11
        }
      ]
    },
    {
      "cell_type": "markdown",
      "metadata": {
        "id": "EDAEYji32IDy"
      },
      "source": [
        "## Реализация перечисляемого типа, отвечающего за сегменты, которые будет распознавать модель"
      ]
    },
    {
      "cell_type": "code",
      "metadata": {
        "id": "AUv3E2-TiLSp"
      },
      "source": [
        "from enum import Enum\n",
        "\n",
        "class Segments(Enum):\n",
        "#    Разлом = 0\n",
        "#    Проба = 1\n",
        "#    Глинистоtкремнистая_порода = 2\n",
        "   Аргиллит = 0\n",
        "   Алевролит_глинистый = 1\n",
        "   Песчаник = 2\n",
        "#    Песчаник_глинистый = 6\n",
        "#    Уголь = 7\n",
        "#    Аргиллит_углистый = 8\n",
        "#    Алевролит = 9\n",
        "#    Карбонатная_порода = 10\n",
        "   Другое = 3\n"
      ],
      "execution_count": null,
      "outputs": []
    },
    {
      "cell_type": "markdown",
      "metadata": {
        "id": "NOD-Y2JV170B"
      },
      "source": [
        "## Фильтрация датасета по Segments и формирование тренировочной и валидационной выборок"
      ]
    },
    {
      "cell_type": "code",
      "metadata": {
        "id": "gM11GpQ7QMtT"
      },
      "source": [
        "def make_train_val(df):\n",
        "    df_train = pd.DataFrame(columns=df.columns)\n",
        "    df_val = pd.DataFrame(columns=df.columns)\n",
        "\n",
        "    for name, member in Segments.__members__.items():\n",
        "        name = name.replace('_', ' ').replace('t','-')\n",
        "        if name == 'Другое' or name == 'Проба' or name == 'Разлом':\n",
        "            continue\n",
        "        if df[name].notna().sum() > 3:\n",
        "            df_col = df[df[name].notna()]\n",
        "            \n",
        "            if len(df_col) > 74:\n",
        "                df_col = df_col.sample(75) \n",
        "            for i in range(len(df_col)*2//5):\n",
        "                if not df_col['photo_id'].iloc[i] in df_train.photo_id: \n",
        "                    df_train = df_train.append(df_col.iloc[i])\n",
        "            for i in range(len(df_col)*2//5, len(df_col)):\n",
        "                if not df_col['photo_id'].iloc[i] in df_val.photo_id:\n",
        "                    df_val = df_val.append(df_col.iloc[i])\n",
        "        else:\n",
        "            # df_col = df[df[name].notna()]\n",
        "            # for i in range(len(df_col)*3//4):\n",
        "            #     df_train = df_train.append(df_col.iloc[i])\n",
        "            # for i in range(len(df_col)*3//4,len(df_col)):\n",
        "            #     df_val = df_val.append(df_col.iloc[i])\n",
        "            pass\n",
        "    \n",
        "    df_train = df_train.sample(len(df_train))\n",
        "    df_val = df_val.sample(len(df_val))\n",
        "    return df_train, df_val\n",
        "\n",
        "df_train, df_val = make_train_val(df_filt)"
      ],
      "execution_count": null,
      "outputs": []
    },
    {
      "cell_type": "code",
      "metadata": {
        "id": "yJoA5HuvVnE1",
        "colab": {
          "base_uri": "https://localhost:8080/",
          "height": 188
        },
        "outputId": "8f56519b-895c-45ae-d4d6-7aea0f220319"
      },
      "source": [
        "print(df_train.shape)\n",
        "df_train.sample(3)"
      ],
      "execution_count": null,
      "outputs": [
        {
          "output_type": "stream",
          "text": [
            "(89, 13)\n"
          ],
          "name": "stdout"
        },
        {
          "output_type": "execute_result",
          "data": {
            "text/html": [
              "<div>\n",
              "<style scoped>\n",
              "    .dataframe tbody tr th:only-of-type {\n",
              "        vertical-align: middle;\n",
              "    }\n",
              "\n",
              "    .dataframe tbody tr th {\n",
              "        vertical-align: top;\n",
              "    }\n",
              "\n",
              "    .dataframe thead th {\n",
              "        text-align: right;\n",
              "    }\n",
              "</style>\n",
              "<table border=\"1\" class=\"dataframe\">\n",
              "  <thead>\n",
              "    <tr style=\"text-align: right;\">\n",
              "      <th></th>\n",
              "      <th>photo_id</th>\n",
              "      <th>task_id</th>\n",
              "      <th>Глинисто-кремнистая порода</th>\n",
              "      <th>Разлом</th>\n",
              "      <th>Аргиллит</th>\n",
              "      <th>Алевролит глинистый</th>\n",
              "      <th>Песчаник</th>\n",
              "      <th>Песчаник глинистый</th>\n",
              "      <th>Проба</th>\n",
              "      <th>Уголь</th>\n",
              "      <th>Аргиллит углистый</th>\n",
              "      <th>Алевролит</th>\n",
              "      <th>Карбонатная порода</th>\n",
              "    </tr>\n",
              "  </thead>\n",
              "  <tbody>\n",
              "    <tr>\n",
              "      <th>96</th>\n",
              "      <td>1007132</td>\n",
              "      <td>8fc0d692_0a14_49a8_a9d6_ba39fc17d6e1</td>\n",
              "      <td>NaN</td>\n",
              "      <td>[0, 2, 3, 4, 5, 6, 7, 8, 9, 10, 11, 12, 13, 14...</td>\n",
              "      <td>NaN</td>\n",
              "      <td>[1]</td>\n",
              "      <td>NaN</td>\n",
              "      <td>NaN</td>\n",
              "      <td>NaN</td>\n",
              "      <td>NaN</td>\n",
              "      <td>NaN</td>\n",
              "      <td>NaN</td>\n",
              "      <td>NaN</td>\n",
              "    </tr>\n",
              "    <tr>\n",
              "      <th>464</th>\n",
              "      <td>1008266</td>\n",
              "      <td>07780af2_d4fb_4ba8_844a_15131c2b364b</td>\n",
              "      <td>NaN</td>\n",
              "      <td>[0, 1, 2, 3, 5, 6, 7, 9, 11]</td>\n",
              "      <td>NaN</td>\n",
              "      <td>NaN</td>\n",
              "      <td>[4, 8, 10]</td>\n",
              "      <td>NaN</td>\n",
              "      <td>NaN</td>\n",
              "      <td>NaN</td>\n",
              "      <td>NaN</td>\n",
              "      <td>NaN</td>\n",
              "      <td>NaN</td>\n",
              "    </tr>\n",
              "    <tr>\n",
              "      <th>45</th>\n",
              "      <td>1004292</td>\n",
              "      <td>1494195d_184c_4de0_9b9c_f3ffe353ef6f</td>\n",
              "      <td>NaN</td>\n",
              "      <td>[0, 1, 2, 4, 5, 6]</td>\n",
              "      <td>[3]</td>\n",
              "      <td>NaN</td>\n",
              "      <td>NaN</td>\n",
              "      <td>NaN</td>\n",
              "      <td>NaN</td>\n",
              "      <td>NaN</td>\n",
              "      <td>NaN</td>\n",
              "      <td>NaN</td>\n",
              "      <td>NaN</td>\n",
              "    </tr>\n",
              "  </tbody>\n",
              "</table>\n",
              "</div>"
            ],
            "text/plain": [
              "    photo_id                               task_id  ... Алевролит Карбонатная порода\n",
              "96   1007132  8fc0d692_0a14_49a8_a9d6_ba39fc17d6e1  ...       NaN                NaN\n",
              "464  1008266  07780af2_d4fb_4ba8_844a_15131c2b364b  ...       NaN                NaN\n",
              "45   1004292  1494195d_184c_4de0_9b9c_f3ffe353ef6f  ...       NaN                NaN\n",
              "\n",
              "[3 rows x 13 columns]"
            ]
          },
          "metadata": {
            "tags": []
          },
          "execution_count": 16
        }
      ]
    },
    {
      "cell_type": "code",
      "metadata": {
        "id": "QQaf06vvXpdP",
        "colab": {
          "base_uri": "https://localhost:8080/",
          "height": 155
        },
        "outputId": "66fd9968-991a-4137-efb0-2e6372ea5140"
      },
      "source": [
        "print(df_val.shape)\n",
        "df_val.sample(3)"
      ],
      "execution_count": null,
      "outputs": [
        {
          "output_type": "stream",
          "text": [
            "(135, 13)\n"
          ],
          "name": "stdout"
        },
        {
          "output_type": "execute_result",
          "data": {
            "text/html": [
              "<div>\n",
              "<style scoped>\n",
              "    .dataframe tbody tr th:only-of-type {\n",
              "        vertical-align: middle;\n",
              "    }\n",
              "\n",
              "    .dataframe tbody tr th {\n",
              "        vertical-align: top;\n",
              "    }\n",
              "\n",
              "    .dataframe thead th {\n",
              "        text-align: right;\n",
              "    }\n",
              "</style>\n",
              "<table border=\"1\" class=\"dataframe\">\n",
              "  <thead>\n",
              "    <tr style=\"text-align: right;\">\n",
              "      <th></th>\n",
              "      <th>photo_id</th>\n",
              "      <th>task_id</th>\n",
              "      <th>Глинисто-кремнистая порода</th>\n",
              "      <th>Разлом</th>\n",
              "      <th>Аргиллит</th>\n",
              "      <th>Алевролит глинистый</th>\n",
              "      <th>Песчаник</th>\n",
              "      <th>Песчаник глинистый</th>\n",
              "      <th>Проба</th>\n",
              "      <th>Уголь</th>\n",
              "      <th>Аргиллит углистый</th>\n",
              "      <th>Алевролит</th>\n",
              "      <th>Карбонатная порода</th>\n",
              "    </tr>\n",
              "  </thead>\n",
              "  <tbody>\n",
              "    <tr>\n",
              "      <th>490</th>\n",
              "      <td>1001780</td>\n",
              "      <td>73da0b8f_0bc6_4a20_8561_8c7298e66ef9</td>\n",
              "      <td>NaN</td>\n",
              "      <td>[1, 2, 4]</td>\n",
              "      <td>NaN</td>\n",
              "      <td>[0, 3]</td>\n",
              "      <td>NaN</td>\n",
              "      <td>NaN</td>\n",
              "      <td>NaN</td>\n",
              "      <td>NaN</td>\n",
              "      <td>NaN</td>\n",
              "      <td>NaN</td>\n",
              "      <td>NaN</td>\n",
              "    </tr>\n",
              "    <tr>\n",
              "      <th>14</th>\n",
              "      <td>1016404</td>\n",
              "      <td>7e69513c_c9f0_424b_af1b_d9d5b0618823</td>\n",
              "      <td>NaN</td>\n",
              "      <td>[1, 2, 3, 5, 6, 8]</td>\n",
              "      <td>[0, 4, 7]</td>\n",
              "      <td>NaN</td>\n",
              "      <td>NaN</td>\n",
              "      <td>NaN</td>\n",
              "      <td>NaN</td>\n",
              "      <td>NaN</td>\n",
              "      <td>NaN</td>\n",
              "      <td>NaN</td>\n",
              "      <td>NaN</td>\n",
              "    </tr>\n",
              "    <tr>\n",
              "      <th>512</th>\n",
              "      <td>1002162</td>\n",
              "      <td>91b84a0d_8a20_48fd_8af8_f9bc12f195c1</td>\n",
              "      <td>NaN</td>\n",
              "      <td>[0, 1, 3, 4, 6, 8]</td>\n",
              "      <td>NaN</td>\n",
              "      <td>[2, 5, 7, 9]</td>\n",
              "      <td>NaN</td>\n",
              "      <td>NaN</td>\n",
              "      <td>NaN</td>\n",
              "      <td>NaN</td>\n",
              "      <td>NaN</td>\n",
              "      <td>NaN</td>\n",
              "      <td>NaN</td>\n",
              "    </tr>\n",
              "  </tbody>\n",
              "</table>\n",
              "</div>"
            ],
            "text/plain": [
              "    photo_id                               task_id  ... Алевролит Карбонатная порода\n",
              "490  1001780  73da0b8f_0bc6_4a20_8561_8c7298e66ef9  ...       NaN                NaN\n",
              "14   1016404  7e69513c_c9f0_424b_af1b_d9d5b0618823  ...       NaN                NaN\n",
              "512  1002162  91b84a0d_8a20_48fd_8af8_f9bc12f195c1  ...       NaN                NaN\n",
              "\n",
              "[3 rows x 13 columns]"
            ]
          },
          "metadata": {
            "tags": []
          },
          "execution_count": 17
        }
      ]
    },
    {
      "cell_type": "markdown",
      "metadata": {
        "id": "L1G4RNBLwfGk"
      },
      "source": [
        "# Создание Pytorch датасета"
      ]
    },
    {
      "cell_type": "markdown",
      "metadata": {
        "id": "Eq0rRe1Z1kZk"
      },
      "source": [
        "## Реализация класса для создания Pytorch датасета"
      ]
    },
    {
      "cell_type": "code",
      "metadata": {
        "id": "AjoFd9p_S22n"
      },
      "source": [
        "class KernDailySegmentaionDataset(Dataset):\n",
        "    \"\"\"Kern Daily Segmentation dataset.\"\"\"\n",
        "\n",
        "    def __init__(self, df, root_dir, transform=None):\n",
        "        \"\"\"\n",
        "        Args:\n",
        "            csv_file (string): Path to the csv file with annotations.\n",
        "            root_dir (string): Directory with all data.\n",
        "            transform (callable, optional): Optional transform to be applied\n",
        "                on a sample.\n",
        "        \"\"\"\n",
        "        self.kern_frame = df\n",
        "        self.root_dir = root_dir\n",
        "        self.transform = transform\n",
        "\n",
        "    def __len__(self):\n",
        "        return len(self.kern_frame)\n",
        "\n",
        "    def __getitem__(self, idx):\n",
        "        if torch.is_tensor(idx):\n",
        "            idx = idx.tolist()\n",
        "\n",
        "        img_name = os.path.join(self.root_dir, 'photos',\n",
        "                                '{}.jpeg'.format(self.kern_frame['photo_id'].iloc[idx]))\n",
        "        image = io.imread(img_name)\n",
        "        \n",
        "        mask_name = 'matrix_{}__{}.npz'.format(self.kern_frame['photo_id'].iloc[idx],\n",
        "                                               self.kern_frame['task_id'].iloc[idx])\n",
        "        mask_full_name = os.path.join(self.root_dir, 'matrixes', mask_name)\n",
        "        mask_many = np.load(mask_full_name)['data']\n",
        "\n",
        "        sample = {'image': img_as_float32(image)}\n",
        "        sample['mask_{}'.format(Segments.Другое.value)] = np.ones(mask_many.shape)\n",
        "        for segment in Segments:\n",
        "            name = segment.name.replace('_', ' ').replace('t', '-')\n",
        "            if name == 'Другое':\n",
        "                continue\n",
        "            if np.isnan(np.sum(self.kern_frame[name].iloc[idx])):\n",
        "                sample['mask_{}'.format(segment.value)] = np.nan\n",
        "            else:\n",
        "                mask_seg = np.zeros(mask_many.shape)\n",
        "                for i in self.kern_frame[name].iloc[idx]:\n",
        "                    mask_seg += (mask_many == i)\n",
        "                mask_seg = mask_seg.astype(bool)\n",
        "                sample['mask_{}'.format(segment.value)] = mask_seg\n",
        "                sample['mask_{}'.format(Segments.Другое.value)] -= mask_seg\n",
        "        \n",
        "        sample['mask_{}'.format(Segments.Другое.value)] = sample['mask_{}'.format(Segments.Другое.value)].astype(bool)\n",
        "        if self.transform:\n",
        "            sample = self.transform(sample)\n",
        "\n",
        "        return sample\n"
      ],
      "execution_count": null,
      "outputs": []
    },
    {
      "cell_type": "markdown",
      "metadata": {
        "id": "QsZD1AOE1ZFb"
      },
      "source": [
        "## Реализация аугментаций"
      ]
    },
    {
      "cell_type": "code",
      "metadata": {
        "id": "-q_QwvpFcMCB"
      },
      "source": [
        "class Resize(object):\n",
        "    \"\"\"Rescale the image in a sample to a given size.\n",
        "\n",
        "    Args:\n",
        "        output_size (tuple or int): Desired output size. If tuple, output is\n",
        "            matched to output_size. If int output matched to int.\n",
        "    \"\"\"\n",
        "\n",
        "    def __init__(self, output_size):\n",
        "        assert isinstance(output_size, (int, tuple))\n",
        "        self.output_size = output_size\n",
        "\n",
        "    def __call__(self, sample):\n",
        "        image = sample['image']\n",
        "\n",
        "        h, w = image.shape[:2]\n",
        "        if isinstance(self.output_size, int):\n",
        "            if h > w:\n",
        "                new_h, new_w = self.output_size * h / w, self.output_size\n",
        "            else:\n",
        "                new_h, new_w = self.output_size, self.output_size * w / h\n",
        "        else:\n",
        "            new_h, new_w = self.output_size\n",
        "\n",
        "        new_h, new_w = int(new_h), int(new_w)\n",
        "\n",
        "        check_array = np.zeros((new_h, new_w))\n",
        "        res = {}\n",
        "        res['image'] = transform.resize(image, (new_h, new_w), order=1)\n",
        "\n",
        "        for segment in Segments:\n",
        "            mask = sample['mask_{}'.format(segment.value)]\n",
        "            if not np.isnan(np.sum(mask)):\n",
        "                res['mask_{}'.format(segment.value)] = transform.resize(mask, \n",
        "                                (new_h, new_w), order=0, preserve_range=True)\n",
        "                check_array += res['mask_{}'.format(segment.value)]\n",
        "\n",
        "            else:\n",
        "                res['mask_{}'.format(segment.value)] = np.nan\n",
        "\n",
        "        # if np.sum(check_array) != new_h*new_w:\n",
        "        #     raise ValueError('Uncorrect photo size {}'.format(image.shape))\n",
        "        return res\n",
        "\n",
        "class ResizeTest(object):\n",
        "    def __init__(self, output_size):\n",
        "        assert isinstance(output_size, (int, tuple))\n",
        "        self.output_size = output_size\n",
        "    \n",
        "    def __call__(self, sample):\n",
        "        t = iaa.Resize({\"height\": self.output_size[0], \n",
        "                        \"width\": self.output_size[1]}, interpolation='linear')\n",
        "        image = np.expand_dims(img_as_ubyte(sample['image']), axis=0)\n",
        "        sample['image'] = img_as_float32(t(images=image)[0])\n",
        "\n",
        "        t = iaa.Resize({\"height\": self.output_size[0],\n",
        "                        \"width\": self.output_size[1]}, interpolation='nearest')\n",
        "        for segment in Segments:\n",
        "            mask = sample['mask_{}'.format(segment.value)]\n",
        "            if not np.isnan(np.sum(mask)):\n",
        "                mask = np.expand_dims(mask, axis=0)\n",
        "                sample['mask_{}'.format(segment.value)] = t(images=mask)[0].astype(bool)\n",
        "            else:\n",
        "                sample['mask_{}'.format(segment.value)] = np.nan\n",
        "\n",
        "\n",
        "        return sample\n",
        "\n",
        "\n",
        "class RandomCrop(object):\n",
        "    \"\"\"Crop randomly the image in a sample.\n",
        "\n",
        "    Args:\n",
        "        output_size (tuple or int): Desired output size. If int, square crop\n",
        "            is made.\n",
        "    \"\"\"\n",
        "\n",
        "    def __init__(self, output_size):\n",
        "        assert isinstance(output_size, (int, tuple))\n",
        "        if isinstance(output_size, int):\n",
        "            self.output_size = (output_size, output_size)\n",
        "        else:\n",
        "            assert len(output_size) == 2\n",
        "            self.output_size = output_size\n",
        "\n",
        "    def __call__(self, sample):\n",
        "        image = sample['image']\n",
        "\n",
        "        h, w = image.shape[:2]\n",
        "        new_h, new_w = self.output_size\n",
        "\n",
        "        top = np.random.randint(0, h - new_h)\n",
        "        left = np.random.randint(0, w - new_w)\n",
        "\n",
        "        res = {}\n",
        "        res['image'] = image[top: top + new_h,\n",
        "                       left: left + new_w]\n",
        "        \n",
        "        for segment in Segments:\n",
        "            mask = sample['mask_{}'.format(segment.value)]\n",
        "            if not np.isnan(np.sum(mask)):\n",
        "                res['mask_{}'.format(segment.value)] = mask[top: top + new_h,\n",
        "                                                            left: left + new_w]\n",
        "            else:\n",
        "                res['mask_{}'.format(segment.value)] = np.nan\n",
        "\n",
        "        return res\n",
        "\n",
        "\n",
        "class RandomHorizontalFlip(object):\n",
        "    \"\"\"Apply horizontal flip to sample\"\"\"\n",
        "    def __init__(self, p=0.5):\n",
        "        self.p = p\n",
        "\n",
        "    def __call__(self, sample):\n",
        "        image = sample['image']\n",
        "\n",
        "        res = {}\n",
        "\n",
        "        p = np.random.rand()\n",
        "        if p < self.p:\n",
        "            res['image'] = np.flip(image, axis=1)\n",
        "            for segment in Segments:\n",
        "                mask = sample['mask_{}'.format(segment.value)]\n",
        "                if not np.isnan(np.sum(mask)):\n",
        "                    res['mask_{}'.format(segment.value)] = np.flip(mask, axis=1)\n",
        "                else:\n",
        "                    res['mask_{}'.format(segment.value)] = np.nan\n",
        "        else:\n",
        "            res = sample\n",
        "\n",
        "        return res\n",
        "\n",
        "class RandomTempeture(object):\n",
        "    def __init__(self, low, high):\n",
        "        self.low = low\n",
        "        self.high = high\n",
        "    \n",
        "    def __call__(self, sample):\n",
        "        t = iaa.ChangeColorTemperature((self.low, self.high))\n",
        "        image = np.expand_dims(img_as_ubyte(sample['image']), axis=0)\n",
        "        sample['image'] = img_as_float32(t(images=image)[0])\n",
        "        return sample\n",
        "\n",
        "class RandomMultiplyAndAddToBrightness(object):\n",
        "    def __init__(self, mul, add):\n",
        "        self.mul = mul\n",
        "        self.add = add\n",
        "    \n",
        "    def __call__(self, sample):\n",
        "        t = iaa.MultiplyAndAddToBrightness(mul=self.mul, add=self.add)\n",
        "        image = np.expand_dims(img_as_ubyte(sample['image']), axis=0)\n",
        "        sample['image'] = img_as_float32(t(images=image)[0])\n",
        "        return sample\n",
        "\n",
        "class RotateRandomAngle(object):\n",
        "    def __init__(self, angle):\n",
        "        self.angle = angle\n",
        "    \n",
        "    def __call__(self, sample):\n",
        "        a = np.random.uniform(self.angle[0], self.angle[1])\n",
        "        t = iaa.Affine(rotate=(a, a), mode='wrap')\n",
        "        image = np.expand_dims(img_as_ubyte(sample['image']), axis=0)\n",
        "        sample['image'] = img_as_float32(t(images=image)[0])\n",
        "\n",
        "        for segment in Segments:\n",
        "            mask = sample['mask_{}'.format(segment.value)]\n",
        "            if not np.isnan(np.sum(mask)):\n",
        "                mask = np.expand_dims(mask, axis=0)\n",
        "                sample['mask_{}'.format(segment.value)] = t(images=mask)[0]\n",
        "            else:\n",
        "                sample['mask_{}'.format(segment.value)] = np.nan\n",
        "\n",
        "\n",
        "        return sample\n",
        "\n",
        "class ToTensor(object):\n",
        "    \"\"\"Convert ndarrays in sample to Tensors.\"\"\"\n",
        "\n",
        "    def __call__(self, sample):\n",
        "        image = sample['image']\n",
        "\n",
        "        # swap color axis because\n",
        "        # numpy image: H x W x C\n",
        "        # torch image: C X H X W\n",
        "        res = {}\n",
        "\n",
        "        image = image.transpose((2, 0, 1))\n",
        "        res['image'] = torch.from_numpy(image.copy())\n",
        "\n",
        "        mask = sample['mask_0']\n",
        "\n",
        "        if not np.isnan(np.sum(mask)):\n",
        "            res['mask'] = torch.from_numpy(mask.copy()).unsqueeze(0)\n",
        "        else:\n",
        "            res['mask'] = torch.from_numpy(np.zeros(image.shape[1:3])).unsqueeze(0)\n",
        "\n",
        "        for segment in Segments:\n",
        "            if segment.value == 0:\n",
        "                continue\n",
        "            mask = sample['mask_{}'.format(segment.value)]\n",
        "            if not np.isnan(np.sum(mask)):\n",
        "                res['mask'] = torch.cat((res['mask'], torch.from_numpy(mask.copy()).unsqueeze(0)), 0)\n",
        "            else:\n",
        "                res['mask'] = torch.cat((res['mask'], torch.from_numpy(np.zeros(image.shape[1:3])).unsqueeze(0)), 0)\n",
        "        \n",
        "        res['mask'] = res['mask'].float()\n",
        "        return res"
      ],
      "execution_count": null,
      "outputs": []
    },
    {
      "cell_type": "markdown",
      "metadata": {
        "id": "OJaj_dni1H2a"
      },
      "source": [
        "## Инициализация Pytorch датасетов kf_train и kf_val для тренировки и валидации модели соответственно"
      ]
    },
    {
      "cell_type": "code",
      "metadata": {
        "id": "c0frf4wkAxdC"
      },
      "source": [
        "def initialize_data():\n",
        "    data_transforms = {\n",
        "        'train': transforms.Compose([\n",
        "            ResizeTest((3000, 300)),\n",
        "#            RandomCrop((np.random.randint(2900, 3000), 298)),\n",
        "#            ResizeTest((3000, 300)),\n",
        "            RotateRandomAngle((-45, 45)),\n",
        "            RandomHorizontalFlip(),\n",
        "            RandomTempeture(4200, 4200),\n",
        "#            RandomMultiplyAndAddToBrightness(mul=(0.85, 1.55), add=(-10, 10)),\n",
        "            ToTensor(),\n",
        "        ]),\n",
        "        'val': transforms.Compose([\n",
        "            ResizeTest((3000, 300)),\n",
        "#            RandomCrop((5000, 500)),\n",
        "            RandomTempeture(4200, 4200),\n",
        "#            RandomMultiplyAndAddToBrightness(mul=(0.85, 1.15), add=(-10, 10)),\n",
        "            ToTensor(),\n",
        "        ]),\n",
        "    }\n",
        "    kf_train = KernDailySegmentaionDataset(df=df_train, root_dir=SAMPLE_CORE_PATH, transform=data_transforms['train'])\n",
        "    kf_val = KernDailySegmentaionDataset(df=df_val, root_dir=SAMPLE_CORE_PATH, transform=data_transforms['val'])\n",
        "\n",
        "    image_datasets = {'train': kf_train,\n",
        "                    'val': kf_val}\n",
        "    \n",
        "    dataloaders = {}\n",
        "    dataloaders['train'] = torch.utils.data.DataLoader(image_datasets['train'], batch_size=2,\n",
        "                                                shuffle=False, num_workers=1, drop_last=False)\n",
        "    \n",
        "    dataloaders['val'] = torch.utils.data.DataLoader(image_datasets['val'], batch_size=1,\n",
        "                                                shuffle=False, num_workers=1, drop_last=False)\n",
        "\n",
        "    dataset_sizes = {x: len(image_datasets[x]) for x in ['train', 'val']}\n",
        "\n",
        "    return dataloaders, dataset_sizes, kf_train, kf_val\n",
        "\n",
        "dataloaders, dataset_sizes, kf_train, kf_val = initialize_data()\n",
        "use_gpu = torch.cuda.is_available()"
      ],
      "execution_count": null,
      "outputs": []
    },
    {
      "cell_type": "code",
      "metadata": {
        "id": "mqPtjFzl5Lh9"
      },
      "source": [
        "# show_image(kf_train[14]['image'].cpu().numpy().transpose(1, 2, 0))"
      ],
      "execution_count": null,
      "outputs": []
    },
    {
      "cell_type": "markdown",
      "metadata": {
        "id": "GFu7pengQi1l"
      },
      "source": [
        "# Функция обучения"
      ]
    },
    {
      "cell_type": "code",
      "metadata": {
        "id": "dDF_mRFIGuWH"
      },
      "source": [
        "def train_model(model, criterion, optimizer, scheduler, dataloaders, dataset_sizes, num_epochs=25):\n",
        "    since = time.time()\n",
        "\n",
        "    best_model_wts = model.state_dict()\n",
        "    best_f1 = 0.0\n",
        "    accuracy = 0.0\n",
        "    \n",
        "    #Ваш код здесь\n",
        "    losses = {'train': [], 'val': []}\n",
        "\n",
        "    for epoch in range(num_epochs):\n",
        "        print('Epoch {}/{}'.format(epoch, num_epochs - 1))\n",
        "        print('-' * 10)\n",
        "\n",
        "        # каждя эпоха имеет обучающую и тестовую стадии\n",
        "        for phase in ['train', 'val']:\n",
        "            if phase == 'train':\n",
        "                scheduler.step()\n",
        "                model.train(True)  # установаить модель в режим обучения\n",
        "            else:\n",
        "                model.train(False)  # установить модель в режим предсказания\n",
        "\n",
        "            running_loss = 0.0\n",
        "            running_f1_score = 0.0\n",
        "\n",
        "            total_train = 0.0\n",
        "            correct_train = 0.0\n",
        "\n",
        "            # итерируемся по батчам\n",
        "            for data in dataloaders[phase]:\n",
        "                # получаем картинки и метки\n",
        "                inputs = data['image']\n",
        "                mask = data['mask']\n",
        "                # оборачиваем в переменные\n",
        "                if use_gpu:\n",
        "                    inputs = inputs.cuda()\n",
        "                    mask = mask.cuda()\n",
        "                else:\n",
        "                    inputs, mask = inputs, mask\n",
        "\n",
        "                # инициализируем градиенты параметров\n",
        "                optimizer.zero_grad()\n",
        "\n",
        "                # forward pass\n",
        "                outputs = model(inputs)['out']\n",
        "                # _, preds = torch.max(outputs.data, 1)\n",
        "                loss = criterion(outputs, mask)\n",
        "                # backward pass + оптимизируем только если это стадия обучения\n",
        "                if phase == 'train':\n",
        "                    loss.backward()\n",
        "                    optimizer.step()\n",
        "\n",
        "                # статистика\n",
        "                outputs = outputs.detach()\n",
        "\n",
        "                running_loss += loss.item()\n",
        "                _, predicted = torch.max(outputs.data, 1)\n",
        "                _, ground_truth = torch.max(mask.data, 1)\n",
        "                total_train += ground_truth.nelement()\n",
        "                correct_train += predicted.eq(ground_truth).sum().item()\n",
        "\n",
        "                if phase == 'val':\n",
        "                    running_f1_score += metrics.f1_score(ground_truth.cpu().view(-1), predicted.cpu().view(-1), average='weighted')\n",
        "\n",
        "            epoch_loss = running_loss / dataset_sizes[phase]\n",
        "            epoch_acc = correct_train / total_train\n",
        "            \n",
        "            # Ваш код здесь\n",
        "            losses[phase].append(epoch_loss)\n",
        "            \n",
        "            print('{} Loss: {:.4f} Acc: {:.4f}'.format(\n",
        "                phase, epoch_loss, epoch_acc))\n",
        "            \n",
        "            epoch_f1 = 0.0\n",
        "            if phase == 'val':\n",
        "                epoch_f1 = running_f1_score / dataset_sizes[phase]\n",
        "                print('F1: {:.4f}'.format(epoch_f1))\n",
        "\n",
        "            # если достиглось лучшее качество, то запомним веса модели\n",
        "            if phase == 'val' and epoch_f1 > best_f1:\n",
        "                best_f1 = epoch_f1\n",
        "                accuracy = epoch_acc\n",
        "                best_model_wts = model.state_dict()\n",
        "\n",
        "                model_save_name = 'test.pt'\n",
        "                path = F\"/content/drive/My Drive/kern_models/{model_save_name}\" \n",
        "                torch.save(model.state_dict(), path)\n",
        "            \n",
        "            dataloaders, dataset_sizes, kf_train, kf_val = initialize_data()\n",
        "\n",
        "        print()\n",
        "\n",
        "    time_elapsed = time.time() - since\n",
        "    print('Training complete in {:.0f}m {:.0f}s'.format(\n",
        "        time_elapsed // 60, time_elapsed % 60))\n",
        "    print('Best val F1: {:4f}'.format(best_f1))\n",
        "    print('Best val Acc: {:4f}'.format(accuracy))\n",
        "\n",
        "    # загрузим лучшие веса модели\n",
        "    model.load_state_dict(best_model_wts)\n",
        "    return model, losses"
      ],
      "execution_count": null,
      "outputs": []
    },
    {
      "cell_type": "code",
      "metadata": {
        "id": "rr8gTwOgJz-9"
      },
      "source": [
        "# def calculate_weights():\n",
        "#     sum = 0.0\n",
        "#     dic = {}\n",
        "#     for segment in Segments:\n",
        "#         name = segment.name.replace('_', ' ').replace('t','-')\n",
        "#         dic[name] = 0.0\n",
        "\n",
        "#     for segment in Segments:\n",
        "#         name = segment.name.replace('_', ' ').replace('t','-')\n",
        "#         for i in range(len(df_train)):\n",
        "#             if not np.isnan(np.sum(df_train[name].iloc[i])):\n",
        "#                 mask = get_mask(df_train, i)\n",
        "#                 for e in df_train[name].iloc[i]:\n",
        "#                     temp = np.sum(mask == e)\n",
        "#                     sum += temp\n",
        "#                     dic[name] += temp\n",
        "    \n",
        "#     for segment in Segments:\n",
        "#         name = segment.name.replace('_', ' ').replace('t','-')\n",
        "#         dic[name] = sum/dic[name]\n",
        "    \n",
        "#     return dic\n",
        "\n",
        "# calculate_weights()"
      ],
      "execution_count": null,
      "outputs": []
    },
    {
      "cell_type": "markdown",
      "metadata": {
        "id": "Rea7NBpY61Kz"
      },
      "source": [
        "# Обучение модели"
      ]
    },
    {
      "cell_type": "code",
      "metadata": {
        "id": "CBL1fVU4HXWI",
        "colab": {
          "base_uri": "https://localhost:8080/",
          "height": 152,
          "referenced_widgets": [
            "b105fbe150f3418fa1c8cc4b5d56c851",
            "932a78798d3845ff80637d12856cba25",
            "d041ca768fd441a2b13ed2ce872deabd",
            "ab533642fb6b42418adad606ce04d36a",
            "0eed514b470d4fa0a95318b1df7e55ad",
            "316f18d00e0e4a2caf16c8febb9a16a6",
            "01fa57c7c67e467d96e70e19d7f0e915",
            "6a0589ff09bb400bb69b5b5e9dca3f49",
            "9728afa4d0eb4d53982e55ba26fb6600",
            "b8177e8e6bb646c9830b58a512788b39",
            "0c04eb5b6bb14398a7e580b2770a7e60",
            "a725f733c230498e9e7a0a00b5176a9d",
            "557ad7c77253470c997f25476bfd735a",
            "20af736bae0e4e6483ad5897af6b69e4",
            "6582cac31f244e2a8e7c940f79109b81",
            "b5c54bd151d84a81a0fb50d8d227ac5f"
          ]
        },
        "outputId": "b98133dc-4c57-469a-941d-f7f8103237be"
      },
      "source": [
        "pretrained_model = models.segmentation.deeplabv3_resnet50(pretrained=True, progress=True, num_classes=21)\n",
        "model = models.segmentation.deeplabv3_resnet50(pretrained=False, progress=True, num_classes=len(Segments))"
      ],
      "execution_count": null,
      "outputs": [
        {
          "output_type": "stream",
          "text": [
            "Downloading: \"https://download.pytorch.org/models/resnet50-19c8e357.pth\" to /root/.cache/torch/hub/checkpoints/resnet50-19c8e357.pth\n"
          ],
          "name": "stderr"
        },
        {
          "output_type": "display_data",
          "data": {
            "application/vnd.jupyter.widget-view+json": {
              "model_id": "b105fbe150f3418fa1c8cc4b5d56c851",
              "version_minor": 0,
              "version_major": 2
            },
            "text/plain": [
              "HBox(children=(FloatProgress(value=0.0, max=102502400.0), HTML(value='')))"
            ]
          },
          "metadata": {
            "tags": []
          }
        },
        {
          "output_type": "stream",
          "text": [
            "\n"
          ],
          "name": "stdout"
        },
        {
          "output_type": "stream",
          "text": [
            "Downloading: \"https://download.pytorch.org/models/deeplabv3_resnet50_coco-cd0a2569.pth\" to /root/.cache/torch/hub/checkpoints/deeplabv3_resnet50_coco-cd0a2569.pth\n"
          ],
          "name": "stderr"
        },
        {
          "output_type": "display_data",
          "data": {
            "application/vnd.jupyter.widget-view+json": {
              "model_id": "9728afa4d0eb4d53982e55ba26fb6600",
              "version_minor": 0,
              "version_major": 2
            },
            "text/plain": [
              "HBox(children=(FloatProgress(value=0.0, max=168312152.0), HTML(value='')))"
            ]
          },
          "metadata": {
            "tags": []
          }
        },
        {
          "output_type": "stream",
          "text": [
            "\n"
          ],
          "name": "stdout"
        }
      ]
    },
    {
      "cell_type": "code",
      "metadata": {
        "id": "A3mOqHV5H4Wz",
        "colab": {
          "base_uri": "https://localhost:8080/"
        },
        "outputId": "88b8aac7-6f97-4804-bdaa-f7c57325b65d"
      },
      "source": [
        "# model_save_name = 'segmentator_sab9'\n",
        "# path = F\"/content/drive/My Drive/kern_models/{model_save_name}.pt\"\n",
        "# pretrained_dict = torch.load(path)\n",
        "# model_dict = model.state_dict()\n",
        "\n",
        "pretrained_dict = pretrained_model.state_dict()\n",
        "model_dict = model.state_dict()\n",
        "\n",
        "# 1. filter out unnecessary keys\n",
        "pretrained_dict = {k: v for k, v in pretrained_dict.items() if\n",
        "                       (k in model_dict) and (model_dict[k].shape == pretrained_dict[k].shape)}\n",
        "# 2. overwrite entries in the existing state dict\n",
        "model_dict.update(pretrained_dict) \n",
        "# 3. load the new state dict\n",
        "model.load_state_dict(model_dict)"
      ],
      "execution_count": null,
      "outputs": [
        {
          "output_type": "execute_result",
          "data": {
            "text/plain": [
              "<All keys matched successfully>"
            ]
          },
          "metadata": {
            "tags": []
          },
          "execution_count": 62
        }
      ]
    },
    {
      "cell_type": "code",
      "metadata": {
        "id": "zHIvdqiqg7H-"
      },
      "source": [
        "layers_to_unfreeze = 1\n",
        "bottleneck_to_unfreeze = 0\n",
        "\n",
        "idx = 0\n",
        "for child in model.backbone.children():\n",
        "    if (idx < 8 - layers_to_unfreeze):\n",
        "        for param in child.parameters():\n",
        "            param.requires_grad = False\n",
        "    else:\n",
        "        idy = 0\n",
        "        for grandchild in child.children():\n",
        "            if idy < 3 - bottleneck_to_unfreeze:\n",
        "                for param in grandchild.parameters():\n",
        "                    param.requires_grad = False\n",
        "            idy += 1\n",
        "    idx += 1\n",
        "\n",
        "if use_gpu:\n",
        "    model = model.cuda()\n",
        "\n",
        "# weights = np.array([33.87, 362.9, 10.587, 2.821, 5.97, 4.288, 15.317, 336.5, 38.7, 45.53, 464.22])\n",
        "# weights = torch.from_numpy(weights).unsqueeze(0).unsqueeze(2).unsqueeze(3).cuda()\n",
        "# loss_fn = torch.nn.BCEWithLogitsLoss(weight=weights)\n",
        "loss_fn = torch.nn.BCEWithLogitsLoss()\n",
        "\n",
        "optimizer = torch.optim.Adam(model.classifier.parameters(), lr=0.001)\n",
        "\n",
        "# Умножает learning_rate на 0.1 каждые 7 эпох (это одна из эвристик, не было на лекциях)\n",
        "exp_lr_scheduler = torch.optim.lr_scheduler.StepLR(optimizer, step_size=10, gamma=0.1)"
      ],
      "execution_count": null,
      "outputs": []
    },
    {
      "cell_type": "code",
      "metadata": {
        "id": "wPucLdsSjWsB",
        "colab": {
          "base_uri": "https://localhost:8080/",
          "height": 387
        },
        "outputId": "44a73332-8045-4b5b-8120-34913c91dbc8"
      },
      "source": [
        "import time\n",
        "from sklearn import  metrics\n",
        " \n",
        "model, losses = train_model(model, loss_fn, optimizer, exp_lr_scheduler, dataloaders, dataset_sizes, num_epochs=30)"
      ],
      "execution_count": null,
      "outputs": [
        {
          "output_type": "stream",
          "text": [
            "Epoch 0/29\n",
            "----------\n"
          ],
          "name": "stdout"
        },
        {
          "output_type": "error",
          "ename": "KeyboardInterrupt",
          "evalue": "ignored",
          "traceback": [
            "\u001b[0;31m---------------------------------------------------------------------------\u001b[0m",
            "\u001b[0;31mKeyboardInterrupt\u001b[0m                         Traceback (most recent call last)",
            "\u001b[0;32m<ipython-input-27-ee0cfdaeb013>\u001b[0m in \u001b[0;36m<module>\u001b[0;34m()\u001b[0m\n\u001b[1;32m      2\u001b[0m \u001b[0;32mfrom\u001b[0m \u001b[0msklearn\u001b[0m \u001b[0;32mimport\u001b[0m  \u001b[0mmetrics\u001b[0m\u001b[0;34m\u001b[0m\u001b[0;34m\u001b[0m\u001b[0m\n\u001b[1;32m      3\u001b[0m \u001b[0;34m\u001b[0m\u001b[0m\n\u001b[0;32m----> 4\u001b[0;31m \u001b[0mmodel\u001b[0m\u001b[0;34m,\u001b[0m \u001b[0mlosses\u001b[0m \u001b[0;34m=\u001b[0m \u001b[0mtrain_model\u001b[0m\u001b[0;34m(\u001b[0m\u001b[0mmodel\u001b[0m\u001b[0;34m,\u001b[0m \u001b[0mloss_fn\u001b[0m\u001b[0;34m,\u001b[0m \u001b[0moptimizer\u001b[0m\u001b[0;34m,\u001b[0m \u001b[0mexp_lr_scheduler\u001b[0m\u001b[0;34m,\u001b[0m \u001b[0mdataloaders\u001b[0m\u001b[0;34m,\u001b[0m \u001b[0mdataset_sizes\u001b[0m\u001b[0;34m,\u001b[0m \u001b[0mnum_epochs\u001b[0m\u001b[0;34m=\u001b[0m\u001b[0;36m30\u001b[0m\u001b[0;34m)\u001b[0m\u001b[0;34m\u001b[0m\u001b[0;34m\u001b[0m\u001b[0m\n\u001b[0m",
            "\u001b[0;32m<ipython-input-22-dd96efa7b799>\u001b[0m in \u001b[0;36mtrain_model\u001b[0;34m(model, criterion, optimizer, scheduler, dataloaders, dataset_sizes, num_epochs)\u001b[0m\n\u001b[1;32m     28\u001b[0m \u001b[0;34m\u001b[0m\u001b[0m\n\u001b[1;32m     29\u001b[0m             \u001b[0;31m# итерируемся по батчам\u001b[0m\u001b[0;34m\u001b[0m\u001b[0;34m\u001b[0m\u001b[0;34m\u001b[0m\u001b[0m\n\u001b[0;32m---> 30\u001b[0;31m             \u001b[0;32mfor\u001b[0m \u001b[0mdata\u001b[0m \u001b[0;32min\u001b[0m \u001b[0mdataloaders\u001b[0m\u001b[0;34m[\u001b[0m\u001b[0mphase\u001b[0m\u001b[0;34m]\u001b[0m\u001b[0;34m:\u001b[0m\u001b[0;34m\u001b[0m\u001b[0;34m\u001b[0m\u001b[0m\n\u001b[0m\u001b[1;32m     31\u001b[0m                 \u001b[0;31m# получаем картинки и метки\u001b[0m\u001b[0;34m\u001b[0m\u001b[0;34m\u001b[0m\u001b[0;34m\u001b[0m\u001b[0m\n\u001b[1;32m     32\u001b[0m                 \u001b[0minputs\u001b[0m \u001b[0;34m=\u001b[0m \u001b[0mdata\u001b[0m\u001b[0;34m[\u001b[0m\u001b[0;34m'image'\u001b[0m\u001b[0;34m]\u001b[0m\u001b[0;34m\u001b[0m\u001b[0;34m\u001b[0m\u001b[0m\n",
            "\u001b[0;32m/usr/local/lib/python3.6/dist-packages/torch/utils/data/dataloader.py\u001b[0m in \u001b[0;36m__next__\u001b[0;34m(self)\u001b[0m\n\u001b[1;32m    433\u001b[0m         \u001b[0;32mif\u001b[0m \u001b[0mself\u001b[0m\u001b[0;34m.\u001b[0m\u001b[0m_sampler_iter\u001b[0m \u001b[0;32mis\u001b[0m \u001b[0;32mNone\u001b[0m\u001b[0;34m:\u001b[0m\u001b[0;34m\u001b[0m\u001b[0;34m\u001b[0m\u001b[0m\n\u001b[1;32m    434\u001b[0m             \u001b[0mself\u001b[0m\u001b[0;34m.\u001b[0m\u001b[0m_reset\u001b[0m\u001b[0;34m(\u001b[0m\u001b[0;34m)\u001b[0m\u001b[0;34m\u001b[0m\u001b[0;34m\u001b[0m\u001b[0m\n\u001b[0;32m--> 435\u001b[0;31m         \u001b[0mdata\u001b[0m \u001b[0;34m=\u001b[0m \u001b[0mself\u001b[0m\u001b[0;34m.\u001b[0m\u001b[0m_next_data\u001b[0m\u001b[0;34m(\u001b[0m\u001b[0;34m)\u001b[0m\u001b[0;34m\u001b[0m\u001b[0;34m\u001b[0m\u001b[0m\n\u001b[0m\u001b[1;32m    436\u001b[0m         \u001b[0mself\u001b[0m\u001b[0;34m.\u001b[0m\u001b[0m_num_yielded\u001b[0m \u001b[0;34m+=\u001b[0m \u001b[0;36m1\u001b[0m\u001b[0;34m\u001b[0m\u001b[0;34m\u001b[0m\u001b[0m\n\u001b[1;32m    437\u001b[0m         \u001b[0;32mif\u001b[0m \u001b[0mself\u001b[0m\u001b[0;34m.\u001b[0m\u001b[0m_dataset_kind\u001b[0m \u001b[0;34m==\u001b[0m \u001b[0m_DatasetKind\u001b[0m\u001b[0;34m.\u001b[0m\u001b[0mIterable\u001b[0m \u001b[0;32mand\u001b[0m\u001b[0;31m \u001b[0m\u001b[0;31m\\\u001b[0m\u001b[0;34m\u001b[0m\u001b[0;34m\u001b[0m\u001b[0m\n",
            "\u001b[0;32m/usr/local/lib/python3.6/dist-packages/torch/utils/data/dataloader.py\u001b[0m in \u001b[0;36m_next_data\u001b[0;34m(self)\u001b[0m\n\u001b[1;32m   1066\u001b[0m \u001b[0;34m\u001b[0m\u001b[0m\n\u001b[1;32m   1067\u001b[0m             \u001b[0;32massert\u001b[0m \u001b[0;32mnot\u001b[0m \u001b[0mself\u001b[0m\u001b[0;34m.\u001b[0m\u001b[0m_shutdown\u001b[0m \u001b[0;32mand\u001b[0m \u001b[0mself\u001b[0m\u001b[0;34m.\u001b[0m\u001b[0m_tasks_outstanding\u001b[0m \u001b[0;34m>\u001b[0m \u001b[0;36m0\u001b[0m\u001b[0;34m\u001b[0m\u001b[0;34m\u001b[0m\u001b[0m\n\u001b[0;32m-> 1068\u001b[0;31m             \u001b[0midx\u001b[0m\u001b[0;34m,\u001b[0m \u001b[0mdata\u001b[0m \u001b[0;34m=\u001b[0m \u001b[0mself\u001b[0m\u001b[0;34m.\u001b[0m\u001b[0m_get_data\u001b[0m\u001b[0;34m(\u001b[0m\u001b[0;34m)\u001b[0m\u001b[0;34m\u001b[0m\u001b[0;34m\u001b[0m\u001b[0m\n\u001b[0m\u001b[1;32m   1069\u001b[0m             \u001b[0mself\u001b[0m\u001b[0;34m.\u001b[0m\u001b[0m_tasks_outstanding\u001b[0m \u001b[0;34m-=\u001b[0m \u001b[0;36m1\u001b[0m\u001b[0;34m\u001b[0m\u001b[0;34m\u001b[0m\u001b[0m\n\u001b[1;32m   1070\u001b[0m             \u001b[0;32mif\u001b[0m \u001b[0mself\u001b[0m\u001b[0;34m.\u001b[0m\u001b[0m_dataset_kind\u001b[0m \u001b[0;34m==\u001b[0m \u001b[0m_DatasetKind\u001b[0m\u001b[0;34m.\u001b[0m\u001b[0mIterable\u001b[0m\u001b[0;34m:\u001b[0m\u001b[0;34m\u001b[0m\u001b[0;34m\u001b[0m\u001b[0m\n",
            "\u001b[0;32m/usr/local/lib/python3.6/dist-packages/torch/utils/data/dataloader.py\u001b[0m in \u001b[0;36m_get_data\u001b[0;34m(self)\u001b[0m\n\u001b[1;32m   1032\u001b[0m         \u001b[0;32melse\u001b[0m\u001b[0;34m:\u001b[0m\u001b[0;34m\u001b[0m\u001b[0;34m\u001b[0m\u001b[0m\n\u001b[1;32m   1033\u001b[0m             \u001b[0;32mwhile\u001b[0m \u001b[0;32mTrue\u001b[0m\u001b[0;34m:\u001b[0m\u001b[0;34m\u001b[0m\u001b[0;34m\u001b[0m\u001b[0m\n\u001b[0;32m-> 1034\u001b[0;31m                 \u001b[0msuccess\u001b[0m\u001b[0;34m,\u001b[0m \u001b[0mdata\u001b[0m \u001b[0;34m=\u001b[0m \u001b[0mself\u001b[0m\u001b[0;34m.\u001b[0m\u001b[0m_try_get_data\u001b[0m\u001b[0;34m(\u001b[0m\u001b[0;34m)\u001b[0m\u001b[0;34m\u001b[0m\u001b[0;34m\u001b[0m\u001b[0m\n\u001b[0m\u001b[1;32m   1035\u001b[0m                 \u001b[0;32mif\u001b[0m \u001b[0msuccess\u001b[0m\u001b[0;34m:\u001b[0m\u001b[0;34m\u001b[0m\u001b[0;34m\u001b[0m\u001b[0m\n\u001b[1;32m   1036\u001b[0m                     \u001b[0;32mreturn\u001b[0m \u001b[0mdata\u001b[0m\u001b[0;34m\u001b[0m\u001b[0;34m\u001b[0m\u001b[0m\n",
            "\u001b[0;32m/usr/local/lib/python3.6/dist-packages/torch/utils/data/dataloader.py\u001b[0m in \u001b[0;36m_try_get_data\u001b[0;34m(self, timeout)\u001b[0m\n\u001b[1;32m    870\u001b[0m         \u001b[0;31m#   (bool: whether successfully get data, any: data if successful else None)\u001b[0m\u001b[0;34m\u001b[0m\u001b[0;34m\u001b[0m\u001b[0;34m\u001b[0m\u001b[0m\n\u001b[1;32m    871\u001b[0m         \u001b[0;32mtry\u001b[0m\u001b[0;34m:\u001b[0m\u001b[0;34m\u001b[0m\u001b[0;34m\u001b[0m\u001b[0m\n\u001b[0;32m--> 872\u001b[0;31m             \u001b[0mdata\u001b[0m \u001b[0;34m=\u001b[0m \u001b[0mself\u001b[0m\u001b[0;34m.\u001b[0m\u001b[0m_data_queue\u001b[0m\u001b[0;34m.\u001b[0m\u001b[0mget\u001b[0m\u001b[0;34m(\u001b[0m\u001b[0mtimeout\u001b[0m\u001b[0;34m=\u001b[0m\u001b[0mtimeout\u001b[0m\u001b[0;34m)\u001b[0m\u001b[0;34m\u001b[0m\u001b[0;34m\u001b[0m\u001b[0m\n\u001b[0m\u001b[1;32m    873\u001b[0m             \u001b[0;32mreturn\u001b[0m \u001b[0;34m(\u001b[0m\u001b[0;32mTrue\u001b[0m\u001b[0;34m,\u001b[0m \u001b[0mdata\u001b[0m\u001b[0;34m)\u001b[0m\u001b[0;34m\u001b[0m\u001b[0;34m\u001b[0m\u001b[0m\n\u001b[1;32m    874\u001b[0m         \u001b[0;32mexcept\u001b[0m \u001b[0mException\u001b[0m \u001b[0;32mas\u001b[0m \u001b[0me\u001b[0m\u001b[0;34m:\u001b[0m\u001b[0;34m\u001b[0m\u001b[0;34m\u001b[0m\u001b[0m\n",
            "\u001b[0;32m/usr/lib/python3.6/multiprocessing/queues.py\u001b[0m in \u001b[0;36mget\u001b[0;34m(self, block, timeout)\u001b[0m\n\u001b[1;32m    102\u001b[0m                 \u001b[0;32mif\u001b[0m \u001b[0mblock\u001b[0m\u001b[0;34m:\u001b[0m\u001b[0;34m\u001b[0m\u001b[0;34m\u001b[0m\u001b[0m\n\u001b[1;32m    103\u001b[0m                     \u001b[0mtimeout\u001b[0m \u001b[0;34m=\u001b[0m \u001b[0mdeadline\u001b[0m \u001b[0;34m-\u001b[0m \u001b[0mtime\u001b[0m\u001b[0;34m.\u001b[0m\u001b[0mmonotonic\u001b[0m\u001b[0;34m(\u001b[0m\u001b[0;34m)\u001b[0m\u001b[0;34m\u001b[0m\u001b[0;34m\u001b[0m\u001b[0m\n\u001b[0;32m--> 104\u001b[0;31m                     \u001b[0;32mif\u001b[0m \u001b[0;32mnot\u001b[0m \u001b[0mself\u001b[0m\u001b[0;34m.\u001b[0m\u001b[0m_poll\u001b[0m\u001b[0;34m(\u001b[0m\u001b[0mtimeout\u001b[0m\u001b[0;34m)\u001b[0m\u001b[0;34m:\u001b[0m\u001b[0;34m\u001b[0m\u001b[0;34m\u001b[0m\u001b[0m\n\u001b[0m\u001b[1;32m    105\u001b[0m                         \u001b[0;32mraise\u001b[0m \u001b[0mEmpty\u001b[0m\u001b[0;34m\u001b[0m\u001b[0;34m\u001b[0m\u001b[0m\n\u001b[1;32m    106\u001b[0m                 \u001b[0;32melif\u001b[0m \u001b[0;32mnot\u001b[0m \u001b[0mself\u001b[0m\u001b[0;34m.\u001b[0m\u001b[0m_poll\u001b[0m\u001b[0;34m(\u001b[0m\u001b[0;34m)\u001b[0m\u001b[0;34m:\u001b[0m\u001b[0;34m\u001b[0m\u001b[0;34m\u001b[0m\u001b[0m\n",
            "\u001b[0;32m/usr/lib/python3.6/multiprocessing/connection.py\u001b[0m in \u001b[0;36mpoll\u001b[0;34m(self, timeout)\u001b[0m\n\u001b[1;32m    255\u001b[0m         \u001b[0mself\u001b[0m\u001b[0;34m.\u001b[0m\u001b[0m_check_closed\u001b[0m\u001b[0;34m(\u001b[0m\u001b[0;34m)\u001b[0m\u001b[0;34m\u001b[0m\u001b[0;34m\u001b[0m\u001b[0m\n\u001b[1;32m    256\u001b[0m         \u001b[0mself\u001b[0m\u001b[0;34m.\u001b[0m\u001b[0m_check_readable\u001b[0m\u001b[0;34m(\u001b[0m\u001b[0;34m)\u001b[0m\u001b[0;34m\u001b[0m\u001b[0;34m\u001b[0m\u001b[0m\n\u001b[0;32m--> 257\u001b[0;31m         \u001b[0;32mreturn\u001b[0m \u001b[0mself\u001b[0m\u001b[0;34m.\u001b[0m\u001b[0m_poll\u001b[0m\u001b[0;34m(\u001b[0m\u001b[0mtimeout\u001b[0m\u001b[0;34m)\u001b[0m\u001b[0;34m\u001b[0m\u001b[0;34m\u001b[0m\u001b[0m\n\u001b[0m\u001b[1;32m    258\u001b[0m \u001b[0;34m\u001b[0m\u001b[0m\n\u001b[1;32m    259\u001b[0m     \u001b[0;32mdef\u001b[0m \u001b[0m__enter__\u001b[0m\u001b[0;34m(\u001b[0m\u001b[0mself\u001b[0m\u001b[0;34m)\u001b[0m\u001b[0;34m:\u001b[0m\u001b[0;34m\u001b[0m\u001b[0;34m\u001b[0m\u001b[0m\n",
            "\u001b[0;32m/usr/lib/python3.6/multiprocessing/connection.py\u001b[0m in \u001b[0;36m_poll\u001b[0;34m(self, timeout)\u001b[0m\n\u001b[1;32m    412\u001b[0m \u001b[0;34m\u001b[0m\u001b[0m\n\u001b[1;32m    413\u001b[0m     \u001b[0;32mdef\u001b[0m \u001b[0m_poll\u001b[0m\u001b[0;34m(\u001b[0m\u001b[0mself\u001b[0m\u001b[0;34m,\u001b[0m \u001b[0mtimeout\u001b[0m\u001b[0;34m)\u001b[0m\u001b[0;34m:\u001b[0m\u001b[0;34m\u001b[0m\u001b[0;34m\u001b[0m\u001b[0m\n\u001b[0;32m--> 414\u001b[0;31m         \u001b[0mr\u001b[0m \u001b[0;34m=\u001b[0m \u001b[0mwait\u001b[0m\u001b[0;34m(\u001b[0m\u001b[0;34m[\u001b[0m\u001b[0mself\u001b[0m\u001b[0;34m]\u001b[0m\u001b[0;34m,\u001b[0m \u001b[0mtimeout\u001b[0m\u001b[0;34m)\u001b[0m\u001b[0;34m\u001b[0m\u001b[0;34m\u001b[0m\u001b[0m\n\u001b[0m\u001b[1;32m    415\u001b[0m         \u001b[0;32mreturn\u001b[0m \u001b[0mbool\u001b[0m\u001b[0;34m(\u001b[0m\u001b[0mr\u001b[0m\u001b[0;34m)\u001b[0m\u001b[0;34m\u001b[0m\u001b[0;34m\u001b[0m\u001b[0m\n\u001b[1;32m    416\u001b[0m \u001b[0;34m\u001b[0m\u001b[0m\n",
            "\u001b[0;32m/usr/lib/python3.6/multiprocessing/connection.py\u001b[0m in \u001b[0;36mwait\u001b[0;34m(object_list, timeout)\u001b[0m\n\u001b[1;32m    909\u001b[0m \u001b[0;34m\u001b[0m\u001b[0m\n\u001b[1;32m    910\u001b[0m             \u001b[0;32mwhile\u001b[0m \u001b[0;32mTrue\u001b[0m\u001b[0;34m:\u001b[0m\u001b[0;34m\u001b[0m\u001b[0;34m\u001b[0m\u001b[0m\n\u001b[0;32m--> 911\u001b[0;31m                 \u001b[0mready\u001b[0m \u001b[0;34m=\u001b[0m \u001b[0mselector\u001b[0m\u001b[0;34m.\u001b[0m\u001b[0mselect\u001b[0m\u001b[0;34m(\u001b[0m\u001b[0mtimeout\u001b[0m\u001b[0;34m)\u001b[0m\u001b[0;34m\u001b[0m\u001b[0;34m\u001b[0m\u001b[0m\n\u001b[0m\u001b[1;32m    912\u001b[0m                 \u001b[0;32mif\u001b[0m \u001b[0mready\u001b[0m\u001b[0;34m:\u001b[0m\u001b[0;34m\u001b[0m\u001b[0;34m\u001b[0m\u001b[0m\n\u001b[1;32m    913\u001b[0m                     \u001b[0;32mreturn\u001b[0m \u001b[0;34m[\u001b[0m\u001b[0mkey\u001b[0m\u001b[0;34m.\u001b[0m\u001b[0mfileobj\u001b[0m \u001b[0;32mfor\u001b[0m \u001b[0;34m(\u001b[0m\u001b[0mkey\u001b[0m\u001b[0;34m,\u001b[0m \u001b[0mevents\u001b[0m\u001b[0;34m)\u001b[0m \u001b[0;32min\u001b[0m \u001b[0mready\u001b[0m\u001b[0;34m]\u001b[0m\u001b[0;34m\u001b[0m\u001b[0;34m\u001b[0m\u001b[0m\n",
            "\u001b[0;32m/usr/lib/python3.6/selectors.py\u001b[0m in \u001b[0;36mselect\u001b[0;34m(self, timeout)\u001b[0m\n\u001b[1;32m    374\u001b[0m             \u001b[0mready\u001b[0m \u001b[0;34m=\u001b[0m \u001b[0;34m[\u001b[0m\u001b[0;34m]\u001b[0m\u001b[0;34m\u001b[0m\u001b[0;34m\u001b[0m\u001b[0m\n\u001b[1;32m    375\u001b[0m             \u001b[0;32mtry\u001b[0m\u001b[0;34m:\u001b[0m\u001b[0;34m\u001b[0m\u001b[0;34m\u001b[0m\u001b[0m\n\u001b[0;32m--> 376\u001b[0;31m                 \u001b[0mfd_event_list\u001b[0m \u001b[0;34m=\u001b[0m \u001b[0mself\u001b[0m\u001b[0;34m.\u001b[0m\u001b[0m_poll\u001b[0m\u001b[0;34m.\u001b[0m\u001b[0mpoll\u001b[0m\u001b[0;34m(\u001b[0m\u001b[0mtimeout\u001b[0m\u001b[0;34m)\u001b[0m\u001b[0;34m\u001b[0m\u001b[0;34m\u001b[0m\u001b[0m\n\u001b[0m\u001b[1;32m    377\u001b[0m             \u001b[0;32mexcept\u001b[0m \u001b[0mInterruptedError\u001b[0m\u001b[0;34m:\u001b[0m\u001b[0;34m\u001b[0m\u001b[0;34m\u001b[0m\u001b[0m\n\u001b[1;32m    378\u001b[0m                 \u001b[0;32mreturn\u001b[0m \u001b[0mready\u001b[0m\u001b[0;34m\u001b[0m\u001b[0;34m\u001b[0m\u001b[0m\n",
            "\u001b[0;31mKeyboardInterrupt\u001b[0m: "
          ]
        }
      ]
    },
    {
      "cell_type": "markdown",
      "metadata": {
        "id": "oLpnrki00rCT"
      },
      "source": [
        "# Тестирование модели"
      ]
    },
    {
      "cell_type": "code",
      "metadata": {
        "id": "uemne5cOtnAF"
      },
      "source": [
        "def show_segmentations(image, mask):\n",
        "    \"\"\"Show image with landmarks\"\"\"\n",
        "    plt.imshow(image)\n",
        "    plt.imshow(mask, alpha=0.5)\n",
        "    plt.pause(0.001)  # pause a bit so that plots are updated\n"
      ],
      "execution_count": null,
      "outputs": []
    },
    {
      "cell_type": "code",
      "metadata": {
        "id": "i00fPiGaG0Ol"
      },
      "source": [
        "sum(p.numel() for p in model.parameters() if p.requires_grad)"
      ],
      "execution_count": null,
      "outputs": []
    },
    {
      "cell_type": "code",
      "metadata": {
        "id": "KOr249XDV3dG"
      },
      "source": [
        "def show_mask(model, data, index):\n",
        "    fig, (ax1, ax2, ax3) = plt.subplots(1, 3, figsize=(14, 14))\n",
        "    d =  data[index]\n",
        "    photo = d['image']\n",
        "    main_mask = d['mask']\n",
        "    ax1.imshow(photo.numpy().transpose(1, 2, 0))\n",
        "    ax1.axis('off')\n",
        "    \n",
        "    predicted_main = torch.max(model(photo.cuda().unsqueeze(0))['out'], 1)[1].cpu().numpy()[0]\n",
        "    mask = torch.max(main_mask.unsqueeze(0), 1)[1].cpu().numpy()[0]\n",
        "    print('Оригинал:', np.unique(mask))\n",
        "    print('Copy:', np.unique(predicted_main))\n",
        "    for i in range(4):\n",
        "        mask[0][i] = i\n",
        "        predicted_main[0][i] = i\n",
        "\n",
        "    cmap = plt.get_cmap('tab20b', np.max(mask) + 1)\n",
        "    masks = ax2.imshow(mask, cmap=cmap,\n",
        "                      vmin=-0.5, vmax=np.max(mask)+0.5)\n",
        "    ax2.axis('off')\n",
        "    fig.colorbar(masks, ticks=np.arange(0, int(np.max(mask))+1))\n",
        "\n",
        "    ax3.imshow(predicted_main, cmap=cmap, vmin=-0.5, vmax=np.max(mask)+0.5)\n",
        "    ax3.axis('off')\n",
        "\n",
        "    ax1.title.set_text('Фото')\n",
        "    ax2.title.set_text('Разметка геолога')\n",
        "    ax3.title.set_text('Разметка нейронной сети')\n",
        "    return fig, (ax1, ax2, ax3)"
      ],
      "execution_count": null,
      "outputs": []
    },
    {
      "cell_type": "code",
      "metadata": {
        "id": "ff2Lr8LMMVni",
        "colab": {
          "base_uri": "https://localhost:8080/",
          "height": 914
        },
        "outputId": "65ced54a-343a-451a-acb7-14ee011851ff"
      },
      "source": [
        "model.eval()\n",
        "show_mask(model, kf_train, 87)"
      ],
      "execution_count": null,
      "outputs": [
        {
          "output_type": "stream",
          "text": [
            "Оригинал: [0 3]\n",
            "Copy: [0 3]\n"
          ],
          "name": "stdout"
        },
        {
          "output_type": "execute_result",
          "data": {
            "text/plain": [
              "(<Figure size 1008x1008 with 4 Axes>,\n",
              " (<matplotlib.axes._subplots.AxesSubplot at 0x7fb9dbf51d30>,\n",
              "  <matplotlib.axes._subplots.AxesSubplot at 0x7fb9dbc8acc0>,\n",
              "  <matplotlib.axes._subplots.AxesSubplot at 0x7fb9dbcbfef0>))"
            ]
          },
          "metadata": {
            "tags": []
          },
          "execution_count": 88
        },
        {
          "output_type": "display_data",
          "data": {
            "image/png": "[encoded data removed]",
            "text/plain": [
              "<Figure size 1008x1008 with 4 Axes>"
            ]
          },
          "metadata": {
            "tags": [],
            "needs_background": "light"
          }
        }
      ]
    }
  ]
}