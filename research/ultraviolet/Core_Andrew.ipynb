{
  "nbformat": 4,
  "nbformat_minor": 0,
  "metadata": {
    "colab": {
      "name": "Core_Andrew.ipynb",
      "provenance": [],
      "collapsed_sections": [
        "-0lofNN9xXRr",
        "tgGS7WcmZ6x2",
        "8p3xmG13aIzY",
        "LBROnIVVG5Sh"
      ],
      "authorship_tag": "ABX9TyPKwGMLfJvwRpPERiX4UOfP",
      "include_colab_link": true
    },
    "kernelspec": {
      "display_name": "Python 3",
      "name": "python3"
    }
  },
  "cells": [
    {
      "cell_type": "markdown",
      "metadata": {
        "id": "view-in-github",
        "colab_type": "text"
      },
      "source": [
        "<a href=\"https://colab.research.google.com/github/DreamTeamInc/Core-DS/blob/master/development/Core_Andrew.ipynb\" target=\"_parent\"><img src=\"https://colab.research.google.com/assets/colab-badge.svg\" alt=\"Open In Colab\"/></a>"
      ]
    },
    {
      "cell_type": "code",
      "metadata": {
        "id": "gqyWfFk5u9sF",
        "colab": {
          "base_uri": "https://localhost:8080/"
        },
        "outputId": "9f139092-4510-4229-df2a-69a333949925"
      },
      "source": [
        "from google.colab import drive\n",
        "drive.mount('/content/drive')\n",
        "\n",
        "# Path to 'sample_core_analysis_data_example' folder with folder name\n",
        "path_to_data = 'drive/My Drive/ sample_core_analysis_data_example'"
      ],
      "execution_count": 1,
      "outputs": [
        {
          "output_type": "stream",
          "text": [
            "Mounted at /content/drive\n"
          ],
          "name": "stdout"
        }
      ]
    },
    {
      "cell_type": "markdown",
      "metadata": {
        "id": "-0lofNN9xXRr"
      },
      "source": [
        "# Initializing packages"
      ]
    },
    {
      "cell_type": "code",
      "metadata": {
        "id": "JOMYimf8xQi5"
      },
      "source": [
        "import pandas as pd\n",
        "import numpy as np\n",
        "import matplotlib.pyplot as plt\n",
        "import json\n",
        "import cv2 as cv\n",
        "import seaborn as sns\n",
        "\n",
        "from PIL import Image\n",
        "from skimage import exposure\n",
        "from skimage import io\n",
        "\n",
        "import sklearn\n",
        "import warnings\n",
        "warnings.filterwarnings('ignore')"
      ],
      "execution_count": 2,
      "outputs": []
    },
    {
      "cell_type": "markdown",
      "metadata": {
        "id": "tgGS7WcmZ6x2"
      },
      "source": [
        "## **Functions for getting data** "
      ]
    },
    {
      "cell_type": "code",
      "metadata": {
        "id": "a4jaEk6iVHw2"
      },
      "source": [
        "def get_photo(data,i):\n",
        "  return io.imread('drive/My Drive/ sample_core_analysis_data_example/photos/{}.jpeg'.format(data['photo_id'][i]))\n",
        "\n",
        "def get_photo_by_id(data,id):\n",
        "  return io.imread('drive/My Drive/ sample_core_analysis_data_example/photos/{}.jpeg'.format(id))\n",
        "\n",
        "def get_mask(data, i):\n",
        "    return np.load('drive/My Drive/ sample_core_analysis_data_example/matrixes/matrix_{}__{}.npz'.format(data['photo_id'][i], data['task_id'][i]))['data']\n",
        "\n",
        "def get_json(data,i):\n",
        "  with open(path_to_data + '/extra/extra_{}__{}.json'.format(data['photo_id'][i],data['task_id'][i])) as json_data:\n",
        "    d = json.load(json_data)\n",
        "    json_data.close()\n",
        "  return d"
      ],
      "execution_count": 3,
      "outputs": []
    },
    {
      "cell_type": "markdown",
      "metadata": {
        "id": "8p3xmG13aIzY"
      },
      "source": [
        "## **Functions for displaying data**\n"
      ]
    },
    {
      "cell_type": "code",
      "metadata": {
        "id": "GRAwuxKRX1Ww"
      },
      "source": [
        "def show_image(image,nrows=1,ncols=1,cmap='gray'):\n",
        "  fig, ax = plt.subplots(nrows=nrows, ncols=ncols, figsize=(10, 10))\n",
        "  ax.imshow(image)\n",
        "  ax.axis('off')\n",
        "  return fig, ax\n",
        "\n",
        "def show_all_photo_data(data,i):\n",
        "  print(data.iloc[i])\n",
        "  fig, (ax1, ax2) = plt.subplots(1, 2, figsize=(10, 10))\n",
        "  ax1.imshow(get_photo(data, i))\n",
        "  \n",
        "  mask = get_mask(data,i)\n",
        "  cmap = plt.get_cmap('tab20b', np.max(mask) + 1)\n",
        "  mask = ax2.imshow(mask, cmap=cmap,vmin=-0.5, vmax=np.max(get_mask(data, i))+0.5)\n",
        "  ax2.axis('off')\n",
        "  fig.colorbar(mask, ticks=np.arange(0, np.max(get_mask(data, i))+1))\n",
        "  return fig, (ax1, ax2)\n",
        "\n",
        "def show_photo_series(data, column, value):\n",
        "    fig, ax_ar = plt.subplots(1, 10, figsize=(14, 14))\n",
        "    filt_data = data[data[column] == value]\n",
        "    i = np.random.randint(0, filt_data.shape[0])\n",
        "    for ax in ax_ar:\n",
        "        filt_by_photo = filt_data[filt_data['photo_id'] == filt_data['photo_id'].iloc[i]]\n",
        "        segments = filt_by_photo['segment_num'].values\n",
        "        photo = get_photo(data, filt_by_photo.index.values[0])\n",
        "        mask = get_mask(data, filt_by_photo.index.values[0])\n",
        "        for value in segments:\n",
        "            mask = np.ma.masked_where(mask == value, mask)\n",
        "        \n",
        "        ax.imshow(photo)\n",
        "        ax.imshow(mask)\n",
        "        ax.axis('off')\n",
        "        filt_data.drop(filt_by_photo.index.values, axis=0, inplace=True)\n",
        "        i = np.random.randint(0, filt_data.shape[0])\n",
        "    \n",
        "    return fig, ax_ar"
      ],
      "execution_count": 4,
      "outputs": []
    },
    {
      "cell_type": "markdown",
      "metadata": {
        "id": "vra9LtQ1LdOw"
      },
      "source": [
        "# **Preprocessing**"
      ]
    },
    {
      "cell_type": "code",
      "metadata": {
        "id": "OGzBJMMsSeHs"
      },
      "source": [
        "all_data = pd.read_csv(path_to_data + '/data.csv')"
      ],
      "execution_count": 5,
      "outputs": []
    },
    {
      "cell_type": "code",
      "metadata": {
        "id": "YE9MTV8ZWo1K"
      },
      "source": [
        "uv_data = all_data[all_data['photo_type'] == 'УФ']\n",
        "uv_data.reset_index(inplace = True, drop = True)"
      ],
      "execution_count": 6,
      "outputs": []
    },
    {
      "cell_type": "markdown",
      "metadata": {
        "id": "QQ12-IVaLv3g"
      },
      "source": [
        "# **Machine Learning**"
      ]
    },
    {
      "cell_type": "code",
      "metadata": {
        "id": "YWvtHalgst7v"
      },
      "source": [
        "features = pd.read_csv('drive/My Drive/data/best_features.csv')"
      ],
      "execution_count": null,
      "outputs": []
    },
    {
      "cell_type": "code",
      "metadata": {
        "id": "s1ggsi82SeNg"
      },
      "source": [
        "y = uv_data['segment_value']\n",
        "#y = uv_data['segment_value'][:500]"
      ],
      "execution_count": null,
      "outputs": []
    },
    {
      "cell_type": "markdown",
      "metadata": {
        "id": "LBROnIVVG5Sh"
      },
      "source": [
        "## **SVM**"
      ]
    },
    {
      "cell_type": "code",
      "metadata": {
        "id": "-vRdyiROKepQ"
      },
      "source": [
        "from sklearn import svm, metrics\n",
        "from sklearn.model_selection import GridSearchCV\n",
        "\n",
        "\n",
        "parametrs = {'kernel':('linear', 'rbf'), 'C':[1, 10],'degree':[3,4,5,6,7,8],\n",
        "             'tol':[1e-3,1e-4,5e-4]}\n",
        "svc = svm.SVC()\n",
        "\n",
        "clf = GridSearchCV(svc,parametrs)\n",
        "\n",
        "\n",
        "clf.fit(X_train,y_train)\n",
        "\n",
        "clf.best_params_"
      ],
      "execution_count": null,
      "outputs": []
    },
    {
      "cell_type": "code",
      "metadata": {
        "id": "T6avGSZp_Qx2",
        "colab": {
          "base_uri": "https://localhost:8080/"
        },
        "outputId": "e9575fc0-8e7b-4bc9-e45e-a142497c1cce"
      },
      "source": [
        "from sklearn import svm, metrics\n",
        "from sklearn.model_selection import cross_validate\n",
        "\n",
        "\n",
        "classifier = svm.SVC(C=10,degree=3,kernel='rbf',tol=0.01)\n",
        "\n",
        "scores = cross_validate(classifier, features, y, scoring='f1_macro')\n",
        "\n",
        "sum(scores['test_score'])/5"
      ],
      "execution_count": null,
      "outputs": [
        {
          "output_type": "execute_result",
          "data": {
            "text/plain": [
              "0.8409187366682789"
            ]
          },
          "metadata": {
            "tags": []
          },
          "execution_count": 51
        }
      ]
    },
    {
      "cell_type": "markdown",
      "metadata": {
        "id": "sQ5IvFq7G3RK"
      },
      "source": [
        "## **RandomForestClassifier**"
      ]
    },
    {
      "cell_type": "code",
      "metadata": {
        "id": "MExBn4vCHDOW",
        "colab": {
          "base_uri": "https://localhost:8080/"
        },
        "outputId": "38cde1bd-37b0-4a01-a6a1-6ef6e59b8f1f"
      },
      "source": [
        "from sklearn import metrics\n",
        "from sklearn.ensemble import RandomForestClassifier\n",
        "from sklearn.model_selection import GridSearchCV\n",
        "from sklearn.model_selection import train_test_split\n",
        "\n",
        "X_train, X_test, y_train, y_test = train_test_split(features, y, test_size=0.3, shuffle=False)\n",
        "\n",
        "\n",
        "parametrs = {'n_estimators' : [320,330,340],'random_state' : [0],\n",
        "             'criterion':['gini', 'entropy']}\n",
        "\n",
        "rfc = RandomForestClassifier()\n",
        "\n",
        "clf = GridSearchCV(rfc,parametrs)\n",
        "\n",
        "\n",
        "clf.fit(X_train,y_train)\n",
        "\n",
        "clf.best_params_"
      ],
      "execution_count": null,
      "outputs": [
        {
          "output_type": "execute_result",
          "data": {
            "text/plain": [
              "{'criterion': 'gini', 'n_estimators': 320, 'random_state': 0}"
            ]
          },
          "metadata": {
            "tags": []
          },
          "execution_count": 114
        }
      ]
    },
    {
      "cell_type": "code",
      "metadata": {
        "id": "Q8cNGKubJLlt",
        "colab": {
          "base_uri": "https://localhost:8080/"
        },
        "outputId": "4f1a4418-e8d3-4f5c-d1e8-7f4776f693a8"
      },
      "source": [
        "from sklearn import metrics\n",
        "from sklearn.ensemble import RandomForestClassifier\n",
        "from sklearn.model_selection import cross_validate\n",
        "\n",
        "\n",
        "forest = RandomForestClassifier(criterion='entropy',random_state=0)\n",
        "\n",
        "\n",
        "\n",
        "scores = cross_validate(forest, features, y, scoring='f1_macro')\n",
        "\n",
        "sum(scores['test_score'])/5"
      ],
      "execution_count": null,
      "outputs": [
        {
          "output_type": "execute_result",
          "data": {
            "text/plain": [
              "0.8793935042474994"
            ]
          },
          "metadata": {
            "tags": []
          },
          "execution_count": 82
        }
      ]
    },
    {
      "cell_type": "code",
      "metadata": {
        "id": "oaH7mIlv-2p3",
        "colab": {
          "base_uri": "https://localhost:8080/",
          "height": 178
        },
        "outputId": "d40f47da-8e6a-4f6a-df6a-9e1aba9fa498"
      },
      "source": [
        "scores = cross_val_score(forest, X_test, y_test, cv=5)\n",
        "scores"
      ],
      "execution_count": null,
      "outputs": [
        {
          "output_type": "error",
          "ename": "NameError",
          "evalue": "ignored",
          "traceback": [
            "\u001b[0;31m---------------------------------------------------------------------------\u001b[0m",
            "\u001b[0;31mNameError\u001b[0m                                 Traceback (most recent call last)",
            "\u001b[0;32m<ipython-input-83-686844cce739>\u001b[0m in \u001b[0;36m<module>\u001b[0;34m()\u001b[0m\n\u001b[0;32m----> 1\u001b[0;31m \u001b[0mscores\u001b[0m \u001b[0;34m=\u001b[0m \u001b[0mcross_val_score\u001b[0m\u001b[0;34m(\u001b[0m\u001b[0mforest\u001b[0m\u001b[0;34m,\u001b[0m \u001b[0mX_test\u001b[0m\u001b[0;34m,\u001b[0m \u001b[0my_test\u001b[0m\u001b[0;34m,\u001b[0m \u001b[0mcv\u001b[0m\u001b[0;34m=\u001b[0m\u001b[0;36m5\u001b[0m\u001b[0;34m)\u001b[0m\u001b[0;34m\u001b[0m\u001b[0;34m\u001b[0m\u001b[0m\n\u001b[0m\u001b[1;32m      2\u001b[0m \u001b[0mscores\u001b[0m\u001b[0;34m\u001b[0m\u001b[0;34m\u001b[0m\u001b[0m\n",
            "\u001b[0;31mNameError\u001b[0m: name 'cross_val_score' is not defined"
          ]
        }
      ]
    },
    {
      "cell_type": "markdown",
      "metadata": {
        "id": "Q5-pPXMX1Y9t"
      },
      "source": [
        "## **ExtraTrees**"
      ]
    },
    {
      "cell_type": "code",
      "metadata": {
        "id": "Z0M0Dw1QqPHn"
      },
      "source": [
        "from sklearn import metrics\n",
        "from sklearn.ensemble import ExtraTreesClassifier\n",
        "from sklearn.model_selection import GridSearchCV\n",
        "from sklearn.model_selection import train_test_split\n",
        "\n",
        "X_train, X_test, y_train, y_test = train_test_split(features, y, test_size=0.3, shuffle=False)\n",
        "\n",
        "\n",
        "parametrs = {'n_estimators' : [3,10,30,40,50,100,150,200],'max_features':[2,4,6,8],'random_state' : [0],\n",
        "             'criterion':['gini', 'entropy'], 'min_samples_split' : [2,3,4], 'min_samples_leaf' : [1,2,3],'ccp_alpha' : [0.0, 1,2],}\n",
        "\n",
        "\n",
        "\n",
        "etc = ExtraTreesClassifier()\n",
        "\n",
        "clf = GridSearchCV(etc,parametrs)\n",
        "\n",
        "\n",
        "clf.fit(X_train,y_train)\n",
        "\n",
        "clf.best_params_"
      ],
      "execution_count": null,
      "outputs": []
    },
    {
      "cell_type": "code",
      "metadata": {
        "id": "jzpRJd_FLJWI",
        "colab": {
          "base_uri": "https://localhost:8080/"
        },
        "outputId": "a61de3d2-c29f-4182-81f1-5f2e167a40a8"
      },
      "source": [
        "from sklearn.ensemble import ExtraTreesClassifier\n",
        "from sklearn import  metrics\n",
        "from sklearn.model_selection import cross_validate\n",
        "\n",
        "etc = ExtraTreesClassifier(criterion= 'gini',min_samples_split= 3,warm_start = True)\n",
        "\n",
        "scores = cross_validate(etc, features, y, scoring='f1_macro')\n",
        "\n",
        "sum(scores['test_score'])/5"
      ],
      "execution_count": null,
      "outputs": [
        {
          "output_type": "execute_result",
          "data": {
            "text/plain": [
              "0.8858971581874627"
            ]
          },
          "metadata": {
            "tags": []
          },
          "execution_count": 48
        }
      ]
    },
    {
      "cell_type": "code",
      "metadata": {
        "id": "XzTXKTB0ENEH",
        "colab": {
          "base_uri": "https://localhost:8080/"
        },
        "outputId": "b3af75f6-84e0-4599-d7a3-10a34f591536"
      },
      "source": [
        "from sklearn.model_selection import train_test_split\n",
        "\n",
        "X_train,X_test,y_train,y_test = train_test_split(features,y,test_size=0.33)\n",
        "\n",
        "etc.fit(X_train,y_train)"
      ],
      "execution_count": null,
      "outputs": [
        {
          "output_type": "execute_result",
          "data": {
            "text/plain": [
              "ExtraTreesClassifier(bootstrap=False, ccp_alpha=0.0, class_weight=None,\n",
              "                     criterion='gini', max_depth=None, max_features='auto',\n",
              "                     max_leaf_nodes=None, max_samples=None,\n",
              "                     min_impurity_decrease=0.0, min_impurity_split=None,\n",
              "                     min_samples_leaf=1, min_samples_split=3,\n",
              "                     min_weight_fraction_leaf=0.0, n_estimators=100,\n",
              "                     n_jobs=None, oob_score=False, random_state=None, verbose=0,\n",
              "                     warm_start=True)"
            ]
          },
          "metadata": {
            "tags": []
          },
          "execution_count": 49
        }
      ]
    },
    {
      "cell_type": "code",
      "metadata": {
        "id": "JOxCN7lwyHXM",
        "colab": {
          "base_uri": "https://localhost:8080/"
        },
        "outputId": "57e6b71b-d992-4781-8692-fa92a441a9e3"
      },
      "source": [
        "from incremental_trees.models.classification.streaming_extc import StreamingEXTC\n",
        "from sklearn import  metrics\n",
        "from sklearn.model_selection import cross_validate\n",
        "\n",
        "k = StreamingEXTC(criterion= 'gini',min_samples_split= 3)\n",
        "\n",
        "scores = cross_validate(k, features, y, scoring='f1_macro')\n",
        "\n",
        "sum(scores['test_score'])/5"
      ],
      "execution_count": null,
      "outputs": [
        {
          "output_type": "execute_result",
          "data": {
            "text/plain": [
              "0.7276497164625333"
            ]
          },
          "metadata": {
            "tags": []
          },
          "execution_count": 211
        }
      ]
    },
    {
      "cell_type": "markdown",
      "metadata": {
        "id": "tlIS1VWk7JbP"
      },
      "source": [
        "## **3-chanel histogram with equalization**"
      ]
    },
    {
      "cell_type": "code",
      "metadata": {
        "id": "ZtSwPVBeKwUq"
      },
      "source": [
        "def histogram_equalize(img): \n",
        "    img_cdf, bin_centers = exposure.cumulative_distribution(img) \n",
        "    return np.interp(img, bin_centers, img_cdf)"
      ],
      "execution_count": null,
      "outputs": []
    },
    {
      "cell_type": "code",
      "metadata": {
        "id": "RWc7QL_kyFEO"
      },
      "source": [
        "def get_features(photo,mask,segment_num):\n",
        "  # Get segment from photo\n",
        "  p1 = np.ma.masked_where(mask == segment_num, photo[:,:,0])\n",
        "  p2 = np.ma.masked_where(mask == segment_num, photo[:,:,1])\n",
        "  p3 = np.ma.masked_where(mask == segment_num, photo[:,:,2])\n",
        "  # Get histograms 3 chanels of photo\n",
        "  hist1 = np.histogram(p1.mask * p1.data, bins = 32, range = (0,1))\n",
        "  hist2 = np.histogram(p2.mask * p2.data, bins = 32, range = (0,1))\n",
        "  hist3 = np.histogram(p3.mask * p3.data, bins = 32, range = (0,1))\n",
        "  \n",
        "  features = np.concatenate((np.array(hist1[0][1:] / np.sum(p1.mask),dtype=object),\n",
        "                             np.array(hist2[0][1:] / np.sum(p2.mask),dtype=object),\n",
        "                             np.array(hist3[0][1:] / np.sum(p3.mask),dtype=object)))\n",
        "  return features"
      ],
      "execution_count": null,
      "outputs": []
    },
    {
      "cell_type": "code",
      "metadata": {
        "id": "eMxr0nIbaxFB"
      },
      "source": [
        "from skimage.color import rgb2hsv\n",
        "\n",
        "def data_preprocessing(data):\n",
        "  features_arr = []\n",
        "  for i in range(data.shape[0]):\n",
        "    segment_num = data['segment_num'].iloc[i]\n",
        "    photo = get_photo(data,i)\n",
        "    mask = get_mask(data,i)\n",
        "\n",
        "    hsv_features = get_features( rgb2hsv(photo),mask,segment_num) \n",
        "    rgb_features = get_features(histogram_equalize(photo),mask,segment_num)\n",
        "    \n",
        "    photo_features = np.concatenate((hsv_features,rgb_features))         \n",
        "    features_arr.append(list(photo_features))\n",
        "    features = pd.DataFrame(features_arr)\n",
        "\n",
        "\n",
        "  return features_arr\n"
      ],
      "execution_count": null,
      "outputs": []
    },
    {
      "cell_type": "markdown",
      "metadata": {
        "id": "fxJJfy4WJ7Iv"
      },
      "source": [
        "## **Selection of important features**"
      ]
    },
    {
      "cell_type": "code",
      "metadata": {
        "id": "NOXXHYSPY7Kk"
      },
      "source": [
        "features = pd.read_csv('drive/My Drive/data/best_features.csv')"
      ],
      "execution_count": null,
      "outputs": []
    },
    {
      "cell_type": "code",
      "metadata": {
        "id": "tqaL6yqcdYjX"
      },
      "source": [
        "etc.fit(features,y)\n",
        "\n",
        "importances = etc.feature_importances_\n",
        "std = np.std([tree.feature_importances_ for tree in etc.estimators_],\n",
        "             axis=0)\n",
        "indices = np.argsort(importances)[::-1]\n",
        "\n",
        "\n",
        "main_features = []\n",
        "for f in range(features.shape[1]):\n",
        "    main_features.append(indices[f])\n",
        "\n",
        "\n",
        "f = []\n",
        "for i in range(50,len(main_features)):\n",
        "  f.append(main_features[i])\n",
        "\n",
        "\n",
        "for i in range(len(f)):\n",
        "  features.drop(str(f[i]),axis='columns', inplace=True)"
      ],
      "execution_count": null,
      "outputs": []
    },
    {
      "cell_type": "code",
      "metadata": {
        "id": "yi2_9Lme_S03"
      },
      "source": [
        "np.save('not_importance_features.npy',f)"
      ],
      "execution_count": null,
      "outputs": []
    },
    {
      "cell_type": "code",
      "metadata": {
        "id": "goWYoaaTAMzY"
      },
      "source": [
        "features.to_csv('features.csv',index=False)"
      ],
      "execution_count": null,
      "outputs": []
    },
    {
      "cell_type": "markdown",
      "metadata": {
        "id": "0Z9fW49ASyEF"
      },
      "source": [
        "\n",
        "# **Segmentation**"
      ]
    },
    {
      "cell_type": "code",
      "metadata": {
        "id": "LKG1ASqVbfO-"
      },
      "source": [
        "from skimage.color import rgb2hsv\n",
        "from collections import OrderedDict\n",
        "\n",
        "def photo_preprocessing(photo,mask):\n",
        "  features_arr = []\n",
        "  unique_segments = list(OrderedDict.fromkeys(mask.ravel()))\n",
        "  for i in unique_segments:\n",
        "    hsv_features = get_features( rgb2hsv(photo),mask,i) \n",
        "    rgb_features = get_features(histogram_equalize(photo),mask,i)\n",
        "    photo_features = np.concatenate((hsv_features,rgb_features))         \n",
        "    features_arr.append(list(photo_features))\n",
        "    features = pd.DataFrame(features_arr)\n",
        "\n",
        "  return features"
      ],
      "execution_count": null,
      "outputs": []
    },
    {
      "cell_type": "code",
      "metadata": {
        "id": "pnlJ21u2SxWZ",
        "colab": {
          "base_uri": "https://localhost:8080/",
          "height": 225
        },
        "outputId": "663e1223-a6e7-48c7-ed58-9741ca6bcfcc"
      },
      "source": [
        "from skimage.segmentation import watershed\n",
        "from skimage.feature import peak_local_max\n",
        "from scipy import ndimage\n",
        "from skimage.color import rgb2hsv,rgb2gray\n",
        "from skimage import filters\n",
        "\n",
        "p = 0\n",
        "photo = get_photo(uv_data,p)\n",
        "mask = get_mask(uv_data,p)\n",
        "\n",
        "labels = watershed(rgb2gray(photo),markers=12)\n",
        "\n",
        "fig, axes = plt.subplots(ncols=3, figsize=(9, 3), sharex=True, sharey=True)\n",
        "ax = axes.ravel()\n",
        "\n",
        "ax[0].imshow(photo)\n",
        "ax[0].set_title('photo')\n",
        "ax[1].imshow(mask)\n",
        "ax[1].set_title('Original Mask')\n",
        "ax[2].imshow(labels)\n",
        "ax[2].set_title('Watershed Segmentation')\n",
        "\n",
        "for a in ax:\n",
        "    a.set_axis_off()\n",
        "\n",
        "fig.tight_layout()\n",
        "plt.show()"
      ],
      "execution_count": null,
      "outputs": [
        {
          "output_type": "display_data",
          "data": {
            "image/png": "[encoded data removed]",
            "text/plain": [
              "<Figure size 648x216 with 3 Axes>"
            ]
          },
          "metadata": {
            "tags": [],
            "needs_background": "light"
          }
        }
      ]
    },
    {
      "cell_type": "code",
      "metadata": {
        "id": "028dSoeAJXyT"
      },
      "source": [
        "from collections import OrderedDict\n",
        "def predicted_segmentation(predicts,mask):\n",
        "  labels_uniq = list(OrderedDict.fromkeys(mask.ravel()))\n",
        "\n",
        "  for i in range(predicts.shape[0]):\n",
        "    if predicts[i] == 'Отсутствует':\n",
        "      mask = np.where(mask == labels_uniq[i],100,mask)\n",
        "    if predicts[i] == 'Насыщенное':\n",
        "      mask = np.where(mask == labels_uniq[i],200,mask)\n",
        "    if predicts[i] == 'Карбонатное':\n",
        "      mask = np.where(mask == labels_uniq[i],300,mask)\n",
        "  return mask"
      ],
      "execution_count": null,
      "outputs": []
    },
    {
      "cell_type": "code",
      "metadata": {
        "id": "RF5mcZ89lfUW"
      },
      "source": [
        "def test_segmentataion(data,mask):\n",
        "  b = data[['segment_num','segment_value']].groupby('segment_value',as_index=False)\n",
        "  b_keys = b.indices.keys()\n",
        "  for i in b_keys:\n",
        "    segment_keys = b.indices[i]\n",
        "    for j in segment_keys:\n",
        "      if i == 'Отсутствует':\n",
        "        mask = np.where(mask == j,100,mask)\n",
        "      if i == 'Насыщенное':\n",
        "        mask = np.where(mask == j,200,mask)\n",
        "      if i == 'Карбонатное':\n",
        "        mask = np.where(mask == j,300,mask)\n",
        "  return mask"
      ],
      "execution_count": null,
      "outputs": []
    },
    {
      "cell_type": "code",
      "metadata": {
        "id": "xg234wMedHOD",
        "colab": {
          "base_uri": "https://localhost:8080/"
        },
        "outputId": "31eeeacb-ccb6-4427-a8c7-ca4596f2c0f9"
      },
      "source": [
        "features = pd.read_csv('drive/My Drive/data/features.csv')\n",
        "y = uv_data['segment_value']\n",
        "etc = ExtraTreesClassifier(criterion= 'gini',min_samples_split= 3)\n",
        "X_train,X_test,y_train,y_test = train_test_split(features,y,test_size=0.33)\n",
        "\n",
        "etc.fit(X_train,y_train)"
      ],
      "execution_count": null,
      "outputs": [
        {
          "output_type": "execute_result",
          "data": {
            "text/plain": [
              "ExtraTreesClassifier(bootstrap=False, ccp_alpha=0.0, class_weight=None,\n",
              "                     criterion='gini', max_depth=None, max_features='auto',\n",
              "                     max_leaf_nodes=None, max_samples=None,\n",
              "                     min_impurity_decrease=0.0, min_impurity_split=None,\n",
              "                     min_samples_leaf=1, min_samples_split=3,\n",
              "                     min_weight_fraction_leaf=0.0, n_estimators=100,\n",
              "                     n_jobs=None, oob_score=False, random_state=None, verbose=0,\n",
              "                     warm_start=False)"
            ]
          },
          "metadata": {
            "tags": []
          },
          "execution_count": 253
        }
      ]
    },
    {
      "cell_type": "code",
      "metadata": {
        "id": "2l9ELeEh6GJb"
      },
      "source": [
        "from skimage.metrics import normalized_root_mse\n",
        "from skimage.segmentation import slic\n",
        "from sklearn.metrics import f1_score\n",
        "def segmentation_metric(data):\n",
        "  result = []\n",
        "  k = 0\n",
        "  for i in data['photo_id'].unique()[:10]:\n",
        "    photo_data = data[data['photo_id'] == i]\n",
        "    photo_data.reset_index(inplace = True, drop = True)\n",
        "    photo = get_photo(photo_data,0)\n",
        "    mask = get_mask(photo_data,0)\n",
        "    photo_data.reset_index(inplace = True, drop = True)\n",
        "    test_mask = watershed(rgb2gray(photo),markers=12)\n",
        "    #test_mask = slic(photo, n_segments=17)\n",
        "\n",
        "    features = photo_preprocessing(photo,test_mask)\n",
        "    features = pd.DataFrame(features)\n",
        "    for i in range(len(f)):\n",
        "      features.drop(f[i],axis='columns', inplace=True)\n",
        "    \n",
        "    print(k)\n",
        "    k=k+1\n",
        "    predicts = etc.predict(features)\n",
        "    test_mask = predicted_segmentation(predicts,test_mask)\n",
        "    true_mask =  test_segmentataion(photo_data,mask) \n",
        "    result.append(normalized_root_mse(test_mask,true_mask))\n",
        "  return result\n"
      ],
      "execution_count": null,
      "outputs": []
    },
    {
      "cell_type": "code",
      "metadata": {
        "id": "cRoVcPcg9cf8"
      },
      "source": [
        "result = segmentation_metric(uv_data)"
      ],
      "execution_count": null,
      "outputs": []
    },
    {
      "cell_type": "code",
      "metadata": {
        "id": "ckkxmxmtEDxJ",
        "colab": {
          "base_uri": "https://localhost:8080/"
        },
        "outputId": "3210cd13-f3d6-4545-b370-d3901aecc0b0"
      },
      "source": [
        "sum(result)/10"
      ],
      "execution_count": null,
      "outputs": [
        {
          "output_type": "execute_result",
          "data": {
            "text/plain": [
              "0.22242965408445164"
            ]
          },
          "metadata": {
            "tags": []
          },
          "execution_count": 285
        }
      ]
    },
    {
      "cell_type": "markdown",
      "metadata": {
        "id": "0aIpkk_DdWD_"
      },
      "source": [
        "## **K-means**"
      ]
    },
    {
      "cell_type": "code",
      "metadata": {
        "id": "oPo_Xhws8Nq7",
        "colab": {
          "base_uri": "https://localhost:8080/",
          "height": 225
        },
        "outputId": "faef69d8-0c86-4530-e726-aeab869b66e0"
      },
      "source": [
        "from skimage.segmentation import slic\n",
        "from skimage import filters\n",
        "from scipy import ndimage\n",
        "from skimage.color import rgb2gray\n",
        "from skimage.color import rgb2hsv\n",
        "\n",
        "s = 0\n",
        "photo = get_photo(uv_data,s)\n",
        "mask = get_mask(uv_data,s)\n",
        "\n",
        "\n",
        "labels = slic(photo, n_segments=10)\n",
        "\n",
        "fig, axes = plt.subplots(ncols=3, figsize=(9, 3), sharex=True, sharey=True)\n",
        "ax = axes.ravel()\n",
        "\n",
        "ax[0].imshow(photo)\n",
        "ax[0].set_title('Photo')\n",
        "ax[1].imshow(mask)\n",
        "ax[1].set_title('Original Mask')\n",
        "ax[2].imshow(labels)\n",
        "ax[2].set_title('K-means Segmentation')\n",
        "\n",
        "for a in ax:\n",
        "    a.set_axis_off()\n",
        "\n",
        "fig.tight_layout()\n",
        "plt.show()"
      ],
      "execution_count": null,
      "outputs": [
        {
          "output_type": "display_data",
          "data": {
            "image/png": "[encoded data removed]",
            "text/plain": [
              "<Figure size 648x216 with 3 Axes>"
            ]
          },
          "metadata": {
            "tags": [],
            "needs_background": "light"
          }
        }
      ]
    },
    {
      "cell_type": "markdown",
      "metadata": {
        "id": "OIqUyWF8UpEM"
      },
      "source": [
        "# **Wrapping the model in a class**"
      ]
    },
    {
      "cell_type": "code",
      "metadata": {
        "id": "HDRWb-FpO5FY"
      },
      "source": [
        "from sklearn.model_selection import train_test_split\n",
        "from skimage.segmentation import watershed\n",
        "from scipy import ndimage\n",
        "from sklearn.ensemble import ExtraTreesClassifier\n",
        "from skimage.color import rgb2hsv,rgb2gray\n",
        "from collections import OrderedDict\n",
        "from skimage import exposure\n",
        "from skimage import io\n",
        "import pickle \n",
        "from joblib import dump, load\n",
        "import json\n",
        "\n",
        "path_to_data = 'drive/My Drive/'\n",
        "\n",
        "class UV_Model(object):\n",
        "  \n",
        "  def __init__(self,model=None):\n",
        "    if model == None:\n",
        "      self.features = pd.read_csv(path_to_data + 'data/features.csv')\n",
        "      self.y = uv_data['segment_value']\n",
        "      self.etc = ExtraTreesClassifier(criterion='gini',min_samples_split=3) #warm_start=True\n",
        "      self.etc.fit(self.features,self.y)\n",
        "    else:\n",
        "      self.etc = load(model)    \n",
        "\n",
        "  def __histogram_equalize(self,img): \n",
        "    img_cdf, bin_centers = exposure.cumulative_distribution(img) \n",
        "    return np.interp(img, bin_centers, img_cdf)\n",
        "\n",
        "  def __get_features(self,photo,mask,segment_num):\n",
        "    # Get segment from photo\n",
        "    p1 = np.ma.masked_where(mask == segment_num, photo[:,:,0])\n",
        "    p2 = np.ma.masked_where(mask == segment_num, photo[:,:,1])\n",
        "    p3 = np.ma.masked_where(mask == segment_num, photo[:,:,2])\n",
        "    # Get histograms 3 chanels of photo\n",
        "    hist1 = np.histogram(p1.mask * p1.data, bins = 32, range = (0,1))\n",
        "    hist2 = np.histogram(p2.mask * p2.data, bins = 32, range = (0,1))\n",
        "    hist3 = np.histogram(p3.mask * p3.data, bins = 32, range = (0,1))\n",
        "    \n",
        "    features = np.concatenate((np.array(hist1[0][1:] / np.sum(p1.mask),dtype=object),\n",
        "                              np.array(hist2[0][1:] / np.sum(p2.mask),dtype=object),\n",
        "                              np.array(hist3[0][1:] / np.sum(p3.mask),dtype=object)))\n",
        "    return features\n",
        "\n",
        "  def __segment_preprocessing(self,photo,mask,segment_num):\n",
        "    hsv_features = self.__get_features(rgb2hsv(photo),mask,segment_num) \n",
        "    rgb_features = self.__get_features(self.__histogram_equalize(photo),mask,segment_num)      \n",
        "    vector = np.concatenate((hsv_features,rgb_features))\n",
        "    return vector \n",
        "\n",
        "  def __get_important_features(self,features):\n",
        "    discarded_features = np.load(path_to_data + 'data/not_importance_features.npy')\n",
        "    for i in range(len(discarded_features)):\n",
        "      features.drop(discarded_features[i],axis='columns', inplace=True)\n",
        "    return features\n",
        "\n",
        "  def __photo_preprocessing(self,photo,mask,json_data=None):\n",
        "    features_arr = []\n",
        "    if json_data == None:\n",
        "      unique_segments = list(OrderedDict.fromkeys(mask.ravel()))\n",
        "    else: \n",
        "      unique_segments = list(map(int,json_data.keys()))\n",
        "      y = []\n",
        "    for i in unique_segments:\n",
        "      vector = self.__segment_preprocessing(photo,mask,i)        \n",
        "      features_arr.append(list(vector))\n",
        "      if json_data != None:\n",
        "        y.append(json_data[str(i)])\n",
        "\n",
        "    features = pd.DataFrame(features_arr)\n",
        "    features = self.__get_important_features(features)\n",
        "    if json_data != None:\n",
        "      y = pd.Series(y)\n",
        "      features['y'] = y\n",
        "\n",
        "    return features\n",
        "\n",
        "  \n",
        "  def __to_semantic_segmentation(self,mask,predicts):\n",
        "    labels_uniq = list(OrderedDict.fromkeys(mask.ravel()))\n",
        "\n",
        "    for i in range(predicts.shape[0]):\n",
        "      if predicts[i] == 'Отсутствует':\n",
        "        mask = np.where(mask == labels_uniq[i],100,mask)\n",
        "      if predicts[i] == 'Насыщенное':\n",
        "        mask = np.where(mask == labels_uniq[i],200,mask)\n",
        "      if predicts[i] == 'Карбонатное':\n",
        "        mask = np.where(mask == labels_uniq[i],300,mask)\n",
        "    return mask\n",
        "\n",
        "  def predict(self,photo):\n",
        "    mask = watershed(rgb2gray(photo),markers=12)\n",
        "    photo_features = self.__photo_preprocessing(photo,mask)\n",
        "    predicts = self.etc.predict(photo_features)\n",
        "    semantic_seg = self.__to_semantic_segmentation(mask,predicts)\n",
        "    return semantic_seg\n",
        "\n",
        "  def retrain(self,photos,masks,jsons):\n",
        "    for i in range(len(photos)):\n",
        "      photo = photos[i]\n",
        "      mask = masks[i]\n",
        "      json_data = jsons[i]\n",
        "      features = self.__photo_preprocessing(photo,mask,json_data)\n",
        "      y = features['y']\n",
        "      features.drop(['y'],axis='columns', inplace=True)\n",
        "      #self.etc.fit(features,y)\n",
        "      for i in range(features.shape[0]):\n",
        "        self.features.loc[self.features.shape[0]] = features.loc[i].tolist()\n",
        "        self.y.loc[self.y.shape[0]] = y.loc[i]\n",
        "    self.etc.fit(self.features,self.y)\n",
        "  \n",
        "\n",
        "\n",
        "  def save_model(self,name):\n",
        "    dump(self.etc,name) \n"
      ],
      "execution_count": 12,
      "outputs": []
    },
    {
      "cell_type": "code",
      "metadata": {
        "id": "G5juXLMGU43b"
      },
      "source": [
        "obj = UV_Model()\n",
        "#photo = get_photo(uv_data,0)\n",
        "#predict = obj.predict(photo)\n",
        "#plt.imshow(predict)"
      ],
      "execution_count": 13,
      "outputs": []
    },
    {
      "cell_type": "code",
      "metadata": {
        "id": "OSJaS5w1jWSf"
      },
      "source": [
        "photo = get_photo(uv_data,1500)\n",
        "mask = get_mask(uv_data,1500)\n",
        "\n",
        "data = {\n",
        "    \"0\" :\"Насыщенное\",\n",
        "    \"1\" :\"Насыщенное\",\n",
        "    \"2\" :\"Насыщенное\",\n",
        "    \"3\" :\"Насыщенное\",\n",
        "    \"4\" :\"Насыщенное\",\n",
        "}\n",
        "json_data = json.dumps(data)\n",
        "js = json.loads(json_data)\n",
        "\n"
      ],
      "execution_count": 14,
      "outputs": []
    },
    {
      "cell_type": "code",
      "metadata": {
        "id": "-eUDonwiUPcN"
      },
      "source": [
        "photo2 = get_photo(uv_data,1500)\n",
        "mask2 = get_mask(uv_data,1500)\n",
        "\n",
        "data2 = {\n",
        "    \"0\" :\"Насыщенное\",\n",
        "    \"1\" :\"Насыщенное\",\n",
        "    \"2\" :\"Насыщенное\",\n",
        "    \"3\" :\"Насыщенное\",\n",
        "    \"4\" :\"Насыщенное\",\n",
        "}\n",
        "json_data2 = json.dumps(data2)\n",
        "js2 = json.loads(json_data2)\n",
        "\n",
        "photos = []\n",
        "photos.append(photo)\n",
        "photos.append(photo2)\n",
        "\n",
        "masks = []\n",
        "masks.append(mask)\n",
        "masks.append(mask2)\n",
        "\n",
        "jsons = []\n",
        "jsons.append(js)\n",
        "jsons.append(js2)\n",
        "\n",
        "\n",
        "obj.retrain(photos,masks,jsons)"
      ],
      "execution_count": 15,
      "outputs": []
    },
    {
      "cell_type": "code",
      "metadata": {
        "id": "gzTYB5Q3uVJB",
        "colab": {
          "base_uri": "https://localhost:8080/",
          "height": 286
        },
        "outputId": "8ab8ad47-12ca-4774-c72a-b340b6defb3a"
      },
      "source": [
        "photo = get_photo(uv_data,1500)\n",
        "predict = obj.predict(photo)\n",
        "plt.imshow(predict)"
      ],
      "execution_count": 16,
      "outputs": [
        {
          "output_type": "execute_result",
          "data": {
            "text/plain": [
              "<matplotlib.image.AxesImage at 0x7f2e75df9b38>"
            ]
          },
          "metadata": {
            "tags": []
          },
          "execution_count": 16
        },
        {
          "output_type": "display_data",
          "data": {
            "image/png": "[encoded data removed]",
            "text/plain": [
              "<Figure size 432x288 with 1 Axes>"
            ]
          },
          "metadata": {
            "tags": [],
            "needs_background": "light"
          }
        }
      ]
    },
    {
      "cell_type": "code",
      "metadata": {
        "id": "UXqFgSyxvKl3",
        "colab": {
          "base_uri": "https://localhost:8080/"
        },
        "outputId": "5a4e267b-6c7a-4088-b920-dcc88b76a616"
      },
      "source": [
        "type(get_photo(uv_data,0))"
      ],
      "execution_count": null,
      "outputs": [
        {
          "output_type": "execute_result",
          "data": {
            "text/plain": [
              "numpy.ndarray"
            ]
          },
          "metadata": {
            "tags": []
          },
          "execution_count": 30
        }
      ]
    },
    {
      "cell_type": "code",
      "metadata": {
        "id": "7rwR23Q6vuEw"
      },
      "source": [
        ""
      ],
      "execution_count": null,
      "outputs": []
    }
  ]
}