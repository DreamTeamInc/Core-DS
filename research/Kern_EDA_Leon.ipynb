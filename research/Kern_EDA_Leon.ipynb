{
  "nbformat": 4,
  "nbformat_minor": 0,
  "metadata": {
    "colab": {
      "name": "Kern EDA Leon",
      "provenance": [],
      "collapsed_sections": [],
      "include_colab_link": true
    },
    "kernelspec": {
      "name": "python3",
      "display_name": "Python 3"
    }
  },
  "cells": [
    {
      "cell_type": "markdown",
      "metadata": {
        "id": "view-in-github",
        "colab_type": "text"
      },
      "source": [
        "<a href=\"https://colab.research.google.com/github/DreamTeamInc/Core-DS/blob/issues%2F2/research/Kern_EDA_Leon.ipynb\" target=\"_parent\"><img src=\"https://colab.research.google.com/assets/colab-badge.svg\" alt=\"Open In Colab\"/></a>"
      ]
    },
    {
      "cell_type": "markdown",
      "metadata": {
        "id": "QoyJRAtbwI3y"
      },
      "source": [
        "Команда ниже монтирует образ gDrive. Добавь ярлык на папку с керном перед этим.\n"
      ]
    },
    {
      "cell_type": "code",
      "metadata": {
        "id": "UDNK1hQEpTgm",
        "colab": {
          "base_uri": "https://localhost:8080/"
        },
        "outputId": "5349d206-3a77-4085-f11f-561d0ac98564"
      },
      "source": [
        "from google.colab import drive\n",
        "drive.mount('/content/drive')\n",
        "\n",
        "# Path to 'sample_core_analysis_data_example' folder with folder name\n",
        "SAMPLE_CORE_PATH = 'drive/My Drive/ sample_core_analysis_data_example'"
      ],
      "execution_count": null,
      "outputs": [
        {
          "output_type": "stream",
          "text": [
            "Mounted at /content/drive\n"
          ],
          "name": "stdout"
        }
      ]
    },
    {
      "cell_type": "markdown",
      "metadata": {
        "id": "-cyHF5iqwahY"
      },
      "source": [
        "# Инициализация библиотек"
      ]
    },
    {
      "cell_type": "code",
      "metadata": {
        "id": "rCpadN8OwRxi"
      },
      "source": [
        "import pandas as pd\n",
        "import numpy as np\n",
        "import matplotlib.pyplot as plt\n",
        "import json\n",
        "import seaborn as sns\n",
        "import copy\n",
        "\n",
        "from skimage import io\n",
        "# from skimage import exposure\n",
        "\n",
        "pd.options.mode.chained_assignment = None"
      ],
      "execution_count": null,
      "outputs": []
    },
    {
      "cell_type": "markdown",
      "metadata": {
        "id": "_c4K2qbZ3_oS"
      },
      "source": [
        "# Общий обзор данных"
      ]
    },
    {
      "cell_type": "code",
      "metadata": {
        "id": "VKAQ74CNwfM3",
        "colab": {
          "base_uri": "https://localhost:8080/",
          "height": 419
        },
        "outputId": "287848be-0990-412e-c4fe-ceb10515356d"
      },
      "source": [
        "data = pd.read_csv(SAMPLE_CORE_PATH + '/data.csv')\n",
        "data"
      ],
      "execution_count": null,
      "outputs": [
        {
          "output_type": "execute_result",
          "data": {
            "text/html": [
              "<div>\n",
              "<style scoped>\n",
              "    .dataframe tbody tr th:only-of-type {\n",
              "        vertical-align: middle;\n",
              "    }\n",
              "\n",
              "    .dataframe tbody tr th {\n",
              "        vertical-align: top;\n",
              "    }\n",
              "\n",
              "    .dataframe thead th {\n",
              "        text-align: right;\n",
              "    }\n",
              "</style>\n",
              "<table border=\"1\" class=\"dataframe\">\n",
              "  <thead>\n",
              "    <tr style=\"text-align: right;\">\n",
              "      <th></th>\n",
              "      <th>task_id</th>\n",
              "      <th>photo_id</th>\n",
              "      <th>photo_type</th>\n",
              "      <th>segment_num</th>\n",
              "      <th>segment_type</th>\n",
              "      <th>segment_value</th>\n",
              "    </tr>\n",
              "  </thead>\n",
              "  <tbody>\n",
              "    <tr>\n",
              "      <th>0</th>\n",
              "      <td>c6a24494_7931_4ca9_a148_f1fd9785b607</td>\n",
              "      <td>1012473</td>\n",
              "      <td>УФ</td>\n",
              "      <td>0</td>\n",
              "      <td>Свечение</td>\n",
              "      <td>Насыщенное</td>\n",
              "    </tr>\n",
              "    <tr>\n",
              "      <th>1</th>\n",
              "      <td>c6a24494_7931_4ca9_a148_f1fd9785b607</td>\n",
              "      <td>1012473</td>\n",
              "      <td>УФ</td>\n",
              "      <td>1</td>\n",
              "      <td>Свечение</td>\n",
              "      <td>Отсутствует</td>\n",
              "    </tr>\n",
              "    <tr>\n",
              "      <th>2</th>\n",
              "      <td>cfb8e7b2_7c98_4bd4_897d_0e5e95801bc9</td>\n",
              "      <td>1016625</td>\n",
              "      <td>УФ</td>\n",
              "      <td>0</td>\n",
              "      <td>Свечение</td>\n",
              "      <td>Карбонатное</td>\n",
              "    </tr>\n",
              "    <tr>\n",
              "      <th>3</th>\n",
              "      <td>a9d8f546_9046_46ce_ba17_abda344a0980</td>\n",
              "      <td>1013361</td>\n",
              "      <td>УФ</td>\n",
              "      <td>0</td>\n",
              "      <td>Свечение</td>\n",
              "      <td>Карбонатное</td>\n",
              "    </tr>\n",
              "    <tr>\n",
              "      <th>4</th>\n",
              "      <td>eb09a8aa_6c77_41de_8489_f5a390c789e8</td>\n",
              "      <td>1016727</td>\n",
              "      <td>УФ</td>\n",
              "      <td>0</td>\n",
              "      <td>Свечение</td>\n",
              "      <td>Карбонатное</td>\n",
              "    </tr>\n",
              "    <tr>\n",
              "      <th>...</th>\n",
              "      <td>...</td>\n",
              "      <td>...</td>\n",
              "      <td>...</td>\n",
              "      <td>...</td>\n",
              "      <td>...</td>\n",
              "      <td>...</td>\n",
              "    </tr>\n",
              "    <tr>\n",
              "      <th>14910</th>\n",
              "      <td>de63ac27_e98e_459a_9672_b07415228a50</td>\n",
              "      <td>1009408</td>\n",
              "      <td>ДС</td>\n",
              "      <td>6</td>\n",
              "      <td>Разрушенность</td>\n",
              "      <td>Разлом</td>\n",
              "    </tr>\n",
              "    <tr>\n",
              "      <th>14911</th>\n",
              "      <td>de63ac27_e98e_459a_9672_b07415228a50</td>\n",
              "      <td>1009408</td>\n",
              "      <td>ДС</td>\n",
              "      <td>7</td>\n",
              "      <td>Разрушенность</td>\n",
              "      <td>Разлом</td>\n",
              "    </tr>\n",
              "    <tr>\n",
              "      <th>14912</th>\n",
              "      <td>de63ac27_e98e_459a_9672_b07415228a50</td>\n",
              "      <td>1009408</td>\n",
              "      <td>ДС</td>\n",
              "      <td>8</td>\n",
              "      <td>Разрушенность</td>\n",
              "      <td>Разлом</td>\n",
              "    </tr>\n",
              "    <tr>\n",
              "      <th>14913</th>\n",
              "      <td>de63ac27_e98e_459a_9672_b07415228a50</td>\n",
              "      <td>1009408</td>\n",
              "      <td>ДС</td>\n",
              "      <td>9</td>\n",
              "      <td>Разрушенность</td>\n",
              "      <td>Разлом</td>\n",
              "    </tr>\n",
              "    <tr>\n",
              "      <th>14914</th>\n",
              "      <td>f5e57301_6ffc_4f3b_8c8f_b311478b58c3</td>\n",
              "      <td>1004015</td>\n",
              "      <td>УФ</td>\n",
              "      <td>0</td>\n",
              "      <td>Свечение</td>\n",
              "      <td>Карбонатное</td>\n",
              "    </tr>\n",
              "  </tbody>\n",
              "</table>\n",
              "<p>14915 rows × 6 columns</p>\n",
              "</div>"
            ],
            "text/plain": [
              "                                    task_id  ...  segment_value\n",
              "0      c6a24494_7931_4ca9_a148_f1fd9785b607  ...     Насыщенное\n",
              "1      c6a24494_7931_4ca9_a148_f1fd9785b607  ...    Отсутствует\n",
              "2      cfb8e7b2_7c98_4bd4_897d_0e5e95801bc9  ...    Карбонатное\n",
              "3      a9d8f546_9046_46ce_ba17_abda344a0980  ...    Карбонатное\n",
              "4      eb09a8aa_6c77_41de_8489_f5a390c789e8  ...    Карбонатное\n",
              "...                                     ...  ...            ...\n",
              "14910  de63ac27_e98e_459a_9672_b07415228a50  ...         Разлом\n",
              "14911  de63ac27_e98e_459a_9672_b07415228a50  ...         Разлом\n",
              "14912  de63ac27_e98e_459a_9672_b07415228a50  ...         Разлом\n",
              "14913  de63ac27_e98e_459a_9672_b07415228a50  ...         Разлом\n",
              "14914  f5e57301_6ffc_4f3b_8c8f_b311478b58c3  ...    Карбонатное\n",
              "\n",
              "[14915 rows x 6 columns]"
            ]
          },
          "metadata": {
            "tags": []
          },
          "execution_count": 3
        }
      ]
    },
    {
      "cell_type": "code",
      "metadata": {
        "id": "GwPhd_9-wsNE",
        "colab": {
          "base_uri": "https://localhost:8080/"
        },
        "outputId": "e9ca2964-4bf2-40d3-f579-0d687b62c1c1"
      },
      "source": [
        "print('Типы фотографий - ', pd.unique(data['photo_type'].values))"
      ],
      "execution_count": null,
      "outputs": [
        {
          "output_type": "stream",
          "text": [
            "Типы фотографий -  ['УФ' 'ДС']\n"
          ],
          "name": "stdout"
        }
      ]
    },
    {
      "cell_type": "code",
      "metadata": {
        "id": "nNHwXcya4N2s",
        "colab": {
          "base_uri": "https://localhost:8080/"
        },
        "outputId": "42b8fb7f-1f51-4629-fbb7-df3c50071b60"
      },
      "source": [
        "print('Типы сегментов - ', pd.unique(data['segment_type'].values))"
      ],
      "execution_count": null,
      "outputs": [
        {
          "output_type": "stream",
          "text": [
            "Типы сегментов -  ['Свечение' 'Разрушенность' 'Порода']\n"
          ],
          "name": "stdout"
        }
      ]
    },
    {
      "cell_type": "code",
      "metadata": {
        "id": "K25Jx2iY4RoU",
        "colab": {
          "base_uri": "https://localhost:8080/"
        },
        "outputId": "952198e3-8aee-4931-a0e4-9903095c0e9a"
      },
      "source": [
        "print('Классификации сегментов - ', pd.unique(data['segment_value'].values))"
      ],
      "execution_count": null,
      "outputs": [
        {
          "output_type": "stream",
          "text": [
            "Классификации сегментов -  ['Насыщенное' 'Отсутствует' 'Карбонатное' 'Разлом' 'Аргиллит'\n",
            " 'Переслаивание пород' 'Алевролит глинистый' 'Песчаник' 'Проба'\n",
            " 'Глинисто-кремнистая порода' 'Песчаник глинистый' 'Уголь'\n",
            " 'Аргиллит углистый' 'Алевролит' 'Карбонатная порода' 'Известняк'\n",
            " 'Глина аргиллитоподобная']\n"
          ],
          "name": "stdout"
        }
      ]
    },
    {
      "cell_type": "markdown",
      "metadata": {
        "id": "wcB_CVDS5hyS"
      },
      "source": [
        "**Note.** Как можно заметить ниже, сначала происходит сегсентация по 'типам', которые потом отдельно классифицируются."
      ]
    },
    {
      "cell_type": "code",
      "metadata": {
        "id": "_agmEvfk4WXk",
        "colab": {
          "base_uri": "https://localhost:8080/"
        },
        "outputId": "322ce935-ef6c-4c3e-bd68-781552caffb1"
      },
      "source": [
        "print('Свечение - ', pd.unique(data[data['segment_type'] == 'Свечение']['segment_value'].values))\n",
        "print('Разрушенность - ', pd.unique(data[data['segment_type'] == 'Разрушенность']['segment_value'].values))\n",
        "print('Порода - ', pd.unique(data[data['segment_type'] == 'Порода']['segment_value'].values))"
      ],
      "execution_count": null,
      "outputs": [
        {
          "output_type": "stream",
          "text": [
            "Свечение -  ['Насыщенное' 'Отсутствует' 'Карбонатное']\n",
            "Разрушенность -  ['Разлом' 'Проба']\n",
            "Порода -  ['Аргиллит' 'Переслаивание пород' 'Алевролит глинистый' 'Песчаник'\n",
            " 'Глинисто-кремнистая порода' 'Песчаник глинистый' 'Уголь'\n",
            " 'Аргиллит углистый' 'Алевролит' 'Карбонатная порода' 'Известняк'\n",
            " 'Глина аргиллитоподобная']\n"
          ],
          "name": "stdout"
        }
      ]
    },
    {
      "cell_type": "markdown",
      "metadata": {
        "id": "ekAL5nwJ4zt7"
      },
      "source": [
        "# Вспомогательные функции для изъятия файлов"
      ]
    },
    {
      "cell_type": "code",
      "metadata": {
        "id": "zDFMQmZc4uGb"
      },
      "source": [
        "def show_image(image, nrows=1, ncols=1, cmap='gray'):\n",
        "    fig, ax = plt.subplots(nrows=nrows, ncols=ncols, figsize=(14, 14))\n",
        "    ax.imshow(image)\n",
        "    ax.axis('off')\n",
        "    return fig, ax\n",
        "\n",
        "def get_photo(data, i):\n",
        "    return io.imread(SAMPLE_CORE_PATH + '/photos/{}.jpeg'.format(data['photo_id'].iloc[i]))\n",
        "\n",
        "def get_mask(data, i):\n",
        "    return np.load(SAMPLE_CORE_PATH + '/matrixes/matrix_{}__{}.npz'.format(data['photo_id'].iloc[i], data['task_id'].iloc[i]))['data']\n",
        "\n",
        "def get_json(data, i):\n",
        "    datastore = ''\n",
        "    with open(SAMPLE_CORE_PATH + '/extra/extra_{}__{}.json'.format(data['photo_id'].iloc[i],\n",
        "                                                                   data['task_id'].iloc[i]), 'r', encoding=\"utf8\") as f:\n",
        "        datastore = json.load(f)\n",
        "\n",
        "    return datastore\n",
        "\n",
        "def show_all(data, i):\n",
        "    print(data.iloc[i])\n",
        "    fig, (ax1, ax2) = plt.subplots(1, 2, figsize=(14, 14))\n",
        "    ax1.imshow(get_photo(data, i))\n",
        "    ax1.axis('off')\n",
        "\n",
        "    cmap = plt.get_cmap('tab20b', np.max(get_mask(data, i)) + 1)\n",
        "    mask = ax2.imshow(get_mask(data, i), cmap=cmap,\n",
        "                      vmin=-0.5, vmax=np.max(get_mask(data, i))+0.5)\n",
        "    ax2.axis('off')\n",
        "    fig.colorbar(mask, ticks=np.arange(0, np.max(get_mask(data, i))+1))\n",
        "    return fig, (ax1, ax2)\n",
        "\n",
        "\n",
        "\n",
        "def show_photo_seies(data, column, value):\n",
        "    fig, ax_ar = plt.subplots(1, 5, figsize=(14, 14))\n",
        "    filt_data = data[data[column] == value]\n",
        "    i = np.random.randint(0, filt_data.shape[0])\n",
        "    for ax in ax_ar:\n",
        "        filt_by_photo = filt_data[filt_data['photo_id'] == filt_data['photo_id'].iloc[i]]\n",
        "        segments = filt_by_photo['segment_num'].values\n",
        "        photo = get_photo(filt_data, i)\n",
        "        mask = get_mask(filt_data, i)\n",
        "        for value in segments:\n",
        "            mask = np.ma.masked_where(mask == value, mask)\n",
        "        \n",
        "        ax.imshow(photo)\n",
        "        ax.imshow(mask)\n",
        "        ax.axis('off')\n",
        "        filt_data.drop(filt_by_photo.index.values, axis=0, inplace=True)\n",
        "        i = np.random.randint(0, filt_data.shape[0])\n",
        "    \n",
        "    return fig, ax_ar"
      ],
      "execution_count": null,
      "outputs": []
    },
    {
      "cell_type": "markdown",
      "metadata": {
        "id": "p44IrIyV5Jni"
      },
      "source": [
        "# Визуализация данных"
      ]
    },
    {
      "cell_type": "markdown",
      "metadata": {
        "id": "8aON21TlOv3-"
      },
      "source": [
        "**Note.** Существуют фото с кол-вом сегментов больше 30 (ex. 1002)"
      ]
    },
    {
      "cell_type": "code",
      "metadata": {
        "id": "0amrqc254yud"
      },
      "source": [
        "# show_all(data, 11000)"
      ],
      "execution_count": null,
      "outputs": []
    },
    {
      "cell_type": "code",
      "metadata": {
        "id": "vQEAZQ-RBL05"
      },
      "source": [
        "# show_photo_seies(data, 'segment_value', 'Глина аргиллитоподобная')"
      ],
      "execution_count": null,
      "outputs": []
    },
    {
      "cell_type": "code",
      "metadata": {
        "id": "LIsG_qghSUEX"
      },
      "source": [
        "# show_photo_seies(data, 'segment_value', 'Переслаивание пород')"
      ],
      "execution_count": null,
      "outputs": []
    },
    {
      "cell_type": "markdown",
      "metadata": {
        "id": "X2vZFMZvB2DU"
      },
      "source": [
        "Похожие штуки:\n",
        "1.   Аргиллит, Переслаивание пород, Алевролит глинистый, Песчаник (?), Песчаник глинистый \n",
        "2.   Карбонатная порода, Известняк, Глина аргиллитоподобная\n",
        "\n"
      ]
    },
    {
      "cell_type": "markdown",
      "metadata": {
        "id": "xItGlt3sV-7e"
      },
      "source": [
        "# Более глубокая провека данных"
      ]
    },
    {
      "cell_type": "markdown",
      "metadata": {
        "id": "0aMwLGZeZqOO"
      },
      "source": [
        "Визуализация распределения ширины и высоты фотографий/масок"
      ]
    },
    {
      "cell_type": "code",
      "metadata": {
        "id": "RVZYNXz10VTf"
      },
      "source": [
        "def plot_shape_distribution(data):\n",
        "    height = []\n",
        "    width = []\n",
        "\n",
        "    for index, row in data.iterrows():\n",
        "        photo = get_photo(data, index)\n",
        "        height.append(photo.shape[0])\n",
        "        width.append(photo.shape[1])\n",
        "    \n",
        "    return sns.scatterplot(x=width, y=height, hue=data['photo_type'].to_numpy())"
      ],
      "execution_count": null,
      "outputs": []
    },
    {
      "cell_type": "code",
      "metadata": {
        "id": "UcXtEh2qY1qe",
        "colab": {
          "base_uri": "https://localhost:8080/",
          "height": 282
        },
        "outputId": "a4770df6-a684-42af-8ea9-67cacf5ea2c4"
      },
      "source": [
        "plot_shape_distribution(data)"
      ],
      "execution_count": null,
      "outputs": [
        {
          "output_type": "execute_result",
          "data": {
            "text/plain": [
              "<matplotlib.axes._subplots.AxesSubplot at 0x7f4f5aaf3860>"
            ]
          },
          "metadata": {
            "tags": []
          },
          "execution_count": 18
        },
        {
          "output_type": "display_data",
          "data": {
            "image/png": "[encoded data removed]",
            "text/plain": [
              "<Figure size 432x288 with 1 Axes>"
            ]
          },
          "metadata": {
            "tags": [],
            "needs_background": "light"
          }
        }
      ]
    },
    {
      "cell_type": "markdown",
      "metadata": {
        "id": "pfa6KAOFZ5p7"
      },
      "source": [
        "Расчёт соотношения 'УФ' фотографий к 'ДС' фотографиям в датасете"
      ]
    },
    {
      "cell_type": "code",
      "metadata": {
        "id": "09jovS01nUTh",
        "colab": {
          "base_uri": "https://localhost:8080/",
          "height": 34
        },
        "outputId": "f3a9e47a-c5d4-4b38-c353-9fd6252a00cd"
      },
      "source": [
        "data[data['photo_type'] == 'УФ'].shape[0]/data[data['photo_type'] == 'ДС'].shape[0]"
      ],
      "execution_count": null,
      "outputs": [
        {
          "output_type": "execute_result",
          "data": {
            "text/plain": [
              "0.13768115942028986"
            ]
          },
          "metadata": {
            "tags": []
          },
          "execution_count": 25
        }
      ]
    },
    {
      "cell_type": "markdown",
      "metadata": {
        "id": "yBTtXa6WaC7i"
      },
      "source": [
        "Визуализация распределения segment_value по датасету\n"
      ]
    },
    {
      "cell_type": "code",
      "metadata": {
        "id": "bf05nZAlmt4z",
        "colab": {
          "base_uri": "https://localhost:8080/",
          "height": 402
        },
        "outputId": "bfebcc42-b8ac-46df-cb4b-14668893653f"
      },
      "source": [
        "sns.catplot(x=\"segment_type\", hue=\"segment_value\", kind=\"count\", data=data)"
      ],
      "execution_count": null,
      "outputs": [
        {
          "output_type": "execute_result",
          "data": {
            "text/plain": [
              "<seaborn.axisgrid.FacetGrid at 0x7f4f5c483438>"
            ]
          },
          "metadata": {
            "tags": []
          },
          "execution_count": 26
        },
        {
          "output_type": "display_data",
          "data": {
            "image/png": "[encoded data removed]",
            "text/plain": [
              "<Figure size 552.25x360 with 1 Axes>"
            ]
          },
          "metadata": {
            "tags": [],
            "needs_background": "light"
          }
        }
      ]
    },
    {
      "cell_type": "markdown",
      "metadata": {
        "id": "c6qDV59vaP41"
      },
      "source": [
        "Визуализация распределения segment_value с segment_type == 'Свечение'"
      ]
    },
    {
      "cell_type": "code",
      "metadata": {
        "id": "kj8hsbzNtRq4",
        "colab": {
          "base_uri": "https://localhost:8080/",
          "height": 402
        },
        "outputId": "39285213-cc7a-47bc-ee92-318ef73566c9"
      },
      "source": [
        "sns.catplot(x=\"segment_value\", kind=\"count\", data=data[data['segment_type'] == 'Свечение'])"
      ],
      "execution_count": null,
      "outputs": [
        {
          "output_type": "execute_result",
          "data": {
            "text/plain": [
              "<seaborn.axisgrid.FacetGrid at 0x7f4f56ae70f0>"
            ]
          },
          "metadata": {
            "tags": []
          },
          "execution_count": 27
        },
        {
          "output_type": "display_data",
          "data": {
            "image/png": "[encoded data removed]",
            "text/plain": [
              "<Figure size 360x360 with 1 Axes>"
            ]
          },
          "metadata": {
            "tags": [],
            "needs_background": "light"
          }
        }
      ]
    },
    {
      "cell_type": "markdown",
      "metadata": {
        "id": "58tJu-lFaZ-0"
      },
      "source": [
        "Визуализация распределения segment_value с segment_type == 'Порода'"
      ]
    },
    {
      "cell_type": "code",
      "metadata": {
        "id": "pF7Lg_GEtmcd",
        "colab": {
          "base_uri": "https://localhost:8080/",
          "height": 547
        },
        "outputId": "4aec61b4-76b1-47d2-bfd2-b8b0d1627b0f"
      },
      "source": [
        "cp = sns.catplot(x=\"segment_value\", kind=\"count\", data=data[data['segment_type'] == 'Порода'])\n",
        "plt.xticks(rotation=90)\n",
        "cp"
      ],
      "execution_count": null,
      "outputs": [
        {
          "output_type": "execute_result",
          "data": {
            "text/plain": [
              "<seaborn.axisgrid.FacetGrid at 0x7f4f5688ce80>"
            ]
          },
          "metadata": {
            "tags": []
          },
          "execution_count": 33
        },
        {
          "output_type": "display_data",
          "data": {
            "image/png": "[encoded data removed]",
            "text/plain": [
              "<Figure size 360x360 with 1 Axes>"
            ]
          },
          "metadata": {
            "tags": [],
            "needs_background": "light"
          }
        }
      ]
    },
    {
      "cell_type": "markdown",
      "metadata": {
        "id": "3O4nMQJTaznS"
      },
      "source": [
        "Поиск уникальных полей в .json"
      ]
    },
    {
      "cell_type": "code",
      "metadata": {
        "id": "XxUdvrUU4bJp"
      },
      "source": [
        "def get_list_of_json_info_fields(data):\n",
        "    fields = []\n",
        "    for i in range(data.shape[0]):\n",
        "        seg_num = data['segment_num'].iloc[i]\n",
        "        temp = list(get_json(data, i)[seg_num]['info'].keys())\n",
        "        for field in temp:\n",
        "            if not field in fields:\n",
        "                fields.append(field)\n",
        "    \n",
        "    return fields"
      ],
      "execution_count": null,
      "outputs": []
    },
    {
      "cell_type": "code",
      "metadata": {
        "id": "TowpLuIr6_2A",
        "colab": {
          "base_uri": "https://localhost:8080/",
          "height": 265
        },
        "outputId": "e856ec41-0e2c-4c43-d481-419e415e59eb"
      },
      "source": [
        "fields = get_list_of_json_info_fields(data)\n",
        "fields"
      ],
      "execution_count": null,
      "outputs": [
        {
          "output_type": "execute_result",
          "data": {
            "text/plain": [
              "['Интенсивность',\n",
              " 'Характер',\n",
              " 'Тип',\n",
              " 'Цвет',\n",
              " 'Текстура',\n",
              " 'Целостность',\n",
              " 'Крепость',\n",
              " 'Трещиноватость',\n",
              " 'Форма трещин',\n",
              " 'Степень заполнения',\n",
              " 'Происхождение',\n",
              " 'Состав',\n",
              " 'Ихнофоссилии',\n",
              " 'Состав заполнения']"
            ]
          },
          "metadata": {
            "tags": []
          },
          "execution_count": 98
        }
      ]
    },
    {
      "cell_type": "markdown",
      "metadata": {
        "id": "SHeAIgpSa-jy"
      },
      "source": [
        "Создание датасета с колонками fields"
      ]
    },
    {
      "cell_type": "code",
      "metadata": {
        "id": "Q0J1aIVICAA6"
      },
      "source": [
        "def get_data_with_json_fields(data, fields):\n",
        "    df = copy.deepcopy(data)\n",
        "    for field in fields:\n",
        "        df[field] = np.nan\n",
        "\n",
        "    for i in range(df.shape[0]):\n",
        "        seg_num = data['segment_num'].iloc[i]\n",
        "        temp = get_json(df, i)[seg_num]['info']\n",
        "        for field in fields:\n",
        "            if field in temp:\n",
        "                s = ', '.join(temp[field])\n",
        "                df[field].iloc[i] = s\n",
        "    \n",
        "    return df"
      ],
      "execution_count": null,
      "outputs": []
    },
    {
      "cell_type": "code",
      "metadata": {
        "id": "FZievPPlCizP"
      },
      "source": [
        "df = get_data_with_json_fields(data, fields)"
      ],
      "execution_count": null,
      "outputs": []
    },
    {
      "cell_type": "code",
      "metadata": {
        "id": "5bCkRo1nEcZt",
        "colab": {
          "base_uri": "https://localhost:8080/",
          "height": 443
        },
        "outputId": "9db2293b-9f90-4c08-b2ee-eb0f2eca421a"
      },
      "source": [
        "df"
      ],
      "execution_count": null,
      "outputs": [
        {
          "output_type": "execute_result",
          "data": {
            "text/html": [
              "<div>\n",
              "<style scoped>\n",
              "    .dataframe tbody tr th:only-of-type {\n",
              "        vertical-align: middle;\n",
              "    }\n",
              "\n",
              "    .dataframe tbody tr th {\n",
              "        vertical-align: top;\n",
              "    }\n",
              "\n",
              "    .dataframe thead th {\n",
              "        text-align: right;\n",
              "    }\n",
              "</style>\n",
              "<table border=\"1\" class=\"dataframe\">\n",
              "  <thead>\n",
              "    <tr style=\"text-align: right;\">\n",
              "      <th></th>\n",
              "      <th>task_id</th>\n",
              "      <th>photo_id</th>\n",
              "      <th>photo_type</th>\n",
              "      <th>segment_num</th>\n",
              "      <th>segment_type</th>\n",
              "      <th>segment_value</th>\n",
              "      <th>Интенсивность</th>\n",
              "      <th>Характер</th>\n",
              "      <th>Тип</th>\n",
              "      <th>Цвет</th>\n",
              "      <th>Текстура</th>\n",
              "      <th>Целостность</th>\n",
              "      <th>Крепость</th>\n",
              "      <th>Трещиноватость</th>\n",
              "      <th>Форма трещин</th>\n",
              "      <th>Степень заполнения</th>\n",
              "      <th>Происхождение</th>\n",
              "      <th>Состав</th>\n",
              "      <th>Ихнофоссилии</th>\n",
              "      <th>Состав заполнения</th>\n",
              "    </tr>\n",
              "  </thead>\n",
              "  <tbody>\n",
              "    <tr>\n",
              "      <th>0</th>\n",
              "      <td>c6a24494_7931_4ca9_a148_f1fd9785b607</td>\n",
              "      <td>1012473</td>\n",
              "      <td>УФ</td>\n",
              "      <td>0</td>\n",
              "      <td>Свечение</td>\n",
              "      <td>Насыщенное</td>\n",
              "      <td>Среднее</td>\n",
              "      <td>Полосчатое</td>\n",
              "      <td>NaN</td>\n",
              "      <td>NaN</td>\n",
              "      <td>NaN</td>\n",
              "      <td>NaN</td>\n",
              "      <td>NaN</td>\n",
              "      <td>NaN</td>\n",
              "      <td>NaN</td>\n",
              "      <td>NaN</td>\n",
              "      <td>NaN</td>\n",
              "      <td>NaN</td>\n",
              "      <td>NaN</td>\n",
              "      <td>NaN</td>\n",
              "    </tr>\n",
              "    <tr>\n",
              "      <th>1</th>\n",
              "      <td>c6a24494_7931_4ca9_a148_f1fd9785b607</td>\n",
              "      <td>1012473</td>\n",
              "      <td>УФ</td>\n",
              "      <td>1</td>\n",
              "      <td>Свечение</td>\n",
              "      <td>Отсутствует</td>\n",
              "      <td>NaN</td>\n",
              "      <td>NaN</td>\n",
              "      <td>NaN</td>\n",
              "      <td>NaN</td>\n",
              "      <td>NaN</td>\n",
              "      <td>NaN</td>\n",
              "      <td>NaN</td>\n",
              "      <td>NaN</td>\n",
              "      <td>NaN</td>\n",
              "      <td>NaN</td>\n",
              "      <td>NaN</td>\n",
              "      <td>NaN</td>\n",
              "      <td>NaN</td>\n",
              "      <td>NaN</td>\n",
              "    </tr>\n",
              "    <tr>\n",
              "      <th>2</th>\n",
              "      <td>cfb8e7b2_7c98_4bd4_897d_0e5e95801bc9</td>\n",
              "      <td>1016625</td>\n",
              "      <td>УФ</td>\n",
              "      <td>0</td>\n",
              "      <td>Свечение</td>\n",
              "      <td>Карбонатное</td>\n",
              "      <td>NaN</td>\n",
              "      <td>NaN</td>\n",
              "      <td>Известковый</td>\n",
              "      <td>NaN</td>\n",
              "      <td>NaN</td>\n",
              "      <td>NaN</td>\n",
              "      <td>NaN</td>\n",
              "      <td>NaN</td>\n",
              "      <td>NaN</td>\n",
              "      <td>NaN</td>\n",
              "      <td>NaN</td>\n",
              "      <td>NaN</td>\n",
              "      <td>NaN</td>\n",
              "      <td>NaN</td>\n",
              "    </tr>\n",
              "    <tr>\n",
              "      <th>3</th>\n",
              "      <td>a9d8f546_9046_46ce_ba17_abda344a0980</td>\n",
              "      <td>1013361</td>\n",
              "      <td>УФ</td>\n",
              "      <td>0</td>\n",
              "      <td>Свечение</td>\n",
              "      <td>Карбонатное</td>\n",
              "      <td>NaN</td>\n",
              "      <td>NaN</td>\n",
              "      <td>Известковистый</td>\n",
              "      <td>NaN</td>\n",
              "      <td>NaN</td>\n",
              "      <td>NaN</td>\n",
              "      <td>NaN</td>\n",
              "      <td>NaN</td>\n",
              "      <td>NaN</td>\n",
              "      <td>NaN</td>\n",
              "      <td>NaN</td>\n",
              "      <td>NaN</td>\n",
              "      <td>NaN</td>\n",
              "      <td>NaN</td>\n",
              "    </tr>\n",
              "    <tr>\n",
              "      <th>4</th>\n",
              "      <td>eb09a8aa_6c77_41de_8489_f5a390c789e8</td>\n",
              "      <td>1016727</td>\n",
              "      <td>УФ</td>\n",
              "      <td>0</td>\n",
              "      <td>Свечение</td>\n",
              "      <td>Карбонатное</td>\n",
              "      <td>NaN</td>\n",
              "      <td>NaN</td>\n",
              "      <td>Известковый</td>\n",
              "      <td>NaN</td>\n",
              "      <td>NaN</td>\n",
              "      <td>NaN</td>\n",
              "      <td>NaN</td>\n",
              "      <td>NaN</td>\n",
              "      <td>NaN</td>\n",
              "      <td>NaN</td>\n",
              "      <td>NaN</td>\n",
              "      <td>NaN</td>\n",
              "      <td>NaN</td>\n",
              "      <td>NaN</td>\n",
              "    </tr>\n",
              "    <tr>\n",
              "      <th>...</th>\n",
              "      <td>...</td>\n",
              "      <td>...</td>\n",
              "      <td>...</td>\n",
              "      <td>...</td>\n",
              "      <td>...</td>\n",
              "      <td>...</td>\n",
              "      <td>...</td>\n",
              "      <td>...</td>\n",
              "      <td>...</td>\n",
              "      <td>...</td>\n",
              "      <td>...</td>\n",
              "      <td>...</td>\n",
              "      <td>...</td>\n",
              "      <td>...</td>\n",
              "      <td>...</td>\n",
              "      <td>...</td>\n",
              "      <td>...</td>\n",
              "      <td>...</td>\n",
              "      <td>...</td>\n",
              "      <td>...</td>\n",
              "    </tr>\n",
              "    <tr>\n",
              "      <th>14910</th>\n",
              "      <td>de63ac27_e98e_459a_9672_b07415228a50</td>\n",
              "      <td>1009408</td>\n",
              "      <td>ДС</td>\n",
              "      <td>6</td>\n",
              "      <td>Разрушенность</td>\n",
              "      <td>Разлом</td>\n",
              "      <td>NaN</td>\n",
              "      <td>NaN</td>\n",
              "      <td>NaN</td>\n",
              "      <td>NaN</td>\n",
              "      <td>NaN</td>\n",
              "      <td>NaN</td>\n",
              "      <td>NaN</td>\n",
              "      <td>NaN</td>\n",
              "      <td>NaN</td>\n",
              "      <td>NaN</td>\n",
              "      <td>NaN</td>\n",
              "      <td>NaN</td>\n",
              "      <td>NaN</td>\n",
              "      <td>NaN</td>\n",
              "    </tr>\n",
              "    <tr>\n",
              "      <th>14911</th>\n",
              "      <td>de63ac27_e98e_459a_9672_b07415228a50</td>\n",
              "      <td>1009408</td>\n",
              "      <td>ДС</td>\n",
              "      <td>7</td>\n",
              "      <td>Разрушенность</td>\n",
              "      <td>Разлом</td>\n",
              "      <td>NaN</td>\n",
              "      <td>NaN</td>\n",
              "      <td>NaN</td>\n",
              "      <td>NaN</td>\n",
              "      <td>NaN</td>\n",
              "      <td>NaN</td>\n",
              "      <td>NaN</td>\n",
              "      <td>NaN</td>\n",
              "      <td>NaN</td>\n",
              "      <td>NaN</td>\n",
              "      <td>NaN</td>\n",
              "      <td>NaN</td>\n",
              "      <td>NaN</td>\n",
              "      <td>NaN</td>\n",
              "    </tr>\n",
              "    <tr>\n",
              "      <th>14912</th>\n",
              "      <td>de63ac27_e98e_459a_9672_b07415228a50</td>\n",
              "      <td>1009408</td>\n",
              "      <td>ДС</td>\n",
              "      <td>8</td>\n",
              "      <td>Разрушенность</td>\n",
              "      <td>Разлом</td>\n",
              "      <td>NaN</td>\n",
              "      <td>NaN</td>\n",
              "      <td>NaN</td>\n",
              "      <td>NaN</td>\n",
              "      <td>NaN</td>\n",
              "      <td>NaN</td>\n",
              "      <td>NaN</td>\n",
              "      <td>NaN</td>\n",
              "      <td>NaN</td>\n",
              "      <td>NaN</td>\n",
              "      <td>NaN</td>\n",
              "      <td>NaN</td>\n",
              "      <td>NaN</td>\n",
              "      <td>NaN</td>\n",
              "    </tr>\n",
              "    <tr>\n",
              "      <th>14913</th>\n",
              "      <td>de63ac27_e98e_459a_9672_b07415228a50</td>\n",
              "      <td>1009408</td>\n",
              "      <td>ДС</td>\n",
              "      <td>9</td>\n",
              "      <td>Разрушенность</td>\n",
              "      <td>Разлом</td>\n",
              "      <td>NaN</td>\n",
              "      <td>NaN</td>\n",
              "      <td>NaN</td>\n",
              "      <td>NaN</td>\n",
              "      <td>NaN</td>\n",
              "      <td>NaN</td>\n",
              "      <td>NaN</td>\n",
              "      <td>NaN</td>\n",
              "      <td>NaN</td>\n",
              "      <td>NaN</td>\n",
              "      <td>NaN</td>\n",
              "      <td>NaN</td>\n",
              "      <td>NaN</td>\n",
              "      <td>NaN</td>\n",
              "    </tr>\n",
              "    <tr>\n",
              "      <th>14914</th>\n",
              "      <td>f5e57301_6ffc_4f3b_8c8f_b311478b58c3</td>\n",
              "      <td>1004015</td>\n",
              "      <td>УФ</td>\n",
              "      <td>0</td>\n",
              "      <td>Свечение</td>\n",
              "      <td>Карбонатное</td>\n",
              "      <td>NaN</td>\n",
              "      <td>NaN</td>\n",
              "      <td>Известковистый</td>\n",
              "      <td>NaN</td>\n",
              "      <td>NaN</td>\n",
              "      <td>NaN</td>\n",
              "      <td>NaN</td>\n",
              "      <td>NaN</td>\n",
              "      <td>NaN</td>\n",
              "      <td>NaN</td>\n",
              "      <td>NaN</td>\n",
              "      <td>NaN</td>\n",
              "      <td>NaN</td>\n",
              "      <td>NaN</td>\n",
              "    </tr>\n",
              "  </tbody>\n",
              "</table>\n",
              "<p>14915 rows × 20 columns</p>\n",
              "</div>"
            ],
            "text/plain": [
              "                                    task_id  ...  Состав заполнения\n",
              "0      c6a24494_7931_4ca9_a148_f1fd9785b607  ...                NaN\n",
              "1      c6a24494_7931_4ca9_a148_f1fd9785b607  ...                NaN\n",
              "2      cfb8e7b2_7c98_4bd4_897d_0e5e95801bc9  ...                NaN\n",
              "3      a9d8f546_9046_46ce_ba17_abda344a0980  ...                NaN\n",
              "4      eb09a8aa_6c77_41de_8489_f5a390c789e8  ...                NaN\n",
              "...                                     ...  ...                ...\n",
              "14910  de63ac27_e98e_459a_9672_b07415228a50  ...                NaN\n",
              "14911  de63ac27_e98e_459a_9672_b07415228a50  ...                NaN\n",
              "14912  de63ac27_e98e_459a_9672_b07415228a50  ...                NaN\n",
              "14913  de63ac27_e98e_459a_9672_b07415228a50  ...                NaN\n",
              "14914  f5e57301_6ffc_4f3b_8c8f_b311478b58c3  ...                NaN\n",
              "\n",
              "[14915 rows x 20 columns]"
            ]
          },
          "metadata": {
            "tags": []
          },
          "execution_count": 111
        }
      ]
    },
    {
      "cell_type": "markdown",
      "metadata": {
        "id": "2qOewxmybL6l"
      },
      "source": [
        "Просмотр уникальных полей для каждой колонки нового датасета (кроме Ихнофоссилии и Текстуры)"
      ]
    },
    {
      "cell_type": "code",
      "metadata": {
        "id": "9iQMgEZ3IHR8",
        "colab": {
          "base_uri": "https://localhost:8080/",
          "height": 532
        },
        "outputId": "94535e7f-fea7-428b-bf33-0ae2e54d416e"
      },
      "source": [
        "count = 0\n",
        "for label, content in df.iteritems():\n",
        "    if content.unique().shape[0] < 150:\n",
        "        print(label, ' : ', content.unique())\n",
        "        count += 1\n",
        "print(len(fields), count - 4)"
      ],
      "execution_count": null,
      "outputs": [
        {
          "output_type": "stream",
          "text": [
            "photo_type  :  ['УФ' 'ДС']\n",
            "segment_num  :  [ 0  1  2  3  4  5  6  7  8  9 10 11 12 13 14 15 16 17 18 19 20 21 22 23\n",
            " 24 25 26 27 28 29 30 31 32 33 34 35 36 37 38 39 40 41 42 43 44 45 46 47\n",
            " 48 49 50 51 52 53 54 55 56 57 58 59 60 61 62 63 64 65 66 67 68 69]\n",
            "segment_type  :  ['Свечение' 'Разрушенность' 'Порода']\n",
            "segment_value  :  ['Насыщенное' 'Отсутствует' 'Карбонатное' 'Разлом' 'Аргиллит'\n",
            " 'Переслаивание пород' 'Алевролит глинистый' 'Песчаник' 'Проба'\n",
            " 'Глинисто-кремнистая порода' 'Песчаник глинистый' 'Уголь'\n",
            " 'Аргиллит углистый' 'Алевролит' 'Карбонатная порода' 'Известняк'\n",
            " 'Глина аргиллитоподобная']\n",
            "Интенсивность  :  ['Среднее' nan 'Сильное' 'Слабое']\n",
            "Характер  :  ['Полосчатое' nan 'Пятнистое' 'Сплошное']\n",
            "Тип  :  [nan 'Известковый' 'Известковистый']\n",
            "Цвет  :  [nan 'Зеленовато-серый' 'Серый' 'Темно-серый' 'Светло-серый' 'Бурый'\n",
            " 'Черный' 'Светло-серый с буроватым оттенком' 'Серо-коричневый'\n",
            " 'Черный с жирным блеском' 'Черный со стеклянным блеском']\n",
            "Целостность  :  [nan 'Разрушен' 'Не разрушен' 'Частично разрушен на плитки и обломки'\n",
            " 'Частично разрушен на крупные и средние куски.']\n",
            "Крепость  :  [nan 'Сцементированный' 'Слабосцементированный' 'Рыхлый']\n",
            "Трещиноватость  :  [nan 'Трещиноватый' 'Нет трещин']\n",
            "Форма трещин  :  [nan 'Ветвистая' 'Извилистая' 'Прямая' 'Ломаная' 'Сетчатая']\n",
            "Степень заполнения  :  [nan 'Открытая' 'Выполненная' 'Частично выполненная']\n",
            "Происхождение  :  [nan 'Техногенная' 'Естественная']\n",
            "Состав  :  [nan 'Песчаник & алевролит' 'Песчаник & алевролит & аргиллит'\n",
            " 'Алевролит & аргиллит'\n",
            " 'Кремнисто-глинистая & Глинисто-кремнистая & Кремнистая порода & алевролит'\n",
            " 'Песчаник & аргиллит' 'Уголь & аргиллит']\n",
            "Состав заполнения  :  [nan 'Минеральное']\n",
            "14 12\n"
          ],
          "name": "stdout"
        }
      ]
    }
  ]
}