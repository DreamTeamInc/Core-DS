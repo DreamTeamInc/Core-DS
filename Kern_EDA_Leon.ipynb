{
  "nbformat": 4,
  "nbformat_minor": 0,
  "metadata": {
    "colab": {
      "name": "Kern EDA Leon",
      "provenance": [],
      "collapsed_sections": [
        "ekAL5nwJ4zt7"
      ],
      "include_colab_link": true
    },
    "kernelspec": {
      "name": "python3",
      "display_name": "Python 3"
    }
  },
  "cells": [
    {
      "cell_type": "markdown",
      "metadata": {
        "id": "view-in-github",
        "colab_type": "text"
      },
      "source": [
        "<a href=\"https://colab.research.google.com/github/DreamTeamInc/Core-DS/blob/issues%2F1/Kern_EDA_Leon.ipynb\" target=\"_parent\"><img src=\"https://colab.research.google.com/assets/colab-badge.svg\" alt=\"Open In Colab\"/></a>"
      ]
    },
    {
      "cell_type": "markdown",
      "metadata": {
        "id": "QoyJRAtbwI3y"
      },
      "source": [
        "Команда ниже монтирует образ gDrive. Добавь ярлык на папку с керном перед этим.\n"
      ]
    },
    {
      "cell_type": "code",
      "metadata": {
        "id": "UDNK1hQEpTgm",
        "outputId": "5311e875-ffbd-40e6-b2c6-7c64c08e0735",
        "colab": {
          "base_uri": "https://localhost:8080/",
          "height": 34
        }
      },
      "source": [
        "from google.colab import drive\n",
        "drive.mount('/content/drive')\n",
        "\n",
        "# Path to 'sample_core_analysis_data_example' folder with folder name\n",
        "SAMPLE_CORE_PATH = 'drive/My Drive/ sample_core_analysis_data_example'"
      ],
      "execution_count": null,
      "outputs": [
        {
          "output_type": "stream",
          "text": [
            "Drive already mounted at /content/drive; to attempt to forcibly remount, call drive.mount(\"/content/drive\", force_remount=True).\n"
          ],
          "name": "stdout"
        }
      ]
    },
    {
      "cell_type": "markdown",
      "metadata": {
        "id": "-cyHF5iqwahY"
      },
      "source": [
        "# Инициализация библиотек"
      ]
    },
    {
      "cell_type": "code",
      "metadata": {
        "id": "rCpadN8OwRxi"
      },
      "source": [
        "import pandas as pd\n",
        "import numpy as np\n",
        "import matplotlib.pyplot as plt\n",
        "import json\n",
        "\n",
        "from skimage import io\n",
        "from skimage import exposure\n",
        "\n",
        "pd.options.mode.chained_assignment = None"
      ],
      "execution_count": null,
      "outputs": []
    },
    {
      "cell_type": "markdown",
      "metadata": {
        "id": "_c4K2qbZ3_oS"
      },
      "source": [
        "# Общий обзор данных"
      ]
    },
    {
      "cell_type": "code",
      "metadata": {
        "id": "VKAQ74CNwfM3",
        "outputId": "5e2c71d7-6ab9-4f9f-ae05-48f58ae3bcc8",
        "colab": {
          "base_uri": "https://localhost:8080/",
          "height": 406
        }
      },
      "source": [
        "data = pd.read_csv(SAMPLE_CORE_PATH + '/data.csv')\n",
        "data"
      ],
      "execution_count": null,
      "outputs": [
        {
          "output_type": "execute_result",
          "data": {
            "text/html": [
              "<div>\n",
              "<style scoped>\n",
              "    .dataframe tbody tr th:only-of-type {\n",
              "        vertical-align: middle;\n",
              "    }\n",
              "\n",
              "    .dataframe tbody tr th {\n",
              "        vertical-align: top;\n",
              "    }\n",
              "\n",
              "    .dataframe thead th {\n",
              "        text-align: right;\n",
              "    }\n",
              "</style>\n",
              "<table border=\"1\" class=\"dataframe\">\n",
              "  <thead>\n",
              "    <tr style=\"text-align: right;\">\n",
              "      <th></th>\n",
              "      <th>task_id</th>\n",
              "      <th>photo_id</th>\n",
              "      <th>photo_type</th>\n",
              "      <th>segment_num</th>\n",
              "      <th>segment_type</th>\n",
              "      <th>segment_value</th>\n",
              "    </tr>\n",
              "  </thead>\n",
              "  <tbody>\n",
              "    <tr>\n",
              "      <th>0</th>\n",
              "      <td>c6a24494_7931_4ca9_a148_f1fd9785b607</td>\n",
              "      <td>1012473</td>\n",
              "      <td>УФ</td>\n",
              "      <td>0</td>\n",
              "      <td>Свечение</td>\n",
              "      <td>Насыщенное</td>\n",
              "    </tr>\n",
              "    <tr>\n",
              "      <th>1</th>\n",
              "      <td>c6a24494_7931_4ca9_a148_f1fd9785b607</td>\n",
              "      <td>1012473</td>\n",
              "      <td>УФ</td>\n",
              "      <td>1</td>\n",
              "      <td>Свечение</td>\n",
              "      <td>Отсутствует</td>\n",
              "    </tr>\n",
              "    <tr>\n",
              "      <th>2</th>\n",
              "      <td>cfb8e7b2_7c98_4bd4_897d_0e5e95801bc9</td>\n",
              "      <td>1016625</td>\n",
              "      <td>УФ</td>\n",
              "      <td>0</td>\n",
              "      <td>Свечение</td>\n",
              "      <td>Карбонатное</td>\n",
              "    </tr>\n",
              "    <tr>\n",
              "      <th>3</th>\n",
              "      <td>a9d8f546_9046_46ce_ba17_abda344a0980</td>\n",
              "      <td>1013361</td>\n",
              "      <td>УФ</td>\n",
              "      <td>0</td>\n",
              "      <td>Свечение</td>\n",
              "      <td>Карбонатное</td>\n",
              "    </tr>\n",
              "    <tr>\n",
              "      <th>4</th>\n",
              "      <td>eb09a8aa_6c77_41de_8489_f5a390c789e8</td>\n",
              "      <td>1016727</td>\n",
              "      <td>УФ</td>\n",
              "      <td>0</td>\n",
              "      <td>Свечение</td>\n",
              "      <td>Карбонатное</td>\n",
              "    </tr>\n",
              "    <tr>\n",
              "      <th>...</th>\n",
              "      <td>...</td>\n",
              "      <td>...</td>\n",
              "      <td>...</td>\n",
              "      <td>...</td>\n",
              "      <td>...</td>\n",
              "      <td>...</td>\n",
              "    </tr>\n",
              "    <tr>\n",
              "      <th>14910</th>\n",
              "      <td>de63ac27_e98e_459a_9672_b07415228a50</td>\n",
              "      <td>1009408</td>\n",
              "      <td>ДС</td>\n",
              "      <td>6</td>\n",
              "      <td>Разрушенность</td>\n",
              "      <td>Разлом</td>\n",
              "    </tr>\n",
              "    <tr>\n",
              "      <th>14911</th>\n",
              "      <td>de63ac27_e98e_459a_9672_b07415228a50</td>\n",
              "      <td>1009408</td>\n",
              "      <td>ДС</td>\n",
              "      <td>7</td>\n",
              "      <td>Разрушенность</td>\n",
              "      <td>Разлом</td>\n",
              "    </tr>\n",
              "    <tr>\n",
              "      <th>14912</th>\n",
              "      <td>de63ac27_e98e_459a_9672_b07415228a50</td>\n",
              "      <td>1009408</td>\n",
              "      <td>ДС</td>\n",
              "      <td>8</td>\n",
              "      <td>Разрушенность</td>\n",
              "      <td>Разлом</td>\n",
              "    </tr>\n",
              "    <tr>\n",
              "      <th>14913</th>\n",
              "      <td>de63ac27_e98e_459a_9672_b07415228a50</td>\n",
              "      <td>1009408</td>\n",
              "      <td>ДС</td>\n",
              "      <td>9</td>\n",
              "      <td>Разрушенность</td>\n",
              "      <td>Разлом</td>\n",
              "    </tr>\n",
              "    <tr>\n",
              "      <th>14914</th>\n",
              "      <td>f5e57301_6ffc_4f3b_8c8f_b311478b58c3</td>\n",
              "      <td>1004015</td>\n",
              "      <td>УФ</td>\n",
              "      <td>0</td>\n",
              "      <td>Свечение</td>\n",
              "      <td>Карбонатное</td>\n",
              "    </tr>\n",
              "  </tbody>\n",
              "</table>\n",
              "<p>14915 rows × 6 columns</p>\n",
              "</div>"
            ],
            "text/plain": [
              "                                    task_id  ...  segment_value\n",
              "0      c6a24494_7931_4ca9_a148_f1fd9785b607  ...     Насыщенное\n",
              "1      c6a24494_7931_4ca9_a148_f1fd9785b607  ...    Отсутствует\n",
              "2      cfb8e7b2_7c98_4bd4_897d_0e5e95801bc9  ...    Карбонатное\n",
              "3      a9d8f546_9046_46ce_ba17_abda344a0980  ...    Карбонатное\n",
              "4      eb09a8aa_6c77_41de_8489_f5a390c789e8  ...    Карбонатное\n",
              "...                                     ...  ...            ...\n",
              "14910  de63ac27_e98e_459a_9672_b07415228a50  ...         Разлом\n",
              "14911  de63ac27_e98e_459a_9672_b07415228a50  ...         Разлом\n",
              "14912  de63ac27_e98e_459a_9672_b07415228a50  ...         Разлом\n",
              "14913  de63ac27_e98e_459a_9672_b07415228a50  ...         Разлом\n",
              "14914  f5e57301_6ffc_4f3b_8c8f_b311478b58c3  ...    Карбонатное\n",
              "\n",
              "[14915 rows x 6 columns]"
            ]
          },
          "metadata": {
            "tags": []
          },
          "execution_count": 3
        }
      ]
    },
    {
      "cell_type": "code",
      "metadata": {
        "id": "GwPhd_9-wsNE",
        "outputId": "d54e0d62-3097-4388-85ac-7128a76328e9",
        "colab": {
          "base_uri": "https://localhost:8080/",
          "height": 34
        }
      },
      "source": [
        "print('Типы фотографий - ', pd.unique(data['photo_type'].values))"
      ],
      "execution_count": null,
      "outputs": [
        {
          "output_type": "stream",
          "text": [
            "Типы фотографий -  ['УФ' 'ДС']\n"
          ],
          "name": "stdout"
        }
      ]
    },
    {
      "cell_type": "code",
      "metadata": {
        "id": "nNHwXcya4N2s",
        "outputId": "0aa66aff-0236-4a00-ecba-02363fc44600",
        "colab": {
          "base_uri": "https://localhost:8080/",
          "height": 34
        }
      },
      "source": [
        "print('Типы сегментов - ', pd.unique(data['segment_type'].values))"
      ],
      "execution_count": null,
      "outputs": [
        {
          "output_type": "stream",
          "text": [
            "Типы сегментов -  ['Свечение' 'Разрушенность' 'Порода']\n"
          ],
          "name": "stdout"
        }
      ]
    },
    {
      "cell_type": "code",
      "metadata": {
        "id": "K25Jx2iY4RoU",
        "outputId": "55dda044-55f2-4cb3-ea6c-e7733913f88c",
        "colab": {
          "base_uri": "https://localhost:8080/",
          "height": 105
        }
      },
      "source": [
        "print('Классификации сегментов - ', pd.unique(data['segment_value'].values))"
      ],
      "execution_count": null,
      "outputs": [
        {
          "output_type": "stream",
          "text": [
            "Классификации сегментов -  ['Насыщенное' 'Отсутствует' 'Карбонатное' 'Разлом' 'Аргиллит'\n",
            " 'Переслаивание пород' 'Алевролит глинистый' 'Песчаник' 'Проба'\n",
            " 'Глинисто-кремнистая порода' 'Песчаник глинистый' 'Уголь'\n",
            " 'Аргиллит углистый' 'Алевролит' 'Карбонатная порода' 'Известняк'\n",
            " 'Глина аргиллитоподобная']\n"
          ],
          "name": "stdout"
        }
      ]
    },
    {
      "cell_type": "markdown",
      "metadata": {
        "id": "wcB_CVDS5hyS"
      },
      "source": [
        "**Note.** Как можно заметить ниже, сначала происходит сегсентация по 'типам', которые потом отдельно классифицируются."
      ]
    },
    {
      "cell_type": "code",
      "metadata": {
        "id": "_agmEvfk4WXk",
        "outputId": "edd32f45-4833-4aeb-9d18-32b5b06e73e6",
        "colab": {
          "base_uri": "https://localhost:8080/",
          "height": 123
        }
      },
      "source": [
        "print('Свечение - ', pd.unique(data[data['segment_type'] == 'Свечение']['segment_value'].values))\n",
        "print('Разрушенность - ', pd.unique(data[data['segment_type'] == 'Разрушенность']['segment_value'].values))\n",
        "print('Порода - ', pd.unique(data[data['segment_type'] == 'Порода']['segment_value'].values))"
      ],
      "execution_count": null,
      "outputs": [
        {
          "output_type": "stream",
          "text": [
            "Свечение -  ['Насыщенное' 'Отсутствует' 'Карбонатное']\n",
            "Разрушенность -  ['Разлом' 'Проба']\n",
            "Порода -  ['Аргиллит' 'Переслаивание пород' 'Алевролит глинистый' 'Песчаник'\n",
            " 'Глинисто-кремнистая порода' 'Песчаник глинистый' 'Уголь'\n",
            " 'Аргиллит углистый' 'Алевролит' 'Карбонатная порода' 'Известняк'\n",
            " 'Глина аргиллитоподобная']\n"
          ],
          "name": "stdout"
        }
      ]
    },
    {
      "cell_type": "markdown",
      "metadata": {
        "id": "ekAL5nwJ4zt7"
      },
      "source": [
        "# Вспомогательные функции для изъятия файлов"
      ]
    },
    {
      "cell_type": "code",
      "metadata": {
        "id": "zDFMQmZc4uGb"
      },
      "source": [
        "def show_image(image, nrows=1, ncols=1, cmap='gray'):\n",
        "    fig, ax = plt.subplots(nrows=nrows, ncols=ncols, figsize=(14, 14))\n",
        "    ax.imshow(image)\n",
        "    ax.axis('off')\n",
        "    return fig, ax\n",
        "\n",
        "def get_photo(data, i):\n",
        "    return io.imread(SAMPLE_CORE_PATH + '/photos/{}.jpeg'.format(data['photo_id'][i]))\n",
        "\n",
        "def get_mask(data, i):\n",
        "    return np.load(SAMPLE_CORE_PATH + '/matrixes/matrix_{}__{}.npz'.format(data['photo_id'][i], data['task_id'][i]))['data']\n",
        "\n",
        "def get_json(data, i):\n",
        "    datastore = ''\n",
        "    with open(SAMPLE_CORE_PATH + '/extra/extra_{}__{}.json'.format(data['photo_id'][i],\n",
        "                                                                   data['task_id'][i]), 'r', encoding=\"utf8\") as f:\n",
        "        datastore = json.load(f)\n",
        "\n",
        "    return datastore\n",
        "\n",
        "def show_all(data, i):\n",
        "    print(data.iloc[i])\n",
        "    fig, (ax1, ax2) = plt.subplots(1, 2, figsize=(14, 14))\n",
        "    ax1.imshow(get_photo(data, i))\n",
        "    ax1.axis('off')\n",
        "\n",
        "    cmap = plt.get_cmap('tab20b', np.max(get_mask(data, i)) + 1)\n",
        "    mask = ax2.imshow(get_mask(data, i), cmap=cmap,\n",
        "                      vmin=-0.5, vmax=np.max(get_mask(data, i))+0.5)\n",
        "    ax2.axis('off')\n",
        "    fig.colorbar(mask, ticks=np.arange(0, np.max(get_mask(data, i))+1))\n",
        "    return fig, (ax1, ax2)\n",
        "\n",
        "\n",
        "\n",
        "def show_photo_seies(data, column, value):\n",
        "    fig, ax_ar = plt.subplots(1, 10, figsize=(14, 14))\n",
        "    filt_data = data[data[column] == value]\n",
        "    i = np.random.randint(0, filt_data.shape[0])\n",
        "    for ax in ax_ar:\n",
        "        filt_by_photo = filt_data[filt_data['photo_id'] == filt_data['photo_id'].iloc[i]]\n",
        "        segments = filt_by_photo['segment_num'].values\n",
        "        photo = get_photo(data, filt_by_photo.index.values[0])\n",
        "        mask = get_mask(data, filt_by_photo.index.values[0])\n",
        "        for value in segments:\n",
        "            mask = np.ma.masked_where(mask == value, mask)\n",
        "        \n",
        "        ax.imshow(photo)\n",
        "        ax.imshow(mask)\n",
        "        ax.axis('off')\n",
        "        filt_data.drop(filt_by_photo.index.values, axis=0, inplace=True)\n",
        "        i = np.random.randint(0, filt_data.shape[0])\n",
        "    \n",
        "    return fig, ax_ar"
      ],
      "execution_count": null,
      "outputs": []
    },
    {
      "cell_type": "markdown",
      "metadata": {
        "id": "p44IrIyV5Jni"
      },
      "source": [
        "# Визуализация данных"
      ]
    },
    {
      "cell_type": "markdown",
      "metadata": {
        "id": "8aON21TlOv3-"
      },
      "source": [
        "**Note.** Существуют фото с кол-вом сегментов больше 30 (ex. 1002)"
      ]
    },
    {
      "cell_type": "code",
      "metadata": {
        "id": "0amrqc254yud"
      },
      "source": [
        "# show_all(data, 1500)"
      ],
      "execution_count": 1,
      "outputs": []
    },
    {
      "cell_type": "code",
      "metadata": {
        "id": "vQEAZQ-RBL05"
      },
      "source": [
        "# show_photo_seies(data, 'segment_value', 'Глина аргиллитоподобная')"
      ],
      "execution_count": 2,
      "outputs": []
    },
    {
      "cell_type": "code",
      "metadata": {
        "id": "LIsG_qghSUEX"
      },
      "source": [
        "# show_photo_seies(data, 'segment_value', 'Переслаивание пород')"
      ],
      "execution_count": 3,
      "outputs": []
    },
    {
      "cell_type": "markdown",
      "metadata": {
        "id": "X2vZFMZvB2DU"
      },
      "source": [
        "Похожие штуки:\n",
        "1.   Аргиллит, Переслаивание пород, Алевролит глинистый, Песчаник (?), Песчаник глинистый \n",
        "2.   Карбонатная порода, Известняк, Глина аргиллитоподобная\n",
        "\n"
      ]
    }
  ]
}