{
  "nbformat": 4,
  "nbformat_minor": 0,
  "metadata": {
    "colab": {
      "name": "ModelDeploy",
      "provenance": [],
      "collapsed_sections": [],
      "include_colab_link": true
    },
    "kernelspec": {
      "name": "python3",
      "display_name": "Python 3"
    },
    "accelerator": "GPU",
    "widgets": {
      "application/vnd.jupyter.widget-state+json": {
        "17288f362ac84efda585504add2e83e6": {
          "model_module": "@jupyter-widgets/controls",
          "model_name": "HBoxModel",
          "state": {
            "_view_name": "HBoxView",
            "_dom_classes": [],
            "_model_name": "HBoxModel",
            "_view_module": "@jupyter-widgets/controls",
            "_model_module_version": "1.5.0",
            "_view_count": null,
            "_view_module_version": "1.5.0",
            "box_style": "",
            "layout": "IPY_MODEL_b524168504d443688ef628172a5a2d39",
            "_model_module": "@jupyter-widgets/controls",
            "children": [
              "IPY_MODEL_7e0070e4f3e34e55bbbe76bbb004254b",
              "IPY_MODEL_6519f69d1310480d86dd7f414b31da82"
            ]
          }
        },
        "b524168504d443688ef628172a5a2d39": {
          "model_module": "@jupyter-widgets/base",
          "model_name": "LayoutModel",
          "state": {
            "_view_name": "LayoutView",
            "grid_template_rows": null,
            "right": null,
            "justify_content": null,
            "_view_module": "@jupyter-widgets/base",
            "overflow": null,
            "_model_module_version": "1.2.0",
            "_view_count": null,
            "flex_flow": null,
            "width": null,
            "min_width": null,
            "border": null,
            "align_items": null,
            "bottom": null,
            "_model_module": "@jupyter-widgets/base",
            "top": null,
            "grid_column": null,
            "overflow_y": null,
            "overflow_x": null,
            "grid_auto_flow": null,
            "grid_area": null,
            "grid_template_columns": null,
            "flex": null,
            "_model_name": "LayoutModel",
            "justify_items": null,
            "grid_row": null,
            "max_height": null,
            "align_content": null,
            "visibility": null,
            "align_self": null,
            "height": null,
            "min_height": null,
            "padding": null,
            "grid_auto_rows": null,
            "grid_gap": null,
            "max_width": null,
            "order": null,
            "_view_module_version": "1.2.0",
            "grid_template_areas": null,
            "object_position": null,
            "object_fit": null,
            "grid_auto_columns": null,
            "margin": null,
            "display": null,
            "left": null
          }
        },
        "7e0070e4f3e34e55bbbe76bbb004254b": {
          "model_module": "@jupyter-widgets/controls",
          "model_name": "FloatProgressModel",
          "state": {
            "_view_name": "ProgressView",
            "style": "IPY_MODEL_9f4556167c634d6b902c1eab97e4356e",
            "_dom_classes": [],
            "description": "100%",
            "_model_name": "FloatProgressModel",
            "bar_style": "success",
            "max": 102502400,
            "_view_module": "@jupyter-widgets/controls",
            "_model_module_version": "1.5.0",
            "value": 102502400,
            "_view_count": null,
            "_view_module_version": "1.5.0",
            "orientation": "horizontal",
            "min": 0,
            "description_tooltip": null,
            "_model_module": "@jupyter-widgets/controls",
            "layout": "IPY_MODEL_b8d1181dab0d4318a38ede36e9c263c4"
          }
        },
        "6519f69d1310480d86dd7f414b31da82": {
          "model_module": "@jupyter-widgets/controls",
          "model_name": "HTMLModel",
          "state": {
            "_view_name": "HTMLView",
            "style": "IPY_MODEL_cbbb255b2cdd4fa488213eb7ff8188f2",
            "_dom_classes": [],
            "description": "",
            "_model_name": "HTMLModel",
            "placeholder": "​",
            "_view_module": "@jupyter-widgets/controls",
            "_model_module_version": "1.5.0",
            "value": " 97.8M/97.8M [00:21&lt;00:00, 4.85MB/s]",
            "_view_count": null,
            "_view_module_version": "1.5.0",
            "description_tooltip": null,
            "_model_module": "@jupyter-widgets/controls",
            "layout": "IPY_MODEL_b0558f79aebd4720afec4a57ddab39b0"
          }
        },
        "9f4556167c634d6b902c1eab97e4356e": {
          "model_module": "@jupyter-widgets/controls",
          "model_name": "ProgressStyleModel",
          "state": {
            "_view_name": "StyleView",
            "_model_name": "ProgressStyleModel",
            "description_width": "initial",
            "_view_module": "@jupyter-widgets/base",
            "_model_module_version": "1.5.0",
            "_view_count": null,
            "_view_module_version": "1.2.0",
            "bar_color": null,
            "_model_module": "@jupyter-widgets/controls"
          }
        },
        "b8d1181dab0d4318a38ede36e9c263c4": {
          "model_module": "@jupyter-widgets/base",
          "model_name": "LayoutModel",
          "state": {
            "_view_name": "LayoutView",
            "grid_template_rows": null,
            "right": null,
            "justify_content": null,
            "_view_module": "@jupyter-widgets/base",
            "overflow": null,
            "_model_module_version": "1.2.0",
            "_view_count": null,
            "flex_flow": null,
            "width": null,
            "min_width": null,
            "border": null,
            "align_items": null,
            "bottom": null,
            "_model_module": "@jupyter-widgets/base",
            "top": null,
            "grid_column": null,
            "overflow_y": null,
            "overflow_x": null,
            "grid_auto_flow": null,
            "grid_area": null,
            "grid_template_columns": null,
            "flex": null,
            "_model_name": "LayoutModel",
            "justify_items": null,
            "grid_row": null,
            "max_height": null,
            "align_content": null,
            "visibility": null,
            "align_self": null,
            "height": null,
            "min_height": null,
            "padding": null,
            "grid_auto_rows": null,
            "grid_gap": null,
            "max_width": null,
            "order": null,
            "_view_module_version": "1.2.0",
            "grid_template_areas": null,
            "object_position": null,
            "object_fit": null,
            "grid_auto_columns": null,
            "margin": null,
            "display": null,
            "left": null
          }
        },
        "cbbb255b2cdd4fa488213eb7ff8188f2": {
          "model_module": "@jupyter-widgets/controls",
          "model_name": "DescriptionStyleModel",
          "state": {
            "_view_name": "StyleView",
            "_model_name": "DescriptionStyleModel",
            "description_width": "",
            "_view_module": "@jupyter-widgets/base",
            "_model_module_version": "1.5.0",
            "_view_count": null,
            "_view_module_version": "1.2.0",
            "_model_module": "@jupyter-widgets/controls"
          }
        },
        "b0558f79aebd4720afec4a57ddab39b0": {
          "model_module": "@jupyter-widgets/base",
          "model_name": "LayoutModel",
          "state": {
            "_view_name": "LayoutView",
            "grid_template_rows": null,
            "right": null,
            "justify_content": null,
            "_view_module": "@jupyter-widgets/base",
            "overflow": null,
            "_model_module_version": "1.2.0",
            "_view_count": null,
            "flex_flow": null,
            "width": null,
            "min_width": null,
            "border": null,
            "align_items": null,
            "bottom": null,
            "_model_module": "@jupyter-widgets/base",
            "top": null,
            "grid_column": null,
            "overflow_y": null,
            "overflow_x": null,
            "grid_auto_flow": null,
            "grid_area": null,
            "grid_template_columns": null,
            "flex": null,
            "_model_name": "LayoutModel",
            "justify_items": null,
            "grid_row": null,
            "max_height": null,
            "align_content": null,
            "visibility": null,
            "align_self": null,
            "height": null,
            "min_height": null,
            "padding": null,
            "grid_auto_rows": null,
            "grid_gap": null,
            "max_width": null,
            "order": null,
            "_view_module_version": "1.2.0",
            "grid_template_areas": null,
            "object_position": null,
            "object_fit": null,
            "grid_auto_columns": null,
            "margin": null,
            "display": null,
            "left": null
          }
        }
      }
    }
  },
  "cells": [
    {
      "cell_type": "markdown",
      "metadata": {
        "id": "view-in-github",
        "colab_type": "text"
      },
      "source": [
        "<a href=\"https://colab.research.google.com/github/DreamTeamInc/Core-DS/blob/issues%2F9/models/day/ModelDeploy.ipynb\" target=\"_parent\"><img src=\"https://colab.research.google.com/assets/colab-badge.svg\" alt=\"Open In Colab\"/></a>"
      ]
    },
    {
      "cell_type": "markdown",
      "metadata": {
        "id": "Ym28NHKiafv-"
      },
      "source": [
        "Подключение GDrive"
      ]
    },
    {
      "cell_type": "code",
      "metadata": {
        "id": "i3FyJim7YfQM",
        "colab": {
          "base_uri": "https://localhost:8080/"
        },
        "outputId": "9b63e516-3b63-4ed9-cb50-c31dae244d8d"
      },
      "source": [
        "from google.colab import drive\n",
        "drive.mount('/content/drive')\n",
        "\n",
        "# Path to 'sample_core_analysis_data_example' folder with folder name\n",
        "# SAMPLE_CORE_PATH = 'drive/My Drive/ sample_core_analysis_data_example'\n",
        "PHOTO_PREDICT_PATH = 'drive/My Drive/photo_predict/'\n",
        "MASK_PREDICT_PATH = 'drive/My Drive/mask_predict/'\n",
        "MODEL_PATH = 'drive/My Drive/models/'\n",
        "# CLASSIFICATION_PATH = 'drive/My Drive/classfications/'"
      ],
      "execution_count": null,
      "outputs": [
        {
          "output_type": "stream",
          "text": [
            "Drive already mounted at /content/drive; to attempt to forcibly remount, call drive.mount(\"/content/drive\", force_remount=True).\n"
          ],
          "name": "stdout"
        }
      ]
    },
    {
      "cell_type": "markdown",
      "metadata": {
        "id": "FFtKerMvao5E"
      },
      "source": [
        "Подключение библиотек для функций считывания файлов"
      ]
    },
    {
      "cell_type": "code",
      "metadata": {
        "id": "ea4KbAKsZsQz"
      },
      "source": [
        "import pandas as pd\n",
        "import numpy as np\n",
        "import json\n",
        "\n",
        "from skimage import io\n",
        "\n",
        "pd.options.mode.chained_assignment = None"
      ],
      "execution_count": null,
      "outputs": []
    },
    {
      "cell_type": "code",
      "metadata": {
        "id": "DftDZnovYph9"
      },
      "source": [
        "# !pip install pytorch-lightning\n",
        "# !pip install imgaug==0.4.0"
      ],
      "execution_count": null,
      "outputs": []
    },
    {
      "cell_type": "code",
      "metadata": {
        "id": "0n608OBrY_aq"
      },
      "source": [
        "def get_photo_df(data, i):\n",
        "    return io.imread(SAMPLE_CORE_PATH + '/photos/{}.jpeg'.format(data['photo_id'].iloc[i]))\n",
        "\n",
        "def get_mask_df(data, i):\n",
        "    return np.load(SAMPLE_CORE_PATH + '/matrixes/matrix_{}__{}.npz'.format(data['photo_id'].iloc[i], data['task_id'].iloc[i]))['data']\n",
        "\n",
        "def get_json_df(data, i):\n",
        "    datastore = ''\n",
        "    with open(SAMPLE_CORE_PATH + '/extra/extra_{}__{}.json'.format(data['photo_id'].iloc[i],\n",
        "                                                                   data['task_id'].iloc[i]), 'r', encoding=\"utf8\") as f:\n",
        "        datastore = json.load(f)\n",
        "\n",
        "    return datastore"
      ],
      "execution_count": null,
      "outputs": []
    },
    {
      "cell_type": "code",
      "metadata": {
        "id": "7w3YAs3EiqdK"
      },
      "source": [
        "import torch\n",
        "from torchvision import models\n",
        "import requests\n",
        "import json\n",
        "import os\n",
        "import skimage.io as io\n",
        "import imgaug.augmenters as iaa\n",
        "from skimage import img_as_float32\n",
        "\n",
        "class DayModel:\n",
        "    def __init__(self, model_path, num_classes):\n",
        "        self.model = models.segmentation.deeplabv3_resnet50(pretrained=False, progress=True, num_classes=num_classes)\n",
        "        self.model.load_state_dict(torch.load(model_path))\n",
        "        self.is_cuda_available = torch.cuda.is_available()\n",
        "        # Set model to cuda if available\n",
        "        if self.is_cuda_available:\n",
        "            self.model.cuda()\n",
        "\n",
        "\n",
        "    def predict(self, photo_path):\n",
        "        # Read photo\n",
        "        photo = self.__get_image(photo_path)\n",
        "        # Initialize augmentators\n",
        "        aug_in = iaa.Resize({\"height\": 3000, \"width\": 300}, interpolation='linear')\n",
        "        aug_out = iaa.Resize({\"height\": photo.shape[0], \"width\": photo.shape[1]}, interpolation='nearest')\n",
        "        # aug_in applying\n",
        "        photo = np.expand_dims(photo, axis=0)\n",
        "        photo = aug_in(images=photo)[0]\n",
        "        # Check if photo allowed\n",
        "        self.__is_photo_allowed(photo)\n",
        "        # Convert photo to torch.Tensor\n",
        "        photo = self.__prepare_photo(photo)\n",
        "        # Make predict\n",
        "        self.model.eval()\n",
        "        mask_raw = self.model(photo)\n",
        "        mask = torch.max(mask_raw['out'], 1)[1].cpu().numpy()[0].astype(np.uint8)\n",
        "        print(np.unique(mask))\n",
        "        # aug_out applying\n",
        "        mask = np.expand_dims(mask, axis=0)\n",
        "        mask = aug_in(images=mask)[0]\n",
        "        self.__send_mask(mask, photo_path.replace(PHOTO_PREDICT_PATH, '').replace('photo', '').replace('.jpg', '').replace('.png', '').replace('.jpeg', ''))\n",
        "\n",
        "\n",
        "    def fit(self):\n",
        "        pass\n",
        "    \n",
        "\n",
        "    def __is_photo_allowed(self, photo):\n",
        "        if len(photo.shape) != 3:\n",
        "            raise ValueError('Except 3 dimensional photo, got {}'.format(photo.shape))\n",
        "        if photo.shape[2] != 3:\n",
        "            raise ValueError('Except 3-channel image, got {}'.format(photo.shape[2]))\n",
        "        return True\n",
        "\n",
        "\n",
        "    def __prepare_photo(self, photo):\n",
        "        photo = img_as_float32(photo)\n",
        "        photo = photo.transpose((2, 0, 1))\n",
        "        photo = torch.from_numpy(photo.copy()).unsqueeze(0).float()\n",
        "        if self.is_cuda_available:\n",
        "            photo = photo.cuda()\n",
        "        return photo\n",
        "    \n",
        "\n",
        "    def __get_image(self, image_path):\n",
        "        return io.imread(image_path)\n",
        "\n",
        "\n",
        "    def __save_image(self, fname, image):\n",
        "        return io.imsave(fname, image)\n",
        "\n",
        "\n",
        "    def __send_mask(self, mask, id):\n",
        "        fname = MASK_PREDICT_PATH + 'mask' + id + '.png'\n",
        "        self.__save_image(fname, mask)\n",
        "        url = 'https://code-backend.herokuapp.com/send_mask/'\n",
        "        # url = 'http://185.243.215.18:8080/send_mask/'\n",
        "        files = {'mask': (os.path.basename(fname), open(fname, 'rb'),\n",
        "                          'multipart/formdata')}\n",
        "        print(requests.post(url, files=files).text)"
      ],
      "execution_count": null,
      "outputs": []
    },
    {
      "cell_type": "code",
      "metadata": {
        "id": "aX3KzeAWbXMQ"
      },
      "source": [
        "import datetime\n",
        "import time\n",
        "import re\n",
        "\n",
        "def wait_task():\n",
        "    while True:\n",
        "        if os.listdir(PHOTO_PREDICT_PATH):\n",
        "            try:\n",
        "                photo_name = os.listdir(PHOTO_PREDICT_PATH)[0]\n",
        "                io.imread(PHOTO_PREDICT_PATH + photo_name)\n",
        "            except:\n",
        "                continue\n",
        "            print(photo_name)\n",
        "            # user_id =  re.findall('[\\d]+', photo_name)[1]\n",
        "            # model_id = re.findall('[\\d]+', photo_name)[2]\n",
        "            # fname = MODEL_PATH + 'model' + user_id + '_' + model_id + '.pt'\n",
        "            fname = MODEL_PATH + 'model5_1.pt'\n",
        "            model = DayModel(fname, 4)  # QUANTITY OF SEGMENT TYPES IS HARDCODED\n",
        "            model.predict(PHOTO_PREDICT_PATH + photo_name)\n",
        "            print(datetime.datetime.now())\n",
        "            os.remove(PHOTO_PREDICT_PATH + photo_name)\n",
        "        time.sleep(5)"
      ],
      "execution_count": null,
      "outputs": []
    },
    {
      "cell_type": "code",
      "metadata": {
        "id": "rbLWcOkafo8W",
        "colab": {
          "base_uri": "https://localhost:8080/",
          "height": 168,
          "referenced_widgets": [
            "17288f362ac84efda585504add2e83e6",
            "b524168504d443688ef628172a5a2d39",
            "7e0070e4f3e34e55bbbe76bbb004254b",
            "6519f69d1310480d86dd7f414b31da82",
            "9f4556167c634d6b902c1eab97e4356e",
            "b8d1181dab0d4318a38ede36e9c263c4",
            "cbbb255b2cdd4fa488213eb7ff8188f2",
            "b0558f79aebd4720afec4a57ddab39b0"
          ]
        },
        "outputId": "07e7b2fc-0fe7-4682-b8d7-65244d7fd3f7"
      },
      "source": [
        "wait_task()"
      ],
      "execution_count": null,
      "outputs": [
        {
          "output_type": "stream",
          "text": [
            "photo53_44_63.png\n"
          ],
          "name": "stdout"
        },
        {
          "output_type": "stream",
          "text": [
            "Downloading: \"https://download.pytorch.org/models/resnet50-19c8e357.pth\" to /root/.cache/torch/hub/checkpoints/resnet50-19c8e357.pth\n"
          ],
          "name": "stderr"
        },
        {
          "output_type": "display_data",
          "data": {
            "application/vnd.jupyter.widget-view+json": {
              "model_id": "17288f362ac84efda585504add2e83e6",
              "version_minor": 0,
              "version_major": 2
            },
            "text/plain": [
              "HBox(children=(FloatProgress(value=0.0, max=102502400.0), HTML(value='')))"
            ]
          },
          "metadata": {
            "tags": []
          }
        },
        {
          "output_type": "stream",
          "text": [
            "\n",
            "[2 3]\n"
          ],
          "name": "stdout"
        },
        {
          "output_type": "stream",
          "text": [
            "/usr/local/lib/python3.6/dist-packages/ipykernel_launcher.py:70: UserWarning: drive/My Drive/mask_predict/mask53_44_63.png is a low contrast image\n"
          ],
          "name": "stderr"
        },
        {
          "output_type": "stream",
          "text": [
            "{\"message\":\"mask is successfully sent\"}\n",
            "2020-11-25 07:03:11.521063\n"
          ],
          "name": "stdout"
        }
      ]
    },
    {
      "cell_type": "code",
      "metadata": {
        "id": "Nu9BwgtOZlsx"
      },
      "source": [
        ""
      ],
      "execution_count": null,
      "outputs": []
    }
  ]
}