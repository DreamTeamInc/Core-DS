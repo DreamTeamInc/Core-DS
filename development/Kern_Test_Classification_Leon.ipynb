{
  "nbformat": 4,
  "nbformat_minor": 0,
  "metadata": {
    "colab": {
      "name": "Kern Test Classification Leon",
      "provenance": [],
      "collapsed_sections": [],
      "toc_visible": true,
      "include_colab_link": true
    },
    "kernelspec": {
      "name": "python3",
      "display_name": "Python 3"
    }
  },
  "cells": [
    {
      "cell_type": "markdown",
      "metadata": {
        "id": "view-in-github",
        "colab_type": "text"
      },
      "source": [
        "<a href=\"https://colab.research.google.com/github/DreamTeamInc/Core-DS/blob/issues%2F2/Kern_Test_Classification_Leon.ipynb\" target=\"_parent\"><img src=\"https://colab.research.google.com/assets/colab-badge.svg\" alt=\"Open In Colab\"/></a>"
      ]
    },
    {
      "cell_type": "markdown",
      "metadata": {
        "id": "QoyJRAtbwI3y"
      },
      "source": [
        "Команда ниже монтирует образ gDrive. Добавь ярлык на папку с керном перед этим.\n"
      ]
    },
    {
      "cell_type": "code",
      "metadata": {
        "id": "UDNK1hQEpTgm",
        "outputId": "b87d9621-9d68-4d97-eb7f-59c2056650ea",
        "colab": {
          "base_uri": "https://localhost:8080/"
        }
      },
      "source": [
        "from google.colab import drive\n",
        "drive.mount('/content/drive')\n",
        "\n",
        "# Path to 'sample_core_analysis_data_example' folder with folder name\n",
        "SAMPLE_CORE_PATH = 'drive/My Drive/ sample_core_analysis_data_example'"
      ],
      "execution_count": 1,
      "outputs": [
        {
          "output_type": "stream",
          "text": [
            "Mounted at /content/drive\n"
          ],
          "name": "stdout"
        }
      ]
    },
    {
      "cell_type": "markdown",
      "metadata": {
        "id": "-cyHF5iqwahY"
      },
      "source": [
        "# Инициализация библиотек"
      ]
    },
    {
      "cell_type": "code",
      "metadata": {
        "id": "rCpadN8OwRxi"
      },
      "source": [
        "import pandas as pd\n",
        "import numpy as np\n",
        "import matplotlib.pyplot as plt\n",
        "import json\n",
        "import copy\n",
        "\n",
        "from skimage import io\n",
        "\n",
        "from IPython.display import clear_output\n",
        "pd.options.mode.chained_assignment = None\n",
        "np.random.seed(0)"
      ],
      "execution_count": 2,
      "outputs": []
    },
    {
      "cell_type": "markdown",
      "metadata": {
        "id": "_c4K2qbZ3_oS"
      },
      "source": [
        "# Подготовка данных"
      ]
    },
    {
      "cell_type": "code",
      "metadata": {
        "id": "VKAQ74CNwfM3",
        "outputId": "a6c71ece-82fe-41dd-a27e-596b6c7b4ee9",
        "colab": {
          "base_uri": "https://localhost:8080/",
          "height": 159
        }
      },
      "source": [
        "data = pd.read_csv(SAMPLE_CORE_PATH + '/data.csv')\n",
        "print(data.shape)\n",
        "data.sample(3)"
      ],
      "execution_count": 3,
      "outputs": [
        {
          "output_type": "stream",
          "text": [
            "(14915, 6)\n"
          ],
          "name": "stdout"
        },
        {
          "output_type": "execute_result",
          "data": {
            "text/html": [
              "<div>\n",
              "<style scoped>\n",
              "    .dataframe tbody tr th:only-of-type {\n",
              "        vertical-align: middle;\n",
              "    }\n",
              "\n",
              "    .dataframe tbody tr th {\n",
              "        vertical-align: top;\n",
              "    }\n",
              "\n",
              "    .dataframe thead th {\n",
              "        text-align: right;\n",
              "    }\n",
              "</style>\n",
              "<table border=\"1\" class=\"dataframe\">\n",
              "  <thead>\n",
              "    <tr style=\"text-align: right;\">\n",
              "      <th></th>\n",
              "      <th>task_id</th>\n",
              "      <th>photo_id</th>\n",
              "      <th>photo_type</th>\n",
              "      <th>segment_num</th>\n",
              "      <th>segment_type</th>\n",
              "      <th>segment_value</th>\n",
              "    </tr>\n",
              "  </thead>\n",
              "  <tbody>\n",
              "    <tr>\n",
              "      <th>1078</th>\n",
              "      <td>3a5eb82d_6722_48e2_b7e6_311e26059040</td>\n",
              "      <td>1004664</td>\n",
              "      <td>ДС</td>\n",
              "      <td>6</td>\n",
              "      <td>Разрушенность</td>\n",
              "      <td>Разлом</td>\n",
              "    </tr>\n",
              "    <tr>\n",
              "      <th>3865</th>\n",
              "      <td>b62eb3e8_1b20_449a_99b7_9177f3dc3adb</td>\n",
              "      <td>1003306</td>\n",
              "      <td>ДС</td>\n",
              "      <td>4</td>\n",
              "      <td>Разрушенность</td>\n",
              "      <td>Разлом</td>\n",
              "    </tr>\n",
              "    <tr>\n",
              "      <th>10183</th>\n",
              "      <td>575dc208_d70e_42f1_a1fc_540d04bf551e</td>\n",
              "      <td>1009500</td>\n",
              "      <td>ДС</td>\n",
              "      <td>1</td>\n",
              "      <td>Разрушенность</td>\n",
              "      <td>Разлом</td>\n",
              "    </tr>\n",
              "  </tbody>\n",
              "</table>\n",
              "</div>"
            ],
            "text/plain": [
              "                                    task_id  ...  segment_value\n",
              "1078   3a5eb82d_6722_48e2_b7e6_311e26059040  ...         Разлом\n",
              "3865   b62eb3e8_1b20_449a_99b7_9177f3dc3adb  ...         Разлом\n",
              "10183  575dc208_d70e_42f1_a1fc_540d04bf551e  ...         Разлом\n",
              "\n",
              "[3 rows x 6 columns]"
            ]
          },
          "metadata": {
            "tags": []
          },
          "execution_count": 3
        }
      ]
    },
    {
      "cell_type": "markdown",
      "metadata": {
        "id": "XhsT3AUgu5Xv"
      },
      "source": [
        "Выбираем на фото дневные фотографии с сегментами типа 'Порода' без 'Переслаивания пород'"
      ]
    },
    {
      "cell_type": "code",
      "metadata": {
        "id": "9_8unm23rW01",
        "outputId": "09156f5d-46bd-4367-e0d3-63c6a7a77f28",
        "colab": {
          "base_uri": "https://localhost:8080/",
          "height": 159
        }
      },
      "source": [
        "data_day = data[data['photo_type'] == 'ДС'] \n",
        "data_day_rock = data_day[data_day['segment_type'] == 'Порода']\n",
        "data_day_rock_light = data_day_rock[data_day_rock['segment_value'] != 'Переслаивание пород'] \n",
        "print(data_day_rock_light.shape)\n",
        "data_day_rock_light.sample(3)"
      ],
      "execution_count": 4,
      "outputs": [
        {
          "output_type": "stream",
          "text": [
            "(1856, 6)\n"
          ],
          "name": "stdout"
        },
        {
          "output_type": "execute_result",
          "data": {
            "text/html": [
              "<div>\n",
              "<style scoped>\n",
              "    .dataframe tbody tr th:only-of-type {\n",
              "        vertical-align: middle;\n",
              "    }\n",
              "\n",
              "    .dataframe tbody tr th {\n",
              "        vertical-align: top;\n",
              "    }\n",
              "\n",
              "    .dataframe thead th {\n",
              "        text-align: right;\n",
              "    }\n",
              "</style>\n",
              "<table border=\"1\" class=\"dataframe\">\n",
              "  <thead>\n",
              "    <tr style=\"text-align: right;\">\n",
              "      <th></th>\n",
              "      <th>task_id</th>\n",
              "      <th>photo_id</th>\n",
              "      <th>photo_type</th>\n",
              "      <th>segment_num</th>\n",
              "      <th>segment_type</th>\n",
              "      <th>segment_value</th>\n",
              "    </tr>\n",
              "  </thead>\n",
              "  <tbody>\n",
              "    <tr>\n",
              "      <th>10884</th>\n",
              "      <td>d2e9e4b9_ef9c_4d1c_9399_7ab13a1c8de3</td>\n",
              "      <td>1005436</td>\n",
              "      <td>ДС</td>\n",
              "      <td>12</td>\n",
              "      <td>Порода</td>\n",
              "      <td>Песчаник</td>\n",
              "    </tr>\n",
              "    <tr>\n",
              "      <th>1412</th>\n",
              "      <td>f05f4cbb_f3f3_4983_90ad_38da9f5ceb9d</td>\n",
              "      <td>1016562</td>\n",
              "      <td>ДС</td>\n",
              "      <td>0</td>\n",
              "      <td>Порода</td>\n",
              "      <td>Аргиллит</td>\n",
              "    </tr>\n",
              "    <tr>\n",
              "      <th>2195</th>\n",
              "      <td>f4c6385c_4bd2_4b7e_8c5b_7b79ddbfefb4</td>\n",
              "      <td>1005036</td>\n",
              "      <td>ДС</td>\n",
              "      <td>7</td>\n",
              "      <td>Порода</td>\n",
              "      <td>Алевролит глинистый</td>\n",
              "    </tr>\n",
              "  </tbody>\n",
              "</table>\n",
              "</div>"
            ],
            "text/plain": [
              "                                    task_id  ...        segment_value\n",
              "10884  d2e9e4b9_ef9c_4d1c_9399_7ab13a1c8de3  ...             Песчаник\n",
              "1412   f05f4cbb_f3f3_4983_90ad_38da9f5ceb9d  ...             Аргиллит\n",
              "2195   f4c6385c_4bd2_4b7e_8c5b_7b79ddbfefb4  ...  Алевролит глинистый\n",
              "\n",
              "[3 rows x 6 columns]"
            ]
          },
          "metadata": {
            "tags": []
          },
          "execution_count": 4
        }
      ]
    },
    {
      "cell_type": "markdown",
      "metadata": {
        "id": "9Aooew6pw5jy"
      },
      "source": [
        "Вспомогатаельная функция для взятия **n** **task**'ов для каждого типа породы. Параметр **dropout** определяет стоит ли выкидывать классы сегментов, которые имеют меньше **n** **task**'ов"
      ]
    },
    {
      "cell_type": "code",
      "metadata": {
        "id": "IQ-EXjUs1RVR"
      },
      "source": [
        "def take_n_samples(data, n, dropout=True):\n",
        "    df = pd.DataFrame(data=None, columns=data.columns)\n",
        "    rocks = pd.unique(data[data['segment_type'] == 'Порода']['segment_value'].values)\n",
        "\n",
        "    for rock in rocks:\n",
        "        data_rock = data[data[\"segment_value\"] == rock]\n",
        "        if dropout and len(data_rock) < n:\n",
        "            continue\n",
        "        for i in range(min(n, len(data_rock))):\n",
        "            df = df.append(data_rock.iloc[i])\n",
        "        \n",
        "    return df"
      ],
      "execution_count": 5,
      "outputs": []
    },
    {
      "cell_type": "markdown",
      "metadata": {
        "id": "3I278rcYxvd2"
      },
      "source": [
        "Берём по 50 примеров из data_day_rock_light, выкидывая классы с меньшим количеством **task_id**"
      ]
    },
    {
      "cell_type": "code",
      "metadata": {
        "id": "f1jg4cR64Mf-",
        "outputId": "c105db7d-b2ac-491e-e718-b00498c9bdfc",
        "colab": {
          "base_uri": "https://localhost:8080/",
          "height": 159
        }
      },
      "source": [
        "data_xy = take_n_samples(data_day_rock_light, 50)\n",
        "data_xy = data_xy.sample(200)\n",
        "print(data_xy.shape)\n",
        "data_xy.sample(3)"
      ],
      "execution_count": 6,
      "outputs": [
        {
          "output_type": "stream",
          "text": [
            "(200, 6)\n"
          ],
          "name": "stdout"
        },
        {
          "output_type": "execute_result",
          "data": {
            "text/html": [
              "<div>\n",
              "<style scoped>\n",
              "    .dataframe tbody tr th:only-of-type {\n",
              "        vertical-align: middle;\n",
              "    }\n",
              "\n",
              "    .dataframe tbody tr th {\n",
              "        vertical-align: top;\n",
              "    }\n",
              "\n",
              "    .dataframe thead th {\n",
              "        text-align: right;\n",
              "    }\n",
              "</style>\n",
              "<table border=\"1\" class=\"dataframe\">\n",
              "  <thead>\n",
              "    <tr style=\"text-align: right;\">\n",
              "      <th></th>\n",
              "      <th>task_id</th>\n",
              "      <th>photo_id</th>\n",
              "      <th>photo_type</th>\n",
              "      <th>segment_num</th>\n",
              "      <th>segment_type</th>\n",
              "      <th>segment_value</th>\n",
              "    </tr>\n",
              "  </thead>\n",
              "  <tbody>\n",
              "    <tr>\n",
              "      <th>5714</th>\n",
              "      <td>a3e22242_526a_40ce_8483_5a9108bf3e0d</td>\n",
              "      <td>1013476</td>\n",
              "      <td>ДС</td>\n",
              "      <td>9</td>\n",
              "      <td>Порода</td>\n",
              "      <td>Песчаник глинистый</td>\n",
              "    </tr>\n",
              "    <tr>\n",
              "      <th>3388</th>\n",
              "      <td>242629b1_7f4b_42aa_bd86_774b5fa0264a</td>\n",
              "      <td>1004732</td>\n",
              "      <td>ДС</td>\n",
              "      <td>2</td>\n",
              "      <td>Порода</td>\n",
              "      <td>Песчаник глинистый</td>\n",
              "    </tr>\n",
              "    <tr>\n",
              "      <th>746</th>\n",
              "      <td>d438eeb5_2fbc_4501_beee_a7ce24a676c4</td>\n",
              "      <td>1000026</td>\n",
              "      <td>ДС</td>\n",
              "      <td>1</td>\n",
              "      <td>Порода</td>\n",
              "      <td>Песчаник</td>\n",
              "    </tr>\n",
              "  </tbody>\n",
              "</table>\n",
              "</div>"
            ],
            "text/plain": [
              "                                   task_id  ...       segment_value\n",
              "5714  a3e22242_526a_40ce_8483_5a9108bf3e0d  ...  Песчаник глинистый\n",
              "3388  242629b1_7f4b_42aa_bd86_774b5fa0264a  ...  Песчаник глинистый\n",
              "746   d438eeb5_2fbc_4501_beee_a7ce24a676c4  ...            Песчаник\n",
              "\n",
              "[3 rows x 6 columns]"
            ]
          },
          "metadata": {
            "tags": []
          },
          "execution_count": 6
        }
      ]
    },
    {
      "cell_type": "markdown",
      "metadata": {
        "id": "ekAL5nwJ4zt7"
      },
      "source": [
        "# Вспомогательные функции для изъятия файлов"
      ]
    },
    {
      "cell_type": "markdown",
      "metadata": {
        "id": "zjvBD9hrKOIr"
      },
      "source": [
        "## Функции для отображения и изъятия данных с диска"
      ]
    },
    {
      "cell_type": "code",
      "metadata": {
        "id": "zDFMQmZc4uGb"
      },
      "source": [
        "def show_image(image, nrows=1, ncols=1, cmap='gray'):\n",
        "    fig, ax = plt.subplots(nrows=nrows, ncols=ncols, figsize=(14, 14))\n",
        "    ax.imshow(image)\n",
        "    ax.axis('off')\n",
        "    return fig, ax\n",
        "\n",
        "def get_photo(data, i):\n",
        "    return io.imread(SAMPLE_CORE_PATH + '/photos/{}.jpeg'.format(data['photo_id'].iloc[i]))\n",
        "\n",
        "def get_mask(data, i):\n",
        "    return np.load(SAMPLE_CORE_PATH + '/matrixes/matrix_{}__{}.npz'.format(data['photo_id'].iloc[i], data['task_id'].iloc[i]))['data']\n",
        "\n",
        "def get_json(data, i):\n",
        "    datastore = ''\n",
        "    with open(SAMPLE_CORE_PATH + '/extra/extra_{}__{}.json'.format(data['photo_id'].iloc[i],\n",
        "                                                                   data['task_id'].iloc[i]), 'r', encoding=\"utf8\") as f:\n",
        "        datastore = json.load(f)\n",
        "\n",
        "    return datastore\n",
        "\n",
        "def show_all(data, i):\n",
        "    print(data.iloc[i])\n",
        "    fig, (ax1, ax2) = plt.subplots(1, 2, figsize=(14, 14))\n",
        "    ax1.imshow(get_photo(data, i))\n",
        "    ax1.axis('off')\n",
        "\n",
        "    cmap = plt.get_cmap('tab20b', np.max(get_mask(data, i)) + 1)\n",
        "    mask = ax2.imshow(get_mask(data, i), cmap=cmap,\n",
        "                      vmin=-0.5, vmax=np.max(get_mask(data, i))+0.5)\n",
        "    ax2.axis('off')\n",
        "    fig.colorbar(mask, ticks=np.arange(0, np.max(get_mask(data, i))+1))\n",
        "    return fig, (ax1, ax2)\n",
        "\n",
        "\n",
        "\n",
        "def show_photo_seies(data, column, value):\n",
        "    fig, ax_ar = plt.subplots(1, 5, figsize=(14, 14))\n",
        "    filt_data = data[data[column] == value]\n",
        "    i = np.random.randint(0, filt_data.shape[0])\n",
        "    for ax in ax_ar:\n",
        "        filt_by_photo = filt_data[filt_data['photo_id'] == filt_data['photo_id'].iloc[i]]\n",
        "        segments = filt_by_photo['segment_num'].values\n",
        "        photo = get_photo(filt_data, i)\n",
        "        mask = get_mask(filt_data, i)\n",
        "        for value in segments:\n",
        "            mask = np.ma.masked_where(mask == value, mask)\n",
        "        \n",
        "        ax.imshow(photo)\n",
        "        ax.imshow(mask)\n",
        "        ax.axis('off')\n",
        "        filt_data.drop(filt_by_photo.index.values, axis=0, inplace=True)\n",
        "        i = np.random.randint(0, filt_data.shape[0])\n",
        "    \n",
        "    return fig, ax_ar"
      ],
      "execution_count": 7,
      "outputs": []
    },
    {
      "cell_type": "markdown",
      "metadata": {
        "id": "cFcfZ2hvJtpS"
      },
      "source": [
        "## Функция для распаковки признаков, хранящихся в массивах"
      ]
    },
    {
      "cell_type": "code",
      "metadata": {
        "id": "HT7pegJFJqJq"
      },
      "source": [
        "# unpack a column with arrays of features\n",
        "def unpack_col(data, column):\n",
        "    # count number of features in one array\n",
        "    count = len(data[column].iloc[0])\n",
        "    # initialize a column pattern\n",
        "    col_p = column + '_{}'\n",
        "    # initialize columns for the features\n",
        "    for i in range(count):\n",
        "        data[col_p.format(i)] = \"\"\n",
        "    # unpacking\n",
        "    for i in range(count):\n",
        "        for j in range(len(data)):\n",
        "            data[col_p.format(i)].iloc[j] = data[column].iloc[j][i]\n",
        "    # convert every column to float32\n",
        "    for i in range(count):\n",
        "        data[col_p.format(i)] = data[col_p.format(i)].astype('float32')\n",
        "    data.drop([column], axis=1, inplace=True)"
      ],
      "execution_count": 8,
      "outputs": []
    },
    {
      "cell_type": "markdown",
      "metadata": {
        "id": "ZmfyfPmDu6_z"
      },
      "source": [
        "## Функция для оценки эффективности данных. Использует RandomForest. "
      ]
    },
    {
      "cell_type": "code",
      "metadata": {
        "id": "GaAQlbLy6Im5"
      },
      "source": [
        "from sklearn.model_selection import KFold\n",
        "from sklearn.ensemble import RandomForestClassifier\n",
        "from sklearn import metrics\n",
        "\n",
        "def make_experiment(X, y, random_states=(42, 14, 5), n_splits = 4):\n",
        "    average_acc_score = 0.0\n",
        "    average_f1_score = 0.0\n",
        "\n",
        "    best_f1_score = 0.0\n",
        "    worst_f1_score = 1.0\n",
        "    for random_state in random_states:\n",
        "        kf = KFold(n_splits=n_splits, random_state=random_state, shuffle=True)\n",
        "        for train_index, test_index in kf.split(X):\n",
        "            X_train, y_train = X[train_index],  y[train_index]\n",
        "            X_test, y_test = X[test_index], y[test_index]\n",
        "\n",
        "            model = RandomForestClassifier(n_estimators=750, bootstrap = True,\n",
        "                                        random_state=random_state)\n",
        "            model.fit(X_train, y_train)\n",
        "            y_hat = model.predict(X_test)\n",
        "\n",
        "            average_acc_score += metrics.accuracy_score(y_test, y_hat)\n",
        "            \n",
        "            f1_score = metrics.f1_score(y_test, y_hat, average='micro')\n",
        "            if f1_score > best_f1_score:\n",
        "                best_f1_score = f1_score\n",
        "            if f1_score < worst_f1_score:\n",
        "                worst_f1_score = f1_score\n",
        "            average_f1_score += f1_score\n",
        "    \n",
        "    res = {}\n",
        "    res['average Accuracy'] =  average_acc_score/n_splits/len(random_states)\n",
        "    res['average F1'] = average_f1_score/n_splits/len(random_states)\n",
        "    res['best F1'] = best_f1_score\n",
        "    res['worst F1'] = worst_f1_score\n",
        "    return res"
      ],
      "execution_count": 9,
      "outputs": []
    },
    {
      "cell_type": "markdown",
      "metadata": {
        "id": "L1G4RNBLwfGk"
      },
      "source": [
        "# Работа с гистограммами изображений"
      ]
    },
    {
      "cell_type": "markdown",
      "metadata": {
        "id": "TSwG9qUAwBLk"
      },
      "source": [
        "## Подготовка функций для создания гистограмм для каждого сегмента"
      ]
    },
    {
      "cell_type": "code",
      "metadata": {
        "id": "BbZCQVT7JF67"
      },
      "source": [
        "from skimage.color import rgb2gray\n",
        "from skimage.color import rgb2hsv\n",
        "from skimage.exposure import equalize_hist\n",
        "\n",
        "# Создаёт гистограмму серого изображения\n",
        "def add_hist_rgb2gray(df, bins=32, equalize=False):\n",
        "    data = df.copy()\n",
        "    data['hist_gray'] = \"\"\n",
        "    for i in range(data.shape[0]):\n",
        "        # Taking a segment num\n",
        "        segment_num = data['segment_num'].iloc[i]\n",
        "        # Taking an image with the segment\n",
        "        image = rgb2gray(get_photo(data, i))\n",
        "        # Perform histogram equalization\n",
        "        if equalize:\n",
        "            image = equalize_hist(image)\n",
        "        # Taking a part of the image by the segment num \n",
        "        remain_part = np.ma.masked_where(get_mask(data, i) == segment_num, image)\n",
        "        # Calculate histogram over the image (all pixels outside segment are black)\n",
        "        hist = np.histogram(remain_part.mask*remain_part.data, bins=bins, range=(0, 1))\n",
        "        # Save histrogram without first bin\n",
        "        data['hist_gray'].iloc[i] = hist[0][1:]\n",
        "\n",
        "        if i % 20 == 0:\n",
        "            print(i)\n",
        "    print('rgb2gray hist complete')\n",
        "    clear_output(wait=True)\n",
        "    return data\n",
        "\n",
        "# Создаёт RGB гистограмму\n",
        "def add_hist_rgb(df, bins=32):\n",
        "    data = df.copy()\n",
        "    data['hist_rgb_0'] = \"\"\n",
        "    data['hist_rgb_1'] = \"\"\n",
        "    data['hist_rgb_2'] = \"\"\n",
        "    for i in range(data.shape[0]):\n",
        "        # Taking a segment num\n",
        "        segment_num = data['segment_num'].iloc[i]\n",
        "        # Taking an image with the segment\n",
        "        image = get_photo(data, i)\n",
        "        # For each channel...\n",
        "        for j in range(3):\n",
        "            # Taking a part of the image channel by the segment num \n",
        "            remain_part = np.ma.masked_where(get_mask(data, i) == segment_num, image[:,:,j])\n",
        "            # Calculate histogram over the image channel (all pixels outside segment are black)\n",
        "            hist = np.histogram(remain_part.mask*remain_part.data, bins=bins, range=(0, 1))\n",
        "            # Save histrogram without first bin\n",
        "            data['hist_rgb_{}'.format(j)].iloc[i] = hist[0][1:]\n",
        "\n",
        "        if i % 20 == 0:\n",
        "            print(i)\n",
        "    print('hist_rgb hist complete')\n",
        "    clear_output(wait=True)\n",
        "    return data\n",
        "\n",
        "# Создаёт HSV гистограмму\n",
        "def add_hist_hsv(df, bins=32, equalize=False):\n",
        "    data = df.copy()\n",
        "    data['hist_hsv_0'] = \"\"\n",
        "    data['hist_hsv_1'] = \"\"\n",
        "    data['hist_hsv_2'] = \"\"\n",
        "    for i in range(data.shape[0]):\n",
        "        # Taking a segment num\n",
        "        segment_num = data['segment_num'].iloc[i]\n",
        "        # Taking an image with the segment\n",
        "        image = rgb2hsv(get_photo(data, i))\n",
        "        # Perform histogram equalization\n",
        "        if equalize:\n",
        "            image[:, :, 2] = equalize_hist(image[:, :, 2])\n",
        "        # For each channel...\n",
        "        for j in range(3):\n",
        "            # Taking a part of the image channel by the segment num \n",
        "            remain_part = np.ma.masked_where(get_mask(data, i) == segment_num, image[:,:,j])\n",
        "            # Calculate histogram over the image channel (all pixels outside segment are black)\n",
        "            hist = np.histogram(remain_part.mask*remain_part.data, bins=bins, range=(0, 1))\n",
        "            # Save histrogram without first bin\n",
        "            data['hist_hsv_{}'.format(j)].iloc[i] = hist[0][1:]\n",
        "\n",
        "        if i % 20 == 0:\n",
        "            print(i)\n",
        "    print('hist_hsv hist complete')\n",
        "    clear_output(wait=True)\n",
        "    return data"
      ],
      "execution_count": null,
      "outputs": []
    },
    {
      "cell_type": "markdown",
      "metadata": {
        "id": "gBge9PIFvuJf"
      },
      "source": [
        "## Проверка гистограмм разного типа"
      ]
    },
    {
      "cell_type": "markdown",
      "metadata": {
        "id": "XP_A3CGz1Cg_"
      },
      "source": [
        "### Гистограмма серого"
      ]
    },
    {
      "cell_type": "code",
      "metadata": {
        "id": "SSIkew3d0AeA"
      },
      "source": [
        "def experiment_gray(data_xy, bins, equalize=False, random_states = (42, 5, 14)):\n",
        "    # calculate hist\n",
        "    data_gray = add_hist_rgb2gray(data_xy, bins=bins, equalize=equalize)\n",
        "    # extract a target value\n",
        "    y_symb = data_gray['segment_value']\n",
        "    # convert a target value to a numeric type\n",
        "    y = pd.Series((pd.factorize(y_symb)[0]))\n",
        "    # prepare an input data\n",
        "    X = data_gray.drop(['task_id', 'photo_id', 'photo_type', 'segment_num', 'segment_type', 'segment_value'], axis=1)\n",
        "    unpack_col(X, 'hist_gray')\n",
        "    # make an experiment\n",
        "    res = make_experiment(X.to_numpy(), y.to_numpy(), random_states, 4)\n",
        "    return res"
      ],
      "execution_count": null,
      "outputs": []
    },
    {
      "cell_type": "code",
      "metadata": {
        "id": "UnxmWRiXY5YY"
      },
      "source": [
        "def experiments_series_gray(data_xy, bins_range = (8, 256, 2)):\n",
        "    data = pd.DataFrame(columns=('histogram', 'bins', 'equalize',\n",
        "                                 'average Accuracy', 'average F1',\n",
        "                                 'best F1', 'worst F1'))\n",
        "    i = copy.copy(bins_range[0])\n",
        "    index = 0\n",
        "    is_equalize = 0\n",
        "    while i <= bins_range[1]:\n",
        "        res = experiment_gray(data_xy, i, is_equalize)\n",
        "        res['histogram'] = 'gray'\n",
        "        res['bins'] = i\n",
        "        res['equalize'] = is_equalize\n",
        "        data = data.append(res, ignore_index=True)\n",
        "        print(data)\n",
        "        i *= bins_range[2]\n",
        "\n",
        "        if is_equalize == 0 and bins_range[1] < i:\n",
        "            i = bins_range[0]\n",
        "            is_equalize = 1\n",
        "    clear_output(wait=True)\n",
        "    return data"
      ],
      "execution_count": null,
      "outputs": []
    },
    {
      "cell_type": "code",
      "metadata": {
        "id": "x9KO61VleP-h",
        "outputId": "431853c2-8aaf-4732-ecfb-03cf093ec017",
        "colab": {
          "base_uri": "https://localhost:8080/",
          "height": 421
        }
      },
      "source": [
        "data_exp_gray = experiments_series_gray(data_xy)\n",
        "data_exp_gray.head(len(data_exp_gray))"
      ],
      "execution_count": null,
      "outputs": [
        {
          "output_type": "execute_result",
          "data": {
            "text/html": [
              "<div>\n",
              "<style scoped>\n",
              "    .dataframe tbody tr th:only-of-type {\n",
              "        vertical-align: middle;\n",
              "    }\n",
              "\n",
              "    .dataframe tbody tr th {\n",
              "        vertical-align: top;\n",
              "    }\n",
              "\n",
              "    .dataframe thead th {\n",
              "        text-align: right;\n",
              "    }\n",
              "</style>\n",
              "<table border=\"1\" class=\"dataframe\">\n",
              "  <thead>\n",
              "    <tr style=\"text-align: right;\">\n",
              "      <th></th>\n",
              "      <th>histogram</th>\n",
              "      <th>bins</th>\n",
              "      <th>equalize</th>\n",
              "      <th>average Accuracy</th>\n",
              "      <th>average F1</th>\n",
              "      <th>best F1</th>\n",
              "      <th>worst F1</th>\n",
              "    </tr>\n",
              "  </thead>\n",
              "  <tbody>\n",
              "    <tr>\n",
              "      <th>0</th>\n",
              "      <td>gray</td>\n",
              "      <td>8</td>\n",
              "      <td>0</td>\n",
              "      <td>0.525000</td>\n",
              "      <td>0.525000</td>\n",
              "      <td>0.60</td>\n",
              "      <td>0.38</td>\n",
              "    </tr>\n",
              "    <tr>\n",
              "      <th>1</th>\n",
              "      <td>gray</td>\n",
              "      <td>16</td>\n",
              "      <td>0</td>\n",
              "      <td>0.538333</td>\n",
              "      <td>0.538333</td>\n",
              "      <td>0.64</td>\n",
              "      <td>0.44</td>\n",
              "    </tr>\n",
              "    <tr>\n",
              "      <th>2</th>\n",
              "      <td>gray</td>\n",
              "      <td>32</td>\n",
              "      <td>0</td>\n",
              "      <td>0.543333</td>\n",
              "      <td>0.543333</td>\n",
              "      <td>0.66</td>\n",
              "      <td>0.46</td>\n",
              "    </tr>\n",
              "    <tr>\n",
              "      <th>3</th>\n",
              "      <td>gray</td>\n",
              "      <td>64</td>\n",
              "      <td>0</td>\n",
              "      <td>0.568333</td>\n",
              "      <td>0.568333</td>\n",
              "      <td>0.64</td>\n",
              "      <td>0.50</td>\n",
              "    </tr>\n",
              "    <tr>\n",
              "      <th>4</th>\n",
              "      <td>gray</td>\n",
              "      <td>128</td>\n",
              "      <td>0</td>\n",
              "      <td>0.571667</td>\n",
              "      <td>0.571667</td>\n",
              "      <td>0.68</td>\n",
              "      <td>0.52</td>\n",
              "    </tr>\n",
              "    <tr>\n",
              "      <th>5</th>\n",
              "      <td>gray</td>\n",
              "      <td>256</td>\n",
              "      <td>0</td>\n",
              "      <td>0.568333</td>\n",
              "      <td>0.568333</td>\n",
              "      <td>0.68</td>\n",
              "      <td>0.48</td>\n",
              "    </tr>\n",
              "    <tr>\n",
              "      <th>6</th>\n",
              "      <td>gray</td>\n",
              "      <td>8</td>\n",
              "      <td>1</td>\n",
              "      <td>0.303333</td>\n",
              "      <td>0.303333</td>\n",
              "      <td>0.38</td>\n",
              "      <td>0.24</td>\n",
              "    </tr>\n",
              "    <tr>\n",
              "      <th>7</th>\n",
              "      <td>gray</td>\n",
              "      <td>16</td>\n",
              "      <td>1</td>\n",
              "      <td>0.361667</td>\n",
              "      <td>0.361667</td>\n",
              "      <td>0.44</td>\n",
              "      <td>0.28</td>\n",
              "    </tr>\n",
              "    <tr>\n",
              "      <th>8</th>\n",
              "      <td>gray</td>\n",
              "      <td>32</td>\n",
              "      <td>1</td>\n",
              "      <td>0.363333</td>\n",
              "      <td>0.363333</td>\n",
              "      <td>0.48</td>\n",
              "      <td>0.28</td>\n",
              "    </tr>\n",
              "    <tr>\n",
              "      <th>9</th>\n",
              "      <td>gray</td>\n",
              "      <td>64</td>\n",
              "      <td>1</td>\n",
              "      <td>0.413333</td>\n",
              "      <td>0.413333</td>\n",
              "      <td>0.54</td>\n",
              "      <td>0.30</td>\n",
              "    </tr>\n",
              "    <tr>\n",
              "      <th>10</th>\n",
              "      <td>gray</td>\n",
              "      <td>128</td>\n",
              "      <td>1</td>\n",
              "      <td>0.465000</td>\n",
              "      <td>0.465000</td>\n",
              "      <td>0.58</td>\n",
              "      <td>0.36</td>\n",
              "    </tr>\n",
              "    <tr>\n",
              "      <th>11</th>\n",
              "      <td>gray</td>\n",
              "      <td>256</td>\n",
              "      <td>1</td>\n",
              "      <td>0.508333</td>\n",
              "      <td>0.508333</td>\n",
              "      <td>0.62</td>\n",
              "      <td>0.40</td>\n",
              "    </tr>\n",
              "  </tbody>\n",
              "</table>\n",
              "</div>"
            ],
            "text/plain": [
              "   histogram bins equalize  average Accuracy  average F1  best F1  worst F1\n",
              "0       gray    8        0          0.525000    0.525000     0.60      0.38\n",
              "1       gray   16        0          0.538333    0.538333     0.64      0.44\n",
              "2       gray   32        0          0.543333    0.543333     0.66      0.46\n",
              "3       gray   64        0          0.568333    0.568333     0.64      0.50\n",
              "4       gray  128        0          0.571667    0.571667     0.68      0.52\n",
              "5       gray  256        0          0.568333    0.568333     0.68      0.48\n",
              "6       gray    8        1          0.303333    0.303333     0.38      0.24\n",
              "7       gray   16        1          0.361667    0.361667     0.44      0.28\n",
              "8       gray   32        1          0.363333    0.363333     0.48      0.28\n",
              "9       gray   64        1          0.413333    0.413333     0.54      0.30\n",
              "10      gray  128        1          0.465000    0.465000     0.58      0.36\n",
              "11      gray  256        1          0.508333    0.508333     0.62      0.40"
            ]
          },
          "metadata": {
            "tags": []
          },
          "execution_count": 43
        }
      ]
    },
    {
      "cell_type": "markdown",
      "metadata": {
        "id": "HSnwfhZ46mnE"
      },
      "source": [
        "В случае с гистограммой Серого, лучший результат был показан с 256 бинами без эквализации. Эквализация только портила полезную информацию."
      ]
    },
    {
      "cell_type": "markdown",
      "metadata": {
        "id": "HW9wESI79QJS"
      },
      "source": [
        "### Гистограмма RGB"
      ]
    },
    {
      "cell_type": "code",
      "metadata": {
        "id": "WhEtQh2-9XEi"
      },
      "source": [
        "def experiment_rgb(data_xy, bins, random_states = (42, 5, 14)):\n",
        "    # calculate hist\n",
        "    data_rgb = add_hist_rgb(data_xy, bins=bins)\n",
        "    # extract a target value\n",
        "    y_symb = data_rgb['segment_value']\n",
        "    # convert a target value to a numeric type\n",
        "    y = pd.Series((pd.factorize(y_symb)[0]))\n",
        "    # prepare an input data\n",
        "    X = data_rgb.drop(['task_id', 'photo_id', 'photo_type', 'segment_num', 'segment_type', 'segment_value'], axis=1)\n",
        "    unpack_col(X, 'hist_rgb_0')\n",
        "    unpack_col(X, 'hist_rgb_1')\n",
        "    unpack_col(X, 'hist_rgb_2')\n",
        "    # make an experiment\n",
        "    res = make_experiment(X.to_numpy(), y.to_numpy(), random_states, 4)\n",
        "    return res"
      ],
      "execution_count": null,
      "outputs": []
    },
    {
      "cell_type": "code",
      "metadata": {
        "id": "VV_-vc2ltOq7"
      },
      "source": [
        "def experiments_series_rgb(data_xy, bins_range = (8, 256, 2)):\n",
        "    data = pd.DataFrame(columns=('histogram', 'bins', 'equalize',\n",
        "                                 'average Accuracy', 'average F1',\n",
        "                                 'best F1', 'worst F1'))\n",
        "    i = copy.copy(bins_range[0])\n",
        "    index = 0\n",
        "    is_equalize = 0\n",
        "    while i <= bins_range[1]:\n",
        "        res = experiment_rgb(data_xy, i)\n",
        "        res['histogram'] = 'rgb'\n",
        "        res['bins'] = i\n",
        "        res['equalize'] = is_equalize\n",
        "        data = data.append(res, ignore_index=True)\n",
        "        print(data)\n",
        "        i *= bins_range[2]\n",
        "\n",
        "    clear_output(wait=True)\n",
        "    return data"
      ],
      "execution_count": null,
      "outputs": []
    },
    {
      "cell_type": "code",
      "metadata": {
        "id": "nFZ88YNotiQx",
        "outputId": "b93c704f-5c52-401a-e9e6-c011e90f375c",
        "colab": {
          "base_uri": "https://localhost:8080/",
          "height": 235
        }
      },
      "source": [
        "data_exp_rgb = experiments_series_rgb(data_xy)\n",
        "data_exp_rgb.head(len(data_exp_rgb))"
      ],
      "execution_count": null,
      "outputs": [
        {
          "output_type": "execute_result",
          "data": {
            "text/html": [
              "<div>\n",
              "<style scoped>\n",
              "    .dataframe tbody tr th:only-of-type {\n",
              "        vertical-align: middle;\n",
              "    }\n",
              "\n",
              "    .dataframe tbody tr th {\n",
              "        vertical-align: top;\n",
              "    }\n",
              "\n",
              "    .dataframe thead th {\n",
              "        text-align: right;\n",
              "    }\n",
              "</style>\n",
              "<table border=\"1\" class=\"dataframe\">\n",
              "  <thead>\n",
              "    <tr style=\"text-align: right;\">\n",
              "      <th></th>\n",
              "      <th>histogram</th>\n",
              "      <th>bins</th>\n",
              "      <th>equalize</th>\n",
              "      <th>average Accuracy</th>\n",
              "      <th>average F1</th>\n",
              "      <th>best F1</th>\n",
              "      <th>worst F1</th>\n",
              "    </tr>\n",
              "  </thead>\n",
              "  <tbody>\n",
              "    <tr>\n",
              "      <th>0</th>\n",
              "      <td>rgb</td>\n",
              "      <td>8</td>\n",
              "      <td>0</td>\n",
              "      <td>0.333333</td>\n",
              "      <td>0.333333</td>\n",
              "      <td>0.40</td>\n",
              "      <td>0.26</td>\n",
              "    </tr>\n",
              "    <tr>\n",
              "      <th>1</th>\n",
              "      <td>rgb</td>\n",
              "      <td>16</td>\n",
              "      <td>0</td>\n",
              "      <td>0.335000</td>\n",
              "      <td>0.335000</td>\n",
              "      <td>0.40</td>\n",
              "      <td>0.26</td>\n",
              "    </tr>\n",
              "    <tr>\n",
              "      <th>2</th>\n",
              "      <td>rgb</td>\n",
              "      <td>32</td>\n",
              "      <td>0</td>\n",
              "      <td>0.331667</td>\n",
              "      <td>0.331667</td>\n",
              "      <td>0.40</td>\n",
              "      <td>0.26</td>\n",
              "    </tr>\n",
              "    <tr>\n",
              "      <th>3</th>\n",
              "      <td>rgb</td>\n",
              "      <td>64</td>\n",
              "      <td>0</td>\n",
              "      <td>0.330000</td>\n",
              "      <td>0.330000</td>\n",
              "      <td>0.40</td>\n",
              "      <td>0.26</td>\n",
              "    </tr>\n",
              "    <tr>\n",
              "      <th>4</th>\n",
              "      <td>rgb</td>\n",
              "      <td>128</td>\n",
              "      <td>0</td>\n",
              "      <td>0.330000</td>\n",
              "      <td>0.330000</td>\n",
              "      <td>0.38</td>\n",
              "      <td>0.24</td>\n",
              "    </tr>\n",
              "    <tr>\n",
              "      <th>5</th>\n",
              "      <td>rgb</td>\n",
              "      <td>256</td>\n",
              "      <td>0</td>\n",
              "      <td>0.331667</td>\n",
              "      <td>0.331667</td>\n",
              "      <td>0.40</td>\n",
              "      <td>0.26</td>\n",
              "    </tr>\n",
              "  </tbody>\n",
              "</table>\n",
              "</div>"
            ],
            "text/plain": [
              "  histogram bins equalize  average Accuracy  average F1  best F1  worst F1\n",
              "0       rgb    8        0          0.333333    0.333333     0.40      0.26\n",
              "1       rgb   16        0          0.335000    0.335000     0.40      0.26\n",
              "2       rgb   32        0          0.331667    0.331667     0.40      0.26\n",
              "3       rgb   64        0          0.330000    0.330000     0.40      0.26\n",
              "4       rgb  128        0          0.330000    0.330000     0.38      0.24\n",
              "5       rgb  256        0          0.331667    0.331667     0.40      0.26"
            ]
          },
          "metadata": {
            "tags": []
          },
          "execution_count": 46
        }
      ]
    },
    {
      "cell_type": "markdown",
      "metadata": {
        "id": "I-YeaCuG31v4"
      },
      "source": [
        "Как можем видеть, гистограмма RGB показала себя очень плохо по сравнению с серой гистограммой. Для всех бинов вышел примерно одинаковый результат. "
      ]
    },
    {
      "cell_type": "markdown",
      "metadata": {
        "id": "REjaENfuBsAo"
      },
      "source": [
        "### Гистограмма HSV"
      ]
    },
    {
      "cell_type": "code",
      "metadata": {
        "id": "GL5yh8W4BwIp"
      },
      "source": [
        "def experiment_hsv(data_xy, bins, equalize=False, random_states = (42, 5, 14)):\n",
        "    # calculate hist\n",
        "    data_hsv = add_hist_hsv(data_xy, bins=bins, equalize=equalize)\n",
        "    # extract a target value\n",
        "    y_symb = data_hsv['segment_value']\n",
        "    # convert a target value to a numeric type\n",
        "    y = pd.Series((pd.factorize(y_symb)[0]))\n",
        "    # prepare an input data\n",
        "    X = data_hsv.drop(['task_id', 'photo_id', 'photo_type', 'segment_num', 'segment_type', 'segment_value'], axis=1)\n",
        "    unpack_col(X, 'hist_hsv_0')\n",
        "    unpack_col(X, 'hist_hsv_1')\n",
        "    unpack_col(X, 'hist_hsv_2')\n",
        "    # make an experiment\n",
        "    res = make_experiment(X.to_numpy(), y.to_numpy(), random_states, 4)\n",
        "    return res"
      ],
      "execution_count": null,
      "outputs": []
    },
    {
      "cell_type": "code",
      "metadata": {
        "id": "WfGvhsIQwMIw"
      },
      "source": [
        "def experiments_series_hsv(data_xy, bins_range = (8, 256, 2)):\n",
        "    data = pd.DataFrame(columns=('histogram', 'bins', 'equalize',\n",
        "                                 'average Accuracy', 'average F1',\n",
        "                                 'best F1', 'worst F1'))\n",
        "    i = copy.copy(bins_range[0])\n",
        "    index = 0\n",
        "    is_equalize = 0\n",
        "    while i <= bins_range[1]:\n",
        "        res = experiment_hsv(data_xy, i, is_equalize)\n",
        "        res['histogram'] = 'hsv'\n",
        "        res['bins'] = i\n",
        "        res['equalize'] = is_equalize\n",
        "        data = data.append(res, ignore_index=True)\n",
        "        print(data)\n",
        "        i *= bins_range[2]\n",
        "\n",
        "        if is_equalize == 0 and bins_range[1] < i:\n",
        "            i = bins_range[0]\n",
        "            is_equalize = 1\n",
        "    clear_output(wait=True)\n",
        "    return data"
      ],
      "execution_count": null,
      "outputs": []
    },
    {
      "cell_type": "code",
      "metadata": {
        "id": "bT6-CsbswcYt",
        "outputId": "a6de990d-c910-4731-f3fe-ffab4305efbd",
        "colab": {
          "base_uri": "https://localhost:8080/",
          "height": 421
        }
      },
      "source": [
        "data_exp_hsv = experiments_series_hsv(data_xy)\n",
        "data_exp_hsv.head(len(data_exp_hsv))"
      ],
      "execution_count": null,
      "outputs": [
        {
          "output_type": "execute_result",
          "data": {
            "text/html": [
              "<div>\n",
              "<style scoped>\n",
              "    .dataframe tbody tr th:only-of-type {\n",
              "        vertical-align: middle;\n",
              "    }\n",
              "\n",
              "    .dataframe tbody tr th {\n",
              "        vertical-align: top;\n",
              "    }\n",
              "\n",
              "    .dataframe thead th {\n",
              "        text-align: right;\n",
              "    }\n",
              "</style>\n",
              "<table border=\"1\" class=\"dataframe\">\n",
              "  <thead>\n",
              "    <tr style=\"text-align: right;\">\n",
              "      <th></th>\n",
              "      <th>histogram</th>\n",
              "      <th>bins</th>\n",
              "      <th>equalize</th>\n",
              "      <th>average Accuracy</th>\n",
              "      <th>average F1</th>\n",
              "      <th>best F1</th>\n",
              "      <th>worst F1</th>\n",
              "    </tr>\n",
              "  </thead>\n",
              "  <tbody>\n",
              "    <tr>\n",
              "      <th>0</th>\n",
              "      <td>hsv</td>\n",
              "      <td>8</td>\n",
              "      <td>0</td>\n",
              "      <td>0.611667</td>\n",
              "      <td>0.611667</td>\n",
              "      <td>0.78</td>\n",
              "      <td>0.48</td>\n",
              "    </tr>\n",
              "    <tr>\n",
              "      <th>1</th>\n",
              "      <td>hsv</td>\n",
              "      <td>16</td>\n",
              "      <td>0</td>\n",
              "      <td>0.631667</td>\n",
              "      <td>0.631667</td>\n",
              "      <td>0.80</td>\n",
              "      <td>0.54</td>\n",
              "    </tr>\n",
              "    <tr>\n",
              "      <th>2</th>\n",
              "      <td>hsv</td>\n",
              "      <td>32</td>\n",
              "      <td>0</td>\n",
              "      <td>0.630000</td>\n",
              "      <td>0.630000</td>\n",
              "      <td>0.80</td>\n",
              "      <td>0.52</td>\n",
              "    </tr>\n",
              "    <tr>\n",
              "      <th>3</th>\n",
              "      <td>hsv</td>\n",
              "      <td>64</td>\n",
              "      <td>0</td>\n",
              "      <td>0.655000</td>\n",
              "      <td>0.655000</td>\n",
              "      <td>0.78</td>\n",
              "      <td>0.56</td>\n",
              "    </tr>\n",
              "    <tr>\n",
              "      <th>4</th>\n",
              "      <td>hsv</td>\n",
              "      <td>128</td>\n",
              "      <td>0</td>\n",
              "      <td>0.650000</td>\n",
              "      <td>0.650000</td>\n",
              "      <td>0.78</td>\n",
              "      <td>0.56</td>\n",
              "    </tr>\n",
              "    <tr>\n",
              "      <th>5</th>\n",
              "      <td>hsv</td>\n",
              "      <td>256</td>\n",
              "      <td>0</td>\n",
              "      <td>0.641667</td>\n",
              "      <td>0.641667</td>\n",
              "      <td>0.74</td>\n",
              "      <td>0.52</td>\n",
              "    </tr>\n",
              "    <tr>\n",
              "      <th>6</th>\n",
              "      <td>hsv</td>\n",
              "      <td>8</td>\n",
              "      <td>1</td>\n",
              "      <td>0.510000</td>\n",
              "      <td>0.510000</td>\n",
              "      <td>0.62</td>\n",
              "      <td>0.44</td>\n",
              "    </tr>\n",
              "    <tr>\n",
              "      <th>7</th>\n",
              "      <td>hsv</td>\n",
              "      <td>16</td>\n",
              "      <td>1</td>\n",
              "      <td>0.530000</td>\n",
              "      <td>0.530000</td>\n",
              "      <td>0.64</td>\n",
              "      <td>0.46</td>\n",
              "    </tr>\n",
              "    <tr>\n",
              "      <th>8</th>\n",
              "      <td>hsv</td>\n",
              "      <td>32</td>\n",
              "      <td>1</td>\n",
              "      <td>0.566667</td>\n",
              "      <td>0.566667</td>\n",
              "      <td>0.72</td>\n",
              "      <td>0.48</td>\n",
              "    </tr>\n",
              "    <tr>\n",
              "      <th>9</th>\n",
              "      <td>hsv</td>\n",
              "      <td>64</td>\n",
              "      <td>1</td>\n",
              "      <td>0.590000</td>\n",
              "      <td>0.590000</td>\n",
              "      <td>0.74</td>\n",
              "      <td>0.50</td>\n",
              "    </tr>\n",
              "    <tr>\n",
              "      <th>10</th>\n",
              "      <td>hsv</td>\n",
              "      <td>128</td>\n",
              "      <td>1</td>\n",
              "      <td>0.595000</td>\n",
              "      <td>0.595000</td>\n",
              "      <td>0.76</td>\n",
              "      <td>0.50</td>\n",
              "    </tr>\n",
              "    <tr>\n",
              "      <th>11</th>\n",
              "      <td>hsv</td>\n",
              "      <td>256</td>\n",
              "      <td>1</td>\n",
              "      <td>0.585000</td>\n",
              "      <td>0.585000</td>\n",
              "      <td>0.74</td>\n",
              "      <td>0.50</td>\n",
              "    </tr>\n",
              "  </tbody>\n",
              "</table>\n",
              "</div>"
            ],
            "text/plain": [
              "   histogram bins equalize  average Accuracy  average F1  best F1  worst F1\n",
              "0        hsv    8        0          0.611667    0.611667     0.78      0.48\n",
              "1        hsv   16        0          0.631667    0.631667     0.80      0.54\n",
              "2        hsv   32        0          0.630000    0.630000     0.80      0.52\n",
              "3        hsv   64        0          0.655000    0.655000     0.78      0.56\n",
              "4        hsv  128        0          0.650000    0.650000     0.78      0.56\n",
              "5        hsv  256        0          0.641667    0.641667     0.74      0.52\n",
              "6        hsv    8        1          0.510000    0.510000     0.62      0.44\n",
              "7        hsv   16        1          0.530000    0.530000     0.64      0.46\n",
              "8        hsv   32        1          0.566667    0.566667     0.72      0.48\n",
              "9        hsv   64        1          0.590000    0.590000     0.74      0.50\n",
              "10       hsv  128        1          0.595000    0.595000     0.76      0.50\n",
              "11       hsv  256        1          0.585000    0.585000     0.74      0.50"
            ]
          },
          "metadata": {
            "tags": []
          },
          "execution_count": 51
        }
      ]
    },
    {
      "cell_type": "markdown",
      "metadata": {
        "id": "7LmofVvB4fiG"
      },
      "source": [
        "Самый лучший результат, в случае с HSV гистограммой, показала гистограмма без эквализации с 256 бинами.\n",
        "\n",
        "Эквализация гистограммы по серому изображению нигде не привела к хорошему результату.\n",
        "HSV показал себя немного лучше Серого представления. Вероятно, это связано с тем, что серый канал несёт в себе основную информацию. При этом два остальных цветовых канала немного дополняют её. "
      ]
    },
    {
      "cell_type": "markdown",
      "metadata": {
        "id": "av67LJfCsuCG"
      },
      "source": [
        "# Проверка текстурных оценок на основе GLCM "
      ]
    },
    {
      "cell_type": "markdown",
      "metadata": {
        "id": "nPWWt9PeGXwZ"
      },
      "source": [
        "Функция для создания текстурных оценок на основе GLCM"
      ]
    },
    {
      "cell_type": "code",
      "metadata": {
        "id": "r6mZQpt6s3hG"
      },
      "source": [
        "from skimage.feature import greycomatrix, greycoprops\n",
        "from skimage.util import img_as_ubyte\n",
        "from enum import Enum\n",
        "\n",
        "def add_GLCM_feature(df, bit_mask):\n",
        "    # copy data\n",
        "    data = df.copy()\n",
        "\n",
        "    # initialize enum with features\n",
        "    class Features(Enum):\n",
        "        contrast = 0\n",
        "        dissimilarity = 1\n",
        "        homogeneity = 2\n",
        "        ASM = 3\n",
        "        energy = 4\n",
        "        correlation = 5\n",
        "\n",
        "    # initialize a column for features \n",
        "    data['glcm_features'] = \"\"\n",
        "\n",
        "    # for each row in data...\n",
        "    for i in range(data.shape[0]):\n",
        "        # take a segment from a photo\n",
        "        segment_num = data['segment_num'].iloc[i]\n",
        "        remain_part = np.ma.masked_where(get_mask(data_xy, i) == segment_num, img_as_ubyte(rgb2gray(get_photo(data_xy, i))))\n",
        "        remain_part.data[remain_part.data == 0] = 1\n",
        "        remain_part.data[~remain_part.mask] = 0\n",
        "        # calculate GLCM (don't take dark pixels, since they're damaged)\n",
        "        glcm = greycomatrix(remain_part.data*remain_part.mask, distances=[1, 2, 3], angles=[0, 45, 90, 135], symmetric=True , normed=True)[1:, 1:, :, :]\n",
        "        \n",
        "        # initialized list for features\n",
        "        l = []\n",
        "\n",
        "        # for each feature in enum...\n",
        "        for feature in Features:\n",
        "            # check if a feature is needed..\n",
        "            if bit_mask[feature.value]:\n",
        "                # calculate a feature and add it to list\n",
        "                [l.append(item) for item in greycoprops(glcm, feature.name).reshape(-1)]\n",
        "\n",
        "        # add feature list to the column\n",
        "        data['glcm_features'].iloc[i] = l\n",
        "\n",
        "        if i % 20 == 0:\n",
        "            print(i)\n",
        "    print('adding GLCM features is complete')\n",
        "    clear_output(wait=True)\n",
        "    return data"
      ],
      "execution_count": null,
      "outputs": []
    },
    {
      "cell_type": "code",
      "metadata": {
        "id": "ZKbTnn3ZIIp_"
      },
      "source": [
        "def experiment_glcm(df, random_states=(42, 14, 5)):\n",
        "    data = pd.DataFrame(columns=('bitmask', 'average Accuracy', 'average F1',\n",
        "                                'best F1', 'worst F1'))\n",
        "\n",
        "    for i in range(1, 64):\n",
        "        bit_mask = list(map(int, list('{0:06b}'.format(i))))\n",
        "        # calculate GLCM features\n",
        "        data_glcm = add_GLCM_feature(df, bit_mask)\n",
        "        # extract a target value\n",
        "        y_symb = data_glcm['segment_value']\n",
        "        # convert a target value to a numeric type\n",
        "        y = pd.Series((pd.factorize(y_symb)[0]))\n",
        "        # prepare an input data\n",
        "        X = data_glcm.drop(['task_id', 'photo_id', 'photo_type', 'segment_num', 'segment_type', 'segment_value'], axis=1)\n",
        "        unpack_col(X, 'glcm_features')\n",
        "        # make an experiment\n",
        "        exp_res = make_experiment(X.to_numpy(), y.to_numpy(), random_states, 4)\n",
        "        \n",
        "        exp_res['bitmask'] = bit_mask\n",
        "        data = data.append(exp_res, ignore_index=True)\n",
        "        print(data)\n",
        "    clear_output(wait=True)\n",
        "    return data\n",
        "    "
      ],
      "execution_count": null,
      "outputs": []
    },
    {
      "cell_type": "markdown",
      "metadata": {
        "id": "ynkBMvLTYQTr"
      },
      "source": [
        "Проведём эксперимент для каждой комбинации дескрипторов. Всего 64."
      ]
    },
    {
      "cell_type": "code",
      "metadata": {
        "id": "PLZMhUfYBUlZ",
        "outputId": "9d6c98e3-5239-47ab-d30f-23ce8bf48670",
        "colab": {
          "base_uri": "https://localhost:8080/",
          "height": 359
        }
      },
      "source": [
        "data_exp_glcm = experiment_glcm(data_xy)\n",
        "data_exp_glcm.head(10)"
      ],
      "execution_count": null,
      "outputs": [
        {
          "output_type": "execute_result",
          "data": {
            "text/html": [
              "<div>\n",
              "<style scoped>\n",
              "    .dataframe tbody tr th:only-of-type {\n",
              "        vertical-align: middle;\n",
              "    }\n",
              "\n",
              "    .dataframe tbody tr th {\n",
              "        vertical-align: top;\n",
              "    }\n",
              "\n",
              "    .dataframe thead th {\n",
              "        text-align: right;\n",
              "    }\n",
              "</style>\n",
              "<table border=\"1\" class=\"dataframe\">\n",
              "  <thead>\n",
              "    <tr style=\"text-align: right;\">\n",
              "      <th></th>\n",
              "      <th>bitmask</th>\n",
              "      <th>average Accuracy</th>\n",
              "      <th>average F1</th>\n",
              "      <th>best F1</th>\n",
              "      <th>worst F1</th>\n",
              "    </tr>\n",
              "  </thead>\n",
              "  <tbody>\n",
              "    <tr>\n",
              "      <th>0</th>\n",
              "      <td>[0, 0, 0, 0, 0, 1]</td>\n",
              "      <td>0.366667</td>\n",
              "      <td>0.366667</td>\n",
              "      <td>0.42</td>\n",
              "      <td>0.28</td>\n",
              "    </tr>\n",
              "    <tr>\n",
              "      <th>1</th>\n",
              "      <td>[0, 0, 0, 0, 1, 0]</td>\n",
              "      <td>0.390000</td>\n",
              "      <td>0.390000</td>\n",
              "      <td>0.50</td>\n",
              "      <td>0.32</td>\n",
              "    </tr>\n",
              "    <tr>\n",
              "      <th>2</th>\n",
              "      <td>[0, 0, 0, 0, 1, 1]</td>\n",
              "      <td>0.390000</td>\n",
              "      <td>0.390000</td>\n",
              "      <td>0.50</td>\n",
              "      <td>0.30</td>\n",
              "    </tr>\n",
              "    <tr>\n",
              "      <th>3</th>\n",
              "      <td>[0, 0, 0, 1, 0, 0]</td>\n",
              "      <td>0.390000</td>\n",
              "      <td>0.390000</td>\n",
              "      <td>0.50</td>\n",
              "      <td>0.32</td>\n",
              "    </tr>\n",
              "    <tr>\n",
              "      <th>4</th>\n",
              "      <td>[0, 0, 0, 1, 0, 1]</td>\n",
              "      <td>0.388333</td>\n",
              "      <td>0.388333</td>\n",
              "      <td>0.50</td>\n",
              "      <td>0.30</td>\n",
              "    </tr>\n",
              "    <tr>\n",
              "      <th>5</th>\n",
              "      <td>[0, 0, 0, 1, 1, 0]</td>\n",
              "      <td>0.393333</td>\n",
              "      <td>0.393333</td>\n",
              "      <td>0.52</td>\n",
              "      <td>0.32</td>\n",
              "    </tr>\n",
              "    <tr>\n",
              "      <th>6</th>\n",
              "      <td>[0, 0, 0, 1, 1, 1]</td>\n",
              "      <td>0.393333</td>\n",
              "      <td>0.393333</td>\n",
              "      <td>0.52</td>\n",
              "      <td>0.32</td>\n",
              "    </tr>\n",
              "    <tr>\n",
              "      <th>7</th>\n",
              "      <td>[0, 0, 1, 0, 0, 0]</td>\n",
              "      <td>0.473333</td>\n",
              "      <td>0.473333</td>\n",
              "      <td>0.56</td>\n",
              "      <td>0.36</td>\n",
              "    </tr>\n",
              "    <tr>\n",
              "      <th>8</th>\n",
              "      <td>[0, 0, 1, 0, 0, 1]</td>\n",
              "      <td>0.463333</td>\n",
              "      <td>0.463333</td>\n",
              "      <td>0.52</td>\n",
              "      <td>0.38</td>\n",
              "    </tr>\n",
              "    <tr>\n",
              "      <th>9</th>\n",
              "      <td>[0, 0, 1, 0, 1, 0]</td>\n",
              "      <td>0.476667</td>\n",
              "      <td>0.476667</td>\n",
              "      <td>0.60</td>\n",
              "      <td>0.38</td>\n",
              "    </tr>\n",
              "  </tbody>\n",
              "</table>\n",
              "</div>"
            ],
            "text/plain": [
              "              bitmask  average Accuracy  average F1  best F1  worst F1\n",
              "0  [0, 0, 0, 0, 0, 1]          0.366667    0.366667     0.42      0.28\n",
              "1  [0, 0, 0, 0, 1, 0]          0.390000    0.390000     0.50      0.32\n",
              "2  [0, 0, 0, 0, 1, 1]          0.390000    0.390000     0.50      0.30\n",
              "3  [0, 0, 0, 1, 0, 0]          0.390000    0.390000     0.50      0.32\n",
              "4  [0, 0, 0, 1, 0, 1]          0.388333    0.388333     0.50      0.30\n",
              "5  [0, 0, 0, 1, 1, 0]          0.393333    0.393333     0.52      0.32\n",
              "6  [0, 0, 0, 1, 1, 1]          0.393333    0.393333     0.52      0.32\n",
              "7  [0, 0, 1, 0, 0, 0]          0.473333    0.473333     0.56      0.36\n",
              "8  [0, 0, 1, 0, 0, 1]          0.463333    0.463333     0.52      0.38\n",
              "9  [0, 0, 1, 0, 1, 0]          0.476667    0.476667     0.60      0.38"
            ]
          },
          "metadata": {
            "tags": []
          },
          "execution_count": 54
        }
      ]
    },
    {
      "cell_type": "markdown",
      "metadata": {
        "id": "VtjbaLkyYZe0"
      },
      "source": [
        "Выведем 10 лучших результатов, отсортированных по average F1 и best F1."
      ]
    },
    {
      "cell_type": "code",
      "metadata": {
        "id": "QmQe0-3vbTPd",
        "outputId": "3e12033a-15eb-47ac-c947-dd904894047d",
        "colab": {
          "base_uri": "https://localhost:8080/",
          "height": 359
        }
      },
      "source": [
        "data_exp_glcm.sort_values(by=['average F1', 'best F1'], ascending=False).head(10)"
      ],
      "execution_count": null,
      "outputs": [
        {
          "output_type": "execute_result",
          "data": {
            "text/html": [
              "<div>\n",
              "<style scoped>\n",
              "    .dataframe tbody tr th:only-of-type {\n",
              "        vertical-align: middle;\n",
              "    }\n",
              "\n",
              "    .dataframe tbody tr th {\n",
              "        vertical-align: top;\n",
              "    }\n",
              "\n",
              "    .dataframe thead th {\n",
              "        text-align: right;\n",
              "    }\n",
              "</style>\n",
              "<table border=\"1\" class=\"dataframe\">\n",
              "  <thead>\n",
              "    <tr style=\"text-align: right;\">\n",
              "      <th></th>\n",
              "      <th>bitmask</th>\n",
              "      <th>average Accuracy</th>\n",
              "      <th>average F1</th>\n",
              "      <th>best F1</th>\n",
              "      <th>worst F1</th>\n",
              "    </tr>\n",
              "  </thead>\n",
              "  <tbody>\n",
              "    <tr>\n",
              "      <th>55</th>\n",
              "      <td>[1, 1, 1, 0, 0, 0]</td>\n",
              "      <td>0.546667</td>\n",
              "      <td>0.546667</td>\n",
              "      <td>0.68</td>\n",
              "      <td>0.38</td>\n",
              "    </tr>\n",
              "    <tr>\n",
              "      <th>48</th>\n",
              "      <td>[1, 1, 0, 0, 0, 1]</td>\n",
              "      <td>0.523333</td>\n",
              "      <td>0.523333</td>\n",
              "      <td>0.64</td>\n",
              "      <td>0.42</td>\n",
              "    </tr>\n",
              "    <tr>\n",
              "      <th>59</th>\n",
              "      <td>[1, 1, 1, 1, 0, 0]</td>\n",
              "      <td>0.521667</td>\n",
              "      <td>0.521667</td>\n",
              "      <td>0.60</td>\n",
              "      <td>0.38</td>\n",
              "    </tr>\n",
              "    <tr>\n",
              "      <th>57</th>\n",
              "      <td>[1, 1, 1, 0, 1, 0]</td>\n",
              "      <td>0.520000</td>\n",
              "      <td>0.520000</td>\n",
              "      <td>0.60</td>\n",
              "      <td>0.38</td>\n",
              "    </tr>\n",
              "    <tr>\n",
              "      <th>39</th>\n",
              "      <td>[1, 0, 1, 0, 0, 0]</td>\n",
              "      <td>0.520000</td>\n",
              "      <td>0.520000</td>\n",
              "      <td>0.60</td>\n",
              "      <td>0.36</td>\n",
              "    </tr>\n",
              "    <tr>\n",
              "      <th>50</th>\n",
              "      <td>[1, 1, 0, 0, 1, 1]</td>\n",
              "      <td>0.515000</td>\n",
              "      <td>0.515000</td>\n",
              "      <td>0.60</td>\n",
              "      <td>0.38</td>\n",
              "    </tr>\n",
              "    <tr>\n",
              "      <th>52</th>\n",
              "      <td>[1, 1, 0, 1, 0, 1]</td>\n",
              "      <td>0.513333</td>\n",
              "      <td>0.513333</td>\n",
              "      <td>0.60</td>\n",
              "      <td>0.38</td>\n",
              "    </tr>\n",
              "    <tr>\n",
              "      <th>56</th>\n",
              "      <td>[1, 1, 1, 0, 0, 1]</td>\n",
              "      <td>0.511667</td>\n",
              "      <td>0.511667</td>\n",
              "      <td>0.60</td>\n",
              "      <td>0.38</td>\n",
              "    </tr>\n",
              "    <tr>\n",
              "      <th>23</th>\n",
              "      <td>[0, 1, 1, 0, 0, 0]</td>\n",
              "      <td>0.510000</td>\n",
              "      <td>0.510000</td>\n",
              "      <td>0.64</td>\n",
              "      <td>0.32</td>\n",
              "    </tr>\n",
              "    <tr>\n",
              "      <th>16</th>\n",
              "      <td>[0, 1, 0, 0, 0, 1]</td>\n",
              "      <td>0.510000</td>\n",
              "      <td>0.510000</td>\n",
              "      <td>0.64</td>\n",
              "      <td>0.40</td>\n",
              "    </tr>\n",
              "  </tbody>\n",
              "</table>\n",
              "</div>"
            ],
            "text/plain": [
              "               bitmask  average Accuracy  average F1  best F1  worst F1\n",
              "55  [1, 1, 1, 0, 0, 0]          0.546667    0.546667     0.68      0.38\n",
              "48  [1, 1, 0, 0, 0, 1]          0.523333    0.523333     0.64      0.42\n",
              "59  [1, 1, 1, 1, 0, 0]          0.521667    0.521667     0.60      0.38\n",
              "57  [1, 1, 1, 0, 1, 0]          0.520000    0.520000     0.60      0.38\n",
              "39  [1, 0, 1, 0, 0, 0]          0.520000    0.520000     0.60      0.36\n",
              "50  [1, 1, 0, 0, 1, 1]          0.515000    0.515000     0.60      0.38\n",
              "52  [1, 1, 0, 1, 0, 1]          0.513333    0.513333     0.60      0.38\n",
              "56  [1, 1, 1, 0, 0, 1]          0.511667    0.511667     0.60      0.38\n",
              "23  [0, 1, 1, 0, 0, 0]          0.510000    0.510000     0.64      0.32\n",
              "16  [0, 1, 0, 0, 0, 1]          0.510000    0.510000     0.64      0.40"
            ]
          },
          "metadata": {
            "tags": []
          },
          "execution_count": 56
        }
      ]
    },
    {
      "cell_type": "markdown",
      "metadata": {
        "id": "h9jvNFCWY8rM"
      },
      "source": [
        "Как видим, модель демонстрирует лучшие результаты при использовании Contrast, Dissimilarity и Homogeneity. Но как мы можем помнить из описания их работы, они сильно коррелируют между собой. Вероятно, из-за особенности структуры RandomForest и деревьев решений в частности, получилось так, что не смотря на измерение сильно кореллирубщих между собой сущностей, вместе они улучшают работу друг-друга по-отдельности. Возможно, их небольшие отличия между собой вносят корректировки в модель и пораждают более точный результат."
      ]
    },
    {
      "cell_type": "markdown",
      "metadata": {
        "id": "F6dQgaDHIxFu"
      },
      "source": [
        "# Когерентные цветовые вектора"
      ]
    },
    {
      "cell_type": "markdown",
      "metadata": {
        "id": "KbMIblAcI7Rq"
      },
      "source": [
        "## Реализая CCV: https://github.com/tamanobi/ccv"
      ]
    },
    {
      "cell_type": "code",
      "metadata": {
        "id": "9dqYaYEcI30H"
      },
      "source": [
        "import sys\n",
        "from skimage.util import img_as_ubyte\n",
        "import cv2\n",
        "\n",
        "def QuantizeColor(img, n=64):\n",
        "  div = 256//n\n",
        "  rgb = cv2.split(img)\n",
        "  q = []\n",
        "  for ch in rgb:\n",
        "    vf = np.vectorize(lambda x, div: int(x//div)*div)\n",
        "    quantized = vf(ch, div)\n",
        "    q.append(quantized.astype(np.uint8))\n",
        "  d_img = cv2.merge(q)\n",
        "  return d_img\n",
        "\n",
        "\"\"\"\n",
        "Proccess of Computing CCV(color coherence vector)\n",
        "@see http://vis.uky.edu/~cheung/courses/ee639_fall04/readings/ccv.pdf \n",
        "1. Blur\n",
        "2. Quantizing color\n",
        "3. Thresholding\n",
        "4. Labeling\n",
        "5. Counting\n",
        "\"\"\"\n",
        "def ccv(src, tau=0, n=64):\n",
        "  img = src.copy()\n",
        "  row, col, channels = img.shape\n",
        "  if not col == 300:\n",
        "    aspect = 300.0//col\n",
        "    try:\n",
        "        img = cv2.resize(img, None, fx=aspect, fy=aspect, interpolation = cv2.INTER_CUBIC)\n",
        "        2 + 2\n",
        "    except:\n",
        "        2 + 2\n",
        "  row, col, channels = img.shape\n",
        "  # blur\n",
        "  img = cv2.GaussianBlur(img, (3,3),0)\n",
        "  # quantize color\n",
        "  img = QuantizeColor(img, n)\n",
        "  bgr = cv2.split(img)\n",
        "  #bgr = cv2.split(cv2.cvtColor(img, cv2.COLOR_BGR2HSV))\n",
        "  if tau == 0:\n",
        "    tau = row*col * 0.1\n",
        "  alpha = np.zeros(n)\n",
        "  beta = np.zeros(n)\n",
        "  # labeling\n",
        "  for i,ch in enumerate(bgr):\n",
        "    ret,th = cv2.threshold(ch,127,255,0)\n",
        "    ret, labeled, stat, centroids = cv2.connectedComponentsWithStats(th, None, cv2.CC_STAT_AREA, None, connectivity=8)\n",
        "    #!see https://github.com/atinfinity/lab/wiki/OpenCV%E3%82%92%E4%BD%BF%E3%81%A3%E3%81%9F%E3%83%A9%E3%83%99%E3%83%AA%E3%83%B3%E3%82%B0#samplecode\n",
        "    #!see http://docs.opencv.org/3.0.0/d3/dc0/group__imgproc__shape.html#gac7099124c0390051c6970a987e7dc5c5\n",
        "    # generate ccv\n",
        "    areas = [[v[4],label_idx] for label_idx,v in enumerate(stat)]\n",
        "    coord = [[v[0],v[1]] for label_idx,v in enumerate(stat)]\n",
        "    # Counting\n",
        "    for a,c in zip(areas,coord):\n",
        "      area_size = a[0]\n",
        "      x,y = c[0], c[1]\n",
        "      if (x < ch.shape[1]) and (y < ch.shape[0]):\n",
        "        bin_idx = int(ch[y,x]//(256//n))\n",
        "        if area_size >= tau:\n",
        "          alpha[bin_idx] = alpha[bin_idx] + area_size\n",
        "        else:\n",
        "          beta[bin_idx] = beta[bin_idx] + area_size\n",
        "  return alpha, beta\n",
        "\n",
        "def ccv_plot(img, alpha, beta, n=64):\n",
        "  import matplotlib.pyplot as plt\n",
        "  X = [x for x in range(n*2)]\n",
        "  Y = alpha.tolist()+beta.tolist()\n",
        "  with open('ccv.csv','w') as f:\n",
        "    f.write(str(Y))\n",
        "  im = cv2.cvtColor(img, cv2.COLOR_BGR2RGB)\n",
        "  plt.subplot(2,1,1)\n",
        "  plt.imshow(im)\n",
        "  plt.subplot(2,1,2)\n",
        "  plt.bar(X, Y, align='center')\n",
        "  #plt.yscale('log')\n",
        "  #plt.xticks(X, (['alpha']*n)+(['beta']*n))\n",
        "  plt.show()  "
      ],
      "execution_count": null,
      "outputs": []
    },
    {
      "cell_type": "markdown",
      "metadata": {
        "id": "3GWYM7fHXggC"
      },
      "source": [
        "## Функция для добавления CCV дескрипторов в датасет"
      ]
    },
    {
      "cell_type": "code",
      "metadata": {
        "id": "bDcG2UtwTWVN"
      },
      "source": [
        "def add_CCV_feature(df, bins=16, alpha_on=True, betta_on=True):\n",
        "    # copy data\n",
        "    data = df.copy()\n",
        "\n",
        "    # initialize a column for features \n",
        "    data['ccv_features'] = \"\"\n",
        "\n",
        "    # for each row in data...\n",
        "    for i in range(data.shape[0]):\n",
        "        # take a segment from a photo\n",
        "        segment_num = data['segment_num'].iloc[i]\n",
        "        \n",
        "        image = img_as_ubyte(get_photo(data, i))\n",
        "        for j in range(3):\n",
        "            remain_part = np.ma.masked_where(get_mask(data, i) == segment_num, image[:, :, j])\n",
        "            image[:,:, j] = remain_part.data*remain_part.mask\n",
        "\n",
        "        # calculate CCV\n",
        "        alpha, betta = ccv(image, n=bins)\n",
        "        # alpha = list(map(bool, alpha))\n",
        "        # betta = list(map(bool, betta)) \n",
        "\n",
        "        # initialized list for features\n",
        "        l = []\n",
        "\n",
        "        if alpha_on:\n",
        "            [l.append(item) for item in alpha[1:]]\n",
        "        \n",
        "        if betta_on:\n",
        "            [l.append(item) for item in betta[1:]]\n",
        "\n",
        "        # add feature list to the column\n",
        "        data['ccv_features'].iloc[i] = l\n",
        "\n",
        "        if i % 20 == 0:\n",
        "            print(i)\n",
        "    print('adding CCV features is complete')\n",
        "    clear_output(wait=True)\n",
        "    return data"
      ],
      "execution_count": null,
      "outputs": []
    },
    {
      "cell_type": "markdown",
      "metadata": {
        "id": "TxPU5e5SbJSg"
      },
      "source": [
        "## Функция для проведения эксперимента по CCV векторам"
      ]
    },
    {
      "cell_type": "code",
      "metadata": {
        "id": "lu43NM1XpSea"
      },
      "source": [
        "def experiment_ccv(data_xy, bins, alpha_on=True, betta_on=True, random_states = (42, 5, 14)):\n",
        "    # calculate hist\n",
        "    data_ccv = add_CCV_feature(data_xy, bins=bins, alpha_on=alpha_on, betta_on=betta_on)\n",
        "    # extract a target value\n",
        "    y_symb = data_ccv['segment_value']\n",
        "    # convert a target value to a numeric type\n",
        "    y = pd.Series((pd.factorize(y_symb)[0]))\n",
        "    # prepare an input data\n",
        "    X = data_ccv.drop(['task_id', 'photo_id', 'photo_type', 'segment_num', 'segment_type', 'segment_value'], axis=1)\n",
        "    unpack_col(X, 'ccv_features')\n",
        "    # make an experiment\n",
        "    res = make_experiment(X.to_numpy(), y.to_numpy(), random_states, 4)\n",
        "    return res"
      ],
      "execution_count": null,
      "outputs": []
    },
    {
      "cell_type": "markdown",
      "metadata": {
        "id": "BW2n3SyfX7Ko"
      },
      "source": [
        "## Функция для проведения серии экспериментов по CCV векторам"
      ]
    },
    {
      "cell_type": "code",
      "metadata": {
        "id": "N_o0NDEO6k5g"
      },
      "source": [
        "def experiments_series_ccv(data_xy, bins_range = (8, 256, 2)):\n",
        "    data = pd.DataFrame(columns=('bins',\n",
        "                                 'average Accuracy', 'average F1',\n",
        "                                 'best F1', 'worst F1'))\n",
        "    i = copy.copy(bins_range[0])\n",
        "    index = 0\n",
        "    while i <= bins_range[1]:\n",
        "        res = experiment_ccv(data_xy, i)\n",
        "        res['bins'] = i\n",
        "        data = data.append(res, ignore_index=True)\n",
        "        print(data)\n",
        "        i *= bins_range[2]\n",
        "\n",
        "    clear_output(wait=True)\n",
        "    return data"
      ],
      "execution_count": null,
      "outputs": []
    },
    {
      "cell_type": "markdown",
      "metadata": {
        "id": "IV62TTfeaS4H"
      },
      "source": [
        "Проведём эксперименты для CCV дескрипторов с разным количеством бинов."
      ]
    },
    {
      "cell_type": "code",
      "metadata": {
        "id": "nedPrjFC7Ufr",
        "outputId": "91fdf22e-1450-4f32-8dfe-259ccef73ff9",
        "colab": {
          "base_uri": "https://localhost:8080/",
          "height": 235
        }
      },
      "source": [
        "data_exp_ccv = experiments_series_ccv(data_xy)\n",
        "data_exp_ccv.head(len(data_exp_ccv))"
      ],
      "execution_count": null,
      "outputs": [
        {
          "output_type": "execute_result",
          "data": {
            "text/html": [
              "<div>\n",
              "<style scoped>\n",
              "    .dataframe tbody tr th:only-of-type {\n",
              "        vertical-align: middle;\n",
              "    }\n",
              "\n",
              "    .dataframe tbody tr th {\n",
              "        vertical-align: top;\n",
              "    }\n",
              "\n",
              "    .dataframe thead th {\n",
              "        text-align: right;\n",
              "    }\n",
              "</style>\n",
              "<table border=\"1\" class=\"dataframe\">\n",
              "  <thead>\n",
              "    <tr style=\"text-align: right;\">\n",
              "      <th></th>\n",
              "      <th>bins</th>\n",
              "      <th>average Accuracy</th>\n",
              "      <th>average F1</th>\n",
              "      <th>best F1</th>\n",
              "      <th>worst F1</th>\n",
              "    </tr>\n",
              "  </thead>\n",
              "  <tbody>\n",
              "    <tr>\n",
              "      <th>0</th>\n",
              "      <td>8.0</td>\n",
              "      <td>0.420000</td>\n",
              "      <td>0.420000</td>\n",
              "      <td>0.48</td>\n",
              "      <td>0.36</td>\n",
              "    </tr>\n",
              "    <tr>\n",
              "      <th>1</th>\n",
              "      <td>16.0</td>\n",
              "      <td>0.411667</td>\n",
              "      <td>0.411667</td>\n",
              "      <td>0.46</td>\n",
              "      <td>0.32</td>\n",
              "    </tr>\n",
              "    <tr>\n",
              "      <th>2</th>\n",
              "      <td>32.0</td>\n",
              "      <td>0.413333</td>\n",
              "      <td>0.413333</td>\n",
              "      <td>0.52</td>\n",
              "      <td>0.34</td>\n",
              "    </tr>\n",
              "    <tr>\n",
              "      <th>3</th>\n",
              "      <td>64.0</td>\n",
              "      <td>0.408333</td>\n",
              "      <td>0.408333</td>\n",
              "      <td>0.50</td>\n",
              "      <td>0.34</td>\n",
              "    </tr>\n",
              "    <tr>\n",
              "      <th>4</th>\n",
              "      <td>128.0</td>\n",
              "      <td>0.426667</td>\n",
              "      <td>0.426667</td>\n",
              "      <td>0.48</td>\n",
              "      <td>0.38</td>\n",
              "    </tr>\n",
              "    <tr>\n",
              "      <th>5</th>\n",
              "      <td>256.0</td>\n",
              "      <td>0.423333</td>\n",
              "      <td>0.423333</td>\n",
              "      <td>0.52</td>\n",
              "      <td>0.34</td>\n",
              "    </tr>\n",
              "  </tbody>\n",
              "</table>\n",
              "</div>"
            ],
            "text/plain": [
              "    bins  average Accuracy  average F1  best F1  worst F1\n",
              "0    8.0          0.420000    0.420000     0.48      0.36\n",
              "1   16.0          0.411667    0.411667     0.46      0.32\n",
              "2   32.0          0.413333    0.413333     0.52      0.34\n",
              "3   64.0          0.408333    0.408333     0.50      0.34\n",
              "4  128.0          0.426667    0.426667     0.48      0.38\n",
              "5  256.0          0.423333    0.423333     0.52      0.34"
            ]
          },
          "metadata": {
            "tags": []
          },
          "execution_count": 14
        }
      ]
    },
    {
      "cell_type": "markdown",
      "metadata": {
        "id": "svh2ou6VceaY"
      },
      "source": [
        "Как видим, результаты не сильно отличаются при разной степени дискретизации цветового пространства. Однако, всё же лучший численный результат показал CCV дескриптор с 128 бинами. "
      ]
    },
    {
      "cell_type": "markdown",
      "metadata": {
        "id": "jtwBc6GL58c2"
      },
      "source": [
        "# Финальная модель"
      ]
    },
    {
      "cell_type": "markdown",
      "metadata": {
        "id": "2y29fJnWdXSH"
      },
      "source": [
        "Расчитаем теперь результаты модели с дескрипторами из каждой категории, которые показали себя лучше всего. "
      ]
    },
    {
      "cell_type": "code",
      "metadata": {
        "id": "anfgDKPU6BE2",
        "outputId": "905331a9-f796-4e17-c3d5-cc648561f9f8",
        "colab": {
          "base_uri": "https://localhost:8080/"
        }
      },
      "source": [
        "data_final = add_hist_hsv(data_xy, bins=128, equalize=False)\n",
        "data_final = add_GLCM_feature(data_final, [1, 1, 1, 0, 0, 0])\n",
        "data_final = add_CCV_feature(data_final, bins=256)\n",
        "\n",
        "y_symb = data_final['segment_value']\n",
        "# convert a target value to a numeric type\n",
        "y = pd.Series((pd.factorize(y_symb)[0]))\n",
        "# prepare an input data\n",
        "X = data_final.drop(['task_id', 'photo_id', 'photo_type', 'segment_num', 'segment_type', 'segment_value'], axis=1)\n",
        "unpack_col(X, 'glcm_features')\n",
        "unpack_col(X, 'ccv_features')\n",
        "unpack_col(X, 'hist_hsv_0')\n",
        "unpack_col(X, 'hist_hsv_1')\n",
        "unpack_col(X, 'hist_hsv_2')\n",
        "# make an experiment\n",
        "exp_res = make_experiment(X.to_numpy(), y.to_numpy(), (42, 14, 5), 4)\n",
        "exp_res"
      ],
      "execution_count": null,
      "outputs": [
        {
          "output_type": "execute_result",
          "data": {
            "text/plain": [
              "{'average Accuracy': 0.6883333333333334,\n",
              " 'average F1': 0.6883333333333334,\n",
              " 'best F1': 0.8399999999999999,\n",
              " 'worst F1': 0.6}"
            ]
          },
          "metadata": {
            "tags": []
          },
          "execution_count": 23
        }
      ]
    },
    {
      "cell_type": "code",
      "metadata": {
        "id": "EnrkzGt_NYD3"
      },
      "source": [
        ""
      ],
      "execution_count": null,
      "outputs": []
    }
  ]
}