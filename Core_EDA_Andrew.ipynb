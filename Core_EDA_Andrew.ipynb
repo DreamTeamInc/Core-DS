{
  "nbformat": 4,
  "nbformat_minor": 0,
  "metadata": {
    "colab": {
      "name": "Core_EDA_Andrew.ipynb",
      "provenance": [],
      "collapsed_sections": [],
      "authorship_tag": "ABX9TyOa5fOZpB7L50EFY2xDc482",
      "include_colab_link": true
    },
    "kernelspec": {
      "name": "python3",
      "display_name": "Python 3"
    }
  },
  "cells": [
    {
      "cell_type": "markdown",
      "metadata": {
        "id": "view-in-github",
        "colab_type": "text"
      },
      "source": [
        "<a href=\"https://colab.research.google.com/github/DreamTeamInc/Core-DS/blob/issues%2F1/Core_EDA_Andrew.ipynb\" target=\"_parent\"><img src=\"https://colab.research.google.com/assets/colab-badge.svg\" alt=\"Open In Colab\"/></a>"
      ]
    },
    {
      "cell_type": "code",
      "metadata": {
        "id": "gqyWfFk5u9sF",
        "outputId": "fef410b2-f289-4e8b-bb23-2b6f742a69e0",
        "colab": {
          "base_uri": "https://localhost:8080/",
          "height": 34
        }
      },
      "source": [
        "from google.colab import drive\n",
        "drive.mount('/content/drive')\n",
        "\n",
        "# Path to 'sample_core_analysis_data_example' folder with folder name\n",
        "path_to_data = 'drive/My Drive/ sample_core_analysis_data_example'"
      ],
      "execution_count": 1,
      "outputs": [
        {
          "output_type": "stream",
          "text": [
            "Drive already mounted at /content/drive; to attempt to forcibly remount, call drive.mount(\"/content/drive\", force_remount=True).\n"
          ],
          "name": "stdout"
        }
      ]
    },
    {
      "cell_type": "markdown",
      "metadata": {
        "id": "-0lofNN9xXRr"
      },
      "source": [
        "# Initializing packages"
      ]
    },
    {
      "cell_type": "code",
      "metadata": {
        "id": "JOMYimf8xQi5"
      },
      "source": [
        "import pandas as pd\n",
        "import numpy as np\n",
        "import matplotlib.pyplot as plt\n",
        "import json\n",
        "import cv2 as cv\n",
        "\n",
        "from skimage import exposure\n",
        "from skimage import io\n",
        "\n",
        "import sklearn\n",
        "import warnings\n",
        "warnings.filterwarnings('ignore')"
      ],
      "execution_count": 258,
      "outputs": []
    },
    {
      "cell_type": "markdown",
      "metadata": {
        "id": "tx8emxJ_yxDk"
      },
      "source": [
        "# Exploratory Data Analysis"
      ]
    },
    {
      "cell_type": "code",
      "metadata": {
        "id": "DphTFeC0xNXq",
        "outputId": "b6e5d4bc-04aa-4904-8941-f37b3e5c8ef3",
        "colab": {
          "base_uri": "https://localhost:8080/",
          "height": 402
        }
      },
      "source": [
        "data = pd.read_csv(path_to_data + '/data.csv')\n",
        "data"
      ],
      "execution_count": 259,
      "outputs": [
        {
          "output_type": "execute_result",
          "data": {
            "text/html": [
              "<div>\n",
              "<style scoped>\n",
              "    .dataframe tbody tr th:only-of-type {\n",
              "        vertical-align: middle;\n",
              "    }\n",
              "\n",
              "    .dataframe tbody tr th {\n",
              "        vertical-align: top;\n",
              "    }\n",
              "\n",
              "    .dataframe thead th {\n",
              "        text-align: right;\n",
              "    }\n",
              "</style>\n",
              "<table border=\"1\" class=\"dataframe\">\n",
              "  <thead>\n",
              "    <tr style=\"text-align: right;\">\n",
              "      <th></th>\n",
              "      <th>task_id</th>\n",
              "      <th>photo_id</th>\n",
              "      <th>photo_type</th>\n",
              "      <th>segment_num</th>\n",
              "      <th>segment_type</th>\n",
              "      <th>segment_value</th>\n",
              "    </tr>\n",
              "  </thead>\n",
              "  <tbody>\n",
              "    <tr>\n",
              "      <th>0</th>\n",
              "      <td>c6a24494_7931_4ca9_a148_f1fd9785b607</td>\n",
              "      <td>1012473</td>\n",
              "      <td>УФ</td>\n",
              "      <td>0</td>\n",
              "      <td>Свечение</td>\n",
              "      <td>Насыщенное</td>\n",
              "    </tr>\n",
              "    <tr>\n",
              "      <th>1</th>\n",
              "      <td>c6a24494_7931_4ca9_a148_f1fd9785b607</td>\n",
              "      <td>1012473</td>\n",
              "      <td>УФ</td>\n",
              "      <td>1</td>\n",
              "      <td>Свечение</td>\n",
              "      <td>Отсутствует</td>\n",
              "    </tr>\n",
              "    <tr>\n",
              "      <th>2</th>\n",
              "      <td>cfb8e7b2_7c98_4bd4_897d_0e5e95801bc9</td>\n",
              "      <td>1016625</td>\n",
              "      <td>УФ</td>\n",
              "      <td>0</td>\n",
              "      <td>Свечение</td>\n",
              "      <td>Карбонатное</td>\n",
              "    </tr>\n",
              "    <tr>\n",
              "      <th>3</th>\n",
              "      <td>a9d8f546_9046_46ce_ba17_abda344a0980</td>\n",
              "      <td>1013361</td>\n",
              "      <td>УФ</td>\n",
              "      <td>0</td>\n",
              "      <td>Свечение</td>\n",
              "      <td>Карбонатное</td>\n",
              "    </tr>\n",
              "    <tr>\n",
              "      <th>4</th>\n",
              "      <td>eb09a8aa_6c77_41de_8489_f5a390c789e8</td>\n",
              "      <td>1016727</td>\n",
              "      <td>УФ</td>\n",
              "      <td>0</td>\n",
              "      <td>Свечение</td>\n",
              "      <td>Карбонатное</td>\n",
              "    </tr>\n",
              "    <tr>\n",
              "      <th>...</th>\n",
              "      <td>...</td>\n",
              "      <td>...</td>\n",
              "      <td>...</td>\n",
              "      <td>...</td>\n",
              "      <td>...</td>\n",
              "      <td>...</td>\n",
              "    </tr>\n",
              "    <tr>\n",
              "      <th>14910</th>\n",
              "      <td>de63ac27_e98e_459a_9672_b07415228a50</td>\n",
              "      <td>1009408</td>\n",
              "      <td>ДС</td>\n",
              "      <td>6</td>\n",
              "      <td>Разрушенность</td>\n",
              "      <td>Разлом</td>\n",
              "    </tr>\n",
              "    <tr>\n",
              "      <th>14911</th>\n",
              "      <td>de63ac27_e98e_459a_9672_b07415228a50</td>\n",
              "      <td>1009408</td>\n",
              "      <td>ДС</td>\n",
              "      <td>7</td>\n",
              "      <td>Разрушенность</td>\n",
              "      <td>Разлом</td>\n",
              "    </tr>\n",
              "    <tr>\n",
              "      <th>14912</th>\n",
              "      <td>de63ac27_e98e_459a_9672_b07415228a50</td>\n",
              "      <td>1009408</td>\n",
              "      <td>ДС</td>\n",
              "      <td>8</td>\n",
              "      <td>Разрушенность</td>\n",
              "      <td>Разлом</td>\n",
              "    </tr>\n",
              "    <tr>\n",
              "      <th>14913</th>\n",
              "      <td>de63ac27_e98e_459a_9672_b07415228a50</td>\n",
              "      <td>1009408</td>\n",
              "      <td>ДС</td>\n",
              "      <td>9</td>\n",
              "      <td>Разрушенность</td>\n",
              "      <td>Разлом</td>\n",
              "    </tr>\n",
              "    <tr>\n",
              "      <th>14914</th>\n",
              "      <td>f5e57301_6ffc_4f3b_8c8f_b311478b58c3</td>\n",
              "      <td>1004015</td>\n",
              "      <td>УФ</td>\n",
              "      <td>0</td>\n",
              "      <td>Свечение</td>\n",
              "      <td>Карбонатное</td>\n",
              "    </tr>\n",
              "  </tbody>\n",
              "</table>\n",
              "<p>14915 rows × 6 columns</p>\n",
              "</div>"
            ],
            "text/plain": [
              "                                    task_id  ...  segment_value\n",
              "0      c6a24494_7931_4ca9_a148_f1fd9785b607  ...     Насыщенное\n",
              "1      c6a24494_7931_4ca9_a148_f1fd9785b607  ...    Отсутствует\n",
              "2      cfb8e7b2_7c98_4bd4_897d_0e5e95801bc9  ...    Карбонатное\n",
              "3      a9d8f546_9046_46ce_ba17_abda344a0980  ...    Карбонатное\n",
              "4      eb09a8aa_6c77_41de_8489_f5a390c789e8  ...    Карбонатное\n",
              "...                                     ...  ...            ...\n",
              "14910  de63ac27_e98e_459a_9672_b07415228a50  ...         Разлом\n",
              "14911  de63ac27_e98e_459a_9672_b07415228a50  ...         Разлом\n",
              "14912  de63ac27_e98e_459a_9672_b07415228a50  ...         Разлом\n",
              "14913  de63ac27_e98e_459a_9672_b07415228a50  ...         Разлом\n",
              "14914  f5e57301_6ffc_4f3b_8c8f_b311478b58c3  ...    Карбонатное\n",
              "\n",
              "[14915 rows x 6 columns]"
            ]
          },
          "metadata": {
            "tags": []
          },
          "execution_count": 259
        }
      ]
    },
    {
      "cell_type": "code",
      "metadata": {
        "id": "yt9-h5OQzHuq",
        "outputId": "5b3b7007-2dc5-44ea-c1c4-f435a9b979a3",
        "colab": {
          "base_uri": "https://localhost:8080/",
          "height": 101
        }
      },
      "source": [
        "print(pd.unique(data['segment_value'].values))"
      ],
      "execution_count": 260,
      "outputs": [
        {
          "output_type": "stream",
          "text": [
            "['Насыщенное' 'Отсутствует' 'Карбонатное' 'Разлом' 'Аргиллит'\n",
            " 'Переслаивание пород' 'Алевролит глинистый' 'Песчаник' 'Проба'\n",
            " 'Глинисто-кремнистая порода' 'Песчаник глинистый' 'Уголь'\n",
            " 'Аргиллит углистый' 'Алевролит' 'Карбонатная порода' 'Известняк'\n",
            " 'Глина аргиллитоподобная']\n"
          ],
          "name": "stdout"
        }
      ]
    },
    {
      "cell_type": "code",
      "metadata": {
        "id": "0WYalpgT3aOQ",
        "outputId": "2b394d7e-8620-49bf-c0fd-4e6d4b27969d",
        "colab": {
          "base_uri": "https://localhost:8080/",
          "height": 34
        }
      },
      "source": [
        "print('Классификация сегментов', pd.unique(data['segment_type'].values))"
      ],
      "execution_count": 261,
      "outputs": [
        {
          "output_type": "stream",
          "text": [
            "Классификация сегментов ['Свечение' 'Разрушенность' 'Порода']\n"
          ],
          "name": "stdout"
        }
      ]
    },
    {
      "cell_type": "code",
      "metadata": {
        "id": "tpnqYe2437x7",
        "outputId": "aa5a7d62-04be-4c98-a150-852f53925fb3",
        "colab": {
          "base_uri": "https://localhost:8080/",
          "height": 118
        }
      },
      "source": [
        "print('Свечение - ', pd.unique(data[data['segment_type'] == 'Свечение']['segment_value'].values))\n",
        "print('Разрушенность - ', pd.unique(data[data['segment_type'] == 'Разрушенность']['segment_value'].values))\n",
        "print('Порода - ', pd.unique(data[data['segment_type'] == 'Порода']['segment_value'].values))"
      ],
      "execution_count": 262,
      "outputs": [
        {
          "output_type": "stream",
          "text": [
            "Свечение -  ['Насыщенное' 'Отсутствует' 'Карбонатное']\n",
            "Разрушенность -  ['Разлом' 'Проба']\n",
            "Порода -  ['Аргиллит' 'Переслаивание пород' 'Алевролит глинистый' 'Песчаник'\n",
            " 'Глинисто-кремнистая порода' 'Песчаник глинистый' 'Уголь'\n",
            " 'Аргиллит углистый' 'Алевролит' 'Карбонатная порода' 'Известняк'\n",
            " 'Глина аргиллитоподобная']\n"
          ],
          "name": "stdout"
        }
      ]
    },
    {
      "cell_type": "markdown",
      "metadata": {
        "id": "tgGS7WcmZ6x2"
      },
      "source": [
        "# **Functions for getting data** "
      ]
    },
    {
      "cell_type": "code",
      "metadata": {
        "id": "a4jaEk6iVHw2"
      },
      "source": [
        "def get_photo(data,i):\n",
        "  return io.imread(path_to_data + '/photos/{}.jpeg'.format(data['photo_id'][i]))\n",
        "\n",
        "def get_mask(data, i):\n",
        "    return np.load(path_to_data + '/matrixes/matrix_{}__{}.npz'.format(data['photo_id'][i], data['task_id'][i]))['data']\n",
        "\n",
        "def get_json(data,i):\n",
        "  with open(path_to_data + '/extra/extra_{}__{}.json'.format(data['photo_id'][i],data['task_id'][i])) as json_data:\n",
        "    d = json.load(json_data)\n",
        "    json_data.close()\n",
        "  return d"
      ],
      "execution_count": 263,
      "outputs": []
    },
    {
      "cell_type": "markdown",
      "metadata": {
        "id": "8p3xmG13aIzY"
      },
      "source": [
        "## **Functions for displaying data**\n"
      ]
    },
    {
      "cell_type": "code",
      "metadata": {
        "id": "GRAwuxKRX1Ww"
      },
      "source": [
        "def show_image(image,nrows=1,ncols=1,cmap='gray'):\n",
        "  fig, ax = plt.subplots(nrows=nrows, ncols=ncols, figsize=(10, 10))\n",
        "  ax.imshow(image)\n",
        "  ax.axis('off')\n",
        "  return fig, ax\n",
        "\n",
        "def show_all_photo_data(data,i):\n",
        "  print(data.iloc[i])\n",
        "  fig, (ax1, ax2) = plt.subplots(1, 2, figsize=(10, 10))\n",
        "  ax1.imshow(get_photo(data, i))\n",
        "  \n",
        "  mask = get_mask(data,i)\n",
        "  cmap = plt.get_cmap('tab20b', np.max(mask) + 1)\n",
        "  mask = ax2.imshow(mask, cmap=cmap,vmin=-0.5, vmax=np.max(get_mask(data, i))+0.5)\n",
        "  ax2.axis('off')\n",
        "  fig.colorbar(mask, ticks=np.arange(0, np.max(get_mask(data, i))+1))\n",
        "  return fig, (ax1, ax2)\n",
        "\n",
        "def show_photo_series(data, column, value):\n",
        "    fig, ax_ar = plt.subplots(1, 10, figsize=(14, 14))\n",
        "    filt_data = data[data[column] == value]\n",
        "    i = np.random.randint(0, filt_data.shape[0])\n",
        "    for ax in ax_ar:\n",
        "        filt_by_photo = filt_data[filt_data['photo_id'] == filt_data['photo_id'].iloc[i]]\n",
        "        segments = filt_by_photo['segment_num'].values\n",
        "        photo = get_photo(data, filt_by_photo.index.values[0])\n",
        "        mask = get_mask(data, filt_by_photo.index.values[0])\n",
        "        for value in segments:\n",
        "            mask = np.ma.masked_where(mask == value, mask)\n",
        "        \n",
        "        ax.imshow(photo)\n",
        "        ax.imshow(mask)\n",
        "        ax.axis('off')\n",
        "        filt_data.drop(filt_by_photo.index.values, axis=0, inplace=True)\n",
        "        i = np.random.randint(0, filt_data.shape[0])\n",
        "    \n",
        "    return fig, ax_ar"
      ],
      "execution_count": 264,
      "outputs": []
    },
    {
      "cell_type": "code",
      "metadata": {
        "id": "DCQEIt17a04S",
        "outputId": "838e5d67-a87f-46bb-e361-684b8eb81e11",
        "colab": {
          "base_uri": "https://localhost:8080/",
          "height": 763
        }
      },
      "source": [
        "show_all_photo_data(data,1000)"
      ],
      "execution_count": 265,
      "outputs": [
        {
          "output_type": "stream",
          "text": [
            "task_id          4a1fa29c_aa61_4ef7_9510_61c01a998a9e\n",
            "photo_id                                      1005130\n",
            "photo_type                                         ДС\n",
            "segment_num                                        37\n",
            "segment_type                            Разрушенность\n",
            "segment_value                                  Разлом\n",
            "Name: 1000, dtype: object\n"
          ],
          "name": "stdout"
        },
        {
          "output_type": "execute_result",
          "data": {
            "text/plain": [
              "(<Figure size 720x720 with 3 Axes>,\n",
              " (<matplotlib.axes._subplots.AxesSubplot at 0x7f64ee817be0>,\n",
              "  <matplotlib.axes._subplots.AxesSubplot at 0x7f64ec4d1278>))"
            ]
          },
          "metadata": {
            "tags": []
          },
          "execution_count": 265
        },
        {
          "output_type": "display_data",
          "data": {
            "image/png": "[encoded data removed]",
            "text/plain": [
              "<Figure size 720x720 with 3 Axes>"
            ]
          },
          "metadata": {
            "tags": [],
            "needs_background": "light"
          }
        }
      ]
    },
    {
      "cell_type": "markdown",
      "metadata": {
        "id": "EVrrPWleHSkN"
      },
      "source": [
        "# **Data categorization**"
      ]
    },
    {
      "cell_type": "code",
      "metadata": {
        "id": "ZGYnV1soRKZt"
      },
      "source": [
        "df = pd.DataFrame(0,index=np.array(range(1, 2061)),\n",
        "                  columns=np.array(range(1, 21)))"
      ],
      "execution_count": 309,
      "outputs": []
    },
    {
      "cell_type": "code",
      "metadata": {
        "id": "Vo7PFbJgb7P2"
      },
      "source": [
        "df = df.rename(columns = {1:'photo_id',2:'УФ',3:'ДС',4:'Насыщенное',5:'Отсутствует',6:'Карбонатное',7:'Разлом',8:'Проба',\n",
        "                     9:'Аргиллит',10:'Переслаивание пород',11:'Алевролит глинистый',12:'Песчаник',13:'Глинисто-кремнистая порода',14:'Песчаник глинистый',\n",
        "                     15:'Уголь',16:'Аргиллит углистый',17:'Алевролит',18:'Карбонатная порода',19:'Известняк',20:'Глина аргиллитоподобная'})\n",
        "\n",
        "df['photo_id'] = data['photo_id'].unique()"
      ],
      "execution_count": 310,
      "outputs": []
    },
    {
      "cell_type": "code",
      "metadata": {
        "id": "gksaMA5wIr_S",
        "outputId": "6af9e5ec-bb45-4aa9-8af9-19e7c3ff8cf8",
        "colab": {
          "base_uri": "https://localhost:8080/",
          "height": 34
        }
      },
      "source": [
        "data[data['segment_value'] == 'Аргиллит'].shape"
      ],
      "execution_count": 311,
      "outputs": [
        {
          "output_type": "execute_result",
          "data": {
            "text/plain": [
              "(757, 6)"
            ]
          },
          "metadata": {
            "tags": []
          },
          "execution_count": 311
        }
      ]
    },
    {
      "cell_type": "code",
      "metadata": {
        "id": "kr9yTar4CDTf"
      },
      "source": [
        "def categorical_features_transform(data,df,column_name):\n",
        "  for pi in df['photo_id'].tolist():\n",
        "    d = data[data['photo_id'] == pi]\n",
        "    for value in d[column_name].values:\n",
        "      df.loc[df['photo_id'] == pi,value] = 1\n",
        "  return df"
      ],
      "execution_count": 312,
      "outputs": []
    },
    {
      "cell_type": "code",
      "metadata": {
        "id": "CBrr4BaG_EZJ"
      },
      "source": [
        "df = categorical_features_transform(data,df,'photo_type')\n",
        "df = categorical_features_transform(data,df,'segment_value')"
      ],
      "execution_count": 313,
      "outputs": []
    },
    {
      "cell_type": "code",
      "metadata": {
        "id": "Ifx0NBlg08WO",
        "outputId": "c4be75a6-504d-4265-efd6-f5407248acb5",
        "colab": {
          "base_uri": "https://localhost:8080/",
          "height": 455
        }
      },
      "source": [
        "df"
      ],
      "execution_count": 314,
      "outputs": [
        {
          "output_type": "execute_result",
          "data": {
            "text/html": [
              "<div>\n",
              "<style scoped>\n",
              "    .dataframe tbody tr th:only-of-type {\n",
              "        vertical-align: middle;\n",
              "    }\n",
              "\n",
              "    .dataframe tbody tr th {\n",
              "        vertical-align: top;\n",
              "    }\n",
              "\n",
              "    .dataframe thead th {\n",
              "        text-align: right;\n",
              "    }\n",
              "</style>\n",
              "<table border=\"1\" class=\"dataframe\">\n",
              "  <thead>\n",
              "    <tr style=\"text-align: right;\">\n",
              "      <th></th>\n",
              "      <th>photo_id</th>\n",
              "      <th>УФ</th>\n",
              "      <th>ДС</th>\n",
              "      <th>Насыщенное</th>\n",
              "      <th>Отсутствует</th>\n",
              "      <th>Карбонатное</th>\n",
              "      <th>Разлом</th>\n",
              "      <th>Проба</th>\n",
              "      <th>Аргиллит</th>\n",
              "      <th>Переслаивание пород</th>\n",
              "      <th>Алевролит глинистый</th>\n",
              "      <th>Песчаник</th>\n",
              "      <th>Глинисто-кремнистая порода</th>\n",
              "      <th>Песчаник глинистый</th>\n",
              "      <th>Уголь</th>\n",
              "      <th>Аргиллит углистый</th>\n",
              "      <th>Алевролит</th>\n",
              "      <th>Карбонатная порода</th>\n",
              "      <th>Известняк</th>\n",
              "      <th>Глина аргиллитоподобная</th>\n",
              "    </tr>\n",
              "  </thead>\n",
              "  <tbody>\n",
              "    <tr>\n",
              "      <th>1</th>\n",
              "      <td>1012473</td>\n",
              "      <td>1</td>\n",
              "      <td>0</td>\n",
              "      <td>1</td>\n",
              "      <td>1</td>\n",
              "      <td>0</td>\n",
              "      <td>0</td>\n",
              "      <td>0</td>\n",
              "      <td>0</td>\n",
              "      <td>0</td>\n",
              "      <td>0</td>\n",
              "      <td>0</td>\n",
              "      <td>0</td>\n",
              "      <td>0</td>\n",
              "      <td>0</td>\n",
              "      <td>0</td>\n",
              "      <td>0</td>\n",
              "      <td>0</td>\n",
              "      <td>0</td>\n",
              "      <td>0</td>\n",
              "    </tr>\n",
              "    <tr>\n",
              "      <th>2</th>\n",
              "      <td>1016625</td>\n",
              "      <td>1</td>\n",
              "      <td>0</td>\n",
              "      <td>0</td>\n",
              "      <td>0</td>\n",
              "      <td>1</td>\n",
              "      <td>0</td>\n",
              "      <td>0</td>\n",
              "      <td>0</td>\n",
              "      <td>0</td>\n",
              "      <td>0</td>\n",
              "      <td>0</td>\n",
              "      <td>0</td>\n",
              "      <td>0</td>\n",
              "      <td>0</td>\n",
              "      <td>0</td>\n",
              "      <td>0</td>\n",
              "      <td>0</td>\n",
              "      <td>0</td>\n",
              "      <td>0</td>\n",
              "    </tr>\n",
              "    <tr>\n",
              "      <th>3</th>\n",
              "      <td>1013361</td>\n",
              "      <td>1</td>\n",
              "      <td>0</td>\n",
              "      <td>0</td>\n",
              "      <td>0</td>\n",
              "      <td>1</td>\n",
              "      <td>0</td>\n",
              "      <td>0</td>\n",
              "      <td>0</td>\n",
              "      <td>0</td>\n",
              "      <td>0</td>\n",
              "      <td>0</td>\n",
              "      <td>0</td>\n",
              "      <td>0</td>\n",
              "      <td>0</td>\n",
              "      <td>0</td>\n",
              "      <td>0</td>\n",
              "      <td>0</td>\n",
              "      <td>0</td>\n",
              "      <td>0</td>\n",
              "    </tr>\n",
              "    <tr>\n",
              "      <th>4</th>\n",
              "      <td>1016727</td>\n",
              "      <td>1</td>\n",
              "      <td>0</td>\n",
              "      <td>0</td>\n",
              "      <td>0</td>\n",
              "      <td>1</td>\n",
              "      <td>0</td>\n",
              "      <td>0</td>\n",
              "      <td>0</td>\n",
              "      <td>0</td>\n",
              "      <td>0</td>\n",
              "      <td>0</td>\n",
              "      <td>0</td>\n",
              "      <td>0</td>\n",
              "      <td>0</td>\n",
              "      <td>0</td>\n",
              "      <td>0</td>\n",
              "      <td>0</td>\n",
              "      <td>0</td>\n",
              "      <td>0</td>\n",
              "    </tr>\n",
              "    <tr>\n",
              "      <th>5</th>\n",
              "      <td>1003985</td>\n",
              "      <td>1</td>\n",
              "      <td>0</td>\n",
              "      <td>0</td>\n",
              "      <td>1</td>\n",
              "      <td>1</td>\n",
              "      <td>0</td>\n",
              "      <td>0</td>\n",
              "      <td>0</td>\n",
              "      <td>0</td>\n",
              "      <td>0</td>\n",
              "      <td>0</td>\n",
              "      <td>0</td>\n",
              "      <td>0</td>\n",
              "      <td>0</td>\n",
              "      <td>0</td>\n",
              "      <td>0</td>\n",
              "      <td>0</td>\n",
              "      <td>0</td>\n",
              "      <td>0</td>\n",
              "    </tr>\n",
              "    <tr>\n",
              "      <th>...</th>\n",
              "      <td>...</td>\n",
              "      <td>...</td>\n",
              "      <td>...</td>\n",
              "      <td>...</td>\n",
              "      <td>...</td>\n",
              "      <td>...</td>\n",
              "      <td>...</td>\n",
              "      <td>...</td>\n",
              "      <td>...</td>\n",
              "      <td>...</td>\n",
              "      <td>...</td>\n",
              "      <td>...</td>\n",
              "      <td>...</td>\n",
              "      <td>...</td>\n",
              "      <td>...</td>\n",
              "      <td>...</td>\n",
              "      <td>...</td>\n",
              "      <td>...</td>\n",
              "      <td>...</td>\n",
              "      <td>...</td>\n",
              "    </tr>\n",
              "    <tr>\n",
              "      <th>2056</th>\n",
              "      <td>1012723</td>\n",
              "      <td>1</td>\n",
              "      <td>0</td>\n",
              "      <td>0</td>\n",
              "      <td>0</td>\n",
              "      <td>1</td>\n",
              "      <td>0</td>\n",
              "      <td>0</td>\n",
              "      <td>0</td>\n",
              "      <td>0</td>\n",
              "      <td>0</td>\n",
              "      <td>0</td>\n",
              "      <td>0</td>\n",
              "      <td>0</td>\n",
              "      <td>0</td>\n",
              "      <td>0</td>\n",
              "      <td>0</td>\n",
              "      <td>0</td>\n",
              "      <td>0</td>\n",
              "      <td>0</td>\n",
              "    </tr>\n",
              "    <tr>\n",
              "      <th>2057</th>\n",
              "      <td>1003764</td>\n",
              "      <td>0</td>\n",
              "      <td>1</td>\n",
              "      <td>0</td>\n",
              "      <td>0</td>\n",
              "      <td>0</td>\n",
              "      <td>1</td>\n",
              "      <td>0</td>\n",
              "      <td>1</td>\n",
              "      <td>1</td>\n",
              "      <td>0</td>\n",
              "      <td>0</td>\n",
              "      <td>0</td>\n",
              "      <td>0</td>\n",
              "      <td>0</td>\n",
              "      <td>0</td>\n",
              "      <td>0</td>\n",
              "      <td>0</td>\n",
              "      <td>0</td>\n",
              "      <td>0</td>\n",
              "    </tr>\n",
              "    <tr>\n",
              "      <th>2058</th>\n",
              "      <td>1002852</td>\n",
              "      <td>0</td>\n",
              "      <td>1</td>\n",
              "      <td>0</td>\n",
              "      <td>0</td>\n",
              "      <td>0</td>\n",
              "      <td>1</td>\n",
              "      <td>0</td>\n",
              "      <td>0</td>\n",
              "      <td>1</td>\n",
              "      <td>0</td>\n",
              "      <td>0</td>\n",
              "      <td>0</td>\n",
              "      <td>0</td>\n",
              "      <td>0</td>\n",
              "      <td>0</td>\n",
              "      <td>0</td>\n",
              "      <td>0</td>\n",
              "      <td>0</td>\n",
              "      <td>0</td>\n",
              "    </tr>\n",
              "    <tr>\n",
              "      <th>2059</th>\n",
              "      <td>1009408</td>\n",
              "      <td>0</td>\n",
              "      <td>1</td>\n",
              "      <td>0</td>\n",
              "      <td>0</td>\n",
              "      <td>0</td>\n",
              "      <td>1</td>\n",
              "      <td>0</td>\n",
              "      <td>0</td>\n",
              "      <td>1</td>\n",
              "      <td>1</td>\n",
              "      <td>0</td>\n",
              "      <td>0</td>\n",
              "      <td>0</td>\n",
              "      <td>0</td>\n",
              "      <td>0</td>\n",
              "      <td>0</td>\n",
              "      <td>0</td>\n",
              "      <td>0</td>\n",
              "      <td>0</td>\n",
              "    </tr>\n",
              "    <tr>\n",
              "      <th>2060</th>\n",
              "      <td>1004015</td>\n",
              "      <td>1</td>\n",
              "      <td>0</td>\n",
              "      <td>0</td>\n",
              "      <td>0</td>\n",
              "      <td>1</td>\n",
              "      <td>0</td>\n",
              "      <td>0</td>\n",
              "      <td>0</td>\n",
              "      <td>0</td>\n",
              "      <td>0</td>\n",
              "      <td>0</td>\n",
              "      <td>0</td>\n",
              "      <td>0</td>\n",
              "      <td>0</td>\n",
              "      <td>0</td>\n",
              "      <td>0</td>\n",
              "      <td>0</td>\n",
              "      <td>0</td>\n",
              "      <td>0</td>\n",
              "    </tr>\n",
              "  </tbody>\n",
              "</table>\n",
              "<p>2060 rows × 20 columns</p>\n",
              "</div>"
            ],
            "text/plain": [
              "      photo_id  УФ  ДС  ...  Карбонатная порода  Известняк  Глина аргиллитоподобная\n",
              "1      1012473   1   0  ...                   0          0                        0\n",
              "2      1016625   1   0  ...                   0          0                        0\n",
              "3      1013361   1   0  ...                   0          0                        0\n",
              "4      1016727   1   0  ...                   0          0                        0\n",
              "5      1003985   1   0  ...                   0          0                        0\n",
              "...        ...  ..  ..  ...                 ...        ...                      ...\n",
              "2056   1012723   1   0  ...                   0          0                        0\n",
              "2057   1003764   0   1  ...                   0          0                        0\n",
              "2058   1002852   0   1  ...                   0          0                        0\n",
              "2059   1009408   0   1  ...                   0          0                        0\n",
              "2060   1004015   1   0  ...                   0          0                        0\n",
              "\n",
              "[2060 rows x 20 columns]"
            ]
          },
          "metadata": {
            "tags": []
          },
          "execution_count": 314
        }
      ]
    },
    {
      "cell_type": "code",
      "metadata": {
        "id": "EKmnzr0SKJgA"
      },
      "source": [
        ""
      ],
      "execution_count": null,
      "outputs": []
    }
  ]
}