{
  "nbformat": 4,
  "nbformat_minor": 0,
  "metadata": {
    "colab": {
      "name": "Core_EDA_Andrew.ipynb",
      "provenance": [],
      "collapsed_sections": [],
      "authorship_tag": "ABX9TyOG3t1l0xAriq7/Z9lHwzaq",
      "include_colab_link": true
    },
    "kernelspec": {
      "name": "python3",
      "display_name": "Python 3"
    }
  },
  "cells": [
    {
      "cell_type": "markdown",
      "metadata": {
        "id": "view-in-github",
        "colab_type": "text"
      },
      "source": [
        "<a href=\"https://colab.research.google.com/github/DreamTeamInc/Core-DS/blob/issues%2F1/Core_EDA_Andrew.ipynb\" target=\"_parent\"><img src=\"https://colab.research.google.com/assets/colab-badge.svg\" alt=\"Open In Colab\"/></a>"
      ]
    },
    {
      "cell_type": "code",
      "metadata": {
        "id": "gqyWfFk5u9sF",
        "outputId": "5cfeb734-3c6b-4e42-acd0-edf353b4cabc",
        "colab": {
          "base_uri": "https://localhost:8080/",
          "height": 34
        }
      },
      "source": [
        "from google.colab import drive\n",
        "drive.mount('/content/drive')\n",
        "\n",
        "# Path to 'sample_core_analysis_data_example' folder with folder name\n",
        "path_to_data = 'drive/My Drive/ sample_core_analysis_data_example'"
      ],
      "execution_count": 1,
      "outputs": [
        {
          "output_type": "stream",
          "text": [
            "Mounted at /content/drive\n"
          ],
          "name": "stdout"
        }
      ]
    },
    {
      "cell_type": "markdown",
      "metadata": {
        "id": "-0lofNN9xXRr"
      },
      "source": [
        "# Initializing packages"
      ]
    },
    {
      "cell_type": "code",
      "metadata": {
        "id": "JOMYimf8xQi5"
      },
      "source": [
        "import pandas as pd\n",
        "import numpy as np\n",
        "import matplotlib.pyplot as plt\n",
        "import json\n",
        "import cv2 as cv\n",
        "import seaborn as sns\n",
        "\n",
        "from PIL import Image\n",
        "from skimage import exposure\n",
        "from skimage import io\n",
        "\n",
        "import sklearn\n",
        "import warnings\n",
        "warnings.filterwarnings('ignore')"
      ],
      "execution_count": 2,
      "outputs": []
    },
    {
      "cell_type": "markdown",
      "metadata": {
        "id": "tgGS7WcmZ6x2"
      },
      "source": [
        "## **Functions for getting data** "
      ]
    },
    {
      "cell_type": "code",
      "metadata": {
        "id": "a4jaEk6iVHw2"
      },
      "source": [
        "def get_photo(data,i):\n",
        "  return io.imread(path_to_data + '/photos/{}.jpeg'.format(data['photo_id'][i]))\n",
        "\n",
        "def get_photo_by_id(data,id):\n",
        "  return io.imread(path_to_data + '/photos/{}.jpeg'.format(id))\n",
        "\n",
        "def get_mask(data, i):\n",
        "    return np.load(path_to_data + '/matrixes/matrix_{}__{}.npz'.format(data['photo_id'][i], data['task_id'][i]))['data']\n",
        "\n",
        "def get_json(data,i):\n",
        "  with open(path_to_data + '/extra/extra_{}__{}.json'.format(data['photo_id'][i],data['task_id'][i])) as json_data:\n",
        "    d = json.load(json_data)\n",
        "    json_data.close()\n",
        "  return d"
      ],
      "execution_count": 4,
      "outputs": []
    },
    {
      "cell_type": "markdown",
      "metadata": {
        "id": "8p3xmG13aIzY"
      },
      "source": [
        "## **Functions for displaying data**\n"
      ]
    },
    {
      "cell_type": "code",
      "metadata": {
        "id": "GRAwuxKRX1Ww"
      },
      "source": [
        "def show_image(image,nrows=1,ncols=1,cmap='gray'):\n",
        "  fig, ax = plt.subplots(nrows=nrows, ncols=ncols, figsize=(10, 10))\n",
        "  ax.imshow(image)\n",
        "  ax.axis('off')\n",
        "  return fig, ax\n",
        "\n",
        "def show_all_photo_data(data,i):\n",
        "  print(data.iloc[i])\n",
        "  fig, (ax1, ax2) = plt.subplots(1, 2, figsize=(10, 10))\n",
        "  ax1.imshow(get_photo(data, i))\n",
        "  \n",
        "  mask = get_mask(data,i)\n",
        "  cmap = plt.get_cmap('tab20b', np.max(mask) + 1)\n",
        "  mask = ax2.imshow(mask, cmap=cmap,vmin=-0.5, vmax=np.max(get_mask(data, i))+0.5)\n",
        "  ax2.axis('off')\n",
        "  fig.colorbar(mask, ticks=np.arange(0, np.max(get_mask(data, i))+1))\n",
        "  return fig, (ax1, ax2)\n",
        "\n",
        "def show_photo_series(data, column, value):\n",
        "    fig, ax_ar = plt.subplots(1, 10, figsize=(14, 14))\n",
        "    filt_data = data[data[column] == value]\n",
        "    i = np.random.randint(0, filt_data.shape[0])\n",
        "    for ax in ax_ar:\n",
        "        filt_by_photo = filt_data[filt_data['photo_id'] == filt_data['photo_id'].iloc[i]]\n",
        "        segments = filt_by_photo['segment_num'].values\n",
        "        photo = get_photo(data, filt_by_photo.index.values[0])\n",
        "        mask = get_mask(data, filt_by_photo.index.values[0])\n",
        "        for value in segments:\n",
        "            mask = np.ma.masked_where(mask == value, mask)\n",
        "        \n",
        "        ax.imshow(photo)\n",
        "        ax.imshow(mask)\n",
        "        ax.axis('off')\n",
        "        filt_data.drop(filt_by_photo.index.values, axis=0, inplace=True)\n",
        "        i = np.random.randint(0, filt_data.shape[0])\n",
        "    \n",
        "    return fig, ax_ar"
      ],
      "execution_count": 5,
      "outputs": []
    },
    {
      "cell_type": "markdown",
      "metadata": {
        "id": "vra9LtQ1LdOw"
      },
      "source": [
        "# **Preprocessing**"
      ]
    },
    {
      "cell_type": "code",
      "metadata": {
        "id": "YE9MTV8ZWo1K"
      },
      "source": [
        "uv_data = data=data[data['photo_type'] == 'УФ']\n",
        "uv_data.reset_index(inplace = True, drop = True)"
      ],
      "execution_count": 6,
      "outputs": []
    },
    {
      "cell_type": "markdown",
      "metadata": {
        "id": "QQ12-IVaLv3g"
      },
      "source": [
        "# **Machine Learning**"
      ]
    },
    {
      "cell_type": "markdown",
      "metadata": {
        "id": "LBROnIVVG5Sh"
      },
      "source": [
        "## **SVM**"
      ]
    },
    {
      "cell_type": "code",
      "metadata": {
        "id": "s1ggsi82SeNg"
      },
      "source": [
        "y = uv_data['segment_value']\n",
        "#y = uv_data['segment_value'][:500]"
      ],
      "execution_count": null,
      "outputs": []
    },
    {
      "cell_type": "code",
      "metadata": {
        "id": "-vRdyiROKepQ"
      },
      "source": [
        "from sklearn import svm, metrics\n",
        "from sklearn.model_selection import GridSearchCV\n",
        "\n",
        "\n",
        "parametrs = {'kernel':('linear', 'rbf'), 'C':[1, 10],'degree':[3,4,5,6,7,8],\n",
        "             'tol':[1e-3,1e-4,5e-4]}\n",
        "svc = svm.SVC()\n",
        "\n",
        "clf = GridSearchCV(svc,parametrs)\n",
        "\n",
        "\n",
        "clf.fit(X_train,y_train)\n",
        "\n",
        "clf.best_params_"
      ],
      "execution_count": null,
      "outputs": []
    },
    {
      "cell_type": "code",
      "metadata": {
        "id": "T6avGSZp_Qx2",
        "outputId": "1f421519-7da5-403e-8fcc-9b0159c71c88",
        "colab": {
          "base_uri": "https://localhost:8080/",
          "height": 0
        }
      },
      "source": [
        "from sklearn import svm, metrics\n",
        "from sklearn.model_selection import cross_validate\n",
        "\n",
        "\n",
        "classifier = svm.SVC(C=10,degree=3,kernel='rbf',tol=0.01)\n",
        "\n",
        "scores = cross_validate(classifier, features, y, scoring='f1_macro')\n",
        "\n",
        "sum(scores['test_score'])/5"
      ],
      "execution_count": 153,
      "outputs": [
        {
          "output_type": "execute_result",
          "data": {
            "text/plain": [
              "0.873193126522839"
            ]
          },
          "metadata": {
            "tags": []
          },
          "execution_count": 153
        }
      ]
    },
    {
      "cell_type": "markdown",
      "metadata": {
        "id": "sQ5IvFq7G3RK"
      },
      "source": [
        "## **RandomForestClassifier**"
      ]
    },
    {
      "cell_type": "code",
      "metadata": {
        "id": "MExBn4vCHDOW",
        "outputId": "38cde1bd-37b0-4a01-a6a1-6ef6e59b8f1f",
        "colab": {
          "base_uri": "https://localhost:8080/",
          "height": 0
        }
      },
      "source": [
        "from sklearn import metrics\n",
        "from sklearn.ensemble import RandomForestClassifier\n",
        "from sklearn.model_selection import GridSearchCV\n",
        "from sklearn.model_selection import train_test_split\n",
        "\n",
        "X_train, X_test, y_train, y_test = train_test_split(features, y, test_size=0.3, shuffle=False)\n",
        "\n",
        "\n",
        "parametrs = {'n_estimators' : [320,330,340],'random_state' : [0],\n",
        "             'criterion':['gini', 'entropy']}\n",
        "\n",
        "rfc = RandomForestClassifier()\n",
        "\n",
        "clf = GridSearchCV(rfc,parametrs)\n",
        "\n",
        "\n",
        "clf.fit(X_train,y_train)\n",
        "\n",
        "clf.best_params_"
      ],
      "execution_count": 114,
      "outputs": [
        {
          "output_type": "execute_result",
          "data": {
            "text/plain": [
              "{'criterion': 'gini', 'n_estimators': 320, 'random_state': 0}"
            ]
          },
          "metadata": {
            "tags": []
          },
          "execution_count": 114
        }
      ]
    },
    {
      "cell_type": "code",
      "metadata": {
        "id": "Q8cNGKubJLlt",
        "outputId": "4067a565-bf85-45e6-e0c6-ab596961fcaa",
        "colab": {
          "base_uri": "https://localhost:8080/",
          "height": 0
        }
      },
      "source": [
        "from sklearn import metrics\n",
        "from sklearn.ensemble import RandomForestClassifier\n",
        "from sklearn.model_selection import cross_validate\n",
        "\n",
        "\n",
        "forest = RandomForestClassifier(criterion='entropy',random_state=0)\n",
        "\n",
        "\n",
        "\n",
        "scores = cross_validate(forest, features, y, scoring='f1_macro')\n",
        "\n",
        "sum(scores['test_score'])/5"
      ],
      "execution_count": 144,
      "outputs": [
        {
          "output_type": "execute_result",
          "data": {
            "text/plain": [
              "0.8844559311960862"
            ]
          },
          "metadata": {
            "tags": []
          },
          "execution_count": 144
        }
      ]
    },
    {
      "cell_type": "code",
      "metadata": {
        "id": "oaH7mIlv-2p3",
        "outputId": "8e95d645-3276-4c82-fad7-2b8d7eacc0ba",
        "colab": {
          "base_uri": "https://localhost:8080/",
          "height": 34
        }
      },
      "source": [
        "scores = cross_val_score(forest, X_test, y_test, cv=5)\n",
        "scores"
      ],
      "execution_count": null,
      "outputs": [
        {
          "output_type": "execute_result",
          "data": {
            "text/plain": [
              "array([0.87155963, 0.91743119, 0.89814815, 0.9537037 , 0.90740741])"
            ]
          },
          "metadata": {
            "tags": []
          },
          "execution_count": 327
        }
      ]
    },
    {
      "cell_type": "markdown",
      "metadata": {
        "id": "Q5-pPXMX1Y9t"
      },
      "source": [
        "## **ExtraTrees**"
      ]
    },
    {
      "cell_type": "code",
      "metadata": {
        "id": "Z0M0Dw1QqPHn",
        "outputId": "99556f27-ec17-4d73-f95b-7239119927e7",
        "colab": {
          "base_uri": "https://localhost:8080/",
          "height": 0
        }
      },
      "source": [
        "from sklearn import metrics\n",
        "from sklearn.ensemble import ExtraTreesClassifier\n",
        "from sklearn.model_selection import GridSearchCV\n",
        "from sklearn.model_selection import train_test_split\n",
        "\n",
        "X_train, X_test, y_train, y_test = train_test_split(features, y, test_size=0.3, shuffle=False)\n",
        "\n",
        "\n",
        "parametrs = {'n_estimators' : [50,100,150,200],'random_state' : [0],\n",
        "             'criterion':['gini', 'entropy'], 'min_samples_split' : [2,3,4], 'min_samples_leaf' : [1,2,3],'ccp_alpha' : [0.0, 1,2]}\n",
        "\n",
        "etc = ExtraTreesClassifier()\n",
        "\n",
        "clf = GridSearchCV(etc,parametrs)\n",
        "\n",
        "\n",
        "clf.fit(X_train,y_train)\n",
        "\n",
        "clf.best_params_"
      ],
      "execution_count": 118,
      "outputs": [
        {
          "output_type": "execute_result",
          "data": {
            "text/plain": [
              "{'ccp_alpha': 0.0,\n",
              " 'criterion': 'entropy',\n",
              " 'min_samples_leaf': 1,\n",
              " 'min_samples_split': 3,\n",
              " 'n_estimators': 200,\n",
              " 'random_state': 0}"
            ]
          },
          "metadata": {
            "tags": []
          },
          "execution_count": 118
        }
      ]
    },
    {
      "cell_type": "code",
      "metadata": {
        "id": "jzpRJd_FLJWI",
        "outputId": "6eb0aca3-c218-420e-b111-532d29acb0e5",
        "colab": {
          "base_uri": "https://localhost:8080/",
          "height": 0
        }
      },
      "source": [
        "from sklearn.ensemble import ExtraTreesClassifier\n",
        "\n",
        "etc = ExtraTreesClassifier(criterion= 'gini',min_samples_split= 3)\n",
        "\n",
        "scores = cross_validate(etc, features, y, scoring='f1_macro')\n",
        "\n",
        "sum(scores['test_score'])/5"
      ],
      "execution_count": 185,
      "outputs": [
        {
          "output_type": "execute_result",
          "data": {
            "text/plain": [
              "0.8935341539353148"
            ]
          },
          "metadata": {
            "tags": []
          },
          "execution_count": 185
        }
      ]
    },
    {
      "cell_type": "markdown",
      "metadata": {
        "id": "tlIS1VWk7JbP"
      },
      "source": [
        "## **3-chanel histogram with equalization**"
      ]
    },
    {
      "cell_type": "code",
      "metadata": {
        "id": "ZtSwPVBeKwUq"
      },
      "source": [
        "def histogram_equalize(img): \n",
        "    #img = rgb2gray(img) \n",
        "    img_cdf, bin_centers = exposure.cumulative_distribution(img) \n",
        "    return np.interp(img, bin_centers, img_cdf)"
      ],
      "execution_count": 33,
      "outputs": []
    },
    {
      "cell_type": "code",
      "metadata": {
        "id": "IK-il16o7UOD",
        "outputId": "e0e7c179-2f36-47d4-8fcb-f16b9964b318",
        "colab": {
          "base_uri": "https://localhost:8080/",
          "height": 286
        }
      },
      "source": [
        "photo = get_photo(uv_data,0)\n",
        "photo = histogram_equalize(photo)\n",
        "plt.imshow(photo)"
      ],
      "execution_count": null,
      "outputs": [
        {
          "output_type": "execute_result",
          "data": {
            "text/plain": [
              "<matplotlib.image.AxesImage at 0x7f03286a5dd8>"
            ]
          },
          "metadata": {
            "tags": []
          },
          "execution_count": 247
        },
        {
          "output_type": "display_data",
          "data": {
            "image/png": "[encoded data removed]",
            "text/plain": [
              "<Figure size 432x288 with 1 Axes>"
            ]
          },
          "metadata": {
            "tags": [],
            "needs_background": "light"
          }
        }
      ]
    },
    {
      "cell_type": "code",
      "metadata": {
        "id": "2Nc3Bdc1upGw"
      },
      "source": [
        "def segment_selection_with_mask(img,mask,sugment_num):\n",
        "  part_of_photo0 = np.ma.masked_where(mask == segment_num, img[:,:,0])\n",
        "  part_of_photo1 = np.ma.masked_where(mask == segment_num, img[:,:,1])\n",
        "  part_of_photo2 = np.ma.masked_where(mask == segment_num, img[:,:,2])\n",
        "\n",
        "  img[:,:,0] = part_of_photo0.data * part_of_photo0.mask\n",
        "  img[:,:,1] = part_of_photo1.data * part_of_photo1.mask\n",
        "  img[:,:,2] = part_of_photo2.data * part_of_photo2.mask\n",
        "  \n",
        "  return (img,part_of_photo0.mask)"
      ],
      "execution_count": 157,
      "outputs": []
    },
    {
      "cell_type": "code",
      "metadata": {
        "id": "eMxr0nIbaxFB"
      },
      "source": [
        "rgb_features = []\n",
        "hsv_features = []\n",
        "from skimage import filters\n",
        "from skimage.color import rgb2hsv\n",
        "\n",
        "features_arr = []\n",
        "for i in range(uv_data.shape[0]):\n",
        "#for i in range(500):\n",
        "  segment_num = uv_data['segment_num'].iloc[i]\n",
        "  photo = get_photo(uv_data,i)\n",
        "  mask = get_mask(uv_data,i)\n",
        "\n",
        "  photo1 = histogram_equalize(photo)\n",
        "\n",
        "  part_of_photo3 = np.ma.masked_where(mask == segment_num, photo1[:,:,0])\n",
        "  part_of_photo4 = np.ma.masked_where(mask == segment_num, photo1[:,:,1])\n",
        "  part_of_photo5 = np.ma.masked_where(mask == segment_num, photo1[:,:,2])\n",
        "\n",
        "\n",
        "  hist3 = np.histogram(part_of_photo3.mask * part_of_photo3.data, bins = 32, range = (0,1))\n",
        "  hist4 = np.histogram(part_of_photo4.mask * part_of_photo4.data, bins = 32, range = (0,1))\n",
        "  hist5 = np.histogram(part_of_photo5.mask * part_of_photo5.data, bins = 32, range = (0,1))\n",
        "\n",
        "\n",
        "\n",
        "\n",
        "\n",
        "  photo = rgb2hsv(photo)\n",
        "  \n",
        "  part_of_photo0 = np.ma.masked_where(mask == segment_num, photo[:,:,0])\n",
        "  part_of_photo1 = np.ma.masked_where(mask == segment_num, photo[:,:,1])\n",
        "  part_of_photo2 = np.ma.masked_where(mask == segment_num, photo[:,:,2])\n",
        "  print(i)\n",
        "\n",
        "\n",
        "  hist0 = np.histogram(part_of_photo0.mask * part_of_photo0.data, bins = 32, range = (0,1))\n",
        "  hist1 = np.histogram(part_of_photo1.mask * part_of_photo1.data, bins = 32, range = (0,1))\n",
        "  hist2 = np.histogram(part_of_photo2.mask * part_of_photo2.data, bins = 32, range = (0,1))\n",
        "  \n",
        "  hist_1 = np.concatenate((np.array(hist0[0][1:] / np.sum(part_of_photo0.mask),dtype=object),\n",
        "                        np.array(hist1[0][1:] / np.sum(part_of_photo1.mask),dtype=object),\n",
        "                        np.array(hist2[0][1:] / np.sum(part_of_photo2.mask),dtype=object)))\n",
        "  \n",
        "  hist_2 = np.concatenate((np.array(hist3[0][1:] / np.sum(part_of_photo3.mask),dtype=object),\n",
        "                        np.array(hist4[0][1:] / np.sum(part_of_photo4.mask),dtype=object),\n",
        "                        np.array(hist5[0][1:] / np.sum(part_of_photo5.mask),dtype=object)))\n",
        " \n",
        "  hsv_features.append(list(hist_1))\n",
        "  rgb_features.append(list(hist_2))\n",
        "\n",
        "  hist = np.concatenate((hist_1,hist_2))         \n",
        "  features_arr.append(list(hist))"
      ],
      "execution_count": null,
      "outputs": []
    },
    {
      "cell_type": "markdown",
      "metadata": {
        "id": "fxJJfy4WJ7Iv"
      },
      "source": [
        "## **Selection of important features**"
      ]
    },
    {
      "cell_type": "code",
      "metadata": {
        "id": "KGWXr0X2I_7_"
      },
      "source": [
        "features = pd.DataFrame(features_arr)"
      ],
      "execution_count": 106,
      "outputs": []
    },
    {
      "cell_type": "code",
      "metadata": {
        "id": "tqaL6yqcdYjX"
      },
      "source": [
        "forest.fit(X_train,y_train)\n",
        "\n",
        "\n",
        "importances = forest.feature_importances_\n",
        "std = np.std([tree.feature_importances_ for tree in forest.estimators_],\n",
        "             axis=0)\n",
        "indices = np.argsort(importances)[::-1]\n",
        "\n",
        "# Print the feature ranking\n",
        "print(\"Feature ranking:\")\n",
        "\n",
        "for f in range(X_train.shape[1]):\n",
        "    print(\"%d. feature %d (%f)\" % (f + 1, indices[f], importances[indices[f]]))\n",
        "\n",
        "# Plot the impurity-based feature importances of the forest\n",
        "plt.figure()\n",
        "plt.title(\"Feature importances\")\n",
        "plt.bar(range(X_train.shape[1]), importances[indices],\n",
        "        color=\"r\", yerr=std[indices], align=\"center\")\n",
        "plt.xticks(range(X_train.shape[1]), indices)\n",
        "plt.xlim([-1, X_train.shape[1]])\n",
        "plt.show()"
      ],
      "execution_count": null,
      "outputs": []
    },
    {
      "cell_type": "code",
      "metadata": {
        "id": "u6dmo3x5gGQs"
      },
      "source": [
        "main_features = []\n",
        "for f in range(X_train.shape[1]):\n",
        "    main_features.append(indices[f]) "
      ],
      "execution_count": 177,
      "outputs": []
    },
    {
      "cell_type": "code",
      "metadata": {
        "id": "4DZaBLBrhUXy"
      },
      "source": [
        "f = []\n",
        "for i in range(70,len(main_features)):\n",
        "  f.append(main_features[i])"
      ],
      "execution_count": 178,
      "outputs": []
    },
    {
      "cell_type": "code",
      "metadata": {
        "id": "u4eMbBqXhVgx"
      },
      "source": [
        "for i in range(len(f)):\n",
        "  features.drop(f[i],axis='columns', inplace=True)"
      ],
      "execution_count": 179,
      "outputs": []
    },
    {
      "cell_type": "code",
      "metadata": {
        "id": "aTHy0VZGjfg0",
        "outputId": "4cbe17a2-68e4-465b-ce91-4473f9f5545d",
        "colab": {
          "base_uri": "https://localhost:8080/",
          "height": 286
        }
      },
      "source": [
        "photo = get_photo(uv_data,1500)\n",
        "\n",
        "p = rgb2hsv(photo)\n",
        "\n",
        "plt.imshow(p)"
      ],
      "execution_count": 190,
      "outputs": [
        {
          "output_type": "execute_result",
          "data": {
            "text/plain": [
              "<matplotlib.image.AxesImage at 0x7f5207140748>"
            ]
          },
          "metadata": {
            "tags": []
          },
          "execution_count": 190
        },
        {
          "output_type": "display_data",
          "data": {
            "image/png": "[encoded data removed]",
            "text/plain": [
              "<Figure size 432x288 with 1 Axes>"
            ]
          },
          "metadata": {
            "tags": [],
            "needs_background": "light"
          }
        }
      ]
    },
    {
      "cell_type": "code",
      "metadata": {
        "id": "bp9FumtJKNNH",
        "outputId": "8228e633-b79d-4d2f-c0eb-3b8f715b530e",
        "colab": {
          "base_uri": "https://localhost:8080/",
          "height": 286
        }
      },
      "source": [
        "k = histogram_equalize(photo)\n",
        "\n",
        "plt.imshow(k)"
      ],
      "execution_count": 191,
      "outputs": [
        {
          "output_type": "execute_result",
          "data": {
            "text/plain": [
              "<matplotlib.image.AxesImage at 0x7f52071189e8>"
            ]
          },
          "metadata": {
            "tags": []
          },
          "execution_count": 191
        },
        {
          "output_type": "display_data",
          "data": {
            "image/png": "[encoded data removed]",
            "text/plain": [
              "<Figure size 432x288 with 1 Axes>"
            ]
          },
          "metadata": {
            "tags": [],
            "needs_background": "light"
          }
        }
      ]
    },
    {
      "cell_type": "code",
      "metadata": {
        "id": "6NyH59sEKcWm",
        "outputId": "41bad9c0-5b80-417f-812f-c42fb1026c05",
        "colab": {
          "base_uri": "https://localhost:8080/",
          "height": 302
        }
      },
      "source": [
        "plt.imshow(p + k)"
      ],
      "execution_count": 192,
      "outputs": [
        {
          "output_type": "stream",
          "text": [
            "Clipping input data to the valid range for imshow with RGB data ([0..1] for floats or [0..255] for integers).\n"
          ],
          "name": "stderr"
        },
        {
          "output_type": "execute_result",
          "data": {
            "text/plain": [
              "<matplotlib.image.AxesImage at 0x7f520706dda0>"
            ]
          },
          "metadata": {
            "tags": []
          },
          "execution_count": 192
        },
        {
          "output_type": "display_data",
          "data": {
            "image/png": "[encoded data removed]",
            "text/plain": [
              "<Figure size 432x288 with 1 Axes>"
            ]
          },
          "metadata": {
            "tags": [],
            "needs_background": "light"
          }
        }
      ]
    },
    {
      "cell_type": "code",
      "metadata": {
        "id": "UQ8dMfObKfmE"
      },
      "source": [
        ""
      ],
      "execution_count": 192,
      "outputs": []
    }
  ]
}