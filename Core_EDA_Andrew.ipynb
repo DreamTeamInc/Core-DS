{
  "nbformat": 4,
  "nbformat_minor": 0,
  "metadata": {
    "colab": {
      "name": "Core_EDA_Andrew.ipynb",
      "provenance": [],
      "collapsed_sections": [
        "-0lofNN9xXRr",
        "tgGS7WcmZ6x2",
        "8p3xmG13aIzY",
        "LBROnIVVG5Sh"
      ],
      "authorship_tag": "ABX9TyNuzgV0OJ7AaRZziIP6HbIM",
      "include_colab_link": true
    },
    "kernelspec": {
      "display_name": "Python 3",
      "name": "python3"
    }
  },
  "cells": [
    {
      "cell_type": "markdown",
      "metadata": {
        "id": "view-in-github",
        "colab_type": "text"
      },
      "source": [
        "<a href=\"https://colab.research.google.com/github/DreamTeamInc/Core-DS/blob/master/Core_EDA_Andrew.ipynb\" target=\"_parent\"><img src=\"https://colab.research.google.com/assets/colab-badge.svg\" alt=\"Open In Colab\"/></a>"
      ]
    },
    {
      "cell_type": "code",
      "metadata": {
        "id": "gqyWfFk5u9sF",
        "outputId": "51670170-8f6b-449e-a64a-4f5e62a80dee",
        "colab": {
          "base_uri": "https://localhost:8080/"
        }
      },
      "source": [
        "from google.colab import drive\n",
        "drive.mount('/content/drive')\n",
        "\n",
        "# Path to 'sample_core_analysis_data_example' folder with folder name\n",
        "path_to_data = 'drive/My Drive/ sample_core_analysis_data_example'"
      ],
      "execution_count": 1,
      "outputs": [
        {
          "output_type": "stream",
          "text": [
            "Mounted at /content/drive\n"
          ],
          "name": "stdout"
        }
      ]
    },
    {
      "cell_type": "markdown",
      "metadata": {
        "id": "-0lofNN9xXRr"
      },
      "source": [
        "# Initializing packages"
      ]
    },
    {
      "cell_type": "code",
      "metadata": {
        "id": "JOMYimf8xQi5"
      },
      "source": [
        "import pandas as pd\n",
        "import numpy as np\n",
        "import matplotlib.pyplot as plt\n",
        "import json\n",
        "import cv2 as cv\n",
        "import seaborn as sns\n",
        "\n",
        "from PIL import Image\n",
        "from skimage import exposure\n",
        "from skimage import io\n",
        "\n",
        "import sklearn\n",
        "import warnings\n",
        "warnings.filterwarnings('ignore')"
      ],
      "execution_count": 2,
      "outputs": []
    },
    {
      "cell_type": "markdown",
      "metadata": {
        "id": "tgGS7WcmZ6x2"
      },
      "source": [
        "## **Functions for getting data** "
      ]
    },
    {
      "cell_type": "code",
      "metadata": {
        "id": "a4jaEk6iVHw2"
      },
      "source": [
        "def get_photo(data,i):\n",
        "  return io.imread(path_to_data + '/photos/{}.jpeg'.format(data['photo_id'][i]))\n",
        "\n",
        "def get_photo_by_id(data,id):\n",
        "  return io.imread(path_to_data + '/photos/{}.jpeg'.format(id))\n",
        "\n",
        "def get_mask(data, i):\n",
        "    return np.load(path_to_data + '/matrixes/matrix_{}__{}.npz'.format(data['photo_id'][i], data['task_id'][i]))['data']\n",
        "\n",
        "def get_json(data,i):\n",
        "  with open(path_to_data + '/extra/extra_{}__{}.json'.format(data['photo_id'][i],data['task_id'][i])) as json_data:\n",
        "    d = json.load(json_data)\n",
        "    json_data.close()\n",
        "  return d"
      ],
      "execution_count": 3,
      "outputs": []
    },
    {
      "cell_type": "markdown",
      "metadata": {
        "id": "8p3xmG13aIzY"
      },
      "source": [
        "## **Functions for displaying data**\n"
      ]
    },
    {
      "cell_type": "code",
      "metadata": {
        "id": "GRAwuxKRX1Ww"
      },
      "source": [
        "def show_image(image,nrows=1,ncols=1,cmap='gray'):\n",
        "  fig, ax = plt.subplots(nrows=nrows, ncols=ncols, figsize=(10, 10))\n",
        "  ax.imshow(image)\n",
        "  ax.axis('off')\n",
        "  return fig, ax\n",
        "\n",
        "def show_all_photo_data(data,i):\n",
        "  print(data.iloc[i])\n",
        "  fig, (ax1, ax2) = plt.subplots(1, 2, figsize=(10, 10))\n",
        "  ax1.imshow(get_photo(data, i))\n",
        "  \n",
        "  mask = get_mask(data,i)\n",
        "  cmap = plt.get_cmap('tab20b', np.max(mask) + 1)\n",
        "  mask = ax2.imshow(mask, cmap=cmap,vmin=-0.5, vmax=np.max(get_mask(data, i))+0.5)\n",
        "  ax2.axis('off')\n",
        "  fig.colorbar(mask, ticks=np.arange(0, np.max(get_mask(data, i))+1))\n",
        "  return fig, (ax1, ax2)\n",
        "\n",
        "def show_photo_series(data, column, value):\n",
        "    fig, ax_ar = plt.subplots(1, 10, figsize=(14, 14))\n",
        "    filt_data = data[data[column] == value]\n",
        "    i = np.random.randint(0, filt_data.shape[0])\n",
        "    for ax in ax_ar:\n",
        "        filt_by_photo = filt_data[filt_data['photo_id'] == filt_data['photo_id'].iloc[i]]\n",
        "        segments = filt_by_photo['segment_num'].values\n",
        "        photo = get_photo(data, filt_by_photo.index.values[0])\n",
        "        mask = get_mask(data, filt_by_photo.index.values[0])\n",
        "        for value in segments:\n",
        "            mask = np.ma.masked_where(mask == value, mask)\n",
        "        \n",
        "        ax.imshow(photo)\n",
        "        ax.imshow(mask)\n",
        "        ax.axis('off')\n",
        "        filt_data.drop(filt_by_photo.index.values, axis=0, inplace=True)\n",
        "        i = np.random.randint(0, filt_data.shape[0])\n",
        "    \n",
        "    return fig, ax_ar"
      ],
      "execution_count": 4,
      "outputs": []
    },
    {
      "cell_type": "markdown",
      "metadata": {
        "id": "vra9LtQ1LdOw"
      },
      "source": [
        "# **Preprocessing**"
      ]
    },
    {
      "cell_type": "code",
      "metadata": {
        "id": "OGzBJMMsSeHs"
      },
      "source": [
        "all_data = pd.read_csv(path_to_data + '/data.csv')"
      ],
      "execution_count": 25,
      "outputs": []
    },
    {
      "cell_type": "code",
      "metadata": {
        "id": "YE9MTV8ZWo1K"
      },
      "source": [
        "uv_data = all_data[all_data['photo_type'] == 'УФ']\n",
        "uv_data.reset_index(inplace = True, drop = True)"
      ],
      "execution_count": 27,
      "outputs": []
    },
    {
      "cell_type": "markdown",
      "metadata": {
        "id": "QQ12-IVaLv3g"
      },
      "source": [
        "# **Machine Learning**"
      ]
    },
    {
      "cell_type": "code",
      "metadata": {
        "id": "YWvtHalgst7v"
      },
      "source": [
        "features = pd.read_csv('drive/My Drive/data/best_features.csv')"
      ],
      "execution_count": 24,
      "outputs": []
    },
    {
      "cell_type": "code",
      "metadata": {
        "id": "s1ggsi82SeNg"
      },
      "source": [
        "y = uv_data['segment_value']\n",
        "#y = uv_data['segment_value'][:500]"
      ],
      "execution_count": 9,
      "outputs": []
    },
    {
      "cell_type": "markdown",
      "metadata": {
        "id": "LBROnIVVG5Sh"
      },
      "source": [
        "## **SVM**"
      ]
    },
    {
      "cell_type": "code",
      "metadata": {
        "id": "-vRdyiROKepQ"
      },
      "source": [
        "from sklearn import svm, metrics\n",
        "from sklearn.model_selection import GridSearchCV\n",
        "\n",
        "\n",
        "parametrs = {'kernel':('linear', 'rbf'), 'C':[1, 10],'degree':[3,4,5,6,7,8],\n",
        "             'tol':[1e-3,1e-4,5e-4]}\n",
        "svc = svm.SVC()\n",
        "\n",
        "clf = GridSearchCV(svc,parametrs)\n",
        "\n",
        "\n",
        "clf.fit(X_train,y_train)\n",
        "\n",
        "clf.best_params_"
      ],
      "execution_count": null,
      "outputs": []
    },
    {
      "cell_type": "code",
      "metadata": {
        "id": "T6avGSZp_Qx2",
        "outputId": "e9575fc0-8e7b-4bc9-e45e-a142497c1cce",
        "colab": {
          "base_uri": "https://localhost:8080/"
        }
      },
      "source": [
        "from sklearn import svm, metrics\n",
        "from sklearn.model_selection import cross_validate\n",
        "\n",
        "\n",
        "classifier = svm.SVC(C=10,degree=3,kernel='rbf',tol=0.01)\n",
        "\n",
        "scores = cross_validate(classifier, features, y, scoring='f1_macro')\n",
        "\n",
        "sum(scores['test_score'])/5"
      ],
      "execution_count": null,
      "outputs": [
        {
          "output_type": "execute_result",
          "data": {
            "text/plain": [
              "0.8409187366682789"
            ]
          },
          "metadata": {
            "tags": []
          },
          "execution_count": 51
        }
      ]
    },
    {
      "cell_type": "markdown",
      "metadata": {
        "id": "sQ5IvFq7G3RK"
      },
      "source": [
        "## **RandomForestClassifier**"
      ]
    },
    {
      "cell_type": "code",
      "metadata": {
        "id": "MExBn4vCHDOW",
        "outputId": "38cde1bd-37b0-4a01-a6a1-6ef6e59b8f1f",
        "colab": {
          "base_uri": "https://localhost:8080/"
        }
      },
      "source": [
        "from sklearn import metrics\n",
        "from sklearn.ensemble import RandomForestClassifier\n",
        "from sklearn.model_selection import GridSearchCV\n",
        "from sklearn.model_selection import train_test_split\n",
        "\n",
        "X_train, X_test, y_train, y_test = train_test_split(features, y, test_size=0.3, shuffle=False)\n",
        "\n",
        "\n",
        "parametrs = {'n_estimators' : [320,330,340],'random_state' : [0],\n",
        "             'criterion':['gini', 'entropy']}\n",
        "\n",
        "rfc = RandomForestClassifier()\n",
        "\n",
        "clf = GridSearchCV(rfc,parametrs)\n",
        "\n",
        "\n",
        "clf.fit(X_train,y_train)\n",
        "\n",
        "clf.best_params_"
      ],
      "execution_count": null,
      "outputs": [
        {
          "output_type": "execute_result",
          "data": {
            "text/plain": [
              "{'criterion': 'gini', 'n_estimators': 320, 'random_state': 0}"
            ]
          },
          "metadata": {
            "tags": []
          },
          "execution_count": 114
        }
      ]
    },
    {
      "cell_type": "code",
      "metadata": {
        "id": "Q8cNGKubJLlt",
        "outputId": "5b267b26-2f26-4c98-c8ee-a5dbe1f00262",
        "colab": {
          "base_uri": "https://localhost:8080/"
        }
      },
      "source": [
        "from sklearn import metrics\n",
        "from sklearn.ensemble import RandomForestClassifier\n",
        "from sklearn.model_selection import cross_validate\n",
        "\n",
        "\n",
        "forest = RandomForestClassifier(criterion='entropy',random_state=0)\n",
        "\n",
        "\n",
        "\n",
        "scores = cross_validate(forest, features, y, scoring='f1_macro')\n",
        "\n",
        "sum(scores['test_score'])/5"
      ],
      "execution_count": null,
      "outputs": [
        {
          "output_type": "execute_result",
          "data": {
            "text/plain": [
              "0.8793935042474994"
            ]
          },
          "metadata": {
            "tags": []
          },
          "execution_count": 52
        }
      ]
    },
    {
      "cell_type": "code",
      "metadata": {
        "id": "oaH7mIlv-2p3",
        "outputId": "8e95d645-3276-4c82-fad7-2b8d7eacc0ba",
        "colab": {
          "base_uri": "https://localhost:8080/",
          "height": 34
        }
      },
      "source": [
        "scores = cross_val_score(forest, X_test, y_test, cv=5)\n",
        "scores"
      ],
      "execution_count": null,
      "outputs": [
        {
          "output_type": "execute_result",
          "data": {
            "text/plain": [
              "array([0.87155963, 0.91743119, 0.89814815, 0.9537037 , 0.90740741])"
            ]
          },
          "metadata": {
            "tags": []
          },
          "execution_count": 327
        }
      ]
    },
    {
      "cell_type": "markdown",
      "metadata": {
        "id": "Q5-pPXMX1Y9t"
      },
      "source": [
        "## **ExtraTrees**"
      ]
    },
    {
      "cell_type": "code",
      "metadata": {
        "id": "Z0M0Dw1QqPHn"
      },
      "source": [
        "from sklearn import metrics\n",
        "from sklearn.ensemble import ExtraTreesClassifier\n",
        "from sklearn.model_selection import GridSearchCV\n",
        "from sklearn.model_selection import train_test_split\n",
        "\n",
        "X_train, X_test, y_train, y_test = train_test_split(features, y, test_size=0.3, shuffle=False)\n",
        "\n",
        "\n",
        "parametrs = {'n_estimators' : [50,100,150,200],'random_state' : [0],\n",
        "             'criterion':['gini', 'entropy'], 'min_samples_split' : [2,3,4], 'min_samples_leaf' : [1,2,3],'ccp_alpha' : [0.0, 1,2]}\n",
        "\n",
        "etc = ExtraTreesClassifier()\n",
        "\n",
        "clf = GridSearchCV(etc,parametrs)\n",
        "\n",
        "\n",
        "clf.fit(X_train,y_train)\n",
        "\n",
        "clf.best_params_"
      ],
      "execution_count": null,
      "outputs": []
    },
    {
      "cell_type": "code",
      "metadata": {
        "id": "jzpRJd_FLJWI",
        "outputId": "2c5a2786-555a-4450-92d4-60314ca17505",
        "colab": {
          "base_uri": "https://localhost:8080/"
        }
      },
      "source": [
        "from sklearn.ensemble import ExtraTreesClassifier\n",
        "from sklearn import  metrics\n",
        "from sklearn.model_selection import cross_validate\n",
        "\n",
        "etc = ExtraTreesClassifier(criterion= 'gini',min_samples_split= 3)\n",
        "\n",
        "scores = cross_validate(etc, features, y, scoring='f1_macro')\n",
        "\n",
        "sum(scores['test_score'])/5"
      ],
      "execution_count": 10,
      "outputs": [
        {
          "output_type": "execute_result",
          "data": {
            "text/plain": [
              "0.863492328141627"
            ]
          },
          "metadata": {
            "tags": []
          },
          "execution_count": 10
        }
      ]
    },
    {
      "cell_type": "code",
      "metadata": {
        "id": "XzTXKTB0ENEH",
        "outputId": "a86c34bf-ce00-462b-d3ea-8ff8e7fdd44e",
        "colab": {
          "base_uri": "https://localhost:8080/"
        }
      },
      "source": [
        "from sklearn.model_selection import train_test_split\n",
        "\n",
        "X_train,X_test,y_train,y_test = train_test_split(features,y,test_size=0.33)\n",
        "\n",
        "etc.fit(X_train,y_train)"
      ],
      "execution_count": 13,
      "outputs": [
        {
          "output_type": "execute_result",
          "data": {
            "text/plain": [
              "ExtraTreesClassifier(bootstrap=False, ccp_alpha=0.0, class_weight=None,\n",
              "                     criterion='gini', max_depth=None, max_features='auto',\n",
              "                     max_leaf_nodes=None, max_samples=None,\n",
              "                     min_impurity_decrease=0.0, min_impurity_split=None,\n",
              "                     min_samples_leaf=1, min_samples_split=3,\n",
              "                     min_weight_fraction_leaf=0.0, n_estimators=100,\n",
              "                     n_jobs=None, oob_score=False, random_state=None, verbose=0,\n",
              "                     warm_start=False)"
            ]
          },
          "metadata": {
            "tags": []
          },
          "execution_count": 13
        }
      ]
    },
    {
      "cell_type": "markdown",
      "metadata": {
        "id": "tlIS1VWk7JbP"
      },
      "source": [
        "## **3-chanel histogram with equalization**"
      ]
    },
    {
      "cell_type": "code",
      "metadata": {
        "id": "ZtSwPVBeKwUq"
      },
      "source": [
        "def histogram_equalize(img): \n",
        "    img_cdf, bin_centers = exposure.cumulative_distribution(img) \n",
        "    return np.interp(img, bin_centers, img_cdf)"
      ],
      "execution_count": 42,
      "outputs": []
    },
    {
      "cell_type": "code",
      "metadata": {
        "id": "RWc7QL_kyFEO"
      },
      "source": [
        "def get_features(photo,mask,segment_num):\n",
        "  # Get segment from photo\n",
        "  p1 = np.ma.masked_where(mask == segment_num, photo[:,:,0])\n",
        "  p2 = np.ma.masked_where(mask == segment_num, photo[:,:,1])\n",
        "  p3 = np.ma.masked_where(mask == segment_num, photo[:,:,2])\n",
        "  # Get histograms 3 chanels of photo\n",
        "  hist1 = np.histogram(p1.mask * p1.data, bins = 32, range = (0,1))\n",
        "  hist2 = np.histogram(p2.mask * p2.data, bins = 32, range = (0,1))\n",
        "  hist3 = np.histogram(p3.mask * p3.data, bins = 32, range = (0,1))\n",
        "  \n",
        "  features = np.concatenate((np.array(hist1[0][1:] / np.sum(p1.mask),dtype=object),\n",
        "                             np.array(hist2[0][1:] / np.sum(p2.mask),dtype=object),\n",
        "                             np.array(hist3[0][1:] / np.sum(p3.mask),dtype=object)))\n",
        "  return features"
      ],
      "execution_count": 40,
      "outputs": []
    },
    {
      "cell_type": "code",
      "metadata": {
        "id": "eMxr0nIbaxFB"
      },
      "source": [
        "from skimage.color import rgb2hsv\n",
        "\n",
        "def data_preprocessing(data):\n",
        "  features_arr = []\n",
        "  for i in range(data.shape[0]):\n",
        "    segment_num = data['segment_num'].iloc[i]\n",
        "    photo = get_photo(data,i)\n",
        "    mask = get_mask(data,i)\n",
        "\n",
        "    hsv_features = get_features( rgb2hsv(photo),mask,segment_num) \n",
        "    rgb_features = get_features(histogram_equalize(photo),mask,segment_num)\n",
        "    \n",
        "    photo_features = np.concatenate((hsv_features,rgb_features))         \n",
        "    features_arr.append(list(photo_features))\n",
        "    features = pd.DataFrame(features_arr)\n",
        "\n",
        "\n",
        "  return features_arr\n"
      ],
      "execution_count": 39,
      "outputs": []
    },
    {
      "cell_type": "markdown",
      "metadata": {
        "id": "fxJJfy4WJ7Iv"
      },
      "source": [
        "## **Selection of important features**"
      ]
    },
    {
      "cell_type": "code",
      "metadata": {
        "id": "KGWXr0X2I_7_"
      },
      "source": [
        "features = data_preprocessing(uv_data)"
      ],
      "execution_count": null,
      "outputs": []
    },
    {
      "cell_type": "code",
      "metadata": {
        "id": "NOXXHYSPY7Kk"
      },
      "source": [
        "features = pd.read_csv('drive/My Drive/data/best_features.csv')"
      ],
      "execution_count": null,
      "outputs": []
    },
    {
      "cell_type": "code",
      "metadata": {
        "id": "tqaL6yqcdYjX"
      },
      "source": [
        "etc.fit(features,y)\n",
        "\n",
        "importances = etc.feature_importances_\n",
        "std = np.std([tree.feature_importances_ for tree in etc.estimators_],\n",
        "             axis=0)\n",
        "indices = np.argsort(importances)[::-1]\n",
        "\n",
        "\n",
        "main_features = []\n",
        "for f in range(features.shape[1]):\n",
        "    main_features.append(indices[f])\n",
        "\n",
        "\n",
        "f = []\n",
        "for i in range(70,len(main_features)):\n",
        "  f.append(main_features[i])\n",
        "\n",
        "for i in range(len(f)):\n",
        "  features.drop(str(f[i]),axis='columns', inplace=True)"
      ],
      "execution_count": 12,
      "outputs": []
    },
    {
      "cell_type": "code",
      "metadata": {
        "id": "uPkYryCMiixt",
        "outputId": "57663537-3cb0-4242-c1ef-2b38822fcc41",
        "colab": {
          "base_uri": "https://localhost:8080/"
        }
      },
      "source": [
        "indices[0]"
      ],
      "execution_count": null,
      "outputs": [
        {
          "output_type": "execute_result",
          "data": {
            "text/plain": [
              "65"
            ]
          },
          "metadata": {
            "tags": []
          },
          "execution_count": 17
        }
      ]
    },
    {
      "cell_type": "code",
      "metadata": {
        "id": "v6gGE6qShPL9"
      },
      "source": [
        "np.save('feature_importance',indices)"
      ],
      "execution_count": null,
      "outputs": []
    },
    {
      "cell_type": "code",
      "metadata": {
        "id": "_W99SU8RZ1XZ"
      },
      "source": [
        "from sklearn.model_selection import train_test_split\n",
        "from skimage.segmentation import watershed\n",
        "from scipy import ndimage\n",
        "from sklearn.ensemble import ExtraTreesClassifier\n",
        "from skimage.color import rgb2hsv,rgb2gray\n",
        "from collections import OrderedDict\n",
        "\n",
        "path_to_data = 'drive/My Drive/'\n",
        "\n",
        "class Model_for_ultraviolet_photos(object):\n",
        "  etc\n",
        "  features\n",
        "  y\n",
        "  def __init__(self):\n",
        "    self.features = pd.read_csv(path_to_data + 'data/best_features.csv')\n",
        "    self.y = uv_data['segment_value']\n",
        "    self.etc = ExtraTreesClassifier(criterion= 'gini',min_samples_split= 3)\n",
        "    etc.fit(features,y)\n",
        "\n",
        "  @private\n",
        "  def get_photo(self,data,i):\n",
        "    return io.imread(path_to_data + '/photos/{}.jpeg'.format(data['photo_id'][i]))\n",
        "  @private\n",
        "  def get_mask(self,data, i):\n",
        "    return np.load(path_to_data + '/matrixes/matrix_{}__{}.npz'.format(data['photo_id'][i], data['task_id'][i]))['data']\n",
        "\n",
        "  @private\n",
        "  def histogram_equalize(self,img): \n",
        "    img_cdf, bin_centers = exposure.cumulative_distribution(img) \n",
        "    return np.interp(img, bin_centers, img_cdf)\n",
        "\n",
        "  @private\n",
        "  def get_features(self,photo,mask,segment_num):\n",
        "    # Get segment from photo\n",
        "    p1 = np.ma.masked_where(mask == segment_num, photo[:,:,0])\n",
        "    p2 = np.ma.masked_where(mask == segment_num, photo[:,:,1])\n",
        "    p3 = np.ma.masked_where(mask == segment_num, photo[:,:,2])\n",
        "    # Get histograms 3 chanels of photo\n",
        "    hist1 = np.histogram(p1.mask * p1.data, bins = 32, range = (0,1))\n",
        "    hist2 = np.histogram(p2.mask * p2.data, bins = 32, range = (0,1))\n",
        "    hist3 = np.histogram(p3.mask * p3.data, bins = 32, range = (0,1))\n",
        "    \n",
        "    features = np.concatenate((np.array(hist1[0][1:] / np.sum(p1.mask),dtype=object),\n",
        "                              np.array(hist2[0][1:] / np.sum(p2.mask),dtype=object),\n",
        "                              np.array(hist3[0][1:] / np.sum(p3.mask),dtype=object)))\n",
        "    return features\n",
        "\n",
        "  @private\n",
        "  def photo_preprocessing(photo,mask):\n",
        "    features_arr = []\n",
        "    unique_segments = list(OrderedDict.fromkeys(mask.ravel()))\n",
        "    for i in unique_segments:\n",
        "      hsv_features = get_features( rgb2hsv(photo),mask,i) \n",
        "      rgb_features = get_features(histogram_equalize(photo),mask,i)\n",
        "      photo_features = np.concatenate((hsv_features,rgb_features))         \n",
        "      features_arr.append(list(photo_features))\n",
        "      features = pd.DataFrame(features_arr)\n",
        "\n",
        "      importance_features = np.load(path_to_data + '/data/feature_importance')\n",
        "      \n",
        "      f = []\n",
        "      for i in range(70,len(importance_features)):\n",
        "        f.append(importance_features[i])\n",
        "\n",
        "      for i in range(len(f)):\n",
        "        features.drop(str(f[i]),axis='columns', inplace=True)\n",
        "\n",
        "    return features\n",
        "\n",
        "  @private\n",
        "  def to_semantic_segmentation(mask,predicts):\n",
        "    labels_uniq = list(OrderedDict.fromkeys(mask.ravel()))\n",
        "\n",
        "    for i in range(predicts.shape[0]):\n",
        "      if predicts[i] == 'Отсутствует':\n",
        "        mask = np.where(mask == labels_uniq[i],100,mask)\n",
        "      if predicts[i] == 'Насыщенное':\n",
        "        mask = np.where(mask == labels_uniq[i],200,mask)\n",
        "      if predicts[i] == 'Карбонатное':\n",
        "        mask = np.where(mask == labels_uniq[i],300,mask)\n",
        "    return mask\n",
        "\n",
        "  def predict(photos):\n",
        "   for photo in photos:\n",
        "      mask = watershed(rgb2gray(photo),markers=12)\n",
        "      photo_features = self.photo_preprocessing(photo,mask)\n",
        "      predicts = etc.predict(photo_features)\n",
        "      semantic_seg = to_semantic_segmentation(mask,predicts)\n",
        "      photo_features = self.photo_preprocessing(photo,semantic_seg)  # ???\n",
        "      for i in photo_features.shape[0]:\n",
        "        features.loc[len(features)] = photo_features[i]\n",
        "        labels = list(OrderedDict.fromkeys(semantic_seg.ravel()))\n",
        "        if labels[i] == 100:\n",
        "          y[len(y)] = 'Отсутствует'\n",
        "        if labels[i] == 200:\n",
        "          y[len(y)] = 'Насыщенное'\n",
        "        if labels[i] == 300:\n",
        "          y[len(y)] = 'Карбонатное' \n",
        "    return semantic_seg"
      ],
      "execution_count": null,
      "outputs": []
    },
    {
      "cell_type": "markdown",
      "metadata": {
        "id": "0Z9fW49ASyEF"
      },
      "source": [
        "\n",
        "# **Segmentation**"
      ]
    },
    {
      "cell_type": "code",
      "metadata": {
        "id": "LKG1ASqVbfO-"
      },
      "source": [
        "from skimage.color import rgb2hsv\n",
        "from collections import OrderedDict\n",
        "\n",
        "def photo_preprocessing(photo,mask):\n",
        "  features_arr = []\n",
        "  unique_segments = list(OrderedDict.fromkeys(mask.ravel()))\n",
        "  for i in unique_segments:\n",
        "    hsv_features = get_features( rgb2hsv(photo),mask,i) \n",
        "    rgb_features = get_features(histogram_equalize(photo),mask,i)\n",
        "    photo_features = np.concatenate((hsv_features,rgb_features))         \n",
        "    features_arr.append(list(photo_features))\n",
        "    features = pd.DataFrame(features_arr)\n",
        "\n",
        "  return features"
      ],
      "execution_count": 33,
      "outputs": []
    },
    {
      "cell_type": "code",
      "metadata": {
        "id": "pnlJ21u2SxWZ",
        "outputId": "663e1223-a6e7-48c7-ed58-9741ca6bcfcc",
        "colab": {
          "base_uri": "https://localhost:8080/",
          "height": 225
        }
      },
      "source": [
        "from skimage.segmentation import watershed\n",
        "from skimage.feature import peak_local_max\n",
        "from scipy import ndimage\n",
        "from skimage.color import rgb2hsv,rgb2gray\n",
        "from skimage import filters\n",
        "\n",
        "p = 0\n",
        "photo = get_photo(uv_data,p)\n",
        "mask = get_mask(uv_data,p)\n",
        "\n",
        "labels = watershed(rgb2gray(photo),markers=12)\n",
        "\n",
        "fig, axes = plt.subplots(ncols=3, figsize=(9, 3), sharex=True, sharey=True)\n",
        "ax = axes.ravel()\n",
        "\n",
        "ax[0].imshow(photo)\n",
        "ax[0].set_title('photo')\n",
        "ax[1].imshow(mask)\n",
        "ax[1].set_title('Original Mask')\n",
        "ax[2].imshow(labels)\n",
        "ax[2].set_title('Watershed Segmentation')\n",
        "\n",
        "for a in ax:\n",
        "    a.set_axis_off()\n",
        "\n",
        "fig.tight_layout()\n",
        "plt.show()"
      ],
      "execution_count": 34,
      "outputs": [
        {
          "output_type": "display_data",
          "data": {
            "image/png": "[encoded data removed]",
            "text/plain": [
              "<Figure size 648x216 with 3 Axes>"
            ]
          },
          "metadata": {
            "tags": [],
            "needs_background": "light"
          }
        }
      ]
    },
    {
      "cell_type": "code",
      "metadata": {
        "id": "028dSoeAJXyT"
      },
      "source": [
        "from collections import OrderedDict\n",
        "def predicted_segmentation(predicts,mask):\n",
        "  labels_uniq = list(OrderedDict.fromkeys(mask.ravel()))\n",
        "\n",
        "  for i in range(predicts.shape[0]):\n",
        "    if predicts[i] == 'Отсутствует':\n",
        "      mask = np.where(mask == labels_uniq[i],100,mask)\n",
        "    if predicts[i] == 'Насыщенное':\n",
        "      mask = np.where(mask == labels_uniq[i],200,mask)\n",
        "    if predicts[i] == 'Карбонатное':\n",
        "      mask = np.where(mask == labels_uniq[i],300,mask)\n",
        "  return mask"
      ],
      "execution_count": 84,
      "outputs": []
    },
    {
      "cell_type": "code",
      "metadata": {
        "id": "RF5mcZ89lfUW"
      },
      "source": [
        "def test_segmentataion(data,mask):\n",
        "  b = data[['segment_num','segment_value']].groupby('segment_value',as_index=False)\n",
        "  b_keys = b.indices.keys()\n",
        "  for i in b_keys:\n",
        "    segment_keys = b.indices[i]\n",
        "    for j in segment_keys:\n",
        "      if i == 'Отсутствует':\n",
        "        mask = np.where(mask == j,100,mask)\n",
        "      if i == 'Насыщенное':\n",
        "        mask = np.where(mask == j,200,mask)\n",
        "      if i == 'Карбонатное':\n",
        "        mask = np.where(mask == j,300,mask)\n",
        "  return mask"
      ],
      "execution_count": 49,
      "outputs": []
    },
    {
      "cell_type": "code",
      "metadata": {
        "id": "2l9ELeEh6GJb"
      },
      "source": [
        "from skimage.metrics import normalized_root_mse\n",
        "from skimage.segmentation import slic\n",
        "\n",
        "def segmentation_metric(data):\n",
        "  result = []\n",
        "  for i in data['photo_id'].unique()[:15]:\n",
        "    photo_data = data[data['photo_id'] == i]\n",
        "    photo_data.reset_index(inplace = True, drop = True)\n",
        "    photo = get_photo(photo_data,0)\n",
        "    mask = get_mask(photo_data,0)\n",
        "    photo_data.reset_index(inplace = True, drop = True)\n",
        "    #test_mask = watershed(rgb2gray(photo),markers=12)\n",
        "    test_mask = slic(photo, n_segments=23)\n",
        "\n",
        "    features = photo_preprocessing(photo,test_mask)\n",
        "    features = pd.DataFrame(features)\n",
        "    for i in range(len(f)):\n",
        "      features.drop(f[i],axis='columns', inplace=True)\n",
        "    \n",
        "    predicts = etc.predict(features)\n",
        "    test_mask = predicted_segmentation(predicts,test_mask)\n",
        "    true_mask =  test_segmentataion(photo_data,mask) \n",
        "    result.append(normalized_root_mse(test_mask,true_mask))\n",
        "  return result\n"
      ],
      "execution_count": 99,
      "outputs": []
    },
    {
      "cell_type": "code",
      "metadata": {
        "id": "cRoVcPcg9cf8"
      },
      "source": [
        "result = segmentation_metric(uv_data)"
      ],
      "execution_count": 102,
      "outputs": []
    },
    {
      "cell_type": "code",
      "metadata": {
        "id": "ckkxmxmtEDxJ",
        "outputId": "f3f94d1f-673b-4d27-8cfb-073abc22c668",
        "colab": {
          "base_uri": "https://localhost:8080/"
        }
      },
      "source": [
        "sum(result)/15"
      ],
      "execution_count": 104,
      "outputs": [
        {
          "output_type": "execute_result",
          "data": {
            "text/plain": [
              "0.2897769450311525"
            ]
          },
          "metadata": {
            "tags": []
          },
          "execution_count": 104
        }
      ]
    },
    {
      "cell_type": "code",
      "metadata": {
        "id": "wKGlpT8zUBsj",
        "outputId": "397ada4b-a1af-4317-eef6-c864920e97e3",
        "colab": {
          "base_uri": "https://localhost:8080/"
        }
      },
      "source": [
        "    i = 0\n",
        "    photo_data = uv_data[uv_data['photo_id'] == uv_data['photo_id'].iloc[i]]\n",
        "    photo_data.reset_index(inplace = True, drop = True)\n",
        "    photo = get_photo(photo_data,0)\n",
        "    mask = get_mask(photo_data,0)\n",
        "    photo_data.reset_index(inplace = True, drop = True)\n",
        "    test_mask = watershed(rgb2gray(photo),markers=12)\n",
        "    \n",
        "    features = photo_preprocessing(photo,test_mask)\n",
        "    features = pd.DataFrame(features)\n",
        "    for i in range(len(f)):\n",
        "      features.drop(f[i],axis='columns', inplace=True)\n",
        "    \n",
        "    predicts = etc.predict(features)\n",
        "    \n",
        "    test_mask = predicted_segmentation(predicts,test_mask)\n",
        "\n",
        "    true_mask =  test_segmentataion(photo_data,mask) \n",
        "\n",
        "    normalized_root_mse(test_mask,true_mask)"
      ],
      "execution_count": 85,
      "outputs": [
        {
          "output_type": "execute_result",
          "data": {
            "text/plain": [
              "0.17670269346484746"
            ]
          },
          "metadata": {
            "tags": []
          },
          "execution_count": 85
        }
      ]
    },
    {
      "cell_type": "markdown",
      "metadata": {
        "id": "0aIpkk_DdWD_"
      },
      "source": [
        "## **K-means**"
      ]
    },
    {
      "cell_type": "code",
      "metadata": {
        "id": "oPo_Xhws8Nq7",
        "outputId": "827595db-a1c5-4215-c91a-c67bd1eb8a30",
        "colab": {
          "base_uri": "https://localhost:8080/",
          "height": 225
        }
      },
      "source": [
        "from skimage.segmentation import slic\n",
        "from skimage import filters\n",
        "from scipy import ndimage\n",
        "from skimage.color import rgb2gray\n",
        "from skimage.color import rgb2hsv\n",
        "\n",
        "s = 1800\n",
        "photo = get_photo(uv_data,s)\n",
        "mask = get_mask(uv_data,s)\n",
        "\n",
        "\n",
        "labels = slic(photo, n_segments=20)\n",
        "\n",
        "fig, axes = plt.subplots(ncols=3, figsize=(9, 3), sharex=True, sharey=True)\n",
        "ax = axes.ravel()\n",
        "\n",
        "ax[0].imshow(photo)\n",
        "ax[0].set_title('Photo')\n",
        "ax[1].imshow(mask)\n",
        "ax[1].set_title('Original Mask')\n",
        "ax[2].imshow(labels)\n",
        "ax[2].set_title('K-means Segmentation')\n",
        "\n",
        "for a in ax:\n",
        "    a.set_axis_off()\n",
        "\n",
        "fig.tight_layout()\n",
        "plt.show()"
      ],
      "execution_count": 98,
      "outputs": [
        {
          "output_type": "display_data",
          "data": {
            "image/png": "[encoded data removed]",
            "text/plain": [
              "<Figure size 648x216 with 3 Axes>"
            ]
          },
          "metadata": {
            "tags": [],
            "needs_background": "light"
          }
        }
      ]
    },
    {
      "cell_type": "code",
      "metadata": {
        "id": "7LUSsviPkpN0"
      },
      "source": [
        ""
      ],
      "execution_count": null,
      "outputs": []
    }
  ]
}