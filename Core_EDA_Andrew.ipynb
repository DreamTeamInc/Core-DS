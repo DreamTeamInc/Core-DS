{
  "nbformat": 4,
  "nbformat_minor": 0,
  "metadata": {
    "colab": {
      "name": "Core_EDA_Andrew.ipynb",
      "provenance": [],
      "collapsed_sections": [
        "-0lofNN9xXRr",
        "tgGS7WcmZ6x2",
        "8p3xmG13aIzY",
        "LBROnIVVG5Sh"
      ],
      "authorship_tag": "ABX9TyORbEIEskRiNP5jBEqtlgmT",
      "include_colab_link": true
    },
    "kernelspec": {
      "display_name": "Python 3",
      "name": "python3"
    }
  },
  "cells": [
    {
      "cell_type": "markdown",
      "metadata": {
        "id": "view-in-github",
        "colab_type": "text"
      },
      "source": [
        "<a href=\"https://colab.research.google.com/github/DreamTeamInc/Core-DS/blob/issues%2F6/Core_EDA_Andrew.ipynb\" target=\"_parent\"><img src=\"https://colab.research.google.com/assets/colab-badge.svg\" alt=\"Open In Colab\"/></a>"
      ]
    },
    {
      "cell_type": "code",
      "metadata": {
        "id": "gqyWfFk5u9sF",
        "outputId": "dd33ba29-571b-484c-ace2-2a912830434b",
        "colab": {
          "base_uri": "https://localhost:8080/"
        }
      },
      "source": [
        "from google.colab import drive\n",
        "drive.mount('/content/drive')\n",
        "\n",
        "# Path to 'sample_core_analysis_data_example' folder with folder name\n",
        "path_to_data = 'drive/My Drive/ sample_core_analysis_data_example'"
      ],
      "execution_count": 1,
      "outputs": [
        {
          "output_type": "stream",
          "text": [
            "Mounted at /content/drive\n"
          ],
          "name": "stdout"
        }
      ]
    },
    {
      "cell_type": "markdown",
      "metadata": {
        "id": "-0lofNN9xXRr"
      },
      "source": [
        "# Initializing packages"
      ]
    },
    {
      "cell_type": "code",
      "metadata": {
        "id": "JOMYimf8xQi5"
      },
      "source": [
        "import pandas as pd\n",
        "import numpy as np\n",
        "import matplotlib.pyplot as plt\n",
        "import json\n",
        "import cv2 as cv\n",
        "import seaborn as sns\n",
        "\n",
        "from PIL import Image\n",
        "from skimage import exposure\n",
        "from skimage import io\n",
        "\n",
        "import sklearn\n",
        "import warnings\n",
        "warnings.filterwarnings('ignore')"
      ],
      "execution_count": 306,
      "outputs": []
    },
    {
      "cell_type": "markdown",
      "metadata": {
        "id": "tgGS7WcmZ6x2"
      },
      "source": [
        "## **Functions for getting data** "
      ]
    },
    {
      "cell_type": "code",
      "metadata": {
        "id": "a4jaEk6iVHw2"
      },
      "source": [
        "def get_photo(data,i):\n",
        "  return io.imread(path_to_data + '/photos/{}.jpeg'.format(data['photo_id'][i]))\n",
        "\n",
        "def get_photo_by_id(data,id):\n",
        "  return io.imread(path_to_data + '/photos/{}.jpeg'.format(id))\n",
        "\n",
        "def get_mask(data, i):\n",
        "    return np.load(path_to_data + '/matrixes/matrix_{}__{}.npz'.format(data['photo_id'][i], data['task_id'][i]))['data']\n",
        "\n",
        "def get_json(data,i):\n",
        "  with open(path_to_data + '/extra/extra_{}__{}.json'.format(data['photo_id'][i],data['task_id'][i])) as json_data:\n",
        "    d = json.load(json_data)\n",
        "    json_data.close()\n",
        "  return d"
      ],
      "execution_count": 307,
      "outputs": []
    },
    {
      "cell_type": "markdown",
      "metadata": {
        "id": "8p3xmG13aIzY"
      },
      "source": [
        "## **Functions for displaying data**\n"
      ]
    },
    {
      "cell_type": "code",
      "metadata": {
        "id": "GRAwuxKRX1Ww"
      },
      "source": [
        "def show_image(image,nrows=1,ncols=1,cmap='gray'):\n",
        "  fig, ax = plt.subplots(nrows=nrows, ncols=ncols, figsize=(10, 10))\n",
        "  ax.imshow(image)\n",
        "  ax.axis('off')\n",
        "  return fig, ax\n",
        "\n",
        "def show_all_photo_data(data,i):\n",
        "  print(data.iloc[i])\n",
        "  fig, (ax1, ax2) = plt.subplots(1, 2, figsize=(10, 10))\n",
        "  ax1.imshow(get_photo(data, i))\n",
        "  \n",
        "  mask = get_mask(data,i)\n",
        "  cmap = plt.get_cmap('tab20b', np.max(mask) + 1)\n",
        "  mask = ax2.imshow(mask, cmap=cmap,vmin=-0.5, vmax=np.max(get_mask(data, i))+0.5)\n",
        "  ax2.axis('off')\n",
        "  fig.colorbar(mask, ticks=np.arange(0, np.max(get_mask(data, i))+1))\n",
        "  return fig, (ax1, ax2)\n",
        "\n",
        "def show_photo_series(data, column, value):\n",
        "    fig, ax_ar = plt.subplots(1, 10, figsize=(14, 14))\n",
        "    filt_data = data[data[column] == value]\n",
        "    i = np.random.randint(0, filt_data.shape[0])\n",
        "    for ax in ax_ar:\n",
        "        filt_by_photo = filt_data[filt_data['photo_id'] == filt_data['photo_id'].iloc[i]]\n",
        "        segments = filt_by_photo['segment_num'].values\n",
        "        photo = get_photo(data, filt_by_photo.index.values[0])\n",
        "        mask = get_mask(data, filt_by_photo.index.values[0])\n",
        "        for value in segments:\n",
        "            mask = np.ma.masked_where(mask == value, mask)\n",
        "        \n",
        "        ax.imshow(photo)\n",
        "        ax.imshow(mask)\n",
        "        ax.axis('off')\n",
        "        filt_data.drop(filt_by_photo.index.values, axis=0, inplace=True)\n",
        "        i = np.random.randint(0, filt_data.shape[0])\n",
        "    \n",
        "    return fig, ax_ar"
      ],
      "execution_count": 308,
      "outputs": []
    },
    {
      "cell_type": "markdown",
      "metadata": {
        "id": "vra9LtQ1LdOw"
      },
      "source": [
        "# **Preprocessing**"
      ]
    },
    {
      "cell_type": "code",
      "metadata": {
        "id": "OGzBJMMsSeHs"
      },
      "source": [
        "all_data = pd.read_csv(path_to_data + '/data.csv')"
      ],
      "execution_count": 8,
      "outputs": []
    },
    {
      "cell_type": "code",
      "metadata": {
        "id": "YE9MTV8ZWo1K"
      },
      "source": [
        "uv_data = all_data[all_data['photo_type'] == 'УФ']\n",
        "uv_data.reset_index(inplace = True, drop = True)"
      ],
      "execution_count": 9,
      "outputs": []
    },
    {
      "cell_type": "markdown",
      "metadata": {
        "id": "QQ12-IVaLv3g"
      },
      "source": [
        "# **Machine Learning**"
      ]
    },
    {
      "cell_type": "code",
      "metadata": {
        "id": "YWvtHalgst7v"
      },
      "source": [
        "features = pd.read_csv('drive/My Drive/data/best_features.csv')"
      ],
      "execution_count": 212,
      "outputs": []
    },
    {
      "cell_type": "code",
      "metadata": {
        "id": "s1ggsi82SeNg"
      },
      "source": [
        "y = uv_data['segment_value']\n",
        "#y = uv_data['segment_value'][:500]"
      ],
      "execution_count": 213,
      "outputs": []
    },
    {
      "cell_type": "markdown",
      "metadata": {
        "id": "LBROnIVVG5Sh"
      },
      "source": [
        "## **SVM**"
      ]
    },
    {
      "cell_type": "code",
      "metadata": {
        "id": "-vRdyiROKepQ"
      },
      "source": [
        "from sklearn import svm, metrics\n",
        "from sklearn.model_selection import GridSearchCV\n",
        "\n",
        "\n",
        "parametrs = {'kernel':('linear', 'rbf'), 'C':[1, 10],'degree':[3,4,5,6,7,8],\n",
        "             'tol':[1e-3,1e-4,5e-4]}\n",
        "svc = svm.SVC()\n",
        "\n",
        "clf = GridSearchCV(svc,parametrs)\n",
        "\n",
        "\n",
        "clf.fit(X_train,y_train)\n",
        "\n",
        "clf.best_params_"
      ],
      "execution_count": null,
      "outputs": []
    },
    {
      "cell_type": "code",
      "metadata": {
        "id": "T6avGSZp_Qx2",
        "outputId": "e9575fc0-8e7b-4bc9-e45e-a142497c1cce",
        "colab": {
          "base_uri": "https://localhost:8080/"
        }
      },
      "source": [
        "from sklearn import svm, metrics\n",
        "from sklearn.model_selection import cross_validate\n",
        "\n",
        "\n",
        "classifier = svm.SVC(C=10,degree=3,kernel='rbf',tol=0.01)\n",
        "\n",
        "scores = cross_validate(classifier, features, y, scoring='f1_macro')\n",
        "\n",
        "sum(scores['test_score'])/5"
      ],
      "execution_count": null,
      "outputs": [
        {
          "output_type": "execute_result",
          "data": {
            "text/plain": [
              "0.8409187366682789"
            ]
          },
          "metadata": {
            "tags": []
          },
          "execution_count": 51
        }
      ]
    },
    {
      "cell_type": "markdown",
      "metadata": {
        "id": "sQ5IvFq7G3RK"
      },
      "source": [
        "## **RandomForestClassifier**"
      ]
    },
    {
      "cell_type": "code",
      "metadata": {
        "id": "MExBn4vCHDOW",
        "outputId": "38cde1bd-37b0-4a01-a6a1-6ef6e59b8f1f",
        "colab": {
          "base_uri": "https://localhost:8080/"
        }
      },
      "source": [
        "from sklearn import metrics\n",
        "from sklearn.ensemble import RandomForestClassifier\n",
        "from sklearn.model_selection import GridSearchCV\n",
        "from sklearn.model_selection import train_test_split\n",
        "\n",
        "X_train, X_test, y_train, y_test = train_test_split(features, y, test_size=0.3, shuffle=False)\n",
        "\n",
        "\n",
        "parametrs = {'n_estimators' : [320,330,340],'random_state' : [0],\n",
        "             'criterion':['gini', 'entropy']}\n",
        "\n",
        "rfc = RandomForestClassifier()\n",
        "\n",
        "clf = GridSearchCV(rfc,parametrs)\n",
        "\n",
        "\n",
        "clf.fit(X_train,y_train)\n",
        "\n",
        "clf.best_params_"
      ],
      "execution_count": null,
      "outputs": [
        {
          "output_type": "execute_result",
          "data": {
            "text/plain": [
              "{'criterion': 'gini', 'n_estimators': 320, 'random_state': 0}"
            ]
          },
          "metadata": {
            "tags": []
          },
          "execution_count": 114
        }
      ]
    },
    {
      "cell_type": "code",
      "metadata": {
        "id": "Q8cNGKubJLlt",
        "outputId": "5b267b26-2f26-4c98-c8ee-a5dbe1f00262",
        "colab": {
          "base_uri": "https://localhost:8080/"
        }
      },
      "source": [
        "from sklearn import metrics\n",
        "from sklearn.ensemble import RandomForestClassifier\n",
        "from sklearn.model_selection import cross_validate\n",
        "\n",
        "\n",
        "forest = RandomForestClassifier(criterion='entropy',random_state=0)\n",
        "\n",
        "\n",
        "\n",
        "scores = cross_validate(forest, features, y, scoring='f1_macro')\n",
        "\n",
        "sum(scores['test_score'])/5"
      ],
      "execution_count": null,
      "outputs": [
        {
          "output_type": "execute_result",
          "data": {
            "text/plain": [
              "0.8793935042474994"
            ]
          },
          "metadata": {
            "tags": []
          },
          "execution_count": 52
        }
      ]
    },
    {
      "cell_type": "code",
      "metadata": {
        "id": "oaH7mIlv-2p3",
        "outputId": "8e95d645-3276-4c82-fad7-2b8d7eacc0ba",
        "colab": {
          "base_uri": "https://localhost:8080/",
          "height": 34
        }
      },
      "source": [
        "scores = cross_val_score(forest, X_test, y_test, cv=5)\n",
        "scores"
      ],
      "execution_count": null,
      "outputs": [
        {
          "output_type": "execute_result",
          "data": {
            "text/plain": [
              "array([0.87155963, 0.91743119, 0.89814815, 0.9537037 , 0.90740741])"
            ]
          },
          "metadata": {
            "tags": []
          },
          "execution_count": 327
        }
      ]
    },
    {
      "cell_type": "markdown",
      "metadata": {
        "id": "Q5-pPXMX1Y9t"
      },
      "source": [
        "## **ExtraTrees**"
      ]
    },
    {
      "cell_type": "code",
      "metadata": {
        "id": "Z0M0Dw1QqPHn"
      },
      "source": [
        "from sklearn import metrics\n",
        "from sklearn.ensemble import ExtraTreesClassifier\n",
        "from sklearn.model_selection import GridSearchCV\n",
        "from sklearn.model_selection import train_test_split\n",
        "\n",
        "X_train, X_test, y_train, y_test = train_test_split(features, y, test_size=0.3, shuffle=False)\n",
        "\n",
        "\n",
        "parametrs = {'n_estimators' : [50,100,150,200],'random_state' : [0],\n",
        "             'criterion':['gini', 'entropy'], 'min_samples_split' : [2,3,4], 'min_samples_leaf' : [1,2,3],'ccp_alpha' : [0.0, 1,2]}\n",
        "\n",
        "etc = ExtraTreesClassifier()\n",
        "\n",
        "clf = GridSearchCV(etc,parametrs)\n",
        "\n",
        "\n",
        "clf.fit(X_train,y_train)\n",
        "\n",
        "clf.best_params_"
      ],
      "execution_count": null,
      "outputs": []
    },
    {
      "cell_type": "code",
      "metadata": {
        "id": "jzpRJd_FLJWI",
        "outputId": "62620aa5-6d55-4459-e5fe-62ae3348c6e3",
        "colab": {
          "base_uri": "https://localhost:8080/"
        }
      },
      "source": [
        "from sklearn.ensemble import ExtraTreesClassifier\n",
        "from sklearn import  metrics\n",
        "from sklearn.model_selection import cross_validate\n",
        "\n",
        "etc = ExtraTreesClassifier(criterion= 'gini',min_samples_split= 3)\n",
        "\n",
        "scores = cross_validate(etc, features, y, scoring='f1_macro')\n",
        "\n",
        "sum(scores['test_score'])/5"
      ],
      "execution_count": 214,
      "outputs": [
        {
          "output_type": "execute_result",
          "data": {
            "text/plain": [
              "0.8692295801559577"
            ]
          },
          "metadata": {
            "tags": []
          },
          "execution_count": 214
        }
      ]
    },
    {
      "cell_type": "code",
      "metadata": {
        "id": "XzTXKTB0ENEH",
        "outputId": "83add277-d266-4774-f051-b1ba8e5a512b",
        "colab": {
          "base_uri": "https://localhost:8080/"
        }
      },
      "source": [
        "from sklearn.model_selection import train_test_split\n",
        "\n",
        "X_train,X_test,y_train,y_test = train_test_split(features,y,test_size=0.33)\n",
        "\n",
        "etc.fit(X_train,y_train)"
      ],
      "execution_count": 217,
      "outputs": [
        {
          "output_type": "execute_result",
          "data": {
            "text/plain": [
              "ExtraTreesClassifier(bootstrap=False, ccp_alpha=0.0, class_weight=None,\n",
              "                     criterion='gini', max_depth=None, max_features='auto',\n",
              "                     max_leaf_nodes=None, max_samples=None,\n",
              "                     min_impurity_decrease=0.0, min_impurity_split=None,\n",
              "                     min_samples_leaf=1, min_samples_split=3,\n",
              "                     min_weight_fraction_leaf=0.0, n_estimators=100,\n",
              "                     n_jobs=None, oob_score=False, random_state=None, verbose=0,\n",
              "                     warm_start=False)"
            ]
          },
          "metadata": {
            "tags": []
          },
          "execution_count": 217
        }
      ]
    },
    {
      "cell_type": "markdown",
      "metadata": {
        "id": "tlIS1VWk7JbP"
      },
      "source": [
        "## **3-chanel histogram with equalization**"
      ]
    },
    {
      "cell_type": "code",
      "metadata": {
        "id": "ZtSwPVBeKwUq"
      },
      "source": [
        "def histogram_equalize(img): \n",
        "    img_cdf, bin_centers = exposure.cumulative_distribution(img) \n",
        "    return np.interp(img, bin_centers, img_cdf)"
      ],
      "execution_count": 29,
      "outputs": []
    },
    {
      "cell_type": "code",
      "metadata": {
        "id": "RWc7QL_kyFEO"
      },
      "source": [
        "def get_features(photo,mask,segment_num):\n",
        "  # Get segment from photo\n",
        "  p1 = np.ma.masked_where(mask == segment_num, photo[:,:,0])\n",
        "  p2 = np.ma.masked_where(mask == segment_num, photo[:,:,1])\n",
        "  p3 = np.ma.masked_where(mask == segment_num, photo[:,:,2])\n",
        "  # Get histograms 3 chanels of photo\n",
        "  hist1 = np.histogram(p1.mask * p1.data, bins = 32, range = (0,1))\n",
        "  hist2 = np.histogram(p2.mask * p2.data, bins = 32, range = (0,1))\n",
        "  hist3 = np.histogram(p3.mask * p3.data, bins = 32, range = (0,1))\n",
        "  \n",
        "  features = np.concatenate((np.array(hist1[0][1:] / np.sum(p1.mask),dtype=object),\n",
        "                             np.array(hist2[0][1:] / np.sum(p2.mask),dtype=object),\n",
        "                             np.array(hist3[0][1:] / np.sum(p3.mask),dtype=object)))\n",
        "  return features"
      ],
      "execution_count": 30,
      "outputs": []
    },
    {
      "cell_type": "code",
      "metadata": {
        "id": "eMxr0nIbaxFB"
      },
      "source": [
        "from skimage.color import rgb2hsv\n",
        "\n",
        "def data_preprocessing(data):\n",
        "  features_arr = []\n",
        "  for i in range(data.shape[0]):\n",
        "    segment_num = data['segment_num'].iloc[i]\n",
        "    photo = get_photo(data,i)\n",
        "    mask = get_mask(data,i)\n",
        "\n",
        "    hsv_features = get_features( rgb2hsv(photo),mask,segment_num) \n",
        "    rgb_features = get_features(histogram_equalize(photo),mask,segment_num)\n",
        "    \n",
        "    photo_features = np.concatenate((hsv_features,rgb_features))         \n",
        "    features_arr.append(list(photo_features))\n",
        "    features = pd.DataFrame(features_arr)\n",
        "\n",
        "\n",
        "  return features_arr\n"
      ],
      "execution_count": 31,
      "outputs": []
    },
    {
      "cell_type": "markdown",
      "metadata": {
        "id": "fxJJfy4WJ7Iv"
      },
      "source": [
        "## **Selection of important features**"
      ]
    },
    {
      "cell_type": "code",
      "metadata": {
        "id": "KGWXr0X2I_7_"
      },
      "source": [
        "features = data_preprocessing(uv_data)"
      ],
      "execution_count": null,
      "outputs": []
    },
    {
      "cell_type": "code",
      "metadata": {
        "id": "NOXXHYSPY7Kk"
      },
      "source": [
        "features = pd.read_csv('drive/My Drive/data/best_features.csv')"
      ],
      "execution_count": null,
      "outputs": []
    },
    {
      "cell_type": "code",
      "metadata": {
        "id": "tqaL6yqcdYjX"
      },
      "source": [
        "etc.fit(features,y)\n",
        "\n",
        "importances = etc.feature_importances_\n",
        "std = np.std([tree.feature_importances_ for tree in etc.estimators_],\n",
        "             axis=0)\n",
        "indices = np.argsort(importances)[::-1]\n",
        "\n",
        "\n",
        "main_features = []\n",
        "for f in range(features.shape[1]):\n",
        "    main_features.append(indices[f])\n",
        "\n",
        "\n",
        "f = []\n",
        "for i in range(70,len(main_features)):\n",
        "  f.append(main_features[i])\n",
        "\n",
        "for i in range(len(f)):\n",
        "  features.drop(str(f[i]),axis='columns', inplace=True)"
      ],
      "execution_count": 216,
      "outputs": []
    },
    {
      "cell_type": "markdown",
      "metadata": {
        "id": "0Z9fW49ASyEF"
      },
      "source": [
        "\n",
        "# **Segmentation**"
      ]
    },
    {
      "cell_type": "code",
      "metadata": {
        "id": "LKG1ASqVbfO-"
      },
      "source": [
        "from skimage.color import rgb2hsv\n",
        "from collections import OrderedDict\n",
        "\n",
        "def photo_preprocessing(photo,mask):\n",
        "  features_arr = []\n",
        "  unique_segments = list(OrderedDict.fromkeys(mask.ravel()))\n",
        "  for i in unique_segments:\n",
        "    hsv_features = get_features( rgb2hsv(photo),mask,i) \n",
        "    rgb_features = get_features(histogram_equalize(photo),mask,i)\n",
        "    photo_features = np.concatenate((hsv_features,rgb_features))         \n",
        "    features_arr.append(list(photo_features))\n",
        "    features = pd.DataFrame(features_arr)\n",
        "\n",
        "\n",
        "  return features_arr"
      ],
      "execution_count": 162,
      "outputs": []
    },
    {
      "cell_type": "code",
      "metadata": {
        "id": "pnlJ21u2SxWZ",
        "outputId": "3301b811-8a11-4243-d03a-aba189f0846f",
        "colab": {
          "base_uri": "https://localhost:8080/",
          "height": 225
        }
      },
      "source": [
        "from skimage.segmentation import watershed\n",
        "from skimage.feature import peak_local_max\n",
        "from scipy import ndimage\n",
        "from skimage.color import rgb2hsv,rgb2gray\n",
        "from skimage import filters\n",
        "from skimage.morphology import disk\n",
        "\n",
        "p = 0\n",
        "photo = get_photo(uv_data,p)\n",
        "mask = get_mask(uv_data,p)\n",
        "\n",
        "\n",
        "labels = watershed(rgb2gray(photo),markers=30)\n",
        "\n",
        "fig, axes = plt.subplots(ncols=3, figsize=(9, 3), sharex=True, sharey=True)\n",
        "ax = axes.ravel()\n",
        "\n",
        "ax[0].imshow(photo)\n",
        "ax[0].set_title('photo')\n",
        "ax[1].imshow(mask)\n",
        "ax[1].set_title('Original Mask')\n",
        "ax[2].imshow(labels)\n",
        "ax[2].set_title('Watershed Segmentation')\n",
        "\n",
        "for a in ax:\n",
        "    a.set_axis_off()\n",
        "\n",
        "fig.tight_layout()\n",
        "plt.show()"
      ],
      "execution_count": 309,
      "outputs": [
        {
          "output_type": "display_data",
          "data": {
            "image/png": "[encoded data removed]",
            "text/plain": [
              "<Figure size 648x216 with 3 Axes>"
            ]
          },
          "metadata": {
            "tags": [],
            "needs_background": "light"
          }
        }
      ]
    },
    {
      "cell_type": "code",
      "metadata": {
        "id": "hhS-_XtrWXmS"
      },
      "source": [
        "data = uv_data[uv_data['photo_id'] == uv_data['photo_id'].iloc[s]]\n",
        "data.reset_index(inplace = True, drop = True)\n",
        "features = photo_preprocessing(photo,labels)\n",
        "features1 = pd.DataFrame(features)\n",
        "\n",
        "for i in range(len(f)):\n",
        "  features1.drop(f[i],axis='columns', inplace=True)\n",
        "\n",
        "predicts = etc.predict(features1)"
      ],
      "execution_count": 353,
      "outputs": []
    },
    {
      "cell_type": "code",
      "metadata": {
        "id": "028dSoeAJXyT"
      },
      "source": [
        "from collections import OrderedDict\n",
        "labels_uniq = list(OrderedDict.fromkeys(labels.ravel()))\n",
        "\n",
        "for i in range(predicts.shape[0]):\n",
        "  if predicts[i] == 'Отсутствует':\n",
        "    labels = np.where(labels == labels_uniq[i],100,labels)\n",
        "  if predicts[i] == 'Насыщенное':\n",
        "    labels = np.where(labels == labels_uniq[i],200,labels)\n",
        "  if predicts[i] == 'Карбонатное':\n",
        "    labels = np.where(labels == labels_uniq[i],300,labels)"
      ],
      "execution_count": 354,
      "outputs": []
    },
    {
      "cell_type": "code",
      "metadata": {
        "id": "RF5mcZ89lfUW"
      },
      "source": [
        "b = data[['segment_num','segment_value']].groupby('segment_value',as_index=False)\n",
        "b_keys = b.indices.keys()\n",
        "for i in b_keys:\n",
        "  segment_keys = b.indices[i]\n",
        "  for j in segment_keys:\n",
        "    if i == 'Отсутствует':\n",
        "      mask = np.where(mask == j,100,mask)\n",
        "    if i == 'Насыщенное':\n",
        "      mask = np.where(mask == j,200,mask)\n",
        "    if i == 'Карбонатное':\n",
        "      mask = np.where(mask == j,300,mask)"
      ],
      "execution_count": 355,
      "outputs": []
    },
    {
      "cell_type": "code",
      "metadata": {
        "id": "wKGlpT8zUBsj",
        "outputId": "a1dfd391-849f-4824-c6e0-6040b2225af0",
        "colab": {
          "base_uri": "https://localhost:8080/"
        }
      },
      "source": [
        "predicts"
      ],
      "execution_count": 356,
      "outputs": [
        {
          "output_type": "execute_result",
          "data": {
            "text/plain": [
              "array(['Насыщенное', 'Насыщенное', 'Отсутствует', 'Насыщенное',\n",
              "       'Насыщенное', 'Насыщенное', 'Насыщенное', 'Отсутствует',\n",
              "       'Насыщенное', 'Отсутствует', 'Насыщенное'], dtype=object)"
            ]
          },
          "metadata": {
            "tags": []
          },
          "execution_count": 356
        }
      ]
    },
    {
      "cell_type": "code",
      "metadata": {
        "id": "BbrPhh6aUJFW",
        "outputId": "08501441-6057-424e-e183-940b71e49112",
        "colab": {
          "base_uri": "https://localhost:8080/"
        }
      },
      "source": [
        "labels"
      ],
      "execution_count": 332,
      "outputs": [
        {
          "output_type": "execute_result",
          "data": {
            "text/plain": [
              "array([[200, 200, 200, ..., 200, 200, 200],\n",
              "       [200, 200, 200, ..., 200, 200, 200],\n",
              "       [200, 200, 200, ..., 200, 200, 200],\n",
              "       ...,\n",
              "       [100, 100, 100, ..., 100, 100, 100],\n",
              "       [100, 100, 100, ..., 100, 100, 100],\n",
              "       [100, 100, 100, ..., 100, 100, 100]])"
            ]
          },
          "metadata": {
            "tags": []
          },
          "execution_count": 332
        }
      ]
    },
    {
      "cell_type": "code",
      "metadata": {
        "id": "mK8cX5zHWbnH",
        "outputId": "c26f680b-ba5c-46de-f296-fa74c7219b45",
        "colab": {
          "base_uri": "https://localhost:8080/"
        }
      },
      "source": [
        "mask"
      ],
      "execution_count": 333,
      "outputs": [
        {
          "output_type": "execute_result",
          "data": {
            "text/plain": [
              "array([[200, 200, 200, ..., 200, 200, 200],\n",
              "       [200, 200, 200, ..., 200, 200, 200],\n",
              "       [200, 200, 200, ..., 200, 200, 200],\n",
              "       ...,\n",
              "       [100, 100, 100, ..., 100, 100, 100],\n",
              "       [100, 100, 100, ..., 100, 100, 100],\n",
              "       [100, 100, 100, ..., 100, 100, 100]], dtype=uint8)"
            ]
          },
          "metadata": {
            "tags": []
          },
          "execution_count": 333
        }
      ]
    },
    {
      "cell_type": "code",
      "metadata": {
        "id": "xC1soNg900Az",
        "outputId": "c3e36dba-a94a-425c-f650-fbe742221bc5",
        "colab": {
          "base_uri": "https://localhost:8080/",
          "height": 286
        }
      },
      "source": [
        "plt.imshow(mask)"
      ],
      "execution_count": 357,
      "outputs": [
        {
          "output_type": "execute_result",
          "data": {
            "text/plain": [
              "<matplotlib.image.AxesImage at 0x7f4c9cdd72e8>"
            ]
          },
          "metadata": {
            "tags": []
          },
          "execution_count": 357
        },
        {
          "output_type": "display_data",
          "data": {
            "image/png": "[encoded data removed]",
            "text/plain": [
              "<Figure size 432x288 with 1 Axes>"
            ]
          },
          "metadata": {
            "tags": [],
            "needs_background": "light"
          }
        }
      ]
    },
    {
      "cell_type": "code",
      "metadata": {
        "id": "XLherWqrb5PA",
        "outputId": "d8d0f63b-e41e-402e-8f03-6cd8a186b25c",
        "colab": {
          "base_uri": "https://localhost:8080/"
        }
      },
      "source": [
        "from skimage.metrics import mean_squared_error \n",
        "mean_squared_error(labels,mask)"
      ],
      "execution_count": 358,
      "outputs": [
        {
          "output_type": "execute_result",
          "data": {
            "text/plain": [
              "2943.996261114023"
            ]
          },
          "metadata": {
            "tags": []
          },
          "execution_count": 358
        }
      ]
    },
    {
      "cell_type": "code",
      "metadata": {
        "id": "VGMufc48gFG_",
        "outputId": "68a28d9a-248b-4904-f924-da5d43deb4b1",
        "colab": {
          "base_uri": "https://localhost:8080/"
        }
      },
      "source": [
        "from skimage.metrics import normalized_root_mse\n",
        "normalized_root_mse(labels,mask)"
      ],
      "execution_count": 359,
      "outputs": [
        {
          "output_type": "execute_result",
          "data": {
            "text/plain": [
              "0.30148512735992766"
            ]
          },
          "metadata": {
            "tags": []
          },
          "execution_count": 359
        }
      ]
    },
    {
      "cell_type": "code",
      "metadata": {
        "id": "7i3RiA5nC9G7",
        "outputId": "10679736-4330-4d0e-d25a-ff7e1ea20d03",
        "colab": {
          "base_uri": "https://localhost:8080/",
          "height": 432
        }
      },
      "source": [
        "uv_data[uv_data['photo_id'] == uv_data['photo_id'].iloc[1800]]"
      ],
      "execution_count": null,
      "outputs": [
        {
          "output_type": "execute_result",
          "data": {
            "text/html": [
              "<div>\n",
              "<style scoped>\n",
              "    .dataframe tbody tr th:only-of-type {\n",
              "        vertical-align: middle;\n",
              "    }\n",
              "\n",
              "    .dataframe tbody tr th {\n",
              "        vertical-align: top;\n",
              "    }\n",
              "\n",
              "    .dataframe thead th {\n",
              "        text-align: right;\n",
              "    }\n",
              "</style>\n",
              "<table border=\"1\" class=\"dataframe\">\n",
              "  <thead>\n",
              "    <tr style=\"text-align: right;\">\n",
              "      <th></th>\n",
              "      <th>task_id</th>\n",
              "      <th>photo_id</th>\n",
              "      <th>photo_type</th>\n",
              "      <th>segment_num</th>\n",
              "      <th>segment_type</th>\n",
              "      <th>segment_value</th>\n",
              "    </tr>\n",
              "  </thead>\n",
              "  <tbody>\n",
              "    <tr>\n",
              "      <th>1789</th>\n",
              "      <td>e278565e_1174_4b2a_8d7e_00a6622ce755</td>\n",
              "      <td>1007705</td>\n",
              "      <td>УФ</td>\n",
              "      <td>0</td>\n",
              "      <td>Свечение</td>\n",
              "      <td>Отсутствует</td>\n",
              "    </tr>\n",
              "    <tr>\n",
              "      <th>1790</th>\n",
              "      <td>e278565e_1174_4b2a_8d7e_00a6622ce755</td>\n",
              "      <td>1007705</td>\n",
              "      <td>УФ</td>\n",
              "      <td>1</td>\n",
              "      <td>Свечение</td>\n",
              "      <td>Насыщенное</td>\n",
              "    </tr>\n",
              "    <tr>\n",
              "      <th>1791</th>\n",
              "      <td>e278565e_1174_4b2a_8d7e_00a6622ce755</td>\n",
              "      <td>1007705</td>\n",
              "      <td>УФ</td>\n",
              "      <td>2</td>\n",
              "      <td>Свечение</td>\n",
              "      <td>Отсутствует</td>\n",
              "    </tr>\n",
              "    <tr>\n",
              "      <th>1792</th>\n",
              "      <td>e278565e_1174_4b2a_8d7e_00a6622ce755</td>\n",
              "      <td>1007705</td>\n",
              "      <td>УФ</td>\n",
              "      <td>3</td>\n",
              "      <td>Свечение</td>\n",
              "      <td>Насыщенное</td>\n",
              "    </tr>\n",
              "    <tr>\n",
              "      <th>1793</th>\n",
              "      <td>e278565e_1174_4b2a_8d7e_00a6622ce755</td>\n",
              "      <td>1007705</td>\n",
              "      <td>УФ</td>\n",
              "      <td>4</td>\n",
              "      <td>Свечение</td>\n",
              "      <td>Отсутствует</td>\n",
              "    </tr>\n",
              "    <tr>\n",
              "      <th>1794</th>\n",
              "      <td>e278565e_1174_4b2a_8d7e_00a6622ce755</td>\n",
              "      <td>1007705</td>\n",
              "      <td>УФ</td>\n",
              "      <td>5</td>\n",
              "      <td>Свечение</td>\n",
              "      <td>Насыщенное</td>\n",
              "    </tr>\n",
              "    <tr>\n",
              "      <th>1795</th>\n",
              "      <td>e278565e_1174_4b2a_8d7e_00a6622ce755</td>\n",
              "      <td>1007705</td>\n",
              "      <td>УФ</td>\n",
              "      <td>6</td>\n",
              "      <td>Свечение</td>\n",
              "      <td>Отсутствует</td>\n",
              "    </tr>\n",
              "    <tr>\n",
              "      <th>1796</th>\n",
              "      <td>e278565e_1174_4b2a_8d7e_00a6622ce755</td>\n",
              "      <td>1007705</td>\n",
              "      <td>УФ</td>\n",
              "      <td>7</td>\n",
              "      <td>Свечение</td>\n",
              "      <td>Насыщенное</td>\n",
              "    </tr>\n",
              "    <tr>\n",
              "      <th>1797</th>\n",
              "      <td>e278565e_1174_4b2a_8d7e_00a6622ce755</td>\n",
              "      <td>1007705</td>\n",
              "      <td>УФ</td>\n",
              "      <td>8</td>\n",
              "      <td>Свечение</td>\n",
              "      <td>Отсутствует</td>\n",
              "    </tr>\n",
              "    <tr>\n",
              "      <th>1798</th>\n",
              "      <td>e278565e_1174_4b2a_8d7e_00a6622ce755</td>\n",
              "      <td>1007705</td>\n",
              "      <td>УФ</td>\n",
              "      <td>9</td>\n",
              "      <td>Свечение</td>\n",
              "      <td>Насыщенное</td>\n",
              "    </tr>\n",
              "    <tr>\n",
              "      <th>1799</th>\n",
              "      <td>e278565e_1174_4b2a_8d7e_00a6622ce755</td>\n",
              "      <td>1007705</td>\n",
              "      <td>УФ</td>\n",
              "      <td>10</td>\n",
              "      <td>Свечение</td>\n",
              "      <td>Отсутствует</td>\n",
              "    </tr>\n",
              "    <tr>\n",
              "      <th>1800</th>\n",
              "      <td>e278565e_1174_4b2a_8d7e_00a6622ce755</td>\n",
              "      <td>1007705</td>\n",
              "      <td>УФ</td>\n",
              "      <td>11</td>\n",
              "      <td>Свечение</td>\n",
              "      <td>Насыщенное</td>\n",
              "    </tr>\n",
              "    <tr>\n",
              "      <th>1801</th>\n",
              "      <td>e278565e_1174_4b2a_8d7e_00a6622ce755</td>\n",
              "      <td>1007705</td>\n",
              "      <td>УФ</td>\n",
              "      <td>12</td>\n",
              "      <td>Свечение</td>\n",
              "      <td>Отсутствует</td>\n",
              "    </tr>\n",
              "  </tbody>\n",
              "</table>\n",
              "</div>"
            ],
            "text/plain": [
              "                                   task_id  photo_id  ... segment_type  segment_value\n",
              "1789  e278565e_1174_4b2a_8d7e_00a6622ce755   1007705  ...     Свечение    Отсутствует\n",
              "1790  e278565e_1174_4b2a_8d7e_00a6622ce755   1007705  ...     Свечение     Насыщенное\n",
              "1791  e278565e_1174_4b2a_8d7e_00a6622ce755   1007705  ...     Свечение    Отсутствует\n",
              "1792  e278565e_1174_4b2a_8d7e_00a6622ce755   1007705  ...     Свечение     Насыщенное\n",
              "1793  e278565e_1174_4b2a_8d7e_00a6622ce755   1007705  ...     Свечение    Отсутствует\n",
              "1794  e278565e_1174_4b2a_8d7e_00a6622ce755   1007705  ...     Свечение     Насыщенное\n",
              "1795  e278565e_1174_4b2a_8d7e_00a6622ce755   1007705  ...     Свечение    Отсутствует\n",
              "1796  e278565e_1174_4b2a_8d7e_00a6622ce755   1007705  ...     Свечение     Насыщенное\n",
              "1797  e278565e_1174_4b2a_8d7e_00a6622ce755   1007705  ...     Свечение    Отсутствует\n",
              "1798  e278565e_1174_4b2a_8d7e_00a6622ce755   1007705  ...     Свечение     Насыщенное\n",
              "1799  e278565e_1174_4b2a_8d7e_00a6622ce755   1007705  ...     Свечение    Отсутствует\n",
              "1800  e278565e_1174_4b2a_8d7e_00a6622ce755   1007705  ...     Свечение     Насыщенное\n",
              "1801  e278565e_1174_4b2a_8d7e_00a6622ce755   1007705  ...     Свечение    Отсутствует\n",
              "\n",
              "[13 rows x 6 columns]"
            ]
          },
          "metadata": {
            "tags": []
          },
          "execution_count": 13
        }
      ]
    },
    {
      "cell_type": "markdown",
      "metadata": {
        "id": "0aIpkk_DdWD_"
      },
      "source": [
        "## **K-means**"
      ]
    },
    {
      "cell_type": "code",
      "metadata": {
        "id": "oPo_Xhws8Nq7",
        "outputId": "e6474eb4-9690-48a8-ef7c-013e635c3ba3",
        "colab": {
          "base_uri": "https://localhost:8080/",
          "height": 225
        }
      },
      "source": [
        "from skimage.segmentation import slic\n",
        "from skimage import filters\n",
        "from scipy import ndimage\n",
        "from skimage.color import rgb2gray\n",
        "from skimage.color import rgb2hsv\n",
        "\n",
        "s = 1800\n",
        "photo = get_photo(uv_data,s)\n",
        "mask = get_mask(uv_data,s)\n",
        "\n",
        "\n",
        "labels = slic(photo, n_segments=23)\n",
        "\n",
        "fig, axes = plt.subplots(ncols=3, figsize=(9, 3), sharex=True, sharey=True)\n",
        "ax = axes.ravel()\n",
        "\n",
        "ax[0].imshow(photo)\n",
        "ax[0].set_title('Photo')\n",
        "ax[1].imshow(mask)\n",
        "ax[1].set_title('Original Mask')\n",
        "ax[2].imshow(labels)\n",
        "ax[2].set_title('K-means Segmentation')\n",
        "\n",
        "for a in ax:\n",
        "    a.set_axis_off()\n",
        "\n",
        "fig.tight_layout()\n",
        "plt.show()"
      ],
      "execution_count": 365,
      "outputs": [
        {
          "output_type": "display_data",
          "data": {
            "image/png": "[encoded data removed]",
            "text/plain": [
              "<Figure size 648x216 with 3 Axes>"
            ]
          },
          "metadata": {
            "tags": [],
            "needs_background": "light"
          }
        }
      ]
    },
    {
      "cell_type": "code",
      "metadata": {
        "id": "jgKf_5kd-OIT"
      },
      "source": [
        ""
      ],
      "execution_count": null,
      "outputs": []
    }
  ]
}